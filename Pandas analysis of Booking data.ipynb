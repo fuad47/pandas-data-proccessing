{
 "cells": [
  {
   "cell_type": "code",
   "execution_count": 4,
   "metadata": {},
   "outputs": [
    {
     "name": "stdout",
     "output_type": "stream",
     "text": [
      "ok\n"
     ]
    }
   ],
   "source": [
    "import pandas as pd\n",
    "import xlwt\n",
    "import time\n",
    "import re\n",
    "import numpy as np\n",
    "import matplotlib.pyplot as plt\n",
    "from scipy import stats\n",
    "print('ok')"
   ]
  },
  {
   "cell_type": "code",
   "execution_count": 768,
   "metadata": {
    "collapsed": true,
    "jupyter": {
     "outputs_hidden": true
    }
   },
   "outputs": [],
   "source": [
    "df=pd.read_csv('STA-Tourism/Booking data/Booking.com Data febr.csv', thousands=',')"
   ]
  },
  {
   "cell_type": "code",
   "execution_count": 769,
   "metadata": {
    "collapsed": true,
    "jupyter": {
     "outputs_hidden": true
    }
   },
   "outputs": [
    {
     "data": {
      "text/html": [
       "<div>\n",
       "<style scoped>\n",
       "    .dataframe tbody tr th:only-of-type {\n",
       "        vertical-align: middle;\n",
       "    }\n",
       "\n",
       "    .dataframe tbody tr th {\n",
       "        vertical-align: top;\n",
       "    }\n",
       "\n",
       "    .dataframe thead th {\n",
       "        text-align: right;\n",
       "    }\n",
       "</style>\n",
       "<table border=\"1\" class=\"dataframe\">\n",
       "  <thead>\n",
       "    <tr style=\"text-align: right;\">\n",
       "      <th></th>\n",
       "      <th>Unnamed: 0</th>\n",
       "      <th>property_name</th>\n",
       "      <th>property_location</th>\n",
       "      <th>property_star_rating</th>\n",
       "      <th>top_review</th>\n",
       "      <th>customer_rating</th>\n",
       "      <th>type_of_room</th>\n",
       "      <th>price</th>\n",
       "      <th>today</th>\n",
       "    </tr>\n",
       "  </thead>\n",
       "  <tbody>\n",
       "    <tr>\n",
       "      <th>0</th>\n",
       "      <td>0</td>\n",
       "      <td>Emerald Hotel Baku</td>\n",
       "      <td>Baku</td>\n",
       "      <td>4-star hotel</td>\n",
       "      <td>Good</td>\n",
       "      <td>7.7</td>\n",
       "      <td>1 king bed</td>\n",
       "      <td>AZN 99</td>\n",
       "      <td>Saturday, January 18, 2020</td>\n",
       "    </tr>\n",
       "    <tr>\n",
       "      <th>1</th>\n",
       "      <td>1</td>\n",
       "      <td>Park Inn by Radisson Baku Hotel</td>\n",
       "      <td>Sabayil , Baku</td>\n",
       "      <td>4-star hotel</td>\n",
       "      <td>Very Good</td>\n",
       "      <td>8.1</td>\n",
       "      <td>1 queen bed</td>\n",
       "      <td>AZN 111</td>\n",
       "      <td>Saturday, January 18, 2020</td>\n",
       "    </tr>\n",
       "    <tr>\n",
       "      <th>2</th>\n",
       "      <td>2</td>\n",
       "      <td>Old Street Boutique Hotel</td>\n",
       "      <td>Sabayil , Baku</td>\n",
       "      <td>4-star hotel</td>\n",
       "      <td>Excellent</td>\n",
       "      <td>8.9</td>\n",
       "      <td>NaN</td>\n",
       "      <td>NaN</td>\n",
       "      <td>Saturday, January 18, 2020</td>\n",
       "    </tr>\n",
       "    <tr>\n",
       "      <th>3</th>\n",
       "      <td>3</td>\n",
       "      <td>Boutique 19 Hotel</td>\n",
       "      <td>Sabayil , Baku</td>\n",
       "      <td>5-star hotel</td>\n",
       "      <td>Wonderful</td>\n",
       "      <td>9.1</td>\n",
       "      <td>1 queen bed</td>\n",
       "      <td>AZN 140</td>\n",
       "      <td>Saturday, January 18, 2020</td>\n",
       "    </tr>\n",
       "    <tr>\n",
       "      <th>4</th>\n",
       "      <td>4</td>\n",
       "      <td>White Boutique Baku Hotel</td>\n",
       "      <td>Sabayil , Baku</td>\n",
       "      <td>NaN</td>\n",
       "      <td>Excellent</td>\n",
       "      <td>8.9</td>\n",
       "      <td>1 king bed</td>\n",
       "      <td>AZN 70</td>\n",
       "      <td>Saturday, January 18, 2020</td>\n",
       "    </tr>\n",
       "  </tbody>\n",
       "</table>\n",
       "</div>"
      ],
      "text/plain": [
       "   Unnamed: 0                    property_name property_location  \\\n",
       "0           0               Emerald Hotel Baku              Baku   \n",
       "1           1  Park Inn by Radisson Baku Hotel    Sabayil , Baku   \n",
       "2           2        Old Street Boutique Hotel    Sabayil , Baku   \n",
       "3           3                Boutique 19 Hotel    Sabayil , Baku   \n",
       "4           4        White Boutique Baku Hotel    Sabayil , Baku   \n",
       "\n",
       "  property_star_rating top_review  customer_rating type_of_room    price  \\\n",
       "0         4-star hotel       Good              7.7   1 king bed   AZN 99   \n",
       "1         4-star hotel  Very Good              8.1  1 queen bed  AZN 111   \n",
       "2         4-star hotel  Excellent              8.9          NaN      NaN   \n",
       "3         5-star hotel  Wonderful              9.1  1 queen bed  AZN 140   \n",
       "4                  NaN  Excellent              8.9   1 king bed   AZN 70   \n",
       "\n",
       "                        today  \n",
       "0  Saturday, January 18, 2020  \n",
       "1  Saturday, January 18, 2020  \n",
       "2  Saturday, January 18, 2020  \n",
       "3  Saturday, January 18, 2020  \n",
       "4  Saturday, January 18, 2020  "
      ]
     },
     "execution_count": 769,
     "metadata": {},
     "output_type": "execute_result"
    }
   ],
   "source": [
    "df.head()"
   ]
  },
  {
   "cell_type": "code",
   "execution_count": 770,
   "metadata": {
    "collapsed": true,
    "jupyter": {
     "outputs_hidden": true
    }
   },
   "outputs": [
    {
     "data": {
      "text/html": [
       "<div>\n",
       "<style scoped>\n",
       "    .dataframe tbody tr th:only-of-type {\n",
       "        vertical-align: middle;\n",
       "    }\n",
       "\n",
       "    .dataframe tbody tr th {\n",
       "        vertical-align: top;\n",
       "    }\n",
       "\n",
       "    .dataframe thead th {\n",
       "        text-align: right;\n",
       "    }\n",
       "</style>\n",
       "<table border=\"1\" class=\"dataframe\">\n",
       "  <thead>\n",
       "    <tr style=\"text-align: right;\">\n",
       "      <th></th>\n",
       "      <th>Unnamed: 0</th>\n",
       "      <th>customer_rating</th>\n",
       "    </tr>\n",
       "  </thead>\n",
       "  <tbody>\n",
       "    <tr>\n",
       "      <th>count</th>\n",
       "      <td>18107.000000</td>\n",
       "      <td>16139.000000</td>\n",
       "    </tr>\n",
       "    <tr>\n",
       "      <th>mean</th>\n",
       "      <td>9053.000000</td>\n",
       "      <td>8.307231</td>\n",
       "    </tr>\n",
       "    <tr>\n",
       "      <th>std</th>\n",
       "      <td>5227.184998</td>\n",
       "      <td>0.874896</td>\n",
       "    </tr>\n",
       "    <tr>\n",
       "      <th>min</th>\n",
       "      <td>0.000000</td>\n",
       "      <td>3.500000</td>\n",
       "    </tr>\n",
       "    <tr>\n",
       "      <th>25%</th>\n",
       "      <td>4526.500000</td>\n",
       "      <td>7.900000</td>\n",
       "    </tr>\n",
       "    <tr>\n",
       "      <th>50%</th>\n",
       "      <td>9053.000000</td>\n",
       "      <td>8.300000</td>\n",
       "    </tr>\n",
       "    <tr>\n",
       "      <th>75%</th>\n",
       "      <td>13579.500000</td>\n",
       "      <td>8.900000</td>\n",
       "    </tr>\n",
       "    <tr>\n",
       "      <th>max</th>\n",
       "      <td>18106.000000</td>\n",
       "      <td>10.000000</td>\n",
       "    </tr>\n",
       "  </tbody>\n",
       "</table>\n",
       "</div>"
      ],
      "text/plain": [
       "         Unnamed: 0  customer_rating\n",
       "count  18107.000000     16139.000000\n",
       "mean    9053.000000         8.307231\n",
       "std     5227.184998         0.874896\n",
       "min        0.000000         3.500000\n",
       "25%     4526.500000         7.900000\n",
       "50%     9053.000000         8.300000\n",
       "75%    13579.500000         8.900000\n",
       "max    18106.000000        10.000000"
      ]
     },
     "execution_count": 770,
     "metadata": {},
     "output_type": "execute_result"
    }
   ],
   "source": [
    "df.describe()"
   ]
  },
  {
   "cell_type": "code",
   "execution_count": 771,
   "metadata": {
    "collapsed": true,
    "jupyter": {
     "outputs_hidden": true
    }
   },
   "outputs": [
    {
     "name": "stdout",
     "output_type": "stream",
     "text": [
      "<class 'pandas.core.frame.DataFrame'>\n",
      "RangeIndex: 18107 entries, 0 to 18106\n",
      "Data columns (total 9 columns):\n",
      "Unnamed: 0              18107 non-null int64\n",
      "property_name           18063 non-null object\n",
      "property_location       18061 non-null object\n",
      "property_star_rating    13427 non-null object\n",
      "top_review              16140 non-null object\n",
      "customer_rating         16139 non-null float64\n",
      "type_of_room            17160 non-null object\n",
      "price                   17959 non-null object\n",
      "today                   18107 non-null object\n",
      "dtypes: float64(1), int64(1), object(7)\n",
      "memory usage: 778.1+ KB\n"
     ]
    }
   ],
   "source": [
    "df.info()"
   ]
  },
  {
   "cell_type": "code",
   "execution_count": 772,
   "metadata": {
    "collapsed": true,
    "jupyter": {
     "outputs_hidden": true
    }
   },
   "outputs": [
    {
     "data": {
      "text/plain": [
       "Index(['Unnamed: 0', 'property_name', 'property_location',\n",
       "       'property_star_rating', 'top_review', 'customer_rating', 'type_of_room',\n",
       "       'price', 'today'],\n",
       "      dtype='object')"
      ]
     },
     "execution_count": 772,
     "metadata": {},
     "output_type": "execute_result"
    }
   ],
   "source": [
    "df.columns"
   ]
  },
  {
   "cell_type": "code",
   "execution_count": 773,
   "metadata": {
    "collapsed": true,
    "jupyter": {
     "outputs_hidden": true
    }
   },
   "outputs": [
    {
     "data": {
      "text/plain": [
       "Index(['No', 'property_name', 'property_location', 'property_star_rating',\n",
       "       'top_review', 'customer_rating', 'type_of_room', 'price', 'today'],\n",
       "      dtype='object')"
      ]
     },
     "execution_count": 773,
     "metadata": {},
     "output_type": "execute_result"
    }
   ],
   "source": [
    "df.rename(columns={'Unnamed: 0':'No'}, inplace=True)\n",
    "df.columns"
   ]
  },
  {
   "cell_type": "code",
   "execution_count": 774,
   "metadata": {
    "collapsed": true,
    "jupyter": {
     "outputs_hidden": true
    }
   },
   "outputs": [],
   "source": [
    "df['price']=df['price'].str.replace('AZN','')\n",
    "df['price']=df['price'].str.replace(',','')\n",
    "df['price']=df['price'].astype(float)"
   ]
  },
  {
   "cell_type": "code",
   "execution_count": 775,
   "metadata": {
    "collapsed": true,
    "jupyter": {
     "outputs_hidden": true
    }
   },
   "outputs": [
    {
     "data": {
      "text/html": [
       "<div>\n",
       "<style scoped>\n",
       "    .dataframe tbody tr th:only-of-type {\n",
       "        vertical-align: middle;\n",
       "    }\n",
       "\n",
       "    .dataframe tbody tr th {\n",
       "        vertical-align: top;\n",
       "    }\n",
       "\n",
       "    .dataframe thead th {\n",
       "        text-align: right;\n",
       "    }\n",
       "</style>\n",
       "<table border=\"1\" class=\"dataframe\">\n",
       "  <thead>\n",
       "    <tr style=\"text-align: right;\">\n",
       "      <th></th>\n",
       "      <th>No</th>\n",
       "      <th>property_name</th>\n",
       "      <th>property_location</th>\n",
       "      <th>property_star_rating</th>\n",
       "      <th>top_review</th>\n",
       "      <th>customer_rating</th>\n",
       "      <th>type_of_room</th>\n",
       "      <th>price</th>\n",
       "      <th>today</th>\n",
       "    </tr>\n",
       "  </thead>\n",
       "  <tbody>\n",
       "    <tr>\n",
       "      <th>0</th>\n",
       "      <td>0</td>\n",
       "      <td>Emerald Hotel Baku</td>\n",
       "      <td>Baku</td>\n",
       "      <td>4-star hotel</td>\n",
       "      <td>Good</td>\n",
       "      <td>7.7</td>\n",
       "      <td>1 king bed</td>\n",
       "      <td>99.0</td>\n",
       "      <td>Saturday, January 18, 2020</td>\n",
       "    </tr>\n",
       "    <tr>\n",
       "      <th>1</th>\n",
       "      <td>1</td>\n",
       "      <td>Park Inn by Radisson Baku Hotel</td>\n",
       "      <td>Sabayil , Baku</td>\n",
       "      <td>4-star hotel</td>\n",
       "      <td>Very Good</td>\n",
       "      <td>8.1</td>\n",
       "      <td>1 queen bed</td>\n",
       "      <td>111.0</td>\n",
       "      <td>Saturday, January 18, 2020</td>\n",
       "    </tr>\n",
       "    <tr>\n",
       "      <th>2</th>\n",
       "      <td>2</td>\n",
       "      <td>Old Street Boutique Hotel</td>\n",
       "      <td>Sabayil , Baku</td>\n",
       "      <td>4-star hotel</td>\n",
       "      <td>Excellent</td>\n",
       "      <td>8.9</td>\n",
       "      <td>NaN</td>\n",
       "      <td>NaN</td>\n",
       "      <td>Saturday, January 18, 2020</td>\n",
       "    </tr>\n",
       "    <tr>\n",
       "      <th>3</th>\n",
       "      <td>3</td>\n",
       "      <td>Boutique 19 Hotel</td>\n",
       "      <td>Sabayil , Baku</td>\n",
       "      <td>5-star hotel</td>\n",
       "      <td>Wonderful</td>\n",
       "      <td>9.1</td>\n",
       "      <td>1 queen bed</td>\n",
       "      <td>140.0</td>\n",
       "      <td>Saturday, January 18, 2020</td>\n",
       "    </tr>\n",
       "    <tr>\n",
       "      <th>4</th>\n",
       "      <td>4</td>\n",
       "      <td>White Boutique Baku Hotel</td>\n",
       "      <td>Sabayil , Baku</td>\n",
       "      <td>NaN</td>\n",
       "      <td>Excellent</td>\n",
       "      <td>8.9</td>\n",
       "      <td>1 king bed</td>\n",
       "      <td>70.0</td>\n",
       "      <td>Saturday, January 18, 2020</td>\n",
       "    </tr>\n",
       "  </tbody>\n",
       "</table>\n",
       "</div>"
      ],
      "text/plain": [
       "   No                    property_name property_location property_star_rating  \\\n",
       "0   0               Emerald Hotel Baku              Baku         4-star hotel   \n",
       "1   1  Park Inn by Radisson Baku Hotel    Sabayil , Baku         4-star hotel   \n",
       "2   2        Old Street Boutique Hotel    Sabayil , Baku         4-star hotel   \n",
       "3   3                Boutique 19 Hotel    Sabayil , Baku         5-star hotel   \n",
       "4   4        White Boutique Baku Hotel    Sabayil , Baku                  NaN   \n",
       "\n",
       "  top_review  customer_rating type_of_room  price                       today  \n",
       "0       Good              7.7   1 king bed   99.0  Saturday, January 18, 2020  \n",
       "1  Very Good              8.1  1 queen bed  111.0  Saturday, January 18, 2020  \n",
       "2  Excellent              8.9          NaN    NaN  Saturday, January 18, 2020  \n",
       "3  Wonderful              9.1  1 queen bed  140.0  Saturday, January 18, 2020  \n",
       "4  Excellent              8.9   1 king bed   70.0  Saturday, January 18, 2020  "
      ]
     },
     "execution_count": 775,
     "metadata": {},
     "output_type": "execute_result"
    }
   ],
   "source": [
    "df.head()"
   ]
  },
  {
   "cell_type": "code",
   "execution_count": 776,
   "metadata": {
    "collapsed": true,
    "jupyter": {
     "outputs_hidden": true
    }
   },
   "outputs": [],
   "source": [
    "df.dropna(subset=['price'],inplace=True)"
   ]
  },
  {
   "cell_type": "code",
   "execution_count": 777,
   "metadata": {
    "collapsed": true,
    "jupyter": {
     "outputs_hidden": true
    }
   },
   "outputs": [
    {
     "data": {
      "text/html": [
       "<div>\n",
       "<style scoped>\n",
       "    .dataframe tbody tr th:only-of-type {\n",
       "        vertical-align: middle;\n",
       "    }\n",
       "\n",
       "    .dataframe tbody tr th {\n",
       "        vertical-align: top;\n",
       "    }\n",
       "\n",
       "    .dataframe thead th {\n",
       "        text-align: right;\n",
       "    }\n",
       "</style>\n",
       "<table border=\"1\" class=\"dataframe\">\n",
       "  <thead>\n",
       "    <tr style=\"text-align: right;\">\n",
       "      <th></th>\n",
       "      <th>No</th>\n",
       "      <th>property_name</th>\n",
       "      <th>property_location</th>\n",
       "      <th>property_star_rating</th>\n",
       "      <th>top_review</th>\n",
       "      <th>customer_rating</th>\n",
       "      <th>type_of_room</th>\n",
       "      <th>price</th>\n",
       "      <th>today</th>\n",
       "    </tr>\n",
       "  </thead>\n",
       "  <tbody>\n",
       "    <tr>\n",
       "      <th>0</th>\n",
       "      <td>0</td>\n",
       "      <td>Emerald Hotel Baku</td>\n",
       "      <td>Baku</td>\n",
       "      <td>4-star hotel</td>\n",
       "      <td>Good</td>\n",
       "      <td>7.7</td>\n",
       "      <td>1 king bed</td>\n",
       "      <td>99.0</td>\n",
       "      <td>Saturday, January 18, 2020</td>\n",
       "    </tr>\n",
       "    <tr>\n",
       "      <th>1</th>\n",
       "      <td>1</td>\n",
       "      <td>Park Inn by Radisson Baku Hotel</td>\n",
       "      <td>Sabayil , Baku</td>\n",
       "      <td>4-star hotel</td>\n",
       "      <td>Very Good</td>\n",
       "      <td>8.1</td>\n",
       "      <td>1 queen bed</td>\n",
       "      <td>111.0</td>\n",
       "      <td>Saturday, January 18, 2020</td>\n",
       "    </tr>\n",
       "    <tr>\n",
       "      <th>3</th>\n",
       "      <td>3</td>\n",
       "      <td>Boutique 19 Hotel</td>\n",
       "      <td>Sabayil , Baku</td>\n",
       "      <td>5-star hotel</td>\n",
       "      <td>Wonderful</td>\n",
       "      <td>9.1</td>\n",
       "      <td>1 queen bed</td>\n",
       "      <td>140.0</td>\n",
       "      <td>Saturday, January 18, 2020</td>\n",
       "    </tr>\n",
       "    <tr>\n",
       "      <th>4</th>\n",
       "      <td>4</td>\n",
       "      <td>White Boutique Baku Hotel</td>\n",
       "      <td>Sabayil , Baku</td>\n",
       "      <td>NaN</td>\n",
       "      <td>Excellent</td>\n",
       "      <td>8.9</td>\n",
       "      <td>1 king bed</td>\n",
       "      <td>70.0</td>\n",
       "      <td>Saturday, January 18, 2020</td>\n",
       "    </tr>\n",
       "    <tr>\n",
       "      <th>5</th>\n",
       "      <td>5</td>\n",
       "      <td>Prestige Hotel Baku</td>\n",
       "      <td>Yasamal , Baku</td>\n",
       "      <td>NaN</td>\n",
       "      <td>Exceptional</td>\n",
       "      <td>9.5</td>\n",
       "      <td>2 king beds</td>\n",
       "      <td>50.0</td>\n",
       "      <td>Saturday, January 18, 2020</td>\n",
       "    </tr>\n",
       "    <tr>\n",
       "      <th>...</th>\n",
       "      <td>...</td>\n",
       "      <td>...</td>\n",
       "      <td>...</td>\n",
       "      <td>...</td>\n",
       "      <td>...</td>\n",
       "      <td>...</td>\n",
       "      <td>...</td>\n",
       "      <td>...</td>\n",
       "      <td>...</td>\n",
       "    </tr>\n",
       "    <tr>\n",
       "      <th>18102</th>\n",
       "      <td>18102</td>\n",
       "      <td>Rezidence</td>\n",
       "      <td>Qaxbaş</td>\n",
       "      <td>NaN</td>\n",
       "      <td>Very Good</td>\n",
       "      <td>8.0</td>\n",
       "      <td>1 full bed</td>\n",
       "      <td>50.0</td>\n",
       "      <td>Saturday, February 29, 2020</td>\n",
       "    </tr>\n",
       "    <tr>\n",
       "      <th>18103</th>\n",
       "      <td>18103</td>\n",
       "      <td>Meridian-F Hotel Shamkir</td>\n",
       "      <td>Şǝmkir</td>\n",
       "      <td>NaN</td>\n",
       "      <td>NaN</td>\n",
       "      <td>NaN</td>\n",
       "      <td>NaN</td>\n",
       "      <td>50.0</td>\n",
       "      <td>Saturday, February 29, 2020</td>\n",
       "    </tr>\n",
       "    <tr>\n",
       "      <th>18104</th>\n",
       "      <td>18104</td>\n",
       "      <td>МАДИНА ОТЕЛ</td>\n",
       "      <td>Ağstafa</td>\n",
       "      <td>3-star hotel</td>\n",
       "      <td>NaN</td>\n",
       "      <td>NaN</td>\n",
       "      <td>NaN</td>\n",
       "      <td>50.0</td>\n",
       "      <td>Saturday, February 29, 2020</td>\n",
       "    </tr>\n",
       "    <tr>\n",
       "      <th>18105</th>\n",
       "      <td>18105</td>\n",
       "      <td>Chateau Monolit</td>\n",
       "      <td>İkinci Yeniyol</td>\n",
       "      <td>NaN</td>\n",
       "      <td>Good</td>\n",
       "      <td>7.6</td>\n",
       "      <td>NaN</td>\n",
       "      <td>140.0</td>\n",
       "      <td>Saturday, February 29, 2020</td>\n",
       "    </tr>\n",
       "    <tr>\n",
       "      <th>18106</th>\n",
       "      <td>18106</td>\n",
       "      <td>Lux Inn</td>\n",
       "      <td>Kürdǝmir</td>\n",
       "      <td>NaN</td>\n",
       "      <td>Wonderful</td>\n",
       "      <td>9.2</td>\n",
       "      <td>NaN</td>\n",
       "      <td>90.0</td>\n",
       "      <td>Saturday, February 29, 2020</td>\n",
       "    </tr>\n",
       "  </tbody>\n",
       "</table>\n",
       "<p>17959 rows × 9 columns</p>\n",
       "</div>"
      ],
      "text/plain": [
       "          No                    property_name property_location  \\\n",
       "0          0               Emerald Hotel Baku              Baku   \n",
       "1          1  Park Inn by Radisson Baku Hotel    Sabayil , Baku   \n",
       "3          3                Boutique 19 Hotel    Sabayil , Baku   \n",
       "4          4        White Boutique Baku Hotel    Sabayil , Baku   \n",
       "5          5              Prestige Hotel Baku    Yasamal , Baku   \n",
       "...      ...                              ...               ...   \n",
       "18102  18102                        Rezidence            Qaxbaş   \n",
       "18103  18103         Meridian-F Hotel Shamkir            Şǝmkir   \n",
       "18104  18104                      МАДИНА ОТЕЛ           Ağstafa   \n",
       "18105  18105                  Chateau Monolit    İkinci Yeniyol   \n",
       "18106  18106                          Lux Inn          Kürdǝmir   \n",
       "\n",
       "      property_star_rating   top_review  customer_rating type_of_room  price  \\\n",
       "0             4-star hotel         Good              7.7   1 king bed   99.0   \n",
       "1             4-star hotel    Very Good              8.1  1 queen bed  111.0   \n",
       "3             5-star hotel    Wonderful              9.1  1 queen bed  140.0   \n",
       "4                      NaN    Excellent              8.9   1 king bed   70.0   \n",
       "5                      NaN  Exceptional              9.5  2 king beds   50.0   \n",
       "...                    ...          ...              ...          ...    ...   \n",
       "18102                  NaN    Very Good              8.0   1 full bed   50.0   \n",
       "18103                  NaN          NaN              NaN          NaN   50.0   \n",
       "18104         3-star hotel          NaN              NaN          NaN   50.0   \n",
       "18105                  NaN         Good              7.6          NaN  140.0   \n",
       "18106                  NaN    Wonderful              9.2          NaN   90.0   \n",
       "\n",
       "                             today  \n",
       "0       Saturday, January 18, 2020  \n",
       "1       Saturday, January 18, 2020  \n",
       "3       Saturday, January 18, 2020  \n",
       "4       Saturday, January 18, 2020  \n",
       "5       Saturday, January 18, 2020  \n",
       "...                            ...  \n",
       "18102  Saturday, February 29, 2020  \n",
       "18103  Saturday, February 29, 2020  \n",
       "18104  Saturday, February 29, 2020  \n",
       "18105  Saturday, February 29, 2020  \n",
       "18106  Saturday, February 29, 2020  \n",
       "\n",
       "[17959 rows x 9 columns]"
      ]
     },
     "execution_count": 777,
     "metadata": {},
     "output_type": "execute_result"
    }
   ],
   "source": [
    "df.dropna(how='all')"
   ]
  },
  {
   "cell_type": "code",
   "execution_count": 778,
   "metadata": {
    "collapsed": true,
    "jupyter": {
     "outputs_hidden": true
    }
   },
   "outputs": [],
   "source": [
    "df.set_index('property_name',inplace=True)"
   ]
  },
  {
   "cell_type": "code",
   "execution_count": 779,
   "metadata": {
    "collapsed": true,
    "jupyter": {
     "outputs_hidden": true
    }
   },
   "outputs": [
    {
     "data": {
      "text/html": [
       "<div>\n",
       "<style scoped>\n",
       "    .dataframe tbody tr th:only-of-type {\n",
       "        vertical-align: middle;\n",
       "    }\n",
       "\n",
       "    .dataframe tbody tr th {\n",
       "        vertical-align: top;\n",
       "    }\n",
       "\n",
       "    .dataframe thead th {\n",
       "        text-align: right;\n",
       "    }\n",
       "</style>\n",
       "<table border=\"1\" class=\"dataframe\">\n",
       "  <thead>\n",
       "    <tr style=\"text-align: right;\">\n",
       "      <th></th>\n",
       "      <th>No</th>\n",
       "      <th>property_location</th>\n",
       "      <th>property_star_rating</th>\n",
       "      <th>top_review</th>\n",
       "      <th>customer_rating</th>\n",
       "      <th>type_of_room</th>\n",
       "      <th>price</th>\n",
       "      <th>today</th>\n",
       "    </tr>\n",
       "    <tr>\n",
       "      <th>property_name</th>\n",
       "      <th></th>\n",
       "      <th></th>\n",
       "      <th></th>\n",
       "      <th></th>\n",
       "      <th></th>\n",
       "      <th></th>\n",
       "      <th></th>\n",
       "      <th></th>\n",
       "    </tr>\n",
       "  </thead>\n",
       "  <tbody>\n",
       "    <tr>\n",
       "      <th>AF HOTEL</th>\n",
       "      <td>14785</td>\n",
       "      <td>Nasimi, Baku</td>\n",
       "      <td>4-star hotel</td>\n",
       "      <td>Good</td>\n",
       "      <td>7.8</td>\n",
       "      <td>1 king bed</td>\n",
       "      <td>41.0</td>\n",
       "      <td>Saturday, February 22, 2020</td>\n",
       "    </tr>\n",
       "    <tr>\n",
       "      <th>AF HOTEL</th>\n",
       "      <td>5579</td>\n",
       "      <td>Nasimi, Baku</td>\n",
       "      <td>4-star hotel</td>\n",
       "      <td>Good</td>\n",
       "      <td>7.8</td>\n",
       "      <td>1 king bed</td>\n",
       "      <td>45.0</td>\n",
       "      <td>Friday, January 31, 2020</td>\n",
       "    </tr>\n",
       "    <tr>\n",
       "      <th>AF HOTEL</th>\n",
       "      <td>35</td>\n",
       "      <td>Nasimi, Baku</td>\n",
       "      <td>4-star hotel</td>\n",
       "      <td>Good</td>\n",
       "      <td>7.8</td>\n",
       "      <td>1 king bed</td>\n",
       "      <td>44.0</td>\n",
       "      <td>Saturday, January 18, 2020</td>\n",
       "    </tr>\n",
       "    <tr>\n",
       "      <th>AF HOTEL</th>\n",
       "      <td>8083</td>\n",
       "      <td>Nasimi, Baku</td>\n",
       "      <td>4-star hotel</td>\n",
       "      <td>Good</td>\n",
       "      <td>7.8</td>\n",
       "      <td>1 king bed</td>\n",
       "      <td>45.0</td>\n",
       "      <td>Thursday, February 6, 2020</td>\n",
       "    </tr>\n",
       "    <tr>\n",
       "      <th>AF HOTEL</th>\n",
       "      <td>11008</td>\n",
       "      <td>Nasimi, Baku</td>\n",
       "      <td>4-star hotel</td>\n",
       "      <td>Good</td>\n",
       "      <td>7.8</td>\n",
       "      <td>1 king bed</td>\n",
       "      <td>41.0</td>\n",
       "      <td>Thursday, February 13, 2020</td>\n",
       "    </tr>\n",
       "    <tr>\n",
       "      <th>...</th>\n",
       "      <td>...</td>\n",
       "      <td>...</td>\n",
       "      <td>...</td>\n",
       "      <td>...</td>\n",
       "      <td>...</td>\n",
       "      <td>...</td>\n",
       "      <td>...</td>\n",
       "      <td>...</td>\n",
       "    </tr>\n",
       "    <tr>\n",
       "      <th>МАДИНА ОТЕЛ</th>\n",
       "      <td>10981</td>\n",
       "      <td>Ağstafa</td>\n",
       "      <td>3-star hotel</td>\n",
       "      <td>NaN</td>\n",
       "      <td>NaN</td>\n",
       "      <td>NaN</td>\n",
       "      <td>50.0</td>\n",
       "      <td>Wednesday, February 12, 2020</td>\n",
       "    </tr>\n",
       "    <tr>\n",
       "      <th>МАДИНА ОТЕЛ</th>\n",
       "      <td>1255</td>\n",
       "      <td>Ağstafa</td>\n",
       "      <td>3-star hotel</td>\n",
       "      <td>NaN</td>\n",
       "      <td>NaN</td>\n",
       "      <td>NaN</td>\n",
       "      <td>50.0</td>\n",
       "      <td>Monday, January 20, 2020</td>\n",
       "    </tr>\n",
       "    <tr>\n",
       "      <th>МАДИНА ОТЕЛ</th>\n",
       "      <td>6364</td>\n",
       "      <td>Ağstafa</td>\n",
       "      <td>3-star hotel</td>\n",
       "      <td>NaN</td>\n",
       "      <td>NaN</td>\n",
       "      <td>NaN</td>\n",
       "      <td>50.0</td>\n",
       "      <td>Saturday, February 1, 2020</td>\n",
       "    </tr>\n",
       "    <tr>\n",
       "      <th>МАДИНА ОТЕЛ</th>\n",
       "      <td>7200</td>\n",
       "      <td>Ağstafa</td>\n",
       "      <td>3-star hotel</td>\n",
       "      <td>NaN</td>\n",
       "      <td>NaN</td>\n",
       "      <td>NaN</td>\n",
       "      <td>50.0</td>\n",
       "      <td>Monday, February 3, 2020</td>\n",
       "    </tr>\n",
       "    <tr>\n",
       "      <th>МАДИНА ОТЕЛ</th>\n",
       "      <td>14757</td>\n",
       "      <td>Ağstafa</td>\n",
       "      <td>3-star hotel</td>\n",
       "      <td>NaN</td>\n",
       "      <td>NaN</td>\n",
       "      <td>NaN</td>\n",
       "      <td>50.0</td>\n",
       "      <td>Friday, February 21, 2020</td>\n",
       "    </tr>\n",
       "  </tbody>\n",
       "</table>\n",
       "<p>17959 rows × 8 columns</p>\n",
       "</div>"
      ],
      "text/plain": [
       "                  No property_location property_star_rating top_review  \\\n",
       "property_name                                                            \n",
       "AF HOTEL       14785      Nasimi, Baku         4-star hotel       Good   \n",
       "AF HOTEL        5579      Nasimi, Baku         4-star hotel       Good   \n",
       "AF HOTEL          35      Nasimi, Baku         4-star hotel       Good   \n",
       "AF HOTEL        8083      Nasimi, Baku         4-star hotel       Good   \n",
       "AF HOTEL       11008      Nasimi, Baku         4-star hotel       Good   \n",
       "...              ...               ...                  ...        ...   \n",
       "МАДИНА ОТЕЛ    10981           Ağstafa         3-star hotel        NaN   \n",
       "МАДИНА ОТЕЛ     1255           Ağstafa         3-star hotel        NaN   \n",
       "МАДИНА ОТЕЛ     6364           Ağstafa         3-star hotel        NaN   \n",
       "МАДИНА ОТЕЛ     7200           Ağstafa         3-star hotel        NaN   \n",
       "МАДИНА ОТЕЛ    14757           Ağstafa         3-star hotel        NaN   \n",
       "\n",
       "               customer_rating type_of_room  price  \\\n",
       "property_name                                        \n",
       "AF HOTEL                   7.8   1 king bed   41.0   \n",
       "AF HOTEL                   7.8   1 king bed   45.0   \n",
       "AF HOTEL                   7.8   1 king bed   44.0   \n",
       "AF HOTEL                   7.8   1 king bed   45.0   \n",
       "AF HOTEL                   7.8   1 king bed   41.0   \n",
       "...                        ...          ...    ...   \n",
       "МАДИНА ОТЕЛ                NaN          NaN   50.0   \n",
       "МАДИНА ОТЕЛ                NaN          NaN   50.0   \n",
       "МАДИНА ОТЕЛ                NaN          NaN   50.0   \n",
       "МАДИНА ОТЕЛ                NaN          NaN   50.0   \n",
       "МАДИНА ОТЕЛ                NaN          NaN   50.0   \n",
       "\n",
       "                                      today  \n",
       "property_name                                \n",
       "AF HOTEL        Saturday, February 22, 2020  \n",
       "AF HOTEL           Friday, January 31, 2020  \n",
       "AF HOTEL         Saturday, January 18, 2020  \n",
       "AF HOTEL         Thursday, February 6, 2020  \n",
       "AF HOTEL        Thursday, February 13, 2020  \n",
       "...                                     ...  \n",
       "МАДИНА ОТЕЛ    Wednesday, February 12, 2020  \n",
       "МАДИНА ОТЕЛ        Monday, January 20, 2020  \n",
       "МАДИНА ОТЕЛ      Saturday, February 1, 2020  \n",
       "МАДИНА ОТЕЛ        Monday, February 3, 2020  \n",
       "МАДИНА ОТЕЛ       Friday, February 21, 2020  \n",
       "\n",
       "[17959 rows x 8 columns]"
      ]
     },
     "execution_count": 779,
     "metadata": {},
     "output_type": "execute_result"
    }
   ],
   "source": [
    "df.sort_index()"
   ]
  },
  {
   "cell_type": "code",
   "execution_count": 780,
   "metadata": {
    "collapsed": true,
    "jupyter": {
     "outputs_hidden": true
    }
   },
   "outputs": [
    {
     "data": {
      "text/html": [
       "<div>\n",
       "<style scoped>\n",
       "    .dataframe tbody tr th:only-of-type {\n",
       "        vertical-align: middle;\n",
       "    }\n",
       "\n",
       "    .dataframe tbody tr th {\n",
       "        vertical-align: top;\n",
       "    }\n",
       "\n",
       "    .dataframe thead th {\n",
       "        text-align: right;\n",
       "    }\n",
       "</style>\n",
       "<table border=\"1\" class=\"dataframe\">\n",
       "  <thead>\n",
       "    <tr style=\"text-align: right;\">\n",
       "      <th></th>\n",
       "      <th>No</th>\n",
       "      <th>property_location</th>\n",
       "      <th>property_star_rating</th>\n",
       "      <th>top_review</th>\n",
       "      <th>customer_rating</th>\n",
       "      <th>type_of_room</th>\n",
       "      <th>price</th>\n",
       "      <th>today</th>\n",
       "    </tr>\n",
       "    <tr>\n",
       "      <th>property_name</th>\n",
       "      <th></th>\n",
       "      <th></th>\n",
       "      <th></th>\n",
       "      <th></th>\n",
       "      <th></th>\n",
       "      <th></th>\n",
       "      <th></th>\n",
       "      <th></th>\n",
       "    </tr>\n",
       "  </thead>\n",
       "  <tbody>\n",
       "    <tr>\n",
       "      <th>Iron Hotel</th>\n",
       "      <td>277</td>\n",
       "      <td>Baku</td>\n",
       "      <td>4-star hotel</td>\n",
       "      <td>Review score</td>\n",
       "      <td>3.5</td>\n",
       "      <td>1 queen bed</td>\n",
       "      <td>113.0</td>\n",
       "      <td>Saturday, January 18, 2020</td>\n",
       "    </tr>\n",
       "    <tr>\n",
       "      <th>Iron Hotel</th>\n",
       "      <td>693</td>\n",
       "      <td>Baku</td>\n",
       "      <td>4-star hotel</td>\n",
       "      <td>Review score</td>\n",
       "      <td>3.5</td>\n",
       "      <td>1 queen bed</td>\n",
       "      <td>113.0</td>\n",
       "      <td>Sunday, January 19, 2020</td>\n",
       "    </tr>\n",
       "    <tr>\n",
       "      <th>Iron Hotel</th>\n",
       "      <td>1124</td>\n",
       "      <td>Baku</td>\n",
       "      <td>4-star hotel</td>\n",
       "      <td>Review score</td>\n",
       "      <td>3.5</td>\n",
       "      <td>1 queen bed</td>\n",
       "      <td>113.0</td>\n",
       "      <td>Monday, January 20, 2020</td>\n",
       "    </tr>\n",
       "    <tr>\n",
       "      <th>Iron Hotel</th>\n",
       "      <td>1545</td>\n",
       "      <td>Baku</td>\n",
       "      <td>4-star hotel</td>\n",
       "      <td>Review score</td>\n",
       "      <td>3.5</td>\n",
       "      <td>1 queen bed</td>\n",
       "      <td>113.0</td>\n",
       "      <td>Tuesday, January 21, 2020</td>\n",
       "    </tr>\n",
       "    <tr>\n",
       "      <th>Iron Hotel</th>\n",
       "      <td>1974</td>\n",
       "      <td>Baku</td>\n",
       "      <td>4-star hotel</td>\n",
       "      <td>Review score</td>\n",
       "      <td>3.5</td>\n",
       "      <td>1 queen bed</td>\n",
       "      <td>113.0</td>\n",
       "      <td>Wednesday, January 22, 2020</td>\n",
       "    </tr>\n",
       "    <tr>\n",
       "      <th>...</th>\n",
       "      <td>...</td>\n",
       "      <td>...</td>\n",
       "      <td>...</td>\n",
       "      <td>...</td>\n",
       "      <td>...</td>\n",
       "      <td>...</td>\n",
       "      <td>...</td>\n",
       "      <td>...</td>\n",
       "    </tr>\n",
       "    <tr>\n",
       "      <th>Golden Moon Baku</th>\n",
       "      <td>3722</td>\n",
       "      <td>Baku</td>\n",
       "      <td>4-star hotel</td>\n",
       "      <td>NaN</td>\n",
       "      <td>NaN</td>\n",
       "      <td>2 full beds</td>\n",
       "      <td>475.0</td>\n",
       "      <td>Sunday, January 26, 2020</td>\n",
       "    </tr>\n",
       "    <tr>\n",
       "      <th>Golden Moon Baku</th>\n",
       "      <td>4153</td>\n",
       "      <td>Baku</td>\n",
       "      <td>4-star hotel</td>\n",
       "      <td>NaN</td>\n",
       "      <td>NaN</td>\n",
       "      <td>2 full beds</td>\n",
       "      <td>475.0</td>\n",
       "      <td>Monday, January 27, 2020</td>\n",
       "    </tr>\n",
       "    <tr>\n",
       "      <th>Golden Moon Baku</th>\n",
       "      <td>4571</td>\n",
       "      <td>Baku</td>\n",
       "      <td>4-star hotel</td>\n",
       "      <td>NaN</td>\n",
       "      <td>NaN</td>\n",
       "      <td>2 full beds</td>\n",
       "      <td>475.0</td>\n",
       "      <td>Tuesday, January 28, 2020</td>\n",
       "    </tr>\n",
       "    <tr>\n",
       "      <th>Golden Moon Baku</th>\n",
       "      <td>5005</td>\n",
       "      <td>Baku</td>\n",
       "      <td>4-star hotel</td>\n",
       "      <td>NaN</td>\n",
       "      <td>NaN</td>\n",
       "      <td>2 full beds</td>\n",
       "      <td>475.0</td>\n",
       "      <td>Wednesday, January 29, 2020</td>\n",
       "    </tr>\n",
       "    <tr>\n",
       "      <th>Golden Moon Baku</th>\n",
       "      <td>5433</td>\n",
       "      <td>Baku</td>\n",
       "      <td>4-star hotel</td>\n",
       "      <td>NaN</td>\n",
       "      <td>NaN</td>\n",
       "      <td>2 full beds</td>\n",
       "      <td>475.0</td>\n",
       "      <td>Thursday, January 30, 2020</td>\n",
       "    </tr>\n",
       "  </tbody>\n",
       "</table>\n",
       "<p>17959 rows × 8 columns</p>\n",
       "</div>"
      ],
      "text/plain": [
       "                    No property_location property_star_rating    top_review  \\\n",
       "property_name                                                                 \n",
       "Iron Hotel         277              Baku         4-star hotel  Review score   \n",
       "Iron Hotel         693              Baku         4-star hotel  Review score   \n",
       "Iron Hotel        1124              Baku         4-star hotel  Review score   \n",
       "Iron Hotel        1545              Baku         4-star hotel  Review score   \n",
       "Iron Hotel        1974              Baku         4-star hotel  Review score   \n",
       "...                ...               ...                  ...           ...   \n",
       "Golden Moon Baku  3722              Baku         4-star hotel           NaN   \n",
       "Golden Moon Baku  4153              Baku         4-star hotel           NaN   \n",
       "Golden Moon Baku  4571              Baku         4-star hotel           NaN   \n",
       "Golden Moon Baku  5005              Baku         4-star hotel           NaN   \n",
       "Golden Moon Baku  5433              Baku         4-star hotel           NaN   \n",
       "\n",
       "                  customer_rating type_of_room  price  \\\n",
       "property_name                                           \n",
       "Iron Hotel                    3.5  1 queen bed  113.0   \n",
       "Iron Hotel                    3.5  1 queen bed  113.0   \n",
       "Iron Hotel                    3.5  1 queen bed  113.0   \n",
       "Iron Hotel                    3.5  1 queen bed  113.0   \n",
       "Iron Hotel                    3.5  1 queen bed  113.0   \n",
       "...                           ...          ...    ...   \n",
       "Golden Moon Baku              NaN  2 full beds  475.0   \n",
       "Golden Moon Baku              NaN  2 full beds  475.0   \n",
       "Golden Moon Baku              NaN  2 full beds  475.0   \n",
       "Golden Moon Baku              NaN  2 full beds  475.0   \n",
       "Golden Moon Baku              NaN  2 full beds  475.0   \n",
       "\n",
       "                                        today  \n",
       "property_name                                  \n",
       "Iron Hotel         Saturday, January 18, 2020  \n",
       "Iron Hotel           Sunday, January 19, 2020  \n",
       "Iron Hotel           Monday, January 20, 2020  \n",
       "Iron Hotel          Tuesday, January 21, 2020  \n",
       "Iron Hotel        Wednesday, January 22, 2020  \n",
       "...                                       ...  \n",
       "Golden Moon Baku     Sunday, January 26, 2020  \n",
       "Golden Moon Baku     Monday, January 27, 2020  \n",
       "Golden Moon Baku    Tuesday, January 28, 2020  \n",
       "Golden Moon Baku  Wednesday, January 29, 2020  \n",
       "Golden Moon Baku   Thursday, January 30, 2020  \n",
       "\n",
       "[17959 rows x 8 columns]"
      ]
     },
     "execution_count": 780,
     "metadata": {},
     "output_type": "execute_result"
    }
   ],
   "source": [
    "df.sort_values(by=['customer_rating','price']) #inplace=True"
   ]
  },
  {
   "cell_type": "code",
   "execution_count": 781,
   "metadata": {
    "collapsed": true,
    "jupyter": {
     "outputs_hidden": true
    }
   },
   "outputs": [
    {
     "data": {
      "text/html": [
       "<div>\n",
       "<style scoped>\n",
       "    .dataframe tbody tr th:only-of-type {\n",
       "        vertical-align: middle;\n",
       "    }\n",
       "\n",
       "    .dataframe tbody tr th {\n",
       "        vertical-align: top;\n",
       "    }\n",
       "\n",
       "    .dataframe thead th {\n",
       "        text-align: right;\n",
       "    }\n",
       "</style>\n",
       "<table border=\"1\" class=\"dataframe\">\n",
       "  <thead>\n",
       "    <tr style=\"text-align: right;\">\n",
       "      <th></th>\n",
       "      <th>No</th>\n",
       "      <th>property_location</th>\n",
       "      <th>property_star_rating</th>\n",
       "      <th>top_review</th>\n",
       "      <th>customer_rating</th>\n",
       "      <th>type_of_room</th>\n",
       "      <th>price</th>\n",
       "      <th>today</th>\n",
       "    </tr>\n",
       "    <tr>\n",
       "      <th>property_name</th>\n",
       "      <th></th>\n",
       "      <th></th>\n",
       "      <th></th>\n",
       "      <th></th>\n",
       "      <th></th>\n",
       "      <th></th>\n",
       "      <th></th>\n",
       "      <th></th>\n",
       "    </tr>\n",
       "  </thead>\n",
       "  <tbody>\n",
       "    <tr>\n",
       "      <th>Royal Hotel</th>\n",
       "      <td>36</td>\n",
       "      <td>Baku</td>\n",
       "      <td>4-star hotel</td>\n",
       "      <td>Review score</td>\n",
       "      <td>6.9</td>\n",
       "      <td>1 full bed</td>\n",
       "      <td>59.0</td>\n",
       "      <td>Saturday, January 18, 2020</td>\n",
       "    </tr>\n",
       "    <tr>\n",
       "      <th>Ambiance Hotel</th>\n",
       "      <td>128</td>\n",
       "      <td>Baku</td>\n",
       "      <td>4-star hotel</td>\n",
       "      <td>Review score</td>\n",
       "      <td>6.9</td>\n",
       "      <td>2 twin beds</td>\n",
       "      <td>35.0</td>\n",
       "      <td>Saturday, January 18, 2020</td>\n",
       "    </tr>\n",
       "    <tr>\n",
       "      <th>Crossway Hotel</th>\n",
       "      <td>212</td>\n",
       "      <td>Baku</td>\n",
       "      <td>4-star hotel</td>\n",
       "      <td>Review score</td>\n",
       "      <td>6.8</td>\n",
       "      <td>1 full bed</td>\n",
       "      <td>35.0</td>\n",
       "      <td>Saturday, January 18, 2020</td>\n",
       "    </tr>\n",
       "    <tr>\n",
       "      <th>Caspian Hotel</th>\n",
       "      <td>250</td>\n",
       "      <td>Nasimi, Baku</td>\n",
       "      <td>4-star hotel</td>\n",
       "      <td>Review score</td>\n",
       "      <td>6.5</td>\n",
       "      <td>1 queen bed</td>\n",
       "      <td>70.0</td>\n",
       "      <td>Saturday, January 18, 2020</td>\n",
       "    </tr>\n",
       "    <tr>\n",
       "      <th>Ambassador Hotel</th>\n",
       "      <td>253</td>\n",
       "      <td>Baku</td>\n",
       "      <td>5-star hotel</td>\n",
       "      <td>Review score</td>\n",
       "      <td>4.3</td>\n",
       "      <td>1 king bed</td>\n",
       "      <td>50.0</td>\n",
       "      <td>Saturday, January 18, 2020</td>\n",
       "    </tr>\n",
       "    <tr>\n",
       "      <th>...</th>\n",
       "      <td>...</td>\n",
       "      <td>...</td>\n",
       "      <td>...</td>\n",
       "      <td>...</td>\n",
       "      <td>...</td>\n",
       "      <td>...</td>\n",
       "      <td>...</td>\n",
       "      <td>...</td>\n",
       "    </tr>\n",
       "    <tr>\n",
       "      <th>Royal&amp;Xan Palace</th>\n",
       "      <td>18013</td>\n",
       "      <td>Ağcabǝdi</td>\n",
       "      <td>4-star hotel</td>\n",
       "      <td>Review score</td>\n",
       "      <td>5.9</td>\n",
       "      <td>2 twin beds</td>\n",
       "      <td>100.0</td>\n",
       "      <td>Saturday, February 29, 2020</td>\n",
       "    </tr>\n",
       "    <tr>\n",
       "      <th>Diplomat Hotel Baku</th>\n",
       "      <td>18034</td>\n",
       "      <td>Nasimi, Baku</td>\n",
       "      <td>3-star hotel</td>\n",
       "      <td>Review score</td>\n",
       "      <td>6.8</td>\n",
       "      <td>2 twin beds</td>\n",
       "      <td>60.0</td>\n",
       "      <td>Saturday, February 29, 2020</td>\n",
       "    </tr>\n",
       "    <tr>\n",
       "      <th>AZPETROL HOTEL GAZAX</th>\n",
       "      <td>18070</td>\n",
       "      <td>Qazax</td>\n",
       "      <td>NaN</td>\n",
       "      <td>Review score</td>\n",
       "      <td>5.8</td>\n",
       "      <td>1 queen bed</td>\n",
       "      <td>30.0</td>\n",
       "      <td>Saturday, February 29, 2020</td>\n",
       "    </tr>\n",
       "    <tr>\n",
       "      <th>Ambassador Hotel</th>\n",
       "      <td>18079</td>\n",
       "      <td>Baku</td>\n",
       "      <td>5-star hotel</td>\n",
       "      <td>Review score</td>\n",
       "      <td>4.3</td>\n",
       "      <td>1 king bed</td>\n",
       "      <td>68.0</td>\n",
       "      <td>Saturday, February 29, 2020</td>\n",
       "    </tr>\n",
       "    <tr>\n",
       "      <th>Hello Qusar Hotel</th>\n",
       "      <td>18087</td>\n",
       "      <td>Qusar</td>\n",
       "      <td>NaN</td>\n",
       "      <td>Review score</td>\n",
       "      <td>6.9</td>\n",
       "      <td>2 queen beds</td>\n",
       "      <td>80.0</td>\n",
       "      <td>Saturday, February 29, 2020</td>\n",
       "    </tr>\n",
       "  </tbody>\n",
       "</table>\n",
       "<p>869 rows × 8 columns</p>\n",
       "</div>"
      ],
      "text/plain": [
       "                         No property_location property_star_rating  \\\n",
       "property_name                                                        \n",
       "Royal Hotel              36              Baku         4-star hotel   \n",
       "Ambiance Hotel          128              Baku         4-star hotel   \n",
       "Crossway Hotel          212              Baku         4-star hotel   \n",
       "Caspian Hotel           250      Nasimi, Baku         4-star hotel   \n",
       "Ambassador Hotel        253              Baku         5-star hotel   \n",
       "...                     ...               ...                  ...   \n",
       "Royal&Xan Palace      18013          Ağcabǝdi         4-star hotel   \n",
       "Diplomat Hotel Baku   18034      Nasimi, Baku         3-star hotel   \n",
       "AZPETROL HOTEL GAZAX  18070             Qazax                  NaN   \n",
       "Ambassador Hotel      18079              Baku         5-star hotel   \n",
       "Hello Qusar Hotel     18087             Qusar                  NaN   \n",
       "\n",
       "                        top_review  customer_rating  type_of_room  price  \\\n",
       "property_name                                                              \n",
       "Royal Hotel           Review score              6.9    1 full bed   59.0   \n",
       "Ambiance Hotel        Review score              6.9   2 twin beds   35.0   \n",
       "Crossway Hotel        Review score              6.8    1 full bed   35.0   \n",
       "Caspian Hotel         Review score              6.5   1 queen bed   70.0   \n",
       "Ambassador Hotel      Review score              4.3    1 king bed   50.0   \n",
       "...                            ...              ...           ...    ...   \n",
       "Royal&Xan Palace      Review score              5.9   2 twin beds  100.0   \n",
       "Diplomat Hotel Baku   Review score              6.8   2 twin beds   60.0   \n",
       "AZPETROL HOTEL GAZAX  Review score              5.8   1 queen bed   30.0   \n",
       "Ambassador Hotel      Review score              4.3    1 king bed   68.0   \n",
       "Hello Qusar Hotel     Review score              6.9  2 queen beds   80.0   \n",
       "\n",
       "                                            today  \n",
       "property_name                                      \n",
       "Royal Hotel            Saturday, January 18, 2020  \n",
       "Ambiance Hotel         Saturday, January 18, 2020  \n",
       "Crossway Hotel         Saturday, January 18, 2020  \n",
       "Caspian Hotel          Saturday, January 18, 2020  \n",
       "Ambassador Hotel       Saturday, January 18, 2020  \n",
       "...                                           ...  \n",
       "Royal&Xan Palace      Saturday, February 29, 2020  \n",
       "Diplomat Hotel Baku   Saturday, February 29, 2020  \n",
       "AZPETROL HOTEL GAZAX  Saturday, February 29, 2020  \n",
       "Ambassador Hotel      Saturday, February 29, 2020  \n",
       "Hello Qusar Hotel     Saturday, February 29, 2020  \n",
       "\n",
       "[869 rows x 8 columns]"
      ]
     },
     "execution_count": 781,
     "metadata": {},
     "output_type": "execute_result"
    }
   ],
   "source": [
    "df[df['top_review']=='Review score']"
   ]
  },
  {
   "cell_type": "code",
   "execution_count": 782,
   "metadata": {
    "collapsed": true,
    "jupyter": {
     "outputs_hidden": true
    }
   },
   "outputs": [
    {
     "data": {
      "text/html": [
       "<div>\n",
       "<style scoped>\n",
       "    .dataframe tbody tr th:only-of-type {\n",
       "        vertical-align: middle;\n",
       "    }\n",
       "\n",
       "    .dataframe tbody tr th {\n",
       "        vertical-align: top;\n",
       "    }\n",
       "\n",
       "    .dataframe thead th {\n",
       "        text-align: right;\n",
       "    }\n",
       "</style>\n",
       "<table border=\"1\" class=\"dataframe\">\n",
       "  <thead>\n",
       "    <tr style=\"text-align: right;\">\n",
       "      <th></th>\n",
       "      <th>No</th>\n",
       "      <th>property_location</th>\n",
       "      <th>property_star_rating</th>\n",
       "      <th>top_review</th>\n",
       "      <th>customer_rating</th>\n",
       "      <th>type_of_room</th>\n",
       "      <th>price</th>\n",
       "      <th>today</th>\n",
       "    </tr>\n",
       "    <tr>\n",
       "      <th>property_name</th>\n",
       "      <th></th>\n",
       "      <th></th>\n",
       "      <th></th>\n",
       "      <th></th>\n",
       "      <th></th>\n",
       "      <th></th>\n",
       "      <th></th>\n",
       "      <th></th>\n",
       "    </tr>\n",
       "  </thead>\n",
       "  <tbody>\n",
       "  </tbody>\n",
       "</table>\n",
       "</div>"
      ],
      "text/plain": [
       "Empty DataFrame\n",
       "Columns: [No, property_location, property_star_rating, top_review, customer_rating, type_of_room, price, today]\n",
       "Index: []"
      ]
     },
     "execution_count": 782,
     "metadata": {},
     "output_type": "execute_result"
    }
   ],
   "source": [
    "df[df['price']==np.nan]"
   ]
  },
  {
   "cell_type": "code",
   "execution_count": 783,
   "metadata": {
    "collapsed": true,
    "jupyter": {
     "outputs_hidden": true
    }
   },
   "outputs": [
    {
     "data": {
      "text/plain": [
       "5.0        1\n",
       "10.0      42\n",
       "17.0      62\n",
       "18.0      66\n",
       "19.0      52\n",
       "          ..\n",
       "850.0      1\n",
       "881.0      1\n",
       "900.0      2\n",
       "1138.0     1\n",
       "2251.0     2\n",
       "Name: price, Length: 229, dtype: int64"
      ]
     },
     "execution_count": 783,
     "metadata": {},
     "output_type": "execute_result"
    }
   ],
   "source": [
    "df['price'].value_counts().sort_index()"
   ]
  },
  {
   "cell_type": "code",
   "execution_count": 784,
   "metadata": {
    "collapsed": true,
    "jupyter": {
     "outputs_hidden": true
    }
   },
   "outputs": [
    {
     "data": {
      "text/plain": [
       "211.0       1\n",
       "1138.0      1\n",
       "277.0       1\n",
       "256.0       1\n",
       "185.0       1\n",
       "         ... \n",
       "50.0      583\n",
       "80.0      668\n",
       "70.0      758\n",
       "40.0      776\n",
       "60.0      971\n",
       "Name: price, Length: 229, dtype: int64"
      ]
     },
     "execution_count": 784,
     "metadata": {},
     "output_type": "execute_result"
    }
   ],
   "source": [
    "df['price'].value_counts().sort_values()"
   ]
  },
  {
   "cell_type": "code",
   "execution_count": 785,
   "metadata": {
    "collapsed": true,
    "jupyter": {
     "outputs_hidden": true
    }
   },
   "outputs": [
    {
     "data": {
      "text/plain": [
       "60.0      5.406760\n",
       "40.0      4.320953\n",
       "70.0      4.220725\n",
       "80.0      3.719583\n",
       "50.0      3.246283\n",
       "            ...   \n",
       "185.0     0.005568\n",
       "256.0     0.005568\n",
       "277.0     0.005568\n",
       "1138.0    0.005568\n",
       "211.0     0.005568\n",
       "Name: price, Length: 229, dtype: float64"
      ]
     },
     "execution_count": 785,
     "metadata": {},
     "output_type": "execute_result"
    }
   ],
   "source": [
    "df['price'].value_counts(normalize=True).sort_values(ascending=False)*100"
   ]
  },
  {
   "cell_type": "code",
   "execution_count": 786,
   "metadata": {
    "collapsed": true,
    "jupyter": {
     "outputs_hidden": true
    }
   },
   "outputs": [
    {
     "data": {
      "text/plain": [
       "AF HOTEL                             43\n",
       "AF HOTEL AQUAPARK                    43\n",
       "ALTSTADT Boutique Hotel              43\n",
       "ART Gallery Boutique Hotel           44\n",
       "ART Hotel Baku                       43\n",
       "                                     ..\n",
       "Zaqatala olimpiya idman kompleksi    43\n",
       "Zirve Hotel                          41\n",
       "kings group baku hotel               43\n",
       "Çıraqban.otel                        42\n",
       "МАДИНА ОТЕЛ                          43\n",
       "Name: property_name, Length: 433, dtype: int64"
      ]
     },
     "execution_count": 786,
     "metadata": {},
     "output_type": "execute_result"
    }
   ],
   "source": [
    "df.index.value_counts().sort_index()"
   ]
  },
  {
   "cell_type": "code",
   "execution_count": 787,
   "metadata": {
    "collapsed": true,
    "jupyter": {
     "outputs_hidden": true
    }
   },
   "outputs": [
    {
     "data": {
      "text/html": [
       "<div>\n",
       "<style scoped>\n",
       "    .dataframe tbody tr th:only-of-type {\n",
       "        vertical-align: middle;\n",
       "    }\n",
       "\n",
       "    .dataframe tbody tr th {\n",
       "        vertical-align: top;\n",
       "    }\n",
       "\n",
       "    .dataframe thead th {\n",
       "        text-align: right;\n",
       "    }\n",
       "</style>\n",
       "<table border=\"1\" class=\"dataframe\">\n",
       "  <thead>\n",
       "    <tr style=\"text-align: right;\">\n",
       "      <th></th>\n",
       "      <th>No</th>\n",
       "      <th>property_location</th>\n",
       "      <th>property_star_rating</th>\n",
       "      <th>top_review</th>\n",
       "      <th>customer_rating</th>\n",
       "      <th>type_of_room</th>\n",
       "      <th>price</th>\n",
       "      <th>today</th>\n",
       "    </tr>\n",
       "    <tr>\n",
       "      <th>property_name</th>\n",
       "      <th></th>\n",
       "      <th></th>\n",
       "      <th></th>\n",
       "      <th></th>\n",
       "      <th></th>\n",
       "      <th></th>\n",
       "      <th></th>\n",
       "      <th></th>\n",
       "    </tr>\n",
       "  </thead>\n",
       "  <tbody>\n",
       "    <tr>\n",
       "      <th>Emerald Hotel Baku</th>\n",
       "      <td>0</td>\n",
       "      <td>Baku</td>\n",
       "      <td>4-star hotel</td>\n",
       "      <td>Good</td>\n",
       "      <td>7.7</td>\n",
       "      <td>1 king bed</td>\n",
       "      <td>99.0</td>\n",
       "      <td>Saturday, January 18, 2020</td>\n",
       "    </tr>\n",
       "    <tr>\n",
       "      <th>Park Inn by Radisson Baku Hotel</th>\n",
       "      <td>1</td>\n",
       "      <td>Sabayil , Baku</td>\n",
       "      <td>4-star hotel</td>\n",
       "      <td>Very Good</td>\n",
       "      <td>8.1</td>\n",
       "      <td>1 queen bed</td>\n",
       "      <td>111.0</td>\n",
       "      <td>Saturday, January 18, 2020</td>\n",
       "    </tr>\n",
       "    <tr>\n",
       "      <th>Boutique 19 Hotel</th>\n",
       "      <td>3</td>\n",
       "      <td>Sabayil , Baku</td>\n",
       "      <td>5-star hotel</td>\n",
       "      <td>Wonderful</td>\n",
       "      <td>9.1</td>\n",
       "      <td>1 queen bed</td>\n",
       "      <td>140.0</td>\n",
       "      <td>Saturday, January 18, 2020</td>\n",
       "    </tr>\n",
       "    <tr>\n",
       "      <th>White Boutique Baku Hotel</th>\n",
       "      <td>4</td>\n",
       "      <td>Sabayil , Baku</td>\n",
       "      <td>NaN</td>\n",
       "      <td>Excellent</td>\n",
       "      <td>8.9</td>\n",
       "      <td>1 king bed</td>\n",
       "      <td>70.0</td>\n",
       "      <td>Saturday, January 18, 2020</td>\n",
       "    </tr>\n",
       "    <tr>\n",
       "      <th>Prestige Hotel Baku</th>\n",
       "      <td>5</td>\n",
       "      <td>Yasamal , Baku</td>\n",
       "      <td>NaN</td>\n",
       "      <td>Exceptional</td>\n",
       "      <td>9.5</td>\n",
       "      <td>2 king beds</td>\n",
       "      <td>50.0</td>\n",
       "      <td>Saturday, January 18, 2020</td>\n",
       "    </tr>\n",
       "  </tbody>\n",
       "</table>\n",
       "</div>"
      ],
      "text/plain": [
       "                                 No property_location property_star_rating  \\\n",
       "property_name                                                                \n",
       "Emerald Hotel Baku                0              Baku         4-star hotel   \n",
       "Park Inn by Radisson Baku Hotel   1    Sabayil , Baku         4-star hotel   \n",
       "Boutique 19 Hotel                 3    Sabayil , Baku         5-star hotel   \n",
       "White Boutique Baku Hotel         4    Sabayil , Baku                  NaN   \n",
       "Prestige Hotel Baku               5    Yasamal , Baku                  NaN   \n",
       "\n",
       "                                  top_review  customer_rating type_of_room  \\\n",
       "property_name                                                                \n",
       "Emerald Hotel Baku                      Good              7.7   1 king bed   \n",
       "Park Inn by Radisson Baku Hotel    Very Good              8.1  1 queen bed   \n",
       "Boutique 19 Hotel                  Wonderful              9.1  1 queen bed   \n",
       "White Boutique Baku Hotel          Excellent              8.9   1 king bed   \n",
       "Prestige Hotel Baku              Exceptional              9.5  2 king beds   \n",
       "\n",
       "                                 price                       today  \n",
       "property_name                                                       \n",
       "Emerald Hotel Baku                99.0  Saturday, January 18, 2020  \n",
       "Park Inn by Radisson Baku Hotel  111.0  Saturday, January 18, 2020  \n",
       "Boutique 19 Hotel                140.0  Saturday, January 18, 2020  \n",
       "White Boutique Baku Hotel         70.0  Saturday, January 18, 2020  \n",
       "Prestige Hotel Baku               50.0  Saturday, January 18, 2020  "
      ]
     },
     "execution_count": 787,
     "metadata": {},
     "output_type": "execute_result"
    }
   ],
   "source": [
    "df.head()"
   ]
  },
  {
   "cell_type": "code",
   "execution_count": 788,
   "metadata": {
    "collapsed": true,
    "jupyter": {
     "outputs_hidden": true
    }
   },
   "outputs": [
    {
     "data": {
      "text/plain": [
       "property_name\n",
       "Emerald Hotel Baku                     Baku\n",
       "Park Inn by Radisson Baku Hotel        Baku\n",
       "Boutique 19 Hotel                      Baku\n",
       "White Boutique Baku Hotel              Baku\n",
       "Prestige Hotel Baku                    Baku\n",
       "                                     ...   \n",
       "Rezidence                            Qaxbaş\n",
       "Meridian-F Hotel Shamkir             Şǝmkir\n",
       "МАДИНА ОТЕЛ                         Ağstafa\n",
       "Chateau Monolit                     Yeniyol\n",
       "Lux Inn                            Kürdǝmir\n",
       "Name: property_location, Length: 17959, dtype: object"
      ]
     },
     "execution_count": 788,
     "metadata": {},
     "output_type": "execute_result"
    }
   ],
   "source": [
    "df['property_location'].str.replace('.+?( )','') #regex pattern"
   ]
  },
  {
   "cell_type": "code",
   "execution_count": 789,
   "metadata": {
    "collapsed": true,
    "jupyter": {
     "outputs_hidden": true
    }
   },
   "outputs": [],
   "source": [
    "df['property_location']=df['property_location'].str.replace('.+?( )','')"
   ]
  },
  {
   "cell_type": "code",
   "execution_count": 790,
   "metadata": {
    "collapsed": true,
    "jupyter": {
     "outputs_hidden": true
    }
   },
   "outputs": [
    {
     "data": {
      "text/plain": [
       "property_name\n",
       "Emerald Hotel Baku                     Baku\n",
       "Park Inn by Radisson Baku Hotel        Baku\n",
       "Boutique 19 Hotel                      Baku\n",
       "White Boutique Baku Hotel              Baku\n",
       "Prestige Hotel Baku                    Baku\n",
       "                                     ...   \n",
       "Rezidence                            Qaxbaş\n",
       "Meridian-F Hotel Shamkir             Şǝmkir\n",
       "МАДИНА ОТЕЛ                         Ağstafa\n",
       "Chateau Monolit                     Yeniyol\n",
       "Lux Inn                            Kürdǝmir\n",
       "Name: property_location, Length: 17959, dtype: object"
      ]
     },
     "execution_count": 790,
     "metadata": {},
     "output_type": "execute_result"
    }
   ],
   "source": [
    "df['property_location']"
   ]
  },
  {
   "cell_type": "code",
   "execution_count": 791,
   "metadata": {
    "collapsed": true,
    "jupyter": {
     "outputs_hidden": true
    }
   },
   "outputs": [
    {
     "data": {
      "text/html": [
       "<div>\n",
       "<style scoped>\n",
       "    .dataframe tbody tr th:only-of-type {\n",
       "        vertical-align: middle;\n",
       "    }\n",
       "\n",
       "    .dataframe tbody tr th {\n",
       "        vertical-align: top;\n",
       "    }\n",
       "\n",
       "    .dataframe thead th {\n",
       "        text-align: right;\n",
       "    }\n",
       "</style>\n",
       "<table border=\"1\" class=\"dataframe\">\n",
       "  <thead>\n",
       "    <tr style=\"text-align: right;\">\n",
       "      <th></th>\n",
       "      <th>No</th>\n",
       "      <th>property_location</th>\n",
       "      <th>property_star_rating</th>\n",
       "      <th>top_review</th>\n",
       "      <th>customer_rating</th>\n",
       "      <th>type_of_room</th>\n",
       "      <th>price</th>\n",
       "      <th>today</th>\n",
       "    </tr>\n",
       "    <tr>\n",
       "      <th>property_name</th>\n",
       "      <th></th>\n",
       "      <th></th>\n",
       "      <th></th>\n",
       "      <th></th>\n",
       "      <th></th>\n",
       "      <th></th>\n",
       "      <th></th>\n",
       "      <th></th>\n",
       "    </tr>\n",
       "  </thead>\n",
       "  <tbody>\n",
       "    <tr>\n",
       "      <th>Chateau Monolit</th>\n",
       "      <td>409</td>\n",
       "      <td>Yeniyol</td>\n",
       "      <td>NaN</td>\n",
       "      <td>Good</td>\n",
       "      <td>7.6</td>\n",
       "      <td>NaN</td>\n",
       "      <td>140.0</td>\n",
       "      <td>Saturday, January 18, 2020</td>\n",
       "    </tr>\n",
       "    <tr>\n",
       "      <th>Chateau Monolit</th>\n",
       "      <td>831</td>\n",
       "      <td>Yeniyol</td>\n",
       "      <td>NaN</td>\n",
       "      <td>Good</td>\n",
       "      <td>7.6</td>\n",
       "      <td>NaN</td>\n",
       "      <td>140.0</td>\n",
       "      <td>Sunday, January 19, 2020</td>\n",
       "    </tr>\n",
       "    <tr>\n",
       "      <th>Chateau Monolit</th>\n",
       "      <td>1256</td>\n",
       "      <td>Yeniyol</td>\n",
       "      <td>NaN</td>\n",
       "      <td>Good</td>\n",
       "      <td>7.6</td>\n",
       "      <td>NaN</td>\n",
       "      <td>140.0</td>\n",
       "      <td>Monday, January 20, 2020</td>\n",
       "    </tr>\n",
       "    <tr>\n",
       "      <th>Chateau Monolit</th>\n",
       "      <td>1683</td>\n",
       "      <td>Yeniyol</td>\n",
       "      <td>NaN</td>\n",
       "      <td>Good</td>\n",
       "      <td>7.6</td>\n",
       "      <td>NaN</td>\n",
       "      <td>140.0</td>\n",
       "      <td>Tuesday, January 21, 2020</td>\n",
       "    </tr>\n",
       "    <tr>\n",
       "      <th>Chateau Monolit</th>\n",
       "      <td>2110</td>\n",
       "      <td>Yeniyol</td>\n",
       "      <td>NaN</td>\n",
       "      <td>Good</td>\n",
       "      <td>7.6</td>\n",
       "      <td>NaN</td>\n",
       "      <td>140.0</td>\n",
       "      <td>Wednesday, January 22, 2020</td>\n",
       "    </tr>\n",
       "  </tbody>\n",
       "</table>\n",
       "</div>"
      ],
      "text/plain": [
       "                   No property_location property_star_rating top_review  \\\n",
       "property_name                                                             \n",
       "Chateau Monolit   409           Yeniyol                  NaN       Good   \n",
       "Chateau Monolit   831           Yeniyol                  NaN       Good   \n",
       "Chateau Monolit  1256           Yeniyol                  NaN       Good   \n",
       "Chateau Monolit  1683           Yeniyol                  NaN       Good   \n",
       "Chateau Monolit  2110           Yeniyol                  NaN       Good   \n",
       "\n",
       "                 customer_rating type_of_room  price  \\\n",
       "property_name                                          \n",
       "Chateau Monolit              7.6          NaN  140.0   \n",
       "Chateau Monolit              7.6          NaN  140.0   \n",
       "Chateau Monolit              7.6          NaN  140.0   \n",
       "Chateau Monolit              7.6          NaN  140.0   \n",
       "Chateau Monolit              7.6          NaN  140.0   \n",
       "\n",
       "                                       today  \n",
       "property_name                                 \n",
       "Chateau Monolit   Saturday, January 18, 2020  \n",
       "Chateau Monolit     Sunday, January 19, 2020  \n",
       "Chateau Monolit     Monday, January 20, 2020  \n",
       "Chateau Monolit    Tuesday, January 21, 2020  \n",
       "Chateau Monolit  Wednesday, January 22, 2020  "
      ]
     },
     "execution_count": 791,
     "metadata": {},
     "output_type": "execute_result"
    }
   ],
   "source": [
    "df[df['property_location']=='Yeniyol'].head() #.isin(['Şəmkir'])"
   ]
  },
  {
   "cell_type": "code",
   "execution_count": 792,
   "metadata": {
    "collapsed": true,
    "jupyter": {
     "outputs_hidden": true
    }
   },
   "outputs": [],
   "source": [
    "loc_dict={ 'Calut':'Oğuz','Yeniyol':'İsmayilli', 'Ərǝkit':'İsmayilli','Azad':'Ganja','Şǝrǝdil': 'Şamaxı',\n",
    "'Qaxbaş': 'Qax','Vartaşenqışlaq': 'Oğuz','Ucgun':'Quba','Afurca':'Quba', 'Yengica': 'Quba' ,\n",
    "'Çilǝgir':'Qusar','Shahdag' : 'Qusar','Galaalti':'Şabran','Daşça': 'Qəbələ','Vǝndam' : 'Qəbələ',\n",
    "'Novxanı':'Absheron', 'Buzovna':'Absheron', 'Mərdəkan':'Absheron', 'nardaran':'Absheron',\n",
    "'Nabran': 'Khacmaz', 'Xudat': 'Khacmaz','Şahnǝzǝrli': 'Shabran','Altıağac':'Khizi','Nüvǝdi': 'Lerik', \n",
    "'bala muradkhan' : 'Kurdamir'}\n",
    "\n",
    "df['property_location'].replace(loc_dict,inplace=True)"
   ]
  },
  {
   "cell_type": "code",
   "execution_count": 793,
   "metadata": {
    "collapsed": true,
    "jupyter": {
     "outputs_hidden": true
    }
   },
   "outputs": [
    {
     "data": {
      "text/plain": [
       "array(['Baku', 'Absheron', 'Gabala', 'Sumqayıt', 'Quba', 'İsmayıllı',\n",
       "       'Sheki', 'Daşca', 'Ganja', 'Mingachevir', 'Shabran', 'Lankaran',\n",
       "       'Şǝmkir', 'Lerik', 'Qusar', 'Naxçıvan', 'Oğuz', 'Qax', 'Ağcabǝdi',\n",
       "       'Khizi', 'Khacmaz', 'Beylǝqan', 'Masallı', 'Balakǝn', 'Naftalan',\n",
       "       'Tǝrtǝr', 'İsmayilli', 'Qazax', 'Göyçay', 'Zaqatala', 'Qəbələ',\n",
       "       'Şamaxı', 'Ağstafa', 'Kürdǝmir', 'Salyan', 'Şabran'], dtype=object)"
      ]
     },
     "execution_count": 793,
     "metadata": {},
     "output_type": "execute_result"
    }
   ],
   "source": [
    "df['property_location'].unique()"
   ]
  },
  {
   "cell_type": "code",
   "execution_count": 794,
   "metadata": {
    "collapsed": true,
    "jupyter": {
     "outputs_hidden": true
    }
   },
   "outputs": [
    {
     "data": {
      "text/plain": [
       "'Baku'"
      ]
     },
     "execution_count": 794,
     "metadata": {},
     "output_type": "execute_result"
    }
   ],
   "source": [
    "df['property_location'][0]"
   ]
  },
  {
   "cell_type": "code",
   "execution_count": 795,
   "metadata": {
    "collapsed": true,
    "jupyter": {
     "outputs_hidden": true
    }
   },
   "outputs": [
    {
     "data": {
      "text/plain": [
       "Lux Inn    Kürdǝmir\n",
       "Lux Inn    Kürdǝmir\n",
       "Lux Inn    Kürdǝmir\n",
       "Lux Inn    Kürdǝmir\n",
       "Lux Inn    Kürdǝmir\n",
       "Name: property_location, dtype: object"
      ]
     },
     "execution_count": 795,
     "metadata": {},
     "output_type": "execute_result"
    }
   ],
   "source": [
    "df['property_location']['Lux Inn'].head()"
   ]
  },
  {
   "cell_type": "code",
   "execution_count": 796,
   "metadata": {
    "collapsed": true,
    "jupyter": {
     "outputs_hidden": true
    }
   },
   "outputs": [
    {
     "data": {
      "text/plain": [
       "property_name\n",
       "Lux Inn    Kürdǝmir\n",
       "Lux Inn    Kürdǝmir\n",
       "Lux Inn    Kürdǝmir\n",
       "Lux Inn    Kürdǝmir\n",
       "Lux Inn    Kürdǝmir\n",
       "Name: property_location, dtype: object"
      ]
     },
     "execution_count": 796,
     "metadata": {},
     "output_type": "execute_result"
    }
   ],
   "source": [
    "df.loc['Lux Inn','property_location'].head()"
   ]
  },
  {
   "cell_type": "code",
   "execution_count": 797,
   "metadata": {
    "collapsed": true,
    "jupyter": {
     "outputs_hidden": true
    }
   },
   "outputs": [
    {
     "data": {
      "text/html": [
       "<div>\n",
       "<style scoped>\n",
       "    .dataframe tbody tr th:only-of-type {\n",
       "        vertical-align: middle;\n",
       "    }\n",
       "\n",
       "    .dataframe tbody tr th {\n",
       "        vertical-align: top;\n",
       "    }\n",
       "\n",
       "    .dataframe thead th {\n",
       "        text-align: right;\n",
       "    }\n",
       "</style>\n",
       "<table border=\"1\" class=\"dataframe\">\n",
       "  <thead>\n",
       "    <tr style=\"text-align: right;\">\n",
       "      <th></th>\n",
       "      <th>No</th>\n",
       "      <th>customer_rating</th>\n",
       "      <th>price</th>\n",
       "    </tr>\n",
       "    <tr>\n",
       "      <th>property_location</th>\n",
       "      <th></th>\n",
       "      <th></th>\n",
       "      <th></th>\n",
       "    </tr>\n",
       "  </thead>\n",
       "  <tbody>\n",
       "    <tr>\n",
       "      <th>Zaqatala</th>\n",
       "      <td>9204.836257</td>\n",
       "      <td>8.521053</td>\n",
       "      <td>35.409357</td>\n",
       "    </tr>\n",
       "    <tr>\n",
       "      <th>Qazax</th>\n",
       "      <td>9247.744186</td>\n",
       "      <td>7.100000</td>\n",
       "      <td>40.000000</td>\n",
       "    </tr>\n",
       "    <tr>\n",
       "      <th>Beylǝqan</th>\n",
       "      <td>9329.769231</td>\n",
       "      <td>7.300000</td>\n",
       "      <td>40.512821</td>\n",
       "    </tr>\n",
       "    <tr>\n",
       "      <th>Balakǝn</th>\n",
       "      <td>9021.083333</td>\n",
       "      <td>7.900000</td>\n",
       "      <td>49.000000</td>\n",
       "    </tr>\n",
       "    <tr>\n",
       "      <th>Oğuz</th>\n",
       "      <td>9249.748031</td>\n",
       "      <td>8.007692</td>\n",
       "      <td>49.314961</td>\n",
       "    </tr>\n",
       "    <tr>\n",
       "      <th>Ağstafa</th>\n",
       "      <td>9286.186047</td>\n",
       "      <td>NaN</td>\n",
       "      <td>50.000000</td>\n",
       "    </tr>\n",
       "    <tr>\n",
       "      <th>Tǝrtǝr</th>\n",
       "      <td>9147.988235</td>\n",
       "      <td>8.500000</td>\n",
       "      <td>52.529412</td>\n",
       "    </tr>\n",
       "    <tr>\n",
       "      <th>Masallı</th>\n",
       "      <td>9878.192982</td>\n",
       "      <td>8.686842</td>\n",
       "      <td>59.052632</td>\n",
       "    </tr>\n",
       "    <tr>\n",
       "      <th>İsmayıllı</th>\n",
       "      <td>8210.785047</td>\n",
       "      <td>7.800000</td>\n",
       "      <td>59.476636</td>\n",
       "    </tr>\n",
       "    <tr>\n",
       "      <th>Daşca</th>\n",
       "      <td>9335.000000</td>\n",
       "      <td>7.400000</td>\n",
       "      <td>63.750000</td>\n",
       "    </tr>\n",
       "    <tr>\n",
       "      <th>Sheki</th>\n",
       "      <td>9178.938076</td>\n",
       "      <td>8.566930</td>\n",
       "      <td>64.030303</td>\n",
       "    </tr>\n",
       "    <tr>\n",
       "      <th>Lerik</th>\n",
       "      <td>9642.474359</td>\n",
       "      <td>8.200000</td>\n",
       "      <td>64.589744</td>\n",
       "    </tr>\n",
       "    <tr>\n",
       "      <th>Lankaran</th>\n",
       "      <td>8893.233227</td>\n",
       "      <td>8.864815</td>\n",
       "      <td>68.060703</td>\n",
       "    </tr>\n",
       "    <tr>\n",
       "      <th>Qəbələ</th>\n",
       "      <td>9234.441860</td>\n",
       "      <td>7.000000</td>\n",
       "      <td>70.465116</td>\n",
       "    </tr>\n",
       "    <tr>\n",
       "      <th>Göyçay</th>\n",
       "      <td>9046.476190</td>\n",
       "      <td>NaN</td>\n",
       "      <td>70.952381</td>\n",
       "    </tr>\n",
       "    <tr>\n",
       "      <th>Şǝmkir</th>\n",
       "      <td>9197.110465</td>\n",
       "      <td>8.900000</td>\n",
       "      <td>72.500000</td>\n",
       "    </tr>\n",
       "    <tr>\n",
       "      <th>Shabran</th>\n",
       "      <td>9103.465116</td>\n",
       "      <td>NaN</td>\n",
       "      <td>75.000000</td>\n",
       "    </tr>\n",
       "    <tr>\n",
       "      <th>Qax</th>\n",
       "      <td>9201.207101</td>\n",
       "      <td>7.867568</td>\n",
       "      <td>76.408284</td>\n",
       "    </tr>\n",
       "    <tr>\n",
       "      <th>Sumqayıt</th>\n",
       "      <td>9064.224806</td>\n",
       "      <td>8.466667</td>\n",
       "      <td>77.000000</td>\n",
       "    </tr>\n",
       "    <tr>\n",
       "      <th>Mingachevir</th>\n",
       "      <td>9288.321637</td>\n",
       "      <td>8.366667</td>\n",
       "      <td>77.748538</td>\n",
       "    </tr>\n",
       "    <tr>\n",
       "      <th>Khacmaz</th>\n",
       "      <td>9204.069767</td>\n",
       "      <td>9.200000</td>\n",
       "      <td>80.000000</td>\n",
       "    </tr>\n",
       "    <tr>\n",
       "      <th>Baku</th>\n",
       "      <td>8989.431952</td>\n",
       "      <td>8.361981</td>\n",
       "      <td>82.427187</td>\n",
       "    </tr>\n",
       "    <tr>\n",
       "      <th>Absheron</th>\n",
       "      <td>9071.319249</td>\n",
       "      <td>6.928070</td>\n",
       "      <td>83.699531</td>\n",
       "    </tr>\n",
       "    <tr>\n",
       "      <th>İsmayilli</th>\n",
       "      <td>9311.164706</td>\n",
       "      <td>7.903529</td>\n",
       "      <td>85.294118</td>\n",
       "    </tr>\n",
       "    <tr>\n",
       "      <th>Quba</th>\n",
       "      <td>9155.844706</td>\n",
       "      <td>7.482215</td>\n",
       "      <td>86.729412</td>\n",
       "    </tr>\n",
       "    <tr>\n",
       "      <th>Salyan</th>\n",
       "      <td>9453.476190</td>\n",
       "      <td>NaN</td>\n",
       "      <td>89.000000</td>\n",
       "    </tr>\n",
       "    <tr>\n",
       "      <th>Kürdǝmir</th>\n",
       "      <td>9288.162791</td>\n",
       "      <td>9.200000</td>\n",
       "      <td>90.000000</td>\n",
       "    </tr>\n",
       "    <tr>\n",
       "      <th>Ganja</th>\n",
       "      <td>8913.339853</td>\n",
       "      <td>7.953825</td>\n",
       "      <td>99.220049</td>\n",
       "    </tr>\n",
       "    <tr>\n",
       "      <th>Ağcabǝdi</th>\n",
       "      <td>9197.651163</td>\n",
       "      <td>5.900000</td>\n",
       "      <td>100.000000</td>\n",
       "    </tr>\n",
       "    <tr>\n",
       "      <th>Naxçıvan</th>\n",
       "      <td>9206.953488</td>\n",
       "      <td>8.300000</td>\n",
       "      <td>100.333333</td>\n",
       "    </tr>\n",
       "    <tr>\n",
       "      <th>Qusar</th>\n",
       "      <td>9496.219917</td>\n",
       "      <td>8.214358</td>\n",
       "      <td>104.261411</td>\n",
       "    </tr>\n",
       "    <tr>\n",
       "      <th>Khizi</th>\n",
       "      <td>9186.418605</td>\n",
       "      <td>7.900000</td>\n",
       "      <td>117.000000</td>\n",
       "    </tr>\n",
       "    <tr>\n",
       "      <th>Şabran</th>\n",
       "      <td>9383.250000</td>\n",
       "      <td>8.500000</td>\n",
       "      <td>130.675000</td>\n",
       "    </tr>\n",
       "    <tr>\n",
       "      <th>Gabala</th>\n",
       "      <td>9112.945312</td>\n",
       "      <td>8.459064</td>\n",
       "      <td>135.127604</td>\n",
       "    </tr>\n",
       "    <tr>\n",
       "      <th>Şamaxı</th>\n",
       "      <td>9171.441860</td>\n",
       "      <td>8.600000</td>\n",
       "      <td>160.232558</td>\n",
       "    </tr>\n",
       "    <tr>\n",
       "      <th>Naftalan</th>\n",
       "      <td>9209.930233</td>\n",
       "      <td>8.802326</td>\n",
       "      <td>232.534884</td>\n",
       "    </tr>\n",
       "  </tbody>\n",
       "</table>\n",
       "</div>"
      ],
      "text/plain": [
       "                            No  customer_rating       price\n",
       "property_location                                          \n",
       "Zaqatala           9204.836257         8.521053   35.409357\n",
       "Qazax              9247.744186         7.100000   40.000000\n",
       "Beylǝqan           9329.769231         7.300000   40.512821\n",
       "Balakǝn            9021.083333         7.900000   49.000000\n",
       "Oğuz               9249.748031         8.007692   49.314961\n",
       "Ağstafa            9286.186047              NaN   50.000000\n",
       "Tǝrtǝr             9147.988235         8.500000   52.529412\n",
       "Masallı            9878.192982         8.686842   59.052632\n",
       "İsmayıllı          8210.785047         7.800000   59.476636\n",
       "Daşca              9335.000000         7.400000   63.750000\n",
       "Sheki              9178.938076         8.566930   64.030303\n",
       "Lerik              9642.474359         8.200000   64.589744\n",
       "Lankaran           8893.233227         8.864815   68.060703\n",
       "Qəbələ             9234.441860         7.000000   70.465116\n",
       "Göyçay             9046.476190              NaN   70.952381\n",
       "Şǝmkir             9197.110465         8.900000   72.500000\n",
       "Shabran            9103.465116              NaN   75.000000\n",
       "Qax                9201.207101         7.867568   76.408284\n",
       "Sumqayıt           9064.224806         8.466667   77.000000\n",
       "Mingachevir        9288.321637         8.366667   77.748538\n",
       "Khacmaz            9204.069767         9.200000   80.000000\n",
       "Baku               8989.431952         8.361981   82.427187\n",
       "Absheron           9071.319249         6.928070   83.699531\n",
       "İsmayilli          9311.164706         7.903529   85.294118\n",
       "Quba               9155.844706         7.482215   86.729412\n",
       "Salyan             9453.476190              NaN   89.000000\n",
       "Kürdǝmir           9288.162791         9.200000   90.000000\n",
       "Ganja              8913.339853         7.953825   99.220049\n",
       "Ağcabǝdi           9197.651163         5.900000  100.000000\n",
       "Naxçıvan           9206.953488         8.300000  100.333333\n",
       "Qusar              9496.219917         8.214358  104.261411\n",
       "Khizi              9186.418605         7.900000  117.000000\n",
       "Şabran             9383.250000         8.500000  130.675000\n",
       "Gabala             9112.945312         8.459064  135.127604\n",
       "Şamaxı             9171.441860         8.600000  160.232558\n",
       "Naftalan           9209.930233         8.802326  232.534884"
      ]
     },
     "execution_count": 797,
     "metadata": {},
     "output_type": "execute_result"
    }
   ],
   "source": [
    "df.groupby(['property_location']).mean().sort_values(by=['price'])"
   ]
  },
  {
   "cell_type": "code",
   "execution_count": 798,
   "metadata": {
    "collapsed": true,
    "jupyter": {
     "outputs_hidden": true
    }
   },
   "outputs": [
    {
     "data": {
      "text/plain": [
       "property_location\n",
       "Baku             5.0\n",
       "Sheki           17.0\n",
       "Quba            18.0\n",
       "Zaqatala        20.0\n",
       "Oğuz            27.0\n",
       "İsmayilli       30.0\n",
       "Qazax           30.0\n",
       "Lerik           32.0\n",
       "Qax             35.0\n",
       "Balakǝn         35.0\n",
       "Lankaran        39.0\n",
       "Qusar           40.0\n",
       "Mingachevir     40.0\n",
       "Şǝmkir          40.0\n",
       "Ganja           40.0\n",
       "Beylǝqan        40.0\n",
       "İsmayıllı       45.0\n",
       "Masallı         50.0\n",
       "Gabala          50.0\n",
       "Daşca           50.0\n",
       "Ağstafa         50.0\n",
       "Tǝrtǝr          50.0\n",
       "Sumqayıt        60.0\n",
       "Absheron        60.0\n",
       "Göyçay          60.0\n",
       "Qəbələ          70.0\n",
       "Shabran         75.0\n",
       "Khacmaz         80.0\n",
       "Naxçıvan        81.0\n",
       "Salyan          89.0\n",
       "Kürdǝmir        90.0\n",
       "Ağcabǝdi       100.0\n",
       "Khizi          117.0\n",
       "Şabran         126.0\n",
       "Şamaxı         138.0\n",
       "Naftalan       213.0\n",
       "Name: price, dtype: float64"
      ]
     },
     "execution_count": 798,
     "metadata": {},
     "output_type": "execute_result"
    }
   ],
   "source": [
    "df.groupby('property_location')['price'].min().sort_values()"
   ]
  },
  {
   "cell_type": "code",
   "execution_count": 799,
   "metadata": {
    "collapsed": true,
    "jupyter": {
     "outputs_hidden": true
    }
   },
   "outputs": [
    {
     "data": {
      "text/html": [
       "<div>\n",
       "<style scoped>\n",
       "    .dataframe tbody tr th:only-of-type {\n",
       "        vertical-align: middle;\n",
       "    }\n",
       "\n",
       "    .dataframe tbody tr th {\n",
       "        vertical-align: top;\n",
       "    }\n",
       "\n",
       "    .dataframe thead th {\n",
       "        text-align: right;\n",
       "    }\n",
       "</style>\n",
       "<table border=\"1\" class=\"dataframe\">\n",
       "  <thead>\n",
       "    <tr style=\"text-align: right;\">\n",
       "      <th></th>\n",
       "      <th>No</th>\n",
       "      <th>property_location</th>\n",
       "      <th>property_star_rating</th>\n",
       "      <th>top_review</th>\n",
       "      <th>customer_rating</th>\n",
       "      <th>type_of_room</th>\n",
       "      <th>price</th>\n",
       "      <th>today</th>\n",
       "    </tr>\n",
       "    <tr>\n",
       "      <th>property_name</th>\n",
       "      <th></th>\n",
       "      <th></th>\n",
       "      <th></th>\n",
       "      <th></th>\n",
       "      <th></th>\n",
       "      <th></th>\n",
       "      <th></th>\n",
       "      <th></th>\n",
       "    </tr>\n",
       "  </thead>\n",
       "  <tbody>\n",
       "    <tr>\n",
       "      <th>Shahdag 444 HOTEL</th>\n",
       "      <td>269</td>\n",
       "      <td>Qusar</td>\n",
       "      <td>4-star hotel</td>\n",
       "      <td>NaN</td>\n",
       "      <td>NaN</td>\n",
       "      <td>2 twin beds</td>\n",
       "      <td>150.0</td>\n",
       "      <td>Saturday, January 18, 2020</td>\n",
       "    </tr>\n",
       "    <tr>\n",
       "      <th>Ladera Resort Qusar</th>\n",
       "      <td>336</td>\n",
       "      <td>Qusar</td>\n",
       "      <td>NaN</td>\n",
       "      <td>Good</td>\n",
       "      <td>7.2</td>\n",
       "      <td>4 twin beds</td>\n",
       "      <td>300.0</td>\n",
       "      <td>Saturday, January 18, 2020</td>\n",
       "    </tr>\n",
       "    <tr>\n",
       "      <th>AZPETROL HOTEL QUSAR</th>\n",
       "      <td>342</td>\n",
       "      <td>Qusar</td>\n",
       "      <td>NaN</td>\n",
       "      <td>Very Good</td>\n",
       "      <td>8.0</td>\n",
       "      <td>2 twin beds</td>\n",
       "      <td>40.0</td>\n",
       "      <td>Saturday, January 18, 2020</td>\n",
       "    </tr>\n",
       "    <tr>\n",
       "      <th>Hello Qusar Hotel</th>\n",
       "      <td>369</td>\n",
       "      <td>Qusar</td>\n",
       "      <td>NaN</td>\n",
       "      <td>Good</td>\n",
       "      <td>7.0</td>\n",
       "      <td>2 queen beds</td>\n",
       "      <td>80.0</td>\n",
       "      <td>Saturday, January 18, 2020</td>\n",
       "    </tr>\n",
       "    <tr>\n",
       "      <th>Selena</th>\n",
       "      <td>374</td>\n",
       "      <td>Qusar</td>\n",
       "      <td>NaN</td>\n",
       "      <td>Exceptional</td>\n",
       "      <td>9.7</td>\n",
       "      <td>2 twin beds</td>\n",
       "      <td>100.0</td>\n",
       "      <td>Saturday, January 18, 2020</td>\n",
       "    </tr>\n",
       "    <tr>\n",
       "      <th>...</th>\n",
       "      <td>...</td>\n",
       "      <td>...</td>\n",
       "      <td>...</td>\n",
       "      <td>...</td>\n",
       "      <td>...</td>\n",
       "      <td>...</td>\n",
       "      <td>...</td>\n",
       "      <td>...</td>\n",
       "    </tr>\n",
       "    <tr>\n",
       "      <th>Pik Palace, Shahdag, Autograph Collection</th>\n",
       "      <td>17980</td>\n",
       "      <td>Qusar</td>\n",
       "      <td>5-star hotel</td>\n",
       "      <td>Excellent</td>\n",
       "      <td>8.9</td>\n",
       "      <td>1 king bed</td>\n",
       "      <td>275.0</td>\n",
       "      <td>Saturday, February 29, 2020</td>\n",
       "    </tr>\n",
       "    <tr>\n",
       "      <th>Zirve Hotel</th>\n",
       "      <td>18038</td>\n",
       "      <td>Qusar</td>\n",
       "      <td>4-star hotel</td>\n",
       "      <td>Very Good</td>\n",
       "      <td>8.4</td>\n",
       "      <td>2 twin beds</td>\n",
       "      <td>200.0</td>\n",
       "      <td>Saturday, February 29, 2020</td>\n",
       "    </tr>\n",
       "    <tr>\n",
       "      <th>Hello Qusar Hotel</th>\n",
       "      <td>18087</td>\n",
       "      <td>Qusar</td>\n",
       "      <td>NaN</td>\n",
       "      <td>Review score</td>\n",
       "      <td>6.9</td>\n",
       "      <td>2 queen beds</td>\n",
       "      <td>80.0</td>\n",
       "      <td>Saturday, February 29, 2020</td>\n",
       "    </tr>\n",
       "    <tr>\n",
       "      <th>Hotel Umud</th>\n",
       "      <td>18098</td>\n",
       "      <td>Qusar</td>\n",
       "      <td>NaN</td>\n",
       "      <td>Good</td>\n",
       "      <td>7.1</td>\n",
       "      <td>2 twin beds</td>\n",
       "      <td>55.0</td>\n",
       "      <td>Saturday, February 29, 2020</td>\n",
       "    </tr>\n",
       "    <tr>\n",
       "      <th>RA Guest House</th>\n",
       "      <td>18099</td>\n",
       "      <td>Qusar</td>\n",
       "      <td>NaN</td>\n",
       "      <td>Wonderful</td>\n",
       "      <td>9.4</td>\n",
       "      <td>2 twin beds</td>\n",
       "      <td>60.0</td>\n",
       "      <td>Saturday, February 29, 2020</td>\n",
       "    </tr>\n",
       "  </tbody>\n",
       "</table>\n",
       "<p>482 rows × 8 columns</p>\n",
       "</div>"
      ],
      "text/plain": [
       "                                              No property_location  \\\n",
       "property_name                                                        \n",
       "Shahdag 444 HOTEL                            269             Qusar   \n",
       "Ladera Resort Qusar                          336             Qusar   \n",
       "AZPETROL HOTEL QUSAR                         342             Qusar   \n",
       "Hello Qusar Hotel                            369             Qusar   \n",
       "Selena                                       374             Qusar   \n",
       "...                                          ...               ...   \n",
       "Pik Palace, Shahdag, Autograph Collection  17980             Qusar   \n",
       "Zirve Hotel                                18038             Qusar   \n",
       "Hello Qusar Hotel                          18087             Qusar   \n",
       "Hotel Umud                                 18098             Qusar   \n",
       "RA Guest House                             18099             Qusar   \n",
       "\n",
       "                                          property_star_rating    top_review  \\\n",
       "property_name                                                                  \n",
       "Shahdag 444 HOTEL                                 4-star hotel           NaN   \n",
       "Ladera Resort Qusar                                        NaN          Good   \n",
       "AZPETROL HOTEL QUSAR                                       NaN     Very Good   \n",
       "Hello Qusar Hotel                                          NaN          Good   \n",
       "Selena                                                     NaN   Exceptional   \n",
       "...                                                        ...           ...   \n",
       "Pik Palace, Shahdag, Autograph Collection         5-star hotel     Excellent   \n",
       "Zirve Hotel                                       4-star hotel     Very Good   \n",
       "Hello Qusar Hotel                                          NaN  Review score   \n",
       "Hotel Umud                                                 NaN          Good   \n",
       "RA Guest House                                             NaN     Wonderful   \n",
       "\n",
       "                                           customer_rating  type_of_room  \\\n",
       "property_name                                                              \n",
       "Shahdag 444 HOTEL                                      NaN   2 twin beds   \n",
       "Ladera Resort Qusar                                    7.2   4 twin beds   \n",
       "AZPETROL HOTEL QUSAR                                   8.0   2 twin beds   \n",
       "Hello Qusar Hotel                                      7.0  2 queen beds   \n",
       "Selena                                                 9.7   2 twin beds   \n",
       "...                                                    ...           ...   \n",
       "Pik Palace, Shahdag, Autograph Collection              8.9    1 king bed   \n",
       "Zirve Hotel                                            8.4   2 twin beds   \n",
       "Hello Qusar Hotel                                      6.9  2 queen beds   \n",
       "Hotel Umud                                             7.1   2 twin beds   \n",
       "RA Guest House                                         9.4   2 twin beds   \n",
       "\n",
       "                                           price                        today  \n",
       "property_name                                                                  \n",
       "Shahdag 444 HOTEL                          150.0   Saturday, January 18, 2020  \n",
       "Ladera Resort Qusar                        300.0   Saturday, January 18, 2020  \n",
       "AZPETROL HOTEL QUSAR                        40.0   Saturday, January 18, 2020  \n",
       "Hello Qusar Hotel                           80.0   Saturday, January 18, 2020  \n",
       "Selena                                     100.0   Saturday, January 18, 2020  \n",
       "...                                          ...                          ...  \n",
       "Pik Palace, Shahdag, Autograph Collection  275.0  Saturday, February 29, 2020  \n",
       "Zirve Hotel                                200.0  Saturday, February 29, 2020  \n",
       "Hello Qusar Hotel                           80.0  Saturday, February 29, 2020  \n",
       "Hotel Umud                                  55.0  Saturday, February 29, 2020  \n",
       "RA Guest House                              60.0  Saturday, February 29, 2020  \n",
       "\n",
       "[482 rows x 8 columns]"
      ]
     },
     "execution_count": 799,
     "metadata": {},
     "output_type": "execute_result"
    }
   ],
   "source": [
    "df.groupby('property_location').get_group('Qusar')"
   ]
  },
  {
   "cell_type": "code",
   "execution_count": 800,
   "metadata": {
    "collapsed": true,
    "jupyter": {
     "outputs_hidden": true
    }
   },
   "outputs": [
    {
     "data": {
      "text/plain": [
       "property_location\n",
       "Beylǝqan          39\n",
       "Şabran            40\n",
       "Daşca             40\n",
       "Salyan            42\n",
       "Göyçay            42\n",
       "Naftalan          43\n",
       "Shabran           43\n",
       "Şamaxı            43\n",
       "Khizi             43\n",
       "Khacmaz           43\n",
       "Kürdǝmir          43\n",
       "Ağstafa           43\n",
       "Ağcabǝdi          43\n",
       "Qəbələ            43\n",
       "Lerik             78\n",
       "Balakǝn           84\n",
       "Tǝrtǝr            85\n",
       "İsmayilli         85\n",
       "Qazax             86\n",
       "İsmayıllı        107\n",
       "Masallı          114\n",
       "Naxçıvan         129\n",
       "Sumqayıt         129\n",
       "Zaqatala         171\n",
       "Mingachevir      171\n",
       "Şǝmkir           172\n",
       "Absheron         213\n",
       "Oğuz             254\n",
       "Lankaran         313\n",
       "Qax              338\n",
       "Gabala           384\n",
       "Ganja            409\n",
       "Quba             425\n",
       "Qusar            482\n",
       "Sheki            759\n",
       "Baku           12381\n",
       "dtype: int64"
      ]
     },
     "execution_count": 800,
     "metadata": {},
     "output_type": "execute_result"
    }
   ],
   "source": [
    "df.groupby('property_location').size().sort_values()"
   ]
  },
  {
   "cell_type": "code",
   "execution_count": 801,
   "metadata": {
    "collapsed": true,
    "jupyter": {
     "outputs_hidden": true
    }
   },
   "outputs": [
    {
     "data": {
      "text/html": [
       "<div>\n",
       "<style scoped>\n",
       "    .dataframe tbody tr th:only-of-type {\n",
       "        vertical-align: middle;\n",
       "    }\n",
       "\n",
       "    .dataframe tbody tr th {\n",
       "        vertical-align: top;\n",
       "    }\n",
       "\n",
       "    .dataframe thead th {\n",
       "        text-align: right;\n",
       "    }\n",
       "</style>\n",
       "<table border=\"1\" class=\"dataframe\">\n",
       "  <thead>\n",
       "    <tr style=\"text-align: right;\">\n",
       "      <th></th>\n",
       "      <th>amin</th>\n",
       "      <th>mean</th>\n",
       "      <th>amax</th>\n",
       "    </tr>\n",
       "    <tr>\n",
       "      <th>property_location</th>\n",
       "      <th></th>\n",
       "      <th></th>\n",
       "      <th></th>\n",
       "    </tr>\n",
       "  </thead>\n",
       "  <tbody>\n",
       "    <tr>\n",
       "      <th>Absheron</th>\n",
       "      <td>60.0</td>\n",
       "      <td>83.699531</td>\n",
       "      <td>100.0</td>\n",
       "    </tr>\n",
       "    <tr>\n",
       "      <th>Ağcabǝdi</th>\n",
       "      <td>100.0</td>\n",
       "      <td>100.000000</td>\n",
       "      <td>100.0</td>\n",
       "    </tr>\n",
       "    <tr>\n",
       "      <th>Ağstafa</th>\n",
       "      <td>50.0</td>\n",
       "      <td>50.000000</td>\n",
       "      <td>50.0</td>\n",
       "    </tr>\n",
       "    <tr>\n",
       "      <th>Baku</th>\n",
       "      <td>5.0</td>\n",
       "      <td>82.427187</td>\n",
       "      <td>1138.0</td>\n",
       "    </tr>\n",
       "    <tr>\n",
       "      <th>Balakǝn</th>\n",
       "      <td>35.0</td>\n",
       "      <td>49.000000</td>\n",
       "      <td>63.0</td>\n",
       "    </tr>\n",
       "    <tr>\n",
       "      <th>Beylǝqan</th>\n",
       "      <td>40.0</td>\n",
       "      <td>40.512821</td>\n",
       "      <td>60.0</td>\n",
       "    </tr>\n",
       "    <tr>\n",
       "      <th>Daşca</th>\n",
       "      <td>50.0</td>\n",
       "      <td>63.750000</td>\n",
       "      <td>70.0</td>\n",
       "    </tr>\n",
       "    <tr>\n",
       "      <th>Gabala</th>\n",
       "      <td>50.0</td>\n",
       "      <td>135.127604</td>\n",
       "      <td>2251.0</td>\n",
       "    </tr>\n",
       "    <tr>\n",
       "      <th>Ganja</th>\n",
       "      <td>40.0</td>\n",
       "      <td>99.220049</td>\n",
       "      <td>200.0</td>\n",
       "    </tr>\n",
       "    <tr>\n",
       "      <th>Göyçay</th>\n",
       "      <td>60.0</td>\n",
       "      <td>70.952381</td>\n",
       "      <td>90.0</td>\n",
       "    </tr>\n",
       "    <tr>\n",
       "      <th>Khacmaz</th>\n",
       "      <td>80.0</td>\n",
       "      <td>80.000000</td>\n",
       "      <td>80.0</td>\n",
       "    </tr>\n",
       "    <tr>\n",
       "      <th>Khizi</th>\n",
       "      <td>117.0</td>\n",
       "      <td>117.000000</td>\n",
       "      <td>117.0</td>\n",
       "    </tr>\n",
       "    <tr>\n",
       "      <th>Kürdǝmir</th>\n",
       "      <td>90.0</td>\n",
       "      <td>90.000000</td>\n",
       "      <td>90.0</td>\n",
       "    </tr>\n",
       "    <tr>\n",
       "      <th>Lankaran</th>\n",
       "      <td>39.0</td>\n",
       "      <td>68.060703</td>\n",
       "      <td>145.0</td>\n",
       "    </tr>\n",
       "    <tr>\n",
       "      <th>Lerik</th>\n",
       "      <td>32.0</td>\n",
       "      <td>64.589744</td>\n",
       "      <td>120.0</td>\n",
       "    </tr>\n",
       "    <tr>\n",
       "      <th>Masallı</th>\n",
       "      <td>50.0</td>\n",
       "      <td>59.052632</td>\n",
       "      <td>74.0</td>\n",
       "    </tr>\n",
       "    <tr>\n",
       "      <th>Mingachevir</th>\n",
       "      <td>40.0</td>\n",
       "      <td>77.748538</td>\n",
       "      <td>162.0</td>\n",
       "    </tr>\n",
       "    <tr>\n",
       "      <th>Naftalan</th>\n",
       "      <td>213.0</td>\n",
       "      <td>232.534884</td>\n",
       "      <td>253.0</td>\n",
       "    </tr>\n",
       "    <tr>\n",
       "      <th>Naxçıvan</th>\n",
       "      <td>81.0</td>\n",
       "      <td>100.333333</td>\n",
       "      <td>130.0</td>\n",
       "    </tr>\n",
       "    <tr>\n",
       "      <th>Oğuz</th>\n",
       "      <td>27.0</td>\n",
       "      <td>49.314961</td>\n",
       "      <td>80.0</td>\n",
       "    </tr>\n",
       "    <tr>\n",
       "      <th>Qax</th>\n",
       "      <td>35.0</td>\n",
       "      <td>76.408284</td>\n",
       "      <td>121.0</td>\n",
       "    </tr>\n",
       "    <tr>\n",
       "      <th>Qazax</th>\n",
       "      <td>30.0</td>\n",
       "      <td>40.000000</td>\n",
       "      <td>50.0</td>\n",
       "    </tr>\n",
       "    <tr>\n",
       "      <th>Quba</th>\n",
       "      <td>18.0</td>\n",
       "      <td>86.729412</td>\n",
       "      <td>900.0</td>\n",
       "    </tr>\n",
       "    <tr>\n",
       "      <th>Qusar</th>\n",
       "      <td>40.0</td>\n",
       "      <td>104.261411</td>\n",
       "      <td>310.0</td>\n",
       "    </tr>\n",
       "    <tr>\n",
       "      <th>Qəbələ</th>\n",
       "      <td>70.0</td>\n",
       "      <td>70.465116</td>\n",
       "      <td>90.0</td>\n",
       "    </tr>\n",
       "    <tr>\n",
       "      <th>Salyan</th>\n",
       "      <td>89.0</td>\n",
       "      <td>89.000000</td>\n",
       "      <td>89.0</td>\n",
       "    </tr>\n",
       "    <tr>\n",
       "      <th>Shabran</th>\n",
       "      <td>75.0</td>\n",
       "      <td>75.000000</td>\n",
       "      <td>75.0</td>\n",
       "    </tr>\n",
       "    <tr>\n",
       "      <th>Sheki</th>\n",
       "      <td>17.0</td>\n",
       "      <td>64.030303</td>\n",
       "      <td>105.0</td>\n",
       "    </tr>\n",
       "    <tr>\n",
       "      <th>Sumqayıt</th>\n",
       "      <td>60.0</td>\n",
       "      <td>77.000000</td>\n",
       "      <td>101.0</td>\n",
       "    </tr>\n",
       "    <tr>\n",
       "      <th>Tǝrtǝr</th>\n",
       "      <td>50.0</td>\n",
       "      <td>52.529412</td>\n",
       "      <td>55.0</td>\n",
       "    </tr>\n",
       "    <tr>\n",
       "      <th>Zaqatala</th>\n",
       "      <td>20.0</td>\n",
       "      <td>35.409357</td>\n",
       "      <td>50.0</td>\n",
       "    </tr>\n",
       "    <tr>\n",
       "      <th>İsmayilli</th>\n",
       "      <td>30.0</td>\n",
       "      <td>85.294118</td>\n",
       "      <td>140.0</td>\n",
       "    </tr>\n",
       "    <tr>\n",
       "      <th>İsmayıllı</th>\n",
       "      <td>45.0</td>\n",
       "      <td>59.476636</td>\n",
       "      <td>113.0</td>\n",
       "    </tr>\n",
       "    <tr>\n",
       "      <th>Şabran</th>\n",
       "      <td>126.0</td>\n",
       "      <td>130.675000</td>\n",
       "      <td>143.0</td>\n",
       "    </tr>\n",
       "    <tr>\n",
       "      <th>Şamaxı</th>\n",
       "      <td>138.0</td>\n",
       "      <td>160.232558</td>\n",
       "      <td>818.0</td>\n",
       "    </tr>\n",
       "    <tr>\n",
       "      <th>Şǝmkir</th>\n",
       "      <td>40.0</td>\n",
       "      <td>72.500000</td>\n",
       "      <td>120.0</td>\n",
       "    </tr>\n",
       "  </tbody>\n",
       "</table>\n",
       "</div>"
      ],
      "text/plain": [
       "                    amin        mean    amax\n",
       "property_location                           \n",
       "Absheron            60.0   83.699531   100.0\n",
       "Ağcabǝdi           100.0  100.000000   100.0\n",
       "Ağstafa             50.0   50.000000    50.0\n",
       "Baku                 5.0   82.427187  1138.0\n",
       "Balakǝn             35.0   49.000000    63.0\n",
       "Beylǝqan            40.0   40.512821    60.0\n",
       "Daşca               50.0   63.750000    70.0\n",
       "Gabala              50.0  135.127604  2251.0\n",
       "Ganja               40.0   99.220049   200.0\n",
       "Göyçay              60.0   70.952381    90.0\n",
       "Khacmaz             80.0   80.000000    80.0\n",
       "Khizi              117.0  117.000000   117.0\n",
       "Kürdǝmir            90.0   90.000000    90.0\n",
       "Lankaran            39.0   68.060703   145.0\n",
       "Lerik               32.0   64.589744   120.0\n",
       "Masallı             50.0   59.052632    74.0\n",
       "Mingachevir         40.0   77.748538   162.0\n",
       "Naftalan           213.0  232.534884   253.0\n",
       "Naxçıvan            81.0  100.333333   130.0\n",
       "Oğuz                27.0   49.314961    80.0\n",
       "Qax                 35.0   76.408284   121.0\n",
       "Qazax               30.0   40.000000    50.0\n",
       "Quba                18.0   86.729412   900.0\n",
       "Qusar               40.0  104.261411   310.0\n",
       "Qəbələ              70.0   70.465116    90.0\n",
       "Salyan              89.0   89.000000    89.0\n",
       "Shabran             75.0   75.000000    75.0\n",
       "Sheki               17.0   64.030303   105.0\n",
       "Sumqayıt            60.0   77.000000   101.0\n",
       "Tǝrtǝr              50.0   52.529412    55.0\n",
       "Zaqatala            20.0   35.409357    50.0\n",
       "İsmayilli           30.0   85.294118   140.0\n",
       "İsmayıllı           45.0   59.476636   113.0\n",
       "Şabran             126.0  130.675000   143.0\n",
       "Şamaxı             138.0  160.232558   818.0\n",
       "Şǝmkir              40.0   72.500000   120.0"
      ]
     },
     "execution_count": 801,
     "metadata": {},
     "output_type": "execute_result"
    }
   ],
   "source": [
    "df.groupby('property_location')['price'].agg([np.min,np.mean,np.max])"
   ]
  },
  {
   "cell_type": "code",
   "execution_count": 802,
   "metadata": {
    "collapsed": true,
    "jupyter": {
     "outputs_hidden": true
    }
   },
   "outputs": [],
   "source": [
    "df['property_star_rating']=df['property_star_rating'].str.replace('-star hotel',' stars')"
   ]
  },
  {
   "cell_type": "code",
   "execution_count": 803,
   "metadata": {
    "collapsed": true,
    "jupyter": {
     "outputs_hidden": true
    }
   },
   "outputs": [
    {
     "data": {
      "text/plain": [
       "array(['4 stars', '5 stars', nan, '3 stars', '2 stars'], dtype=object)"
      ]
     },
     "execution_count": 803,
     "metadata": {},
     "output_type": "execute_result"
    }
   ],
   "source": [
    "df['property_star_rating'].unique()"
   ]
  },
  {
   "cell_type": "code",
   "execution_count": 804,
   "metadata": {
    "collapsed": true,
    "jupyter": {
     "outputs_hidden": true
    }
   },
   "outputs": [
    {
     "data": {
      "text/html": [
       "<div>\n",
       "<style scoped>\n",
       "    .dataframe tbody tr th:only-of-type {\n",
       "        vertical-align: middle;\n",
       "    }\n",
       "\n",
       "    .dataframe tbody tr th {\n",
       "        vertical-align: top;\n",
       "    }\n",
       "\n",
       "    .dataframe thead th {\n",
       "        text-align: right;\n",
       "    }\n",
       "</style>\n",
       "<table border=\"1\" class=\"dataframe\">\n",
       "  <thead>\n",
       "    <tr style=\"text-align: right;\">\n",
       "      <th></th>\n",
       "      <th>amin</th>\n",
       "      <th>mean</th>\n",
       "      <th>amax</th>\n",
       "    </tr>\n",
       "    <tr>\n",
       "      <th>property_star_rating</th>\n",
       "      <th></th>\n",
       "      <th></th>\n",
       "      <th></th>\n",
       "    </tr>\n",
       "  </thead>\n",
       "  <tbody>\n",
       "    <tr>\n",
       "      <th>2 stars</th>\n",
       "      <td>17.0</td>\n",
       "      <td>38.008547</td>\n",
       "      <td>60.0</td>\n",
       "    </tr>\n",
       "    <tr>\n",
       "      <th>3 stars</th>\n",
       "      <td>18.0</td>\n",
       "      <td>55.103774</td>\n",
       "      <td>400.0</td>\n",
       "    </tr>\n",
       "    <tr>\n",
       "      <th>4 stars</th>\n",
       "      <td>5.0</td>\n",
       "      <td>75.580686</td>\n",
       "      <td>475.0</td>\n",
       "    </tr>\n",
       "    <tr>\n",
       "      <th>5 stars</th>\n",
       "      <td>50.0</td>\n",
       "      <td>156.129068</td>\n",
       "      <td>2251.0</td>\n",
       "    </tr>\n",
       "  </tbody>\n",
       "</table>\n",
       "</div>"
      ],
      "text/plain": [
       "                      amin        mean    amax\n",
       "property_star_rating                          \n",
       "2 stars               17.0   38.008547    60.0\n",
       "3 stars               18.0   55.103774   400.0\n",
       "4 stars                5.0   75.580686   475.0\n",
       "5 stars               50.0  156.129068  2251.0"
      ]
     },
     "execution_count": 804,
     "metadata": {},
     "output_type": "execute_result"
    }
   ],
   "source": [
    "df.groupby('property_star_rating')['price'].agg([np.min,np.mean,np.max])"
   ]
  },
  {
   "cell_type": "code",
   "execution_count": 805,
   "metadata": {
    "collapsed": true,
    "jupyter": {
     "outputs_hidden": true
    }
   },
   "outputs": [
    {
     "data": {
      "text/html": [
       "<div>\n",
       "<style scoped>\n",
       "    .dataframe tbody tr th:only-of-type {\n",
       "        vertical-align: middle;\n",
       "    }\n",
       "\n",
       "    .dataframe tbody tr th {\n",
       "        vertical-align: top;\n",
       "    }\n",
       "\n",
       "    .dataframe thead th {\n",
       "        text-align: right;\n",
       "    }\n",
       "</style>\n",
       "<table border=\"1\" class=\"dataframe\">\n",
       "  <thead>\n",
       "    <tr style=\"text-align: right;\">\n",
       "      <th></th>\n",
       "      <th>No</th>\n",
       "      <th>property_location</th>\n",
       "      <th>top_review</th>\n",
       "      <th>customer_rating</th>\n",
       "      <th>type_of_room</th>\n",
       "      <th>price</th>\n",
       "      <th>today</th>\n",
       "    </tr>\n",
       "    <tr>\n",
       "      <th>property_star_rating</th>\n",
       "      <th></th>\n",
       "      <th></th>\n",
       "      <th></th>\n",
       "      <th></th>\n",
       "      <th></th>\n",
       "      <th></th>\n",
       "      <th></th>\n",
       "    </tr>\n",
       "  </thead>\n",
       "  <tbody>\n",
       "    <tr>\n",
       "      <th>2 stars</th>\n",
       "      <td>234</td>\n",
       "      <td>234</td>\n",
       "      <td>148</td>\n",
       "      <td>148</td>\n",
       "      <td>234</td>\n",
       "      <td>234</td>\n",
       "      <td>234</td>\n",
       "    </tr>\n",
       "    <tr>\n",
       "      <th>3 stars</th>\n",
       "      <td>2544</td>\n",
       "      <td>2544</td>\n",
       "      <td>2117</td>\n",
       "      <td>2117</td>\n",
       "      <td>2475</td>\n",
       "      <td>2544</td>\n",
       "      <td>2544</td>\n",
       "    </tr>\n",
       "    <tr>\n",
       "      <th>4 stars</th>\n",
       "      <td>7901</td>\n",
       "      <td>7901</td>\n",
       "      <td>7459</td>\n",
       "      <td>7458</td>\n",
       "      <td>7382</td>\n",
       "      <td>7901</td>\n",
       "      <td>7901</td>\n",
       "    </tr>\n",
       "    <tr>\n",
       "      <th>5 stars</th>\n",
       "      <td>2673</td>\n",
       "      <td>2673</td>\n",
       "      <td>2419</td>\n",
       "      <td>2419</td>\n",
       "      <td>2614</td>\n",
       "      <td>2673</td>\n",
       "      <td>2673</td>\n",
       "    </tr>\n",
       "  </tbody>\n",
       "</table>\n",
       "</div>"
      ],
      "text/plain": [
       "                        No  property_location  top_review  customer_rating  \\\n",
       "property_star_rating                                                         \n",
       "2 stars                234                234         148              148   \n",
       "3 stars               2544               2544        2117             2117   \n",
       "4 stars               7901               7901        7459             7458   \n",
       "5 stars               2673               2673        2419             2419   \n",
       "\n",
       "                      type_of_room  price  today  \n",
       "property_star_rating                              \n",
       "2 stars                        234    234    234  \n",
       "3 stars                       2475   2544   2544  \n",
       "4 stars                       7382   7901   7901  \n",
       "5 stars                       2614   2673   2673  "
      ]
     },
     "execution_count": 805,
     "metadata": {},
     "output_type": "execute_result"
    }
   ],
   "source": [
    "df.groupby('property_star_rating').count()"
   ]
  },
  {
   "cell_type": "code",
   "execution_count": 806,
   "metadata": {
    "collapsed": true,
    "jupyter": {
     "outputs_hidden": true
    }
   },
   "outputs": [
    {
     "data": {
      "text/plain": [
       "property_star_rating\n",
       "2 stars     234\n",
       "3 stars    2544\n",
       "4 stars    7901\n",
       "5 stars    2673\n",
       "dtype: int64"
      ]
     },
     "execution_count": 806,
     "metadata": {},
     "output_type": "execute_result"
    }
   ],
   "source": [
    "df.groupby('property_star_rating').size()"
   ]
  },
  {
   "cell_type": "code",
   "execution_count": 807,
   "metadata": {
    "collapsed": true,
    "jupyter": {
     "outputs_hidden": true
    }
   },
   "outputs": [
    {
     "data": {
      "text/plain": [
       "143672"
      ]
     },
     "execution_count": 807,
     "metadata": {},
     "output_type": "execute_result"
    }
   ],
   "source": [
    "df.size"
   ]
  },
  {
   "cell_type": "code",
   "execution_count": 808,
   "metadata": {
    "collapsed": true,
    "jupyter": {
     "outputs_hidden": true
    }
   },
   "outputs": [
    {
     "data": {
      "text/plain": [
       "(17959, 8)"
      ]
     },
     "execution_count": 808,
     "metadata": {},
     "output_type": "execute_result"
    }
   ],
   "source": [
    "df.shape"
   ]
  },
  {
   "cell_type": "code",
   "execution_count": 809,
   "metadata": {
    "collapsed": true,
    "jupyter": {
     "outputs_hidden": true
    }
   },
   "outputs": [
    {
     "ename": "PermissionError",
     "evalue": "[Errno 13] Permission denied: 'booking fevral pandas edited.csv'",
     "output_type": "error",
     "traceback": [
      "\u001b[1;31m---------------------------------------------------------------------------\u001b[0m",
      "\u001b[1;31mPermissionError\u001b[0m                           Traceback (most recent call last)",
      "\u001b[1;32m<ipython-input-809-abf8ab0cb9f6>\u001b[0m in \u001b[0;36m<module>\u001b[1;34m\u001b[0m\n\u001b[1;32m----> 1\u001b[1;33m \u001b[0mdf\u001b[0m\u001b[1;33m.\u001b[0m\u001b[0mto_csv\u001b[0m\u001b[1;33m(\u001b[0m\u001b[1;34m'booking fevral pandas edited.csv'\u001b[0m\u001b[1;33m)\u001b[0m\u001b[1;33m\u001b[0m\u001b[1;33m\u001b[0m\u001b[0m\n\u001b[0m",
      "\u001b[1;32mc:\\users\\fuad.ak\\appdata\\local\\programs\\python\\python37-32\\lib\\site-packages\\pandas\\core\\generic.py\u001b[0m in \u001b[0;36mto_csv\u001b[1;34m(self, path_or_buf, sep, na_rep, float_format, columns, header, index, index_label, mode, encoding, compression, quoting, quotechar, line_terminator, chunksize, date_format, doublequote, escapechar, decimal)\u001b[0m\n\u001b[0;32m   3226\u001b[0m             \u001b[0mdecimal\u001b[0m\u001b[1;33m=\u001b[0m\u001b[0mdecimal\u001b[0m\u001b[1;33m,\u001b[0m\u001b[1;33m\u001b[0m\u001b[1;33m\u001b[0m\u001b[0m\n\u001b[0;32m   3227\u001b[0m         )\n\u001b[1;32m-> 3228\u001b[1;33m         \u001b[0mformatter\u001b[0m\u001b[1;33m.\u001b[0m\u001b[0msave\u001b[0m\u001b[1;33m(\u001b[0m\u001b[1;33m)\u001b[0m\u001b[1;33m\u001b[0m\u001b[1;33m\u001b[0m\u001b[0m\n\u001b[0m\u001b[0;32m   3229\u001b[0m \u001b[1;33m\u001b[0m\u001b[0m\n\u001b[0;32m   3230\u001b[0m         \u001b[1;32mif\u001b[0m \u001b[0mpath_or_buf\u001b[0m \u001b[1;32mis\u001b[0m \u001b[1;32mNone\u001b[0m\u001b[1;33m:\u001b[0m\u001b[1;33m\u001b[0m\u001b[1;33m\u001b[0m\u001b[0m\n",
      "\u001b[1;32mc:\\users\\fuad.ak\\appdata\\local\\programs\\python\\python37-32\\lib\\site-packages\\pandas\\io\\formats\\csvs.py\u001b[0m in \u001b[0;36msave\u001b[1;34m(self)\u001b[0m\n\u001b[0;32m    181\u001b[0m                 \u001b[0mself\u001b[0m\u001b[1;33m.\u001b[0m\u001b[0mmode\u001b[0m\u001b[1;33m,\u001b[0m\u001b[1;33m\u001b[0m\u001b[1;33m\u001b[0m\u001b[0m\n\u001b[0;32m    182\u001b[0m                 \u001b[0mencoding\u001b[0m\u001b[1;33m=\u001b[0m\u001b[0mself\u001b[0m\u001b[1;33m.\u001b[0m\u001b[0mencoding\u001b[0m\u001b[1;33m,\u001b[0m\u001b[1;33m\u001b[0m\u001b[1;33m\u001b[0m\u001b[0m\n\u001b[1;32m--> 183\u001b[1;33m                 \u001b[0mcompression\u001b[0m\u001b[1;33m=\u001b[0m\u001b[0mself\u001b[0m\u001b[1;33m.\u001b[0m\u001b[0mcompression\u001b[0m\u001b[1;33m,\u001b[0m\u001b[1;33m\u001b[0m\u001b[1;33m\u001b[0m\u001b[0m\n\u001b[0m\u001b[0;32m    184\u001b[0m             )\n\u001b[0;32m    185\u001b[0m             \u001b[0mclose\u001b[0m \u001b[1;33m=\u001b[0m \u001b[1;32mTrue\u001b[0m\u001b[1;33m\u001b[0m\u001b[1;33m\u001b[0m\u001b[0m\n",
      "\u001b[1;32mc:\\users\\fuad.ak\\appdata\\local\\programs\\python\\python37-32\\lib\\site-packages\\pandas\\io\\common.py\u001b[0m in \u001b[0;36m_get_handle\u001b[1;34m(path_or_buf, mode, encoding, compression, memory_map, is_text)\u001b[0m\n\u001b[0;32m    397\u001b[0m         \u001b[1;32mif\u001b[0m \u001b[0mencoding\u001b[0m\u001b[1;33m:\u001b[0m\u001b[1;33m\u001b[0m\u001b[1;33m\u001b[0m\u001b[0m\n\u001b[0;32m    398\u001b[0m             \u001b[1;31m# Encoding\u001b[0m\u001b[1;33m\u001b[0m\u001b[1;33m\u001b[0m\u001b[1;33m\u001b[0m\u001b[0m\n\u001b[1;32m--> 399\u001b[1;33m             \u001b[0mf\u001b[0m \u001b[1;33m=\u001b[0m \u001b[0mopen\u001b[0m\u001b[1;33m(\u001b[0m\u001b[0mpath_or_buf\u001b[0m\u001b[1;33m,\u001b[0m \u001b[0mmode\u001b[0m\u001b[1;33m,\u001b[0m \u001b[0mencoding\u001b[0m\u001b[1;33m=\u001b[0m\u001b[0mencoding\u001b[0m\u001b[1;33m,\u001b[0m \u001b[0mnewline\u001b[0m\u001b[1;33m=\u001b[0m\u001b[1;34m\"\"\u001b[0m\u001b[1;33m)\u001b[0m\u001b[1;33m\u001b[0m\u001b[1;33m\u001b[0m\u001b[0m\n\u001b[0m\u001b[0;32m    400\u001b[0m         \u001b[1;32melif\u001b[0m \u001b[0mis_text\u001b[0m\u001b[1;33m:\u001b[0m\u001b[1;33m\u001b[0m\u001b[1;33m\u001b[0m\u001b[0m\n\u001b[0;32m    401\u001b[0m             \u001b[1;31m# No explicit encoding\u001b[0m\u001b[1;33m\u001b[0m\u001b[1;33m\u001b[0m\u001b[1;33m\u001b[0m\u001b[0m\n",
      "\u001b[1;31mPermissionError\u001b[0m: [Errno 13] Permission denied: 'booking fevral pandas edited.csv'"
     ]
    }
   ],
   "source": [
    "df.to_csv('booking fevral pandas edited.csv')"
   ]
  },
  {
   "cell_type": "code",
   "execution_count": null,
   "metadata": {
    "collapsed": true,
    "jupyter": {
     "outputs_hidden": true
    }
   },
   "outputs": [],
   "source": [
    "# All codes used until here:\n",
    "\n",
    "# df=pd.read_csv('STA-Tourism/Booking data/Booking.com Data febr.csv', thousands=',')\n",
    "\n",
    "# df.head()\n",
    "\n",
    "# df.describe()\n",
    "\n",
    "# df.info()\n",
    "\n",
    "# df.columns\n",
    "\n",
    "# df.rename(columns={'Unnamed: 0':'No'}, inplace=True)\n",
    "\n",
    "# df['price']=df['price'].str.replace('AZN','')\n",
    "# df['price']=df['price'].str.replace(',','')\n",
    "# df['price']=df['price'].astype(float)\n",
    "\n",
    "# df.dropna(subset=['price'],inplace=True)\n",
    "\n",
    "# df.dropna(how='all')\n",
    "\n",
    "# df.set_index('property_name',inplace=True)\n",
    "\n",
    "# df.sort_index()\n",
    "\n",
    "# df.sort_values(by=['customer_rating','price']) #inplace=True\n",
    "\n",
    "# df[df['top_review']=='Review score']\n",
    "\n",
    "# df[df['price']==np.nan]\n",
    "\n",
    "# df['price'].value_counts().sort_index()\n",
    "\n",
    "# df['price'].value_counts().sort_values()\n",
    "\n",
    "# df['price'].value_counts(normalize=True).sort_values(ascending=False)*100\n",
    "\n",
    "# df.index.value_counts().sort_index()\n",
    "\n",
    "# df['property_location']=df['property_location'].str.replace('.+?( )','') #regex pattern\n",
    "\n",
    "# df[df['property_location']=='Yeniyol'].head() #.isin(['Şəmkir'])\n",
    "\n",
    "# loc_dict={ 'Calut':'Oğuz','Yeniyol':'İsmayilli', 'Ərǝkit':'İsmayilli'}\n",
    "\n",
    "# df['property_location'].replace(loc_dict,inplace=True)\n",
    "\n",
    "# df['property_location'].unique()\n",
    "\n",
    "# df['property_location'][0]\n",
    "\n",
    "# df['property_location']['Lux Inn'].head()\n",
    "\n",
    "# df.loc['Lux Inn','property_location'].head()\n",
    "\n",
    "# df.groupby(['property_location']).mean().sort_values(by=['price'])\n",
    "\n",
    "# df.groupby('property_location')['price'].min().sort_values()\n",
    "\n",
    "# df.groupby('property_location').get_group('Qusar')\n",
    "\n",
    "# df.groupby('property_location').size().sort_values()\n",
    "\n",
    "# df.groupby('property_location')['price'].agg([np.min,np.mean,np.max])\n",
    "\n",
    "# df['property_star_rating']=df['property_star_rating'].str.replace('-star hotel',' stars')\n",
    "\n",
    "# df.groupby('property_star_rating')['price'].agg([np.min,np.mean,np.max])\n",
    "\n",
    "# df.groupby('property_star_rating').count()\n",
    "\n",
    "# df.groupby('property_star_rating').size()\n",
    "\n",
    "# df.size\n",
    "\n",
    "# df.shape\n",
    "\n",
    "# df.to_csv('booking fevral pandas edited.csv')\n",
    "\n",
    "# df.drop(column=[]) #inplace=True olmasa apply etmir\n",
    "# df.drop(index=4)\n",
    "# df.drop(index=df['col']=='Doe'.index)\n",
    "# Series.nlargest(10)\n",
    "# filt=df['Country'=='Az'] -> df.groupby(['Country']).getgroup('Az')\n",
    "# df.loc[filt]\n",
    "# Series.apply(len,axis=columns)\n",
    "# Series.applymap(str.lower)\n",
    "# df.sort_values(by=['col']).nlargest(10)\n",
    "# df.sort_index()\n",
    "# Series.str.contains['someword'].sum()"
   ]
  },
  {
   "cell_type": "code",
   "execution_count": null,
   "metadata": {
    "collapsed": true,
    "jupyter": {
     "outputs_hidden": true
    }
   },
   "outputs": [],
   "source": [
    "df=pd.read_csv('STA-Tourism/Booking data/Booking.com Data febr.csv', thousands=',')"
   ]
  },
  {
   "cell_type": "code",
   "execution_count": null,
   "metadata": {
    "collapsed": true,
    "jupyter": {
     "outputs_hidden": true
    }
   },
   "outputs": [],
   "source": [
    "df.columns"
   ]
  },
  {
   "cell_type": "code",
   "execution_count": null,
   "metadata": {
    "collapsed": true,
    "jupyter": {
     "outputs_hidden": true
    }
   },
   "outputs": [],
   "source": [
    "df.index"
   ]
  },
  {
   "cell_type": "code",
   "execution_count": null,
   "metadata": {
    "collapsed": true,
    "jupyter": {
     "outputs_hidden": true
    }
   },
   "outputs": [],
   "source": [
    "print(df.info())\n",
    "print(df.shape)\n",
    "print(df.describe())"
   ]
  },
  {
   "cell_type": "code",
   "execution_count": null,
   "metadata": {
    "collapsed": true,
    "jupyter": {
     "outputs_hidden": true
    }
   },
   "outputs": [],
   "source": [
    "df.columns[8]='Date' #doesnt work"
   ]
  },
  {
   "cell_type": "code",
   "execution_count": null,
   "metadata": {
    "collapsed": true,
    "jupyter": {
     "outputs_hidden": true
    }
   },
   "outputs": [],
   "source": [
    "df.rename(columns={'Unnamed: 0':'No'},inplace=True)"
   ]
  },
  {
   "cell_type": "code",
   "execution_count": null,
   "metadata": {
    "collapsed": true,
    "jupyter": {
     "outputs_hidden": true
    }
   },
   "outputs": [],
   "source": [
    "df.columns"
   ]
  },
  {
   "cell_type": "code",
   "execution_count": null,
   "metadata": {
    "collapsed": true,
    "jupyter": {
     "outputs_hidden": true
    }
   },
   "outputs": [],
   "source": [
    "df.dropna(how='all')"
   ]
  },
  {
   "cell_type": "code",
   "execution_count": null,
   "metadata": {
    "collapsed": true,
    "jupyter": {
     "outputs_hidden": true
    }
   },
   "outputs": [],
   "source": [
    "df.dropna(subset=['price'],inplace=True)"
   ]
  },
  {
   "cell_type": "code",
   "execution_count": null,
   "metadata": {
    "collapsed": true,
    "jupyter": {
     "outputs_hidden": true
    }
   },
   "outputs": [],
   "source": [
    "df.set_index('property_name')"
   ]
  },
  {
   "cell_type": "code",
   "execution_count": null,
   "metadata": {
    "collapsed": true,
    "jupyter": {
     "outputs_hidden": true
    }
   },
   "outputs": [],
   "source": [
    "df.drop(columns=['No','type_of_room'])"
   ]
  },
  {
   "cell_type": "code",
   "execution_count": null,
   "metadata": {
    "collapsed": true,
    "jupyter": {
     "outputs_hidden": true
    }
   },
   "outputs": [],
   "source": [
    "df['price']=df['price'].str.replace('AZN','').str.strip()\n",
    "df['price']=df['price'].str.replace(',','').astype(float)"
   ]
  },
  {
   "cell_type": "code",
   "execution_count": null,
   "metadata": {
    "collapsed": true,
    "jupyter": {
     "outputs_hidden": true
    }
   },
   "outputs": [],
   "source": [
    "df['price'].dtype"
   ]
  },
  {
   "cell_type": "code",
   "execution_count": null,
   "metadata": {
    "collapsed": true,
    "jupyter": {
     "outputs_hidden": true
    }
   },
   "outputs": [],
   "source": [
    "df['property_location']=df['property_location'].str.replace('.+?( )','') #regex pattern regex=True)"
   ]
  },
  {
   "cell_type": "code",
   "execution_count": null,
   "metadata": {
    "collapsed": true,
    "jupyter": {
     "outputs_hidden": true
    }
   },
   "outputs": [],
   "source": [
    "df['property_location'][0:3]"
   ]
  },
  {
   "cell_type": "code",
   "execution_count": null,
   "metadata": {
    "collapsed": true,
    "jupyter": {
     "outputs_hidden": true
    }
   },
   "outputs": [],
   "source": [
    "df['property_star_rating']=df['property_star_rating'].str.replace('-star hotel',' star')"
   ]
  },
  {
   "cell_type": "code",
   "execution_count": null,
   "metadata": {
    "collapsed": true,
    "jupyter": {
     "outputs_hidden": true
    }
   },
   "outputs": [],
   "source": [
    "df['property_star_rating'][3:6]"
   ]
  },
  {
   "cell_type": "code",
   "execution_count": null,
   "metadata": {
    "collapsed": true,
    "jupyter": {
     "outputs_hidden": true
    }
   },
   "outputs": [],
   "source": [
    "df['property_star_rating'].unique()"
   ]
  },
  {
   "cell_type": "code",
   "execution_count": null,
   "metadata": {
    "collapsed": true,
    "jupyter": {
     "outputs_hidden": true
    }
   },
   "outputs": [],
   "source": [
    "df['property_star_rating']=df['property_star_rating'].str.replace('stars','star')"
   ]
  },
  {
   "cell_type": "code",
   "execution_count": null,
   "metadata": {
    "collapsed": true,
    "jupyter": {
     "outputs_hidden": true
    }
   },
   "outputs": [],
   "source": [
    "df.head()"
   ]
  },
  {
   "cell_type": "code",
   "execution_count": null,
   "metadata": {
    "collapsed": true,
    "jupyter": {
     "outputs_hidden": true
    }
   },
   "outputs": [],
   "source": [
    "loc_dict={ 'Calut':'Oğuz','Yeniyol':'İsmayilli', 'Ərǝkit':'İsmayilli'}\n",
    "df['property_location'].replace(loc_dict, inplace=True)"
   ]
  },
  {
   "cell_type": "code",
   "execution_count": null,
   "metadata": {
    "collapsed": true,
    "jupyter": {
     "outputs_hidden": true
    }
   },
   "outputs": [],
   "source": [
    "df['property_location'].unique()"
   ]
  },
  {
   "cell_type": "code",
   "execution_count": null,
   "metadata": {
    "collapsed": true,
    "jupyter": {
     "outputs_hidden": true
    }
   },
   "outputs": [],
   "source": [
    "len(df[df['property_name'].isna()])"
   ]
  },
  {
   "cell_type": "code",
   "execution_count": null,
   "metadata": {
    "collapsed": true,
    "jupyter": {
     "outputs_hidden": true
    }
   },
   "outputs": [],
   "source": [
    "df[df['property_name'].isna()].head(3)"
   ]
  },
  {
   "cell_type": "code",
   "execution_count": null,
   "metadata": {
    "collapsed": true,
    "jupyter": {
     "outputs_hidden": true
    }
   },
   "outputs": [],
   "source": [
    "df[df['property_name'].isna()].fillna('Not available',inplace=True) @fil etmek ucun isna yazmaga ehtiyac yoxdu alinmiyacaq,sadece fillna yazsan ozu tapib dolduracaq."
   ]
  },
  {
   "cell_type": "code",
   "execution_count": null,
   "metadata": {
    "collapsed": true,
    "jupyter": {
     "outputs_hidden": true
    }
   },
   "outputs": [],
   "source": [
    "len(df[df['property_name'].isna()])"
   ]
  },
  {
   "cell_type": "code",
   "execution_count": null,
   "metadata": {
    "collapsed": true,
    "jupyter": {
     "outputs_hidden": true
    }
   },
   "outputs": [],
   "source": [
    "df['property_name'].fillna('Not available')"
   ]
  },
  {
   "cell_type": "code",
   "execution_count": null,
   "metadata": {
    "collapsed": true,
    "jupyter": {
     "outputs_hidden": true
    }
   },
   "outputs": [],
   "source": [
    "df[df['property_name'].isna()]"
   ]
  },
  {
   "cell_type": "code",
   "execution_count": null,
   "metadata": {
    "collapsed": true,
    "jupyter": {
     "outputs_hidden": true
    }
   },
   "outputs": [],
   "source": [
    "df[df.isna()].head(3)"
   ]
  },
  {
   "cell_type": "code",
   "execution_count": null,
   "metadata": {
    "collapsed": true,
    "jupyter": {
     "outputs_hidden": true
    }
   },
   "outputs": [],
   "source": [
    "df[df.isna()].shape"
   ]
  },
  {
   "cell_type": "code",
   "execution_count": null,
   "metadata": {
    "collapsed": true,
    "jupyter": {
     "outputs_hidden": true
    }
   },
   "outputs": [],
   "source": [
    "df.shape"
   ]
  },
  {
   "cell_type": "code",
   "execution_count": null,
   "metadata": {
    "collapsed": true,
    "jupyter": {
     "outputs_hidden": true
    }
   },
   "outputs": [],
   "source": [
    "fills={'property_location':'galaxy','property_star_rating':'not sure'}\n",
    "df.fillna(value=fills)"
   ]
  },
  {
   "cell_type": "code",
   "execution_count": null,
   "metadata": {
    "collapsed": true,
    "jupyter": {
     "outputs_hidden": true
    }
   },
   "outputs": [],
   "source": [
    "df[df['property_location']=='galaxy']"
   ]
  },
  {
   "cell_type": "code",
   "execution_count": null,
   "metadata": {
    "collapsed": true,
    "jupyter": {
     "outputs_hidden": true
    }
   },
   "outputs": [],
   "source": [
    "df.mean()"
   ]
  },
  {
   "cell_type": "code",
   "execution_count": null,
   "metadata": {
    "collapsed": true,
    "jupyter": {
     "outputs_hidden": true
    }
   },
   "outputs": [],
   "source": [
    "df.drop(columns='No',inplace=True)"
   ]
  },
  {
   "cell_type": "code",
   "execution_count": null,
   "metadata": {
    "collapsed": true,
    "jupyter": {
     "outputs_hidden": true
    }
   },
   "outputs": [],
   "source": [
    "df.set_index('property_name', inplace=True)"
   ]
  },
  {
   "cell_type": "code",
   "execution_count": null,
   "metadata": {
    "collapsed": true,
    "jupyter": {
     "outputs_hidden": true
    }
   },
   "outputs": [],
   "source": [
    "df.groupby('property_star_rating').size()"
   ]
  },
  {
   "cell_type": "code",
   "execution_count": null,
   "metadata": {
    "collapsed": true,
    "jupyter": {
     "outputs_hidden": true
    }
   },
   "outputs": [],
   "source": [
    "df.groupby('property_star_rating').mean()"
   ]
  },
  {
   "cell_type": "code",
   "execution_count": null,
   "metadata": {
    "collapsed": true,
    "jupyter": {
     "outputs_hidden": true
    }
   },
   "outputs": [],
   "source": []
  },
  {
   "cell_type": "code",
   "execution_count": null,
   "metadata": {
    "collapsed": true,
    "jupyter": {
     "outputs_hidden": true
    }
   },
   "outputs": [],
   "source": [
    "df.groupby('property_star_rating').mean()"
   ]
  },
  {
   "cell_type": "code",
   "execution_count": null,
   "metadata": {
    "collapsed": true,
    "jupyter": {
     "outputs_hidden": true
    }
   },
   "outputs": [],
   "source": [
    "df.groupby('property_star_rating').apply(np.min)"
   ]
  },
  {
   "cell_type": "code",
   "execution_count": null,
   "metadata": {
    "collapsed": true,
    "jupyter": {
     "outputs_hidden": true
    }
   },
   "outputs": [],
   "source": [
    "df.groupby('property_star_rating').agg(len)"
   ]
  },
  {
   "cell_type": "code",
   "execution_count": null,
   "metadata": {
    "collapsed": true,
    "jupyter": {
     "outputs_hidden": true
    }
   },
   "outputs": [],
   "source": [
    "df.groupby('property_star_rating').agg([len,min])"
   ]
  },
  {
   "cell_type": "code",
   "execution_count": null,
   "metadata": {
    "collapsed": true,
    "jupyter": {
     "outputs_hidden": true
    }
   },
   "outputs": [],
   "source": [
    "df.groupby('property_star_rating')['price'].agg([len,np.min,np.max])"
   ]
  },
  {
   "cell_type": "code",
   "execution_count": null,
   "metadata": {
    "collapsed": true,
    "jupyter": {
     "outputs_hidden": true
    }
   },
   "outputs": [],
   "source": [
    "df.groupby('property_star_rating')[['price','customer_rating']].agg([len,np.min,np.max])"
   ]
  },
  {
   "cell_type": "code",
   "execution_count": null,
   "metadata": {
    "collapsed": true,
    "jupyter": {
     "outputs_hidden": true
    }
   },
   "outputs": [],
   "source": [
    "df.groupby('property_star_rating').get_group('2 star').head() #=>df[df['property_star_rating']=='2 star']"
   ]
  },
  {
   "cell_type": "code",
   "execution_count": null,
   "metadata": {
    "collapsed": true,
    "jupyter": {
     "outputs_hidden": true
    }
   },
   "outputs": [],
   "source": [
    "df1=df.iloc[0:10,0:4]\n",
    "df2=df.iloc[1000:1010:4]"
   ]
  },
  {
   "cell_type": "code",
   "execution_count": null,
   "metadata": {
    "collapsed": true,
    "jupyter": {
     "outputs_hidden": true
    }
   },
   "outputs": [],
   "source": [
    "df1"
   ]
  },
  {
   "cell_type": "code",
   "execution_count": null,
   "metadata": {
    "collapsed": true,
    "jupyter": {
     "outputs_hidden": true
    }
   },
   "outputs": [],
   "source": [
    "df3=df[df['price']>500]\n",
    "df3=df3.sort_values(by='price',ascending=False)"
   ]
  },
  {
   "cell_type": "code",
   "execution_count": null,
   "metadata": {
    "collapsed": true,
    "jupyter": {
     "outputs_hidden": true
    }
   },
   "outputs": [],
   "source": [
    "df3.head()"
   ]
  },
  {
   "cell_type": "code",
   "execution_count": null,
   "metadata": {
    "collapsed": true,
    "jupyter": {
     "outputs_hidden": true
    }
   },
   "outputs": [],
   "source": [
    "df['property_location'].isin(['Baku']) #=>df['property_location'].str.contains('Baku')"
   ]
  },
  {
   "cell_type": "code",
   "execution_count": null,
   "metadata": {
    "collapsed": true,
    "jupyter": {
     "outputs_hidden": true
    }
   },
   "outputs": [],
   "source": [
    "df['property_location'].str.contains('Baku')"
   ]
  },
  {
   "cell_type": "code",
   "execution_count": null,
   "metadata": {
    "collapsed": true,
    "jupyter": {
     "outputs_hidden": true
    }
   },
   "outputs": [],
   "source": [
    "df[df['property_location'].str.contains('Baku')].head(3)"
   ]
  },
  {
   "cell_type": "code",
   "execution_count": null,
   "metadata": {
    "collapsed": true,
    "jupyter": {
     "outputs_hidden": true
    }
   },
   "outputs": [],
   "source": [
    "df[df['property_location'].str.contains('Baku')]['property_location'].head(3)"
   ]
  },
  {
   "cell_type": "code",
   "execution_count": null,
   "metadata": {
    "collapsed": true,
    "jupyter": {
     "outputs_hidden": true
    }
   },
   "outputs": [],
   "source": [
    "df[df['property_location'].str.contains('Baku')].iloc[:10,3:6].head(3)"
   ]
  },
  {
   "cell_type": "code",
   "execution_count": null,
   "metadata": {
    "collapsed": true,
    "jupyter": {
     "outputs_hidden": true
    }
   },
   "outputs": [],
   "source": [
    "df.loc['Emerald Hotel Baku'].head()"
   ]
  },
  {
   "cell_type": "code",
   "execution_count": null,
   "metadata": {
    "collapsed": true,
    "jupyter": {
     "outputs_hidden": true
    }
   },
   "outputs": [],
   "source": [
    "emerald=df.loc['Emerald Hotel Baku']['price']\n",
    "print(emerald.head())"
   ]
  },
  {
   "cell_type": "code",
   "execution_count": null,
   "metadata": {
    "collapsed": true,
    "jupyter": {
     "outputs_hidden": true
    }
   },
   "outputs": [],
   "source": [
    "emerald=df.loc['Emerald Hotel Baku','price']\n",
    "print(emerald.head())"
   ]
  },
  {
   "cell_type": "code",
   "execution_count": null,
   "metadata": {
    "collapsed": true,
    "jupyter": {
     "outputs_hidden": true
    }
   },
   "outputs": [],
   "source": [
    "df[df['price']>500].loc['Quba Palace Hotel'] #df[df.loc['Quba Palace Hotel','price']>500] bu ise iwlemir \n"
   ]
  },
  {
   "cell_type": "code",
   "execution_count": null,
   "metadata": {
    "collapsed": true,
    "jupyter": {
     "outputs_hidden": true
    }
   },
   "outputs": [],
   "source": [
    "list(df.index)[0:5]"
   ]
  },
  {
   "cell_type": "code",
   "execution_count": null,
   "metadata": {
    "collapsed": true,
    "jupyter": {
     "outputs_hidden": true
    }
   },
   "outputs": [],
   "source": [
    "df1"
   ]
  },
  {
   "cell_type": "code",
   "execution_count": null,
   "metadata": {
    "collapsed": true,
    "jupyter": {
     "outputs_hidden": true
    }
   },
   "outputs": [],
   "source": [
    "df2=df2.iloc[:,0:4]\n",
    "df2"
   ]
  },
  {
   "cell_type": "code",
   "execution_count": null,
   "metadata": {
    "collapsed": true,
    "jupyter": {
     "outputs_hidden": true
    }
   },
   "outputs": [],
   "source": [
    "pd.concat([df1,df2])"
   ]
  },
  {
   "cell_type": "code",
   "execution_count": null,
   "metadata": {
    "collapsed": true,
    "jupyter": {
     "outputs_hidden": true
    }
   },
   "outputs": [],
   "source": [
    "df1.rename(columns={'property_location':'p_location'})"
   ]
  },
  {
   "cell_type": "code",
   "execution_count": null,
   "metadata": {
    "collapsed": true,
    "jupyter": {
     "outputs_hidden": true
    }
   },
   "outputs": [],
   "source": [
    "pd.concat([df2,df1,df3],sort=False).head()"
   ]
  },
  {
   "cell_type": "code",
   "execution_count": null,
   "metadata": {
    "collapsed": true,
    "jupyter": {
     "outputs_hidden": true
    }
   },
   "outputs": [],
   "source": [
    "df.dtypes.value_counts()"
   ]
  },
  {
   "cell_type": "code",
   "execution_count": null,
   "metadata": {
    "collapsed": true,
    "jupyter": {
     "outputs_hidden": true
    }
   },
   "outputs": [],
   "source": [
    "df.dtypes"
   ]
  },
  {
   "cell_type": "code",
   "execution_count": null,
   "metadata": {
    "collapsed": true,
    "jupyter": {
     "outputs_hidden": true
    }
   },
   "outputs": [],
   "source": [
    "df.loc['Quba Palace Hotel','price'].head()"
   ]
  },
  {
   "cell_type": "code",
   "execution_count": null,
   "metadata": {
    "collapsed": true,
    "jupyter": {
     "outputs_hidden": true
    }
   },
   "outputs": [],
   "source": [
    "df.iloc[200,4]"
   ]
  },
  {
   "cell_type": "code",
   "execution_count": null,
   "metadata": {
    "collapsed": true,
    "jupyter": {
     "outputs_hidden": true
    }
   },
   "outputs": [],
   "source": [
    "df.iloc[[200,300,315],4]"
   ]
  },
  {
   "cell_type": "code",
   "execution_count": null,
   "metadata": {
    "collapsed": true,
    "jupyter": {
     "outputs_hidden": true
    }
   },
   "outputs": [],
   "source": [
    "df.iloc[200][4]"
   ]
  },
  {
   "cell_type": "code",
   "execution_count": null,
   "metadata": {
    "collapsed": true,
    "jupyter": {
     "outputs_hidden": true
    }
   },
   "outputs": [],
   "source": [
    "df.iloc[200,4]='1 fullun fullu bed'\n",
    "df.iloc[200,4]"
   ]
  },
  {
   "cell_type": "code",
   "execution_count": null,
   "metadata": {
    "collapsed": true,
    "jupyter": {
     "outputs_hidden": true
    }
   },
   "outputs": [],
   "source": [
    "values={'price':[5],'property_location':['Baku']}\n",
    "df[df.isin(values).any(1)]"
   ]
  },
  {
   "cell_type": "code",
   "execution_count": null,
   "metadata": {
    "collapsed": true,
    "jupyter": {
     "outputs_hidden": true
    }
   },
   "outputs": [],
   "source": [
    "df.pivot(index='property_location',columns='top_review',values='price',)"
   ]
  },
  {
   "cell_type": "code",
   "execution_count": null,
   "metadata": {
    "collapsed": true,
    "jupyter": {
     "outputs_hidden": true
    }
   },
   "outputs": [],
   "source": [
    "df.groupby('property_name')['price'].agg([np.mean,np.min,np.max]).sort_values(by=['mean'], ascending=False)"
   ]
  },
  {
   "cell_type": "code",
   "execution_count": null,
   "metadata": {
    "collapsed": true,
    "jupyter": {
     "outputs_hidden": true
    }
   },
   "outputs": [],
   "source": [
    "df1['new_col']=df1['customer_rating']*10\n",
    "df1['new_col1']=df1['customer_rating']>7.1\n",
    "df1['new_col2'][3:5]=[5,6]\n",
    "df1"
   ]
  },
  {
   "cell_type": "code",
   "execution_count": null,
   "metadata": {
    "collapsed": true,
    "jupyter": {
     "outputs_hidden": true
    }
   },
   "outputs": [],
   "source": [
    "df11=df1.copy()"
   ]
  },
  {
   "cell_type": "code",
   "execution_count": null,
   "metadata": {
    "collapsed": true,
    "jupyter": {
     "outputs_hidden": true
    }
   },
   "outputs": [],
   "source": [
    "df2.loc['H.I.I Hotel']\n",
    "df2.loc[df2['property_location']=='Baku'] #=>df2[df2['property_location']=='Baku']"
   ]
  },
  {
   "cell_type": "code",
   "execution_count": null,
   "metadata": {
    "collapsed": true,
    "jupyter": {
     "outputs_hidden": true
    }
   },
   "outputs": [],
   "source": [
    "df_melted=df2.melt()\n",
    "df_melted"
   ]
  },
  {
   "cell_type": "code",
   "execution_count": null,
   "metadata": {
    "collapsed": true,
    "jupyter": {
     "outputs_hidden": true
    }
   },
   "outputs": [],
   "source": [
    "df_melted.pivot(columns='variable',values='value')"
   ]
  },
  {
   "cell_type": "code",
   "execution_count": null,
   "metadata": {
    "collapsed": true,
    "jupyter": {
     "outputs_hidden": true
    }
   },
   "outputs": [],
   "source": [
    "df.mean() #by axis=0"
   ]
  },
  {
   "cell_type": "code",
   "execution_count": null,
   "metadata": {
    "collapsed": true,
    "jupyter": {
     "outputs_hidden": true
    }
   },
   "outputs": [],
   "source": [
    "df.mean(1) #by axis=1"
   ]
  },
  {
   "cell_type": "code",
   "execution_count": null,
   "metadata": {
    "collapsed": true,
    "jupyter": {
     "outputs_hidden": true
    }
   },
   "outputs": [],
   "source": [
    "df['price'].sample()"
   ]
  },
  {
   "cell_type": "code",
   "execution_count": null,
   "metadata": {
    "collapsed": true,
    "jupyter": {
     "outputs_hidden": true
    }
   },
   "outputs": [],
   "source": [
    "df['price'].skew()"
   ]
  },
  {
   "cell_type": "code",
   "execution_count": null,
   "metadata": {
    "collapsed": true,
    "jupyter": {
     "outputs_hidden": true
    }
   },
   "outputs": [],
   "source": [
    "df['price'].std()"
   ]
  },
  {
   "cell_type": "code",
   "execution_count": null,
   "metadata": {
    "collapsed": true,
    "jupyter": {
     "outputs_hidden": true
    }
   },
   "outputs": [],
   "source": [
    "import matplotlib.pyplot as plt"
   ]
  },
  {
   "cell_type": "code",
   "execution_count": null,
   "metadata": {
    "collapsed": true,
    "jupyter": {
     "outputs_hidden": true
    }
   },
   "outputs": [],
   "source": [
    "df2"
   ]
  },
  {
   "cell_type": "code",
   "execution_count": null,
   "metadata": {
    "collapsed": true,
    "jupyter": {
     "outputs_hidden": true
    }
   },
   "outputs": [],
   "source": [
    "df2.plot(x='property_location',y='customer_rating')"
   ]
  },
  {
   "cell_type": "code",
   "execution_count": null,
   "metadata": {
    "collapsed": true,
    "jupyter": {
     "outputs_hidden": true
    }
   },
   "outputs": [],
   "source": [
    "pd.DataFrame(np.random.randn(6, 4), columns=range(0,4))"
   ]
  },
  {
   "cell_type": "code",
   "execution_count": null,
   "metadata": {
    "collapsed": true,
    "jupyter": {
     "outputs_hidden": true
    }
   },
   "outputs": [],
   "source": [
    "pd.DataFrame({'A': range(0,6),\n",
    "              'B': range(3,9)},index=['a','b','c','d','e','f'])"
   ]
  },
  {
   "cell_type": "code",
   "execution_count": 812,
   "metadata": {
    "collapsed": true,
    "jupyter": {
     "outputs_hidden": true
    }
   },
   "outputs": [
    {
     "data": {
      "text/html": [
       "<div>\n",
       "<style scoped>\n",
       "    .dataframe tbody tr th:only-of-type {\n",
       "        vertical-align: middle;\n",
       "    }\n",
       "\n",
       "    .dataframe tbody tr th {\n",
       "        vertical-align: top;\n",
       "    }\n",
       "\n",
       "    .dataframe thead th {\n",
       "        text-align: right;\n",
       "    }\n",
       "</style>\n",
       "<table border=\"1\" class=\"dataframe\">\n",
       "  <thead>\n",
       "    <tr style=\"text-align: right;\">\n",
       "      <th></th>\n",
       "      <th>0</th>\n",
       "    </tr>\n",
       "  </thead>\n",
       "  <tbody>\n",
       "    <tr>\n",
       "      <th>a</th>\n",
       "      <td>1</td>\n",
       "    </tr>\n",
       "    <tr>\n",
       "      <th>b</th>\n",
       "      <td>2</td>\n",
       "    </tr>\n",
       "    <tr>\n",
       "      <th>c</th>\n",
       "      <td>3</td>\n",
       "    </tr>\n",
       "    <tr>\n",
       "      <th>d</th>\n",
       "      <td>4</td>\n",
       "    </tr>\n",
       "    <tr>\n",
       "      <th>e</th>\n",
       "      <td>5</td>\n",
       "    </tr>\n",
       "    <tr>\n",
       "      <th>f</th>\n",
       "      <td>6</td>\n",
       "    </tr>\n",
       "  </tbody>\n",
       "</table>\n",
       "</div>"
      ],
      "text/plain": [
       "   0\n",
       "a  1\n",
       "b  2\n",
       "c  3\n",
       "d  4\n",
       "e  5\n",
       "f  6"
      ]
     },
     "execution_count": 812,
     "metadata": {},
     "output_type": "execute_result"
    }
   ],
   "source": [
    "df5=pd.DataFrame(pd.Series([1,2,3,4,5,6], index=['a','b','c','d','e','f']))\n",
    "df5"
   ]
  },
  {
   "cell_type": "code",
   "execution_count": 815,
   "metadata": {
    "collapsed": true,
    "jupyter": {
     "outputs_hidden": true
    }
   },
   "outputs": [
    {
     "data": {
      "text/html": [
       "<div>\n",
       "<style scoped>\n",
       "    .dataframe tbody tr th:only-of-type {\n",
       "        vertical-align: middle;\n",
       "    }\n",
       "\n",
       "    .dataframe tbody tr th {\n",
       "        vertical-align: top;\n",
       "    }\n",
       "\n",
       "    .dataframe thead th {\n",
       "        text-align: right;\n",
       "    }\n",
       "</style>\n",
       "<table border=\"1\" class=\"dataframe\">\n",
       "  <thead>\n",
       "    <tr style=\"text-align: right;\">\n",
       "      <th></th>\n",
       "      <th>a</th>\n",
       "    </tr>\n",
       "  </thead>\n",
       "  <tbody>\n",
       "    <tr>\n",
       "      <th>a</th>\n",
       "      <td>1</td>\n",
       "    </tr>\n",
       "    <tr>\n",
       "      <th>b</th>\n",
       "      <td>2</td>\n",
       "    </tr>\n",
       "    <tr>\n",
       "      <th>c</th>\n",
       "      <td>3</td>\n",
       "    </tr>\n",
       "    <tr>\n",
       "      <th>d</th>\n",
       "      <td>4</td>\n",
       "    </tr>\n",
       "    <tr>\n",
       "      <th>e</th>\n",
       "      <td>5</td>\n",
       "    </tr>\n",
       "  </tbody>\n",
       "</table>\n",
       "</div>"
      ],
      "text/plain": [
       "   a\n",
       "a  1\n",
       "b  2\n",
       "c  3\n",
       "d  4\n",
       "e  5"
      ]
     },
     "execution_count": 815,
     "metadata": {},
     "output_type": "execute_result"
    }
   ],
   "source": [
    "df5.columns=['a']\n",
    "df5.head()"
   ]
  },
  {
   "cell_type": "code",
   "execution_count": 811,
   "metadata": {
    "collapsed": true,
    "jupyter": {
     "outputs_hidden": true
    }
   },
   "outputs": [
    {
     "data": {
      "text/html": [
       "<div>\n",
       "<style scoped>\n",
       "    .dataframe tbody tr th:only-of-type {\n",
       "        vertical-align: middle;\n",
       "    }\n",
       "\n",
       "    .dataframe tbody tr th {\n",
       "        vertical-align: top;\n",
       "    }\n",
       "\n",
       "    .dataframe thead th {\n",
       "        text-align: right;\n",
       "    }\n",
       "</style>\n",
       "<table border=\"1\" class=\"dataframe\">\n",
       "  <thead>\n",
       "    <tr style=\"text-align: right;\">\n",
       "      <th></th>\n",
       "      <th>a</th>\n",
       "    </tr>\n",
       "  </thead>\n",
       "  <tbody>\n",
       "    <tr>\n",
       "      <th>a</th>\n",
       "      <td>1</td>\n",
       "    </tr>\n",
       "    <tr>\n",
       "      <th>b</th>\n",
       "      <td>2</td>\n",
       "    </tr>\n",
       "    <tr>\n",
       "      <th>c</th>\n",
       "      <td>3</td>\n",
       "    </tr>\n",
       "    <tr>\n",
       "      <th>d</th>\n",
       "      <td>4</td>\n",
       "    </tr>\n",
       "    <tr>\n",
       "      <th>e</th>\n",
       "      <td>5</td>\n",
       "    </tr>\n",
       "    <tr>\n",
       "      <th>f</th>\n",
       "      <td>6</td>\n",
       "    </tr>\n",
       "  </tbody>\n",
       "</table>\n",
       "</div>"
      ],
      "text/plain": [
       "   a\n",
       "a  1\n",
       "b  2\n",
       "c  3\n",
       "d  4\n",
       "e  5\n",
       "f  6"
      ]
     },
     "execution_count": 811,
     "metadata": {},
     "output_type": "execute_result"
    }
   ],
   "source": [
    "df5=pd.DataFrame({'a':pd.Series([1,2,3,4,5,6], index=['a','b','c','d','e','f'])})\n",
    "df5"
   ]
  },
  {
   "cell_type": "code",
   "execution_count": 810,
   "metadata": {
    "collapsed": true,
    "jupyter": {
     "outputs_hidden": true
    }
   },
   "outputs": [
    {
     "data": {
      "text/plain": [
       "DatetimeIndex(['2000-01-01', '2000-01-02', '2000-01-03', '2000-01-04',\n",
       "               '2000-01-05', '2000-01-06', '2000-01-07', '2000-01-08',\n",
       "               '2000-01-09', '2000-01-10', '2000-01-11', '2000-01-12',\n",
       "               '2000-01-13', '2000-01-14', '2000-01-15', '2000-01-16',\n",
       "               '2000-01-17', '2000-01-18', '2000-01-19', '2000-01-20',\n",
       "               '2000-01-21', '2000-01-22', '2000-01-23', '2000-01-24',\n",
       "               '2000-01-25', '2000-01-26', '2000-01-27', '2000-01-28',\n",
       "               '2000-01-29', '2000-01-30', '2000-01-31', '2000-02-01',\n",
       "               '2000-02-02', '2000-02-03', '2000-02-04'],\n",
       "              dtype='datetime64[ns]', freq='D')"
      ]
     },
     "execution_count": 810,
     "metadata": {},
     "output_type": "execute_result"
    }
   ],
   "source": [
    "pd.date_range('1/1/2000', periods=35)"
   ]
  },
  {
   "cell_type": "code",
   "execution_count": null,
   "metadata": {
    "collapsed": true,
    "jupyter": {
     "outputs_hidden": true
    }
   },
   "outputs": [],
   "source": [
    "print(df2.to_string())"
   ]
  },
  {
   "cell_type": "code",
   "execution_count": null,
   "metadata": {
    "collapsed": true,
    "jupyter": {
     "outputs_hidden": true
    }
   },
   "outputs": [],
   "source": [
    "print(df2)"
   ]
  },
  {
   "cell_type": "code",
   "execution_count": 824,
   "metadata": {
    "collapsed": true,
    "jupyter": {
     "outputs_hidden": true
    }
   },
   "outputs": [
    {
     "data": {
      "text/html": [
       "<div>\n",
       "<style scoped>\n",
       "    .dataframe tbody tr th:only-of-type {\n",
       "        vertical-align: middle;\n",
       "    }\n",
       "\n",
       "    .dataframe tbody tr th {\n",
       "        vertical-align: top;\n",
       "    }\n",
       "\n",
       "    .dataframe thead th {\n",
       "        text-align: right;\n",
       "    }\n",
       "</style>\n",
       "<table border=\"1\" class=\"dataframe\">\n",
       "  <thead>\n",
       "    <tr style=\"text-align: right;\">\n",
       "      <th></th>\n",
       "      <th>0</th>\n",
       "    </tr>\n",
       "  </thead>\n",
       "  <tbody>\n",
       "    <tr>\n",
       "      <th>0</th>\n",
       "      <td>1.0</td>\n",
       "    </tr>\n",
       "    <tr>\n",
       "      <th>1</th>\n",
       "      <td>2.0</td>\n",
       "    </tr>\n",
       "    <tr>\n",
       "      <th>2</th>\n",
       "      <td>3.0</td>\n",
       "    </tr>\n",
       "    <tr>\n",
       "      <th>3</th>\n",
       "      <td>4.0</td>\n",
       "    </tr>\n",
       "    <tr>\n",
       "      <th>4</th>\n",
       "      <td>5.0</td>\n",
       "    </tr>\n",
       "    <tr>\n",
       "      <th>5</th>\n",
       "      <td>6.0</td>\n",
       "    </tr>\n",
       "    <tr>\n",
       "      <th>6</th>\n",
       "      <td>NaN</td>\n",
       "    </tr>\n",
       "    <tr>\n",
       "      <th>7</th>\n",
       "      <td>NaN</td>\n",
       "    </tr>\n",
       "    <tr>\n",
       "      <th>8</th>\n",
       "      <td>NaN</td>\n",
       "    </tr>\n",
       "    <tr>\n",
       "      <th>9</th>\n",
       "      <td>NaN</td>\n",
       "    </tr>\n",
       "  </tbody>\n",
       "</table>\n",
       "</div>"
      ],
      "text/plain": [
       "     0\n",
       "0  1.0\n",
       "1  2.0\n",
       "2  3.0\n",
       "3  4.0\n",
       "4  5.0\n",
       "5  6.0\n",
       "6  NaN\n",
       "7  NaN\n",
       "8  NaN\n",
       "9  NaN"
      ]
     },
     "execution_count": 824,
     "metadata": {},
     "output_type": "execute_result"
    }
   ],
   "source": [
    "df5=pd.DataFrame(pd.Series([1,2,3,4,5,6]), index=(range(0,10)))\n",
    "df5"
   ]
  },
  {
   "cell_type": "code",
   "execution_count": 835,
   "metadata": {
    "collapsed": true,
    "jupyter": {
     "outputs_hidden": true
    }
   },
   "outputs": [
    {
     "data": {
      "text/html": [
       "<div>\n",
       "<style scoped>\n",
       "    .dataframe tbody tr th:only-of-type {\n",
       "        vertical-align: middle;\n",
       "    }\n",
       "\n",
       "    .dataframe tbody tr th {\n",
       "        vertical-align: top;\n",
       "    }\n",
       "\n",
       "    .dataframe thead th {\n",
       "        text-align: right;\n",
       "    }\n",
       "</style>\n",
       "<table border=\"1\" class=\"dataframe\">\n",
       "  <thead>\n",
       "    <tr style=\"text-align: right;\">\n",
       "      <th></th>\n",
       "      <th>0</th>\n",
       "    </tr>\n",
       "  </thead>\n",
       "  <tbody>\n",
       "    <tr>\n",
       "      <th>a</th>\n",
       "      <td>1</td>\n",
       "    </tr>\n",
       "    <tr>\n",
       "      <th>b</th>\n",
       "      <td>2</td>\n",
       "    </tr>\n",
       "    <tr>\n",
       "      <th>c</th>\n",
       "      <td>3</td>\n",
       "    </tr>\n",
       "  </tbody>\n",
       "</table>\n",
       "</div>"
      ],
      "text/plain": [
       "   0\n",
       "a  1\n",
       "b  2\n",
       "c  3"
      ]
     },
     "execution_count": 835,
     "metadata": {},
     "output_type": "execute_result"
    }
   ],
   "source": [
    "df5=pd.DataFrame(pd.Series([1,2,3],index=['a','b','c']))\n",
    "df5"
   ]
  },
  {
   "cell_type": "code",
   "execution_count": 839,
   "metadata": {
    "collapsed": true,
    "jupyter": {
     "outputs_hidden": true
    }
   },
   "outputs": [
    {
     "data": {
      "text/html": [
       "<div>\n",
       "<style scoped>\n",
       "    .dataframe tbody tr th:only-of-type {\n",
       "        vertical-align: middle;\n",
       "    }\n",
       "\n",
       "    .dataframe tbody tr th {\n",
       "        vertical-align: top;\n",
       "    }\n",
       "\n",
       "    .dataframe thead th {\n",
       "        text-align: right;\n",
       "    }\n",
       "</style>\n",
       "<table border=\"1\" class=\"dataframe\">\n",
       "  <thead>\n",
       "    <tr style=\"text-align: right;\">\n",
       "      <th></th>\n",
       "      <th>No</th>\n",
       "    </tr>\n",
       "  </thead>\n",
       "  <tbody>\n",
       "    <tr>\n",
       "      <th>1970-01-01 00:00:00.023072020</th>\n",
       "      <td>1</td>\n",
       "    </tr>\n",
       "    <tr>\n",
       "      <th>1970-01-02 00:00:00.023072020</th>\n",
       "      <td>2</td>\n",
       "    </tr>\n",
       "    <tr>\n",
       "      <th>1970-01-03 00:00:00.023072020</th>\n",
       "      <td>3</td>\n",
       "    </tr>\n",
       "  </tbody>\n",
       "</table>\n",
       "</div>"
      ],
      "text/plain": [
       "                               No\n",
       "1970-01-01 00:00:00.023072020   1\n",
       "1970-01-02 00:00:00.023072020   2\n",
       "1970-01-03 00:00:00.023072020   3"
      ]
     },
     "execution_count": 839,
     "metadata": {},
     "output_type": "execute_result"
    }
   ],
   "source": [
    "df5=pd.DataFrame(pd.Series([1,2,3],name='No',index=pd.date_range(23072020, periods=3,)))\n",
    "df5"
   ]
  },
  {
   "cell_type": "code",
   "execution_count": 855,
   "metadata": {
    "collapsed": true,
    "jupyter": {
     "outputs_hidden": true
    }
   },
   "outputs": [
    {
     "data": {
      "text/html": [
       "<div>\n",
       "<style scoped>\n",
       "    .dataframe tbody tr th:only-of-type {\n",
       "        vertical-align: middle;\n",
       "    }\n",
       "\n",
       "    .dataframe tbody tr th {\n",
       "        vertical-align: top;\n",
       "    }\n",
       "\n",
       "    .dataframe thead th {\n",
       "        text-align: right;\n",
       "    }\n",
       "</style>\n",
       "<table border=\"1\" class=\"dataframe\">\n",
       "  <thead>\n",
       "    <tr style=\"text-align: right;\">\n",
       "      <th></th>\n",
       "      <th>0</th>\n",
       "    </tr>\n",
       "    <tr>\n",
       "      <th>No</th>\n",
       "      <th></th>\n",
       "    </tr>\n",
       "  </thead>\n",
       "  <tbody>\n",
       "    <tr>\n",
       "      <th>1970-01-01</th>\n",
       "      <td>1</td>\n",
       "    </tr>\n",
       "    <tr>\n",
       "      <th>1970-01-02</th>\n",
       "      <td>2</td>\n",
       "    </tr>\n",
       "    <tr>\n",
       "      <th>1970-01-03</th>\n",
       "      <td>3</td>\n",
       "    </tr>\n",
       "  </tbody>\n",
       "</table>\n",
       "</div>"
      ],
      "text/plain": [
       "            0\n",
       "No           \n",
       "1970-01-01  1\n",
       "1970-01-02  2\n",
       "1970-01-03  3"
      ]
     },
     "execution_count": 855,
     "metadata": {},
     "output_type": "execute_result"
    }
   ],
   "source": [
    "df5=pd.DataFrame(pd.Series([1,2,3],index=pd.date_range(7/23/2020, periods=3,name='No')))\n",
    "df5"
   ]
  },
  {
   "cell_type": "code",
   "execution_count": 867,
   "metadata": {
    "collapsed": true,
    "jupyter": {
     "outputs_hidden": true
    }
   },
   "outputs": [
    {
     "data": {
      "text/html": [
       "<div>\n",
       "<style scoped>\n",
       "    .dataframe tbody tr th:only-of-type {\n",
       "        vertical-align: middle;\n",
       "    }\n",
       "\n",
       "    .dataframe tbody tr th {\n",
       "        vertical-align: top;\n",
       "    }\n",
       "\n",
       "    .dataframe thead th {\n",
       "        text-align: right;\n",
       "    }\n",
       "</style>\n",
       "<table border=\"1\" class=\"dataframe\">\n",
       "  <thead>\n",
       "    <tr style=\"text-align: right;\">\n",
       "      <th></th>\n",
       "      <th>a</th>\n",
       "      <th>b</th>\n",
       "    </tr>\n",
       "    <tr>\n",
       "      <th>date</th>\n",
       "      <th></th>\n",
       "      <th></th>\n",
       "    </tr>\n",
       "  </thead>\n",
       "  <tbody>\n",
       "    <tr>\n",
       "      <th>1970-01-01</th>\n",
       "      <td>1</td>\n",
       "      <td>5.0</td>\n",
       "    </tr>\n",
       "    <tr>\n",
       "      <th>1970-01-02</th>\n",
       "      <td>2</td>\n",
       "      <td>NaN</td>\n",
       "    </tr>\n",
       "    <tr>\n",
       "      <th>1970-01-03</th>\n",
       "      <td>3</td>\n",
       "      <td>NaN</td>\n",
       "    </tr>\n",
       "    <tr>\n",
       "      <th>1970-01-04</th>\n",
       "      <td>4</td>\n",
       "      <td>8.0</td>\n",
       "    </tr>\n",
       "  </tbody>\n",
       "</table>\n",
       "</div>"
      ],
      "text/plain": [
       "            a    b\n",
       "date              \n",
       "1970-01-01  1  5.0\n",
       "1970-01-02  2  NaN\n",
       "1970-01-03  3  NaN\n",
       "1970-01-04  4  8.0"
      ]
     },
     "execution_count": 867,
     "metadata": {},
     "output_type": "execute_result"
    }
   ],
   "source": [
    "df5=pd.DataFrame({'a':[1,2,3,4],'b':[5,np.nan,np.nan,8]},index=pd.date_range(7/23/2020, periods=4,name='date'))\n",
    "df5"
   ]
  },
  {
   "cell_type": "code",
   "execution_count": 947,
   "metadata": {
    "collapsed": true,
    "jupyter": {
     "outputs_hidden": true
    }
   },
   "outputs": [
    {
     "data": {
      "text/html": [
       "<div>\n",
       "<style scoped>\n",
       "    .dataframe tbody tr th:only-of-type {\n",
       "        vertical-align: middle;\n",
       "    }\n",
       "\n",
       "    .dataframe tbody tr th {\n",
       "        vertical-align: top;\n",
       "    }\n",
       "\n",
       "    .dataframe thead th {\n",
       "        text-align: right;\n",
       "    }\n",
       "</style>\n",
       "<table border=\"1\" class=\"dataframe\">\n",
       "  <thead>\n",
       "    <tr style=\"text-align: right;\">\n",
       "      <th></th>\n",
       "      <th>A</th>\n",
       "      <th>B</th>\n",
       "      <th>C</th>\n",
       "      <th>D</th>\n",
       "    </tr>\n",
       "    <tr>\n",
       "      <th>date</th>\n",
       "      <th></th>\n",
       "      <th></th>\n",
       "      <th></th>\n",
       "      <th></th>\n",
       "    </tr>\n",
       "  </thead>\n",
       "  <tbody>\n",
       "    <tr>\n",
       "      <th>2020-07-23</th>\n",
       "      <td>1</td>\n",
       "      <td>5.0</td>\n",
       "      <td>NaN</td>\n",
       "      <td>hotel</td>\n",
       "    </tr>\n",
       "    <tr>\n",
       "      <th>2020-07-24</th>\n",
       "      <td>2</td>\n",
       "      <td>NaN</td>\n",
       "      <td>NaN</td>\n",
       "      <td>hotel</td>\n",
       "    </tr>\n",
       "    <tr>\n",
       "      <th>2020-07-25</th>\n",
       "      <td>3</td>\n",
       "      <td>NaN</td>\n",
       "      <td>NaN</td>\n",
       "      <td>hotel</td>\n",
       "    </tr>\n",
       "    <tr>\n",
       "      <th>2020-07-26</th>\n",
       "      <td>4</td>\n",
       "      <td>8.0</td>\n",
       "      <td>NaN</td>\n",
       "      <td>hotel</td>\n",
       "    </tr>\n",
       "  </tbody>\n",
       "</table>\n",
       "</div>"
      ],
      "text/plain": [
       "            A    B   C      D\n",
       "date                         \n",
       "2020-07-23  1  5.0 NaN  hotel\n",
       "2020-07-24  2  NaN NaN  hotel\n",
       "2020-07-25  3  NaN NaN  hotel\n",
       "2020-07-26  4  8.0 NaN  hotel"
      ]
     },
     "execution_count": 947,
     "metadata": {},
     "output_type": "execute_result"
    }
   ],
   "source": [
    "df5=pd.DataFrame({'a':[1,2,3,4],\n",
    "                  'b':[5,np.nan,np.nan,8],\n",
    "                  'c':pd.Series(1,dtype='float32',index=list(range(4))),\n",
    "                  'd':'hotel'},index=pd.date_range('7-23-2020', periods=4,name='date'))\n",
    "\n",
    "df5.columns=df5.columns.str.upper()\n",
    "df5"
   ]
  },
  {
   "cell_type": "code",
   "execution_count": 890,
   "metadata": {
    "collapsed": true,
    "jupyter": {
     "outputs_hidden": true
    }
   },
   "outputs": [
    {
     "data": {
      "text/plain": [
       "int64      1\n",
       "float32    1\n",
       "float64    1\n",
       "object     1\n",
       "dtype: int64"
      ]
     },
     "execution_count": 890,
     "metadata": {},
     "output_type": "execute_result"
    }
   ],
   "source": [
    "df5.dtypes.value_counts()"
   ]
  },
  {
   "cell_type": "code",
   "execution_count": 903,
   "metadata": {
    "collapsed": true,
    "jupyter": {
     "outputs_hidden": true
    }
   },
   "outputs": [
    {
     "data": {
      "text/plain": [
       "date\n",
       "2020-07-23    5.0\n",
       "2020-07-26    8.0\n",
       "Name: B, dtype: float64"
      ]
     },
     "execution_count": 903,
     "metadata": {},
     "output_type": "execute_result"
    }
   ],
   "source": [
    "df5['B'].dropna()"
   ]
  },
  {
   "cell_type": "code",
   "execution_count": 904,
   "metadata": {
    "collapsed": true,
    "jupyter": {
     "outputs_hidden": true
    }
   },
   "outputs": [
    {
     "data": {
      "text/html": [
       "<div>\n",
       "<style scoped>\n",
       "    .dataframe tbody tr th:only-of-type {\n",
       "        vertical-align: middle;\n",
       "    }\n",
       "\n",
       "    .dataframe tbody tr th {\n",
       "        vertical-align: top;\n",
       "    }\n",
       "\n",
       "    .dataframe thead th {\n",
       "        text-align: right;\n",
       "    }\n",
       "</style>\n",
       "<table border=\"1\" class=\"dataframe\">\n",
       "  <thead>\n",
       "    <tr style=\"text-align: right;\">\n",
       "      <th></th>\n",
       "      <th>A</th>\n",
       "      <th>B</th>\n",
       "      <th>C</th>\n",
       "      <th>D</th>\n",
       "    </tr>\n",
       "    <tr>\n",
       "      <th>date</th>\n",
       "      <th></th>\n",
       "      <th></th>\n",
       "      <th></th>\n",
       "      <th></th>\n",
       "    </tr>\n",
       "  </thead>\n",
       "  <tbody>\n",
       "    <tr>\n",
       "      <th>2020-07-23</th>\n",
       "      <td>1</td>\n",
       "      <td>5.0</td>\n",
       "      <td>NaN</td>\n",
       "      <td>hotel</td>\n",
       "    </tr>\n",
       "    <tr>\n",
       "      <th>2020-07-24</th>\n",
       "      <td>2</td>\n",
       "      <td>NaN</td>\n",
       "      <td>NaN</td>\n",
       "      <td>hotel</td>\n",
       "    </tr>\n",
       "    <tr>\n",
       "      <th>2020-07-25</th>\n",
       "      <td>3</td>\n",
       "      <td>NaN</td>\n",
       "      <td>NaN</td>\n",
       "      <td>hotel</td>\n",
       "    </tr>\n",
       "    <tr>\n",
       "      <th>2020-07-26</th>\n",
       "      <td>4</td>\n",
       "      <td>8.0</td>\n",
       "      <td>NaN</td>\n",
       "      <td>hotel</td>\n",
       "    </tr>\n",
       "  </tbody>\n",
       "</table>\n",
       "</div>"
      ],
      "text/plain": [
       "            A    B   C      D\n",
       "date                         \n",
       "2020-07-23  1  5.0 NaN  hotel\n",
       "2020-07-24  2  NaN NaN  hotel\n",
       "2020-07-25  3  NaN NaN  hotel\n",
       "2020-07-26  4  8.0 NaN  hotel"
      ]
     },
     "execution_count": 904,
     "metadata": {},
     "output_type": "execute_result"
    }
   ],
   "source": [
    "df5"
   ]
  },
  {
   "cell_type": "code",
   "execution_count": 907,
   "metadata": {
    "collapsed": true,
    "jupyter": {
     "outputs_hidden": true
    }
   },
   "outputs": [
    {
     "data": {
      "text/html": [
       "<div>\n",
       "<style scoped>\n",
       "    .dataframe tbody tr th:only-of-type {\n",
       "        vertical-align: middle;\n",
       "    }\n",
       "\n",
       "    .dataframe tbody tr th {\n",
       "        vertical-align: top;\n",
       "    }\n",
       "\n",
       "    .dataframe thead th {\n",
       "        text-align: right;\n",
       "    }\n",
       "</style>\n",
       "<table border=\"1\" class=\"dataframe\">\n",
       "  <thead>\n",
       "    <tr style=\"text-align: right;\">\n",
       "      <th></th>\n",
       "      <th>A</th>\n",
       "      <th>B</th>\n",
       "      <th>C</th>\n",
       "      <th>D</th>\n",
       "    </tr>\n",
       "    <tr>\n",
       "      <th>date</th>\n",
       "      <th></th>\n",
       "      <th></th>\n",
       "      <th></th>\n",
       "      <th></th>\n",
       "    </tr>\n",
       "  </thead>\n",
       "  <tbody>\n",
       "  </tbody>\n",
       "</table>\n",
       "</div>"
      ],
      "text/plain": [
       "Empty DataFrame\n",
       "Columns: [A, B, C, D]\n",
       "Index: []"
      ]
     },
     "execution_count": 907,
     "metadata": {},
     "output_type": "execute_result"
    }
   ],
   "source": [
    "df5[df5['B']==None]"
   ]
  },
  {
   "cell_type": "code",
   "execution_count": 908,
   "metadata": {
    "collapsed": true,
    "jupyter": {
     "outputs_hidden": true
    }
   },
   "outputs": [
    {
     "data": {
      "text/plain": [
       "date\n",
       "2020-07-23    False\n",
       "2020-07-24    False\n",
       "2020-07-25    False\n",
       "2020-07-26    False\n",
       "Freq: D, Name: B, dtype: bool"
      ]
     },
     "execution_count": 908,
     "metadata": {},
     "output_type": "execute_result"
    }
   ],
   "source": [
    "df5['B']==None"
   ]
  },
  {
   "cell_type": "code",
   "execution_count": 909,
   "metadata": {
    "collapsed": true,
    "jupyter": {
     "outputs_hidden": true
    }
   },
   "outputs": [
    {
     "data": {
      "text/plain": [
       "date\n",
       "2020-07-23    False\n",
       "2020-07-24    False\n",
       "2020-07-25    False\n",
       "2020-07-26    False\n",
       "Freq: D, Name: B, dtype: bool"
      ]
     },
     "execution_count": 909,
     "metadata": {},
     "output_type": "execute_result"
    }
   ],
   "source": [
    "df5['B']==np.nan"
   ]
  },
  {
   "cell_type": "code",
   "execution_count": 939,
   "metadata": {
    "collapsed": true,
    "jupyter": {
     "outputs_hidden": true
    }
   },
   "outputs": [
    {
     "data": {
      "text/html": [
       "<div>\n",
       "<style scoped>\n",
       "    .dataframe tbody tr th:only-of-type {\n",
       "        vertical-align: middle;\n",
       "    }\n",
       "\n",
       "    .dataframe tbody tr th {\n",
       "        vertical-align: top;\n",
       "    }\n",
       "\n",
       "    .dataframe thead th {\n",
       "        text-align: right;\n",
       "    }\n",
       "</style>\n",
       "<table border=\"1\" class=\"dataframe\">\n",
       "  <thead>\n",
       "    <tr style=\"text-align: right;\">\n",
       "      <th></th>\n",
       "      <th>A</th>\n",
       "      <th>B</th>\n",
       "      <th>C</th>\n",
       "      <th>D</th>\n",
       "    </tr>\n",
       "    <tr>\n",
       "      <th>date</th>\n",
       "      <th></th>\n",
       "      <th></th>\n",
       "      <th></th>\n",
       "      <th></th>\n",
       "    </tr>\n",
       "  </thead>\n",
       "  <tbody>\n",
       "    <tr>\n",
       "      <th>2020-07-24</th>\n",
       "      <td>2</td>\n",
       "      <td>NaN</td>\n",
       "      <td>NaN</td>\n",
       "      <td>hotel</td>\n",
       "    </tr>\n",
       "    <tr>\n",
       "      <th>2020-07-25</th>\n",
       "      <td>3</td>\n",
       "      <td>NaN</td>\n",
       "      <td>NaN</td>\n",
       "      <td>hotel</td>\n",
       "    </tr>\n",
       "  </tbody>\n",
       "</table>\n",
       "</div>"
      ],
      "text/plain": [
       "            A   B   C      D\n",
       "date                        \n",
       "2020-07-24  2 NaN NaN  hotel\n",
       "2020-07-25  3 NaN NaN  hotel"
      ]
     },
     "execution_count": 939,
     "metadata": {},
     "output_type": "execute_result"
    }
   ],
   "source": [
    "df5['2020-07-24':'2020-07-25']"
   ]
  },
  {
   "cell_type": "code",
   "execution_count": 919,
   "metadata": {
    "collapsed": true,
    "jupyter": {
     "outputs_hidden": true
    }
   },
   "outputs": [
    {
     "data": {
      "text/html": [
       "<div>\n",
       "<style scoped>\n",
       "    .dataframe tbody tr th:only-of-type {\n",
       "        vertical-align: middle;\n",
       "    }\n",
       "\n",
       "    .dataframe tbody tr th {\n",
       "        vertical-align: top;\n",
       "    }\n",
       "\n",
       "    .dataframe thead th {\n",
       "        text-align: right;\n",
       "    }\n",
       "</style>\n",
       "<table border=\"1\" class=\"dataframe\">\n",
       "  <thead>\n",
       "    <tr style=\"text-align: right;\">\n",
       "      <th></th>\n",
       "      <th>A</th>\n",
       "      <th>B</th>\n",
       "      <th>C</th>\n",
       "      <th>D</th>\n",
       "    </tr>\n",
       "    <tr>\n",
       "      <th>date</th>\n",
       "      <th></th>\n",
       "      <th></th>\n",
       "      <th></th>\n",
       "      <th></th>\n",
       "    </tr>\n",
       "  </thead>\n",
       "  <tbody>\n",
       "    <tr>\n",
       "      <th>2020-07-24</th>\n",
       "      <td>2</td>\n",
       "      <td>NaN</td>\n",
       "      <td>NaN</td>\n",
       "      <td>hotel</td>\n",
       "    </tr>\n",
       "    <tr>\n",
       "      <th>2020-07-25</th>\n",
       "      <td>3</td>\n",
       "      <td>NaN</td>\n",
       "      <td>NaN</td>\n",
       "      <td>hotel</td>\n",
       "    </tr>\n",
       "  </tbody>\n",
       "</table>\n",
       "</div>"
      ],
      "text/plain": [
       "            A   B   C      D\n",
       "date                        \n",
       "2020-07-24  2 NaN NaN  hotel\n",
       "2020-07-25  3 NaN NaN  hotel"
      ]
     },
     "execution_count": 919,
     "metadata": {},
     "output_type": "execute_result"
    }
   ],
   "source": [
    "df5[df5['B'].isna()].index"
   ]
  },
  {
   "cell_type": "code",
   "execution_count": 948,
   "metadata": {
    "collapsed": true,
    "jupyter": {
     "outputs_hidden": true
    }
   },
   "outputs": [
    {
     "data": {
      "text/html": [
       "<div>\n",
       "<style scoped>\n",
       "    .dataframe tbody tr th:only-of-type {\n",
       "        vertical-align: middle;\n",
       "    }\n",
       "\n",
       "    .dataframe tbody tr th {\n",
       "        vertical-align: top;\n",
       "    }\n",
       "\n",
       "    .dataframe thead th {\n",
       "        text-align: right;\n",
       "    }\n",
       "</style>\n",
       "<table border=\"1\" class=\"dataframe\">\n",
       "  <thead>\n",
       "    <tr style=\"text-align: right;\">\n",
       "      <th></th>\n",
       "      <th>A</th>\n",
       "      <th>B</th>\n",
       "      <th>C</th>\n",
       "      <th>D</th>\n",
       "    </tr>\n",
       "    <tr>\n",
       "      <th>date</th>\n",
       "      <th></th>\n",
       "      <th></th>\n",
       "      <th></th>\n",
       "      <th></th>\n",
       "    </tr>\n",
       "  </thead>\n",
       "  <tbody>\n",
       "    <tr>\n",
       "      <th>2020-07-23</th>\n",
       "      <td>1</td>\n",
       "      <td>5.0</td>\n",
       "      <td>NaN</td>\n",
       "      <td>hotel</td>\n",
       "    </tr>\n",
       "    <tr>\n",
       "      <th>2020-07-24</th>\n",
       "      <td>2</td>\n",
       "      <td>200.0</td>\n",
       "      <td>NaN</td>\n",
       "      <td>hotel</td>\n",
       "    </tr>\n",
       "    <tr>\n",
       "      <th>2020-07-25</th>\n",
       "      <td>3</td>\n",
       "      <td>300.0</td>\n",
       "      <td>NaN</td>\n",
       "      <td>hotel</td>\n",
       "    </tr>\n",
       "    <tr>\n",
       "      <th>2020-07-26</th>\n",
       "      <td>4</td>\n",
       "      <td>8.0</td>\n",
       "      <td>NaN</td>\n",
       "      <td>hotel</td>\n",
       "    </tr>\n",
       "  </tbody>\n",
       "</table>\n",
       "</div>"
      ],
      "text/plain": [
       "            A      B   C      D\n",
       "date                           \n",
       "2020-07-23  1    5.0 NaN  hotel\n",
       "2020-07-24  2  200.0 NaN  hotel\n",
       "2020-07-25  3  300.0 NaN  hotel\n",
       "2020-07-26  4    8.0 NaN  hotel"
      ]
     },
     "execution_count": 948,
     "metadata": {},
     "output_type": "execute_result"
    }
   ],
   "source": [
    "#df5['b'] = df5.b.fillna(df5.a*100) is equivalent to below from stackflow\n",
    "df5.loc[df5['B'].isna(),'B']=df5.loc[df5['B'].isna(),'A']*100\n",
    "df5"
   ]
  },
  {
   "cell_type": "code",
   "execution_count": 926,
   "metadata": {
    "collapsed": true,
    "jupyter": {
     "outputs_hidden": true
    }
   },
   "outputs": [],
   "source": [
    "df5.loc['2020-07-24':'2020-07-25','B']=df5.loc['2020-07-24':'2020-07-25','A']*100"
   ]
  },
  {
   "cell_type": "code",
   "execution_count": 953,
   "metadata": {
    "collapsed": true,
    "jupyter": {
     "outputs_hidden": true
    }
   },
   "outputs": [
    {
     "data": {
      "text/html": [
       "<div>\n",
       "<style scoped>\n",
       "    .dataframe tbody tr th:only-of-type {\n",
       "        vertical-align: middle;\n",
       "    }\n",
       "\n",
       "    .dataframe tbody tr th {\n",
       "        vertical-align: top;\n",
       "    }\n",
       "\n",
       "    .dataframe thead th {\n",
       "        text-align: right;\n",
       "    }\n",
       "</style>\n",
       "<table border=\"1\" class=\"dataframe\">\n",
       "  <thead>\n",
       "    <tr style=\"text-align: right;\">\n",
       "      <th></th>\n",
       "      <th>A</th>\n",
       "      <th>B</th>\n",
       "      <th>C</th>\n",
       "      <th>D</th>\n",
       "    </tr>\n",
       "    <tr>\n",
       "      <th>date</th>\n",
       "      <th></th>\n",
       "      <th></th>\n",
       "      <th></th>\n",
       "      <th></th>\n",
       "    </tr>\n",
       "  </thead>\n",
       "  <tbody>\n",
       "    <tr>\n",
       "      <th>2020-07-23</th>\n",
       "      <td>1</td>\n",
       "      <td>5.0</td>\n",
       "      <td>5.0</td>\n",
       "      <td>hotel</td>\n",
       "    </tr>\n",
       "    <tr>\n",
       "      <th>2020-07-24</th>\n",
       "      <td>2</td>\n",
       "      <td>200.0</td>\n",
       "      <td>200.0</td>\n",
       "      <td>hotel</td>\n",
       "    </tr>\n",
       "    <tr>\n",
       "      <th>2020-07-25</th>\n",
       "      <td>3</td>\n",
       "      <td>300.0</td>\n",
       "      <td>NaN</td>\n",
       "      <td>hotel</td>\n",
       "    </tr>\n",
       "    <tr>\n",
       "      <th>2020-07-26</th>\n",
       "      <td>4</td>\n",
       "      <td>8.0</td>\n",
       "      <td>NaN</td>\n",
       "      <td>hotel</td>\n",
       "    </tr>\n",
       "  </tbody>\n",
       "</table>\n",
       "</div>"
      ],
      "text/plain": [
       "            A      B      C      D\n",
       "date                              \n",
       "2020-07-23  1    5.0    5.0  hotel\n",
       "2020-07-24  2  200.0  200.0  hotel\n",
       "2020-07-25  3  300.0    NaN  hotel\n",
       "2020-07-26  4    8.0    NaN  hotel"
      ]
     },
     "execution_count": 953,
     "metadata": {},
     "output_type": "execute_result"
    }
   ],
   "source": [
    "df5.loc[df5['C'].isna(),'C']=df5['C'].fillna(df5['B'][0:2])\n",
    "df5"
   ]
  },
  {
   "cell_type": "code",
   "execution_count": 1004,
   "metadata": {
    "collapsed": true,
    "jupyter": {
     "outputs_hidden": true
    }
   },
   "outputs": [
    {
     "data": {
      "text/plain": [
       "h1     NaN\n",
       "h11    NaN\n",
       "h2     NaN\n",
       "h33    7.0\n",
       "Name: n, dtype: float64"
      ]
     },
     "execution_count": 1004,
     "metadata": {},
     "output_type": "execute_result"
    }
   ],
   "source": [
    "s1=pd.Series([1,2,3],index=['h11','h2','h33'],name='n')\n",
    "s2=pd.Series([5,np.nan,4],index=['h1','h2','h33'],name='n')\n",
    "df6=s1+s2\n",
    "df6"
   ]
  },
  {
   "cell_type": "code",
   "execution_count": 960,
   "metadata": {
    "collapsed": true,
    "jupyter": {
     "outputs_hidden": true
    }
   },
   "outputs": [
    {
     "data": {
      "text/plain": [
       "h11    1\n",
       "h22    2\n",
       "h33    3\n",
       "dtype: int64"
      ]
     },
     "execution_count": 960,
     "metadata": {},
     "output_type": "execute_result"
    }
   ],
   "source": [
    "s1"
   ]
  },
  {
   "cell_type": "code",
   "execution_count": 990,
   "metadata": {
    "collapsed": true,
    "jupyter": {
     "outputs_hidden": true
    }
   },
   "outputs": [
    {
     "data": {
      "text/html": [
       "<div>\n",
       "<style scoped>\n",
       "    .dataframe tbody tr th:only-of-type {\n",
       "        vertical-align: middle;\n",
       "    }\n",
       "\n",
       "    .dataframe tbody tr th {\n",
       "        vertical-align: top;\n",
       "    }\n",
       "\n",
       "    .dataframe thead th {\n",
       "        text-align: right;\n",
       "    }\n",
       "</style>\n",
       "<table border=\"1\" class=\"dataframe\">\n",
       "  <thead>\n",
       "    <tr style=\"text-align: right;\">\n",
       "      <th></th>\n",
       "      <th>s1</th>\n",
       "      <th>s2</th>\n",
       "    </tr>\n",
       "  </thead>\n",
       "  <tbody>\n",
       "    <tr>\n",
       "      <th>h11</th>\n",
       "      <td>1.0</td>\n",
       "      <td>NaN</td>\n",
       "    </tr>\n",
       "    <tr>\n",
       "      <th>h2</th>\n",
       "      <td>2.0</td>\n",
       "      <td>NaN</td>\n",
       "    </tr>\n",
       "    <tr>\n",
       "      <th>h33</th>\n",
       "      <td>3.0</td>\n",
       "      <td>NaN</td>\n",
       "    </tr>\n",
       "    <tr>\n",
       "      <th>h1</th>\n",
       "      <td>NaN</td>\n",
       "      <td>5.0</td>\n",
       "    </tr>\n",
       "  </tbody>\n",
       "</table>\n",
       "</div>"
      ],
      "text/plain": [
       "      s1   s2\n",
       "h11  1.0  NaN\n",
       "h2   2.0  NaN\n",
       "h33  3.0  NaN\n",
       "h1   NaN  5.0"
      ]
     },
     "execution_count": 990,
     "metadata": {},
     "output_type": "execute_result"
    }
   ],
   "source": [
    "df6=pd.concat([s1,s2],axis=1,keys=('s1','s2'),join='outer',sort=False)\n",
    "df6"
   ]
  },
  {
   "cell_type": "code",
   "execution_count": 988,
   "metadata": {
    "collapsed": true,
    "jupyter": {
     "outputs_hidden": true
    }
   },
   "outputs": [
    {
     "ename": "MergeError",
     "evalue": "No common columns to perform merge on. Merge options: left_on=None, right_on=None, left_index=False, right_index=False",
     "output_type": "error",
     "traceback": [
      "\u001b[1;31m---------------------------------------------------------------------------\u001b[0m",
      "\u001b[1;31mMergeError\u001b[0m                                Traceback (most recent call last)",
      "\u001b[1;32m<ipython-input-988-0ceaf832fa78>\u001b[0m in \u001b[0;36m<module>\u001b[1;34m\u001b[0m\n\u001b[1;32m----> 1\u001b[1;33m \u001b[0mdf6\u001b[0m\u001b[1;33m=\u001b[0m\u001b[0mpd\u001b[0m\u001b[1;33m.\u001b[0m\u001b[0mmerge\u001b[0m\u001b[1;33m(\u001b[0m\u001b[0ms1\u001b[0m\u001b[1;33m,\u001b[0m\u001b[0ms2\u001b[0m\u001b[1;33m,\u001b[0m\u001b[0mhow\u001b[0m\u001b[1;33m=\u001b[0m\u001b[1;34m'left'\u001b[0m\u001b[1;33m,\u001b[0m\u001b[0msort\u001b[0m\u001b[1;33m=\u001b[0m\u001b[1;32mFalse\u001b[0m\u001b[1;33m)\u001b[0m\u001b[1;33m\u001b[0m\u001b[1;33m\u001b[0m\u001b[0m\n\u001b[0m\u001b[0;32m      2\u001b[0m \u001b[0mdf6\u001b[0m\u001b[1;33m\u001b[0m\u001b[1;33m\u001b[0m\u001b[0m\n",
      "\u001b[1;32mc:\\users\\fuad.ak\\appdata\\local\\programs\\python\\python37-32\\lib\\site-packages\\pandas\\core\\reshape\\merge.py\u001b[0m in \u001b[0;36mmerge\u001b[1;34m(left, right, how, on, left_on, right_on, left_index, right_index, sort, suffixes, copy, indicator, validate)\u001b[0m\n\u001b[0;32m     79\u001b[0m         \u001b[0mcopy\u001b[0m\u001b[1;33m=\u001b[0m\u001b[0mcopy\u001b[0m\u001b[1;33m,\u001b[0m\u001b[1;33m\u001b[0m\u001b[1;33m\u001b[0m\u001b[0m\n\u001b[0;32m     80\u001b[0m         \u001b[0mindicator\u001b[0m\u001b[1;33m=\u001b[0m\u001b[0mindicator\u001b[0m\u001b[1;33m,\u001b[0m\u001b[1;33m\u001b[0m\u001b[1;33m\u001b[0m\u001b[0m\n\u001b[1;32m---> 81\u001b[1;33m         \u001b[0mvalidate\u001b[0m\u001b[1;33m=\u001b[0m\u001b[0mvalidate\u001b[0m\u001b[1;33m,\u001b[0m\u001b[1;33m\u001b[0m\u001b[1;33m\u001b[0m\u001b[0m\n\u001b[0m\u001b[0;32m     82\u001b[0m     )\n\u001b[0;32m     83\u001b[0m     \u001b[1;32mreturn\u001b[0m \u001b[0mop\u001b[0m\u001b[1;33m.\u001b[0m\u001b[0mget_result\u001b[0m\u001b[1;33m(\u001b[0m\u001b[1;33m)\u001b[0m\u001b[1;33m\u001b[0m\u001b[1;33m\u001b[0m\u001b[0m\n",
      "\u001b[1;32mc:\\users\\fuad.ak\\appdata\\local\\programs\\python\\python37-32\\lib\\site-packages\\pandas\\core\\reshape\\merge.py\u001b[0m in \u001b[0;36m__init__\u001b[1;34m(self, left, right, how, on, left_on, right_on, axis, left_index, right_index, sort, suffixes, copy, indicator, validate)\u001b[0m\n\u001b[0;32m    617\u001b[0m             \u001b[0mwarnings\u001b[0m\u001b[1;33m.\u001b[0m\u001b[0mwarn\u001b[0m\u001b[1;33m(\u001b[0m\u001b[0mmsg\u001b[0m\u001b[1;33m,\u001b[0m \u001b[0mUserWarning\u001b[0m\u001b[1;33m)\u001b[0m\u001b[1;33m\u001b[0m\u001b[1;33m\u001b[0m\u001b[0m\n\u001b[0;32m    618\u001b[0m \u001b[1;33m\u001b[0m\u001b[0m\n\u001b[1;32m--> 619\u001b[1;33m         \u001b[0mself\u001b[0m\u001b[1;33m.\u001b[0m\u001b[0m_validate_specification\u001b[0m\u001b[1;33m(\u001b[0m\u001b[1;33m)\u001b[0m\u001b[1;33m\u001b[0m\u001b[1;33m\u001b[0m\u001b[0m\n\u001b[0m\u001b[0;32m    620\u001b[0m \u001b[1;33m\u001b[0m\u001b[0m\n\u001b[0;32m    621\u001b[0m         \u001b[1;31m# note this function has side effects\u001b[0m\u001b[1;33m\u001b[0m\u001b[1;33m\u001b[0m\u001b[1;33m\u001b[0m\u001b[0m\n",
      "\u001b[1;32mc:\\users\\fuad.ak\\appdata\\local\\programs\\python\\python37-32\\lib\\site-packages\\pandas\\core\\reshape\\merge.py\u001b[0m in \u001b[0;36m_validate_specification\u001b[1;34m(self)\u001b[0m\n\u001b[0;32m   1188\u001b[0m                             \u001b[0mron\u001b[0m\u001b[1;33m=\u001b[0m\u001b[0mself\u001b[0m\u001b[1;33m.\u001b[0m\u001b[0mright_on\u001b[0m\u001b[1;33m,\u001b[0m\u001b[1;33m\u001b[0m\u001b[1;33m\u001b[0m\u001b[0m\n\u001b[0;32m   1189\u001b[0m                             \u001b[0mlidx\u001b[0m\u001b[1;33m=\u001b[0m\u001b[0mself\u001b[0m\u001b[1;33m.\u001b[0m\u001b[0mleft_index\u001b[0m\u001b[1;33m,\u001b[0m\u001b[1;33m\u001b[0m\u001b[1;33m\u001b[0m\u001b[0m\n\u001b[1;32m-> 1190\u001b[1;33m                             \u001b[0mridx\u001b[0m\u001b[1;33m=\u001b[0m\u001b[0mself\u001b[0m\u001b[1;33m.\u001b[0m\u001b[0mright_index\u001b[0m\u001b[1;33m,\u001b[0m\u001b[1;33m\u001b[0m\u001b[1;33m\u001b[0m\u001b[0m\n\u001b[0m\u001b[0;32m   1191\u001b[0m                         )\n\u001b[0;32m   1192\u001b[0m                     )\n",
      "\u001b[1;31mMergeError\u001b[0m: No common columns to perform merge on. Merge options: left_on=None, right_on=None, left_index=False, right_index=False"
     ]
    }
   ],
   "source": [
    "df6=pd.merge(s1,s2,how='left',sort=False)\n",
    "df6"
   ]
  },
  {
   "cell_type": "code",
   "execution_count": 989,
   "metadata": {
    "collapsed": true,
    "jupyter": {
     "outputs_hidden": true
    }
   },
   "outputs": [
    {
     "ename": "AttributeError",
     "evalue": "'Series' object has no attribute 'join'",
     "output_type": "error",
     "traceback": [
      "\u001b[1;31m---------------------------------------------------------------------------\u001b[0m",
      "\u001b[1;31mAttributeError\u001b[0m                            Traceback (most recent call last)",
      "\u001b[1;32m<ipython-input-989-84bd471a3c46>\u001b[0m in \u001b[0;36m<module>\u001b[1;34m\u001b[0m\n\u001b[1;32m----> 1\u001b[1;33m \u001b[0mdf6\u001b[0m\u001b[1;33m=\u001b[0m\u001b[0ms1\u001b[0m\u001b[1;33m.\u001b[0m\u001b[0mjoin\u001b[0m\u001b[1;33m(\u001b[0m\u001b[0ms2\u001b[0m\u001b[1;33m)\u001b[0m\u001b[1;33m\u001b[0m\u001b[1;33m\u001b[0m\u001b[0m\n\u001b[0m\u001b[0;32m      2\u001b[0m \u001b[0mdf6\u001b[0m\u001b[1;33m\u001b[0m\u001b[1;33m\u001b[0m\u001b[0m\n",
      "\u001b[1;32mc:\\users\\fuad.ak\\appdata\\local\\programs\\python\\python37-32\\lib\\site-packages\\pandas\\core\\generic.py\u001b[0m in \u001b[0;36m__getattr__\u001b[1;34m(self, name)\u001b[0m\n\u001b[0;32m   5177\u001b[0m             \u001b[1;32mif\u001b[0m \u001b[0mself\u001b[0m\u001b[1;33m.\u001b[0m\u001b[0m_info_axis\u001b[0m\u001b[1;33m.\u001b[0m\u001b[0m_can_hold_identifiers_and_holds_name\u001b[0m\u001b[1;33m(\u001b[0m\u001b[0mname\u001b[0m\u001b[1;33m)\u001b[0m\u001b[1;33m:\u001b[0m\u001b[1;33m\u001b[0m\u001b[1;33m\u001b[0m\u001b[0m\n\u001b[0;32m   5178\u001b[0m                 \u001b[1;32mreturn\u001b[0m \u001b[0mself\u001b[0m\u001b[1;33m[\u001b[0m\u001b[0mname\u001b[0m\u001b[1;33m]\u001b[0m\u001b[1;33m\u001b[0m\u001b[1;33m\u001b[0m\u001b[0m\n\u001b[1;32m-> 5179\u001b[1;33m             \u001b[1;32mreturn\u001b[0m \u001b[0mobject\u001b[0m\u001b[1;33m.\u001b[0m\u001b[0m__getattribute__\u001b[0m\u001b[1;33m(\u001b[0m\u001b[0mself\u001b[0m\u001b[1;33m,\u001b[0m \u001b[0mname\u001b[0m\u001b[1;33m)\u001b[0m\u001b[1;33m\u001b[0m\u001b[1;33m\u001b[0m\u001b[0m\n\u001b[0m\u001b[0;32m   5180\u001b[0m \u001b[1;33m\u001b[0m\u001b[0m\n\u001b[0;32m   5181\u001b[0m     \u001b[1;32mdef\u001b[0m \u001b[0m__setattr__\u001b[0m\u001b[1;33m(\u001b[0m\u001b[0mself\u001b[0m\u001b[1;33m,\u001b[0m \u001b[0mname\u001b[0m\u001b[1;33m,\u001b[0m \u001b[0mvalue\u001b[0m\u001b[1;33m)\u001b[0m\u001b[1;33m:\u001b[0m\u001b[1;33m\u001b[0m\u001b[1;33m\u001b[0m\u001b[0m\n",
      "\u001b[1;31mAttributeError\u001b[0m: 'Series' object has no attribute 'join'"
     ]
    }
   ],
   "source": [
    "df6=s1.join(s2)\n",
    "df6"
   ]
  },
  {
   "cell_type": "code",
   "execution_count": 1009,
   "metadata": {
    "collapsed": true,
    "jupyter": {
     "outputs_hidden": true
    }
   },
   "outputs": [
    {
     "data": {
      "text/html": [
       "<div>\n",
       "<style scoped>\n",
       "    .dataframe tbody tr th:only-of-type {\n",
       "        vertical-align: middle;\n",
       "    }\n",
       "\n",
       "    .dataframe tbody tr th {\n",
       "        vertical-align: top;\n",
       "    }\n",
       "\n",
       "    .dataframe thead th {\n",
       "        text-align: right;\n",
       "    }\n",
       "</style>\n",
       "<table border=\"1\" class=\"dataframe\">\n",
       "  <thead>\n",
       "    <tr style=\"text-align: right;\">\n",
       "      <th></th>\n",
       "      <th>n_x</th>\n",
       "      <th>n_y</th>\n",
       "    </tr>\n",
       "  </thead>\n",
       "  <tbody>\n",
       "    <tr>\n",
       "      <th>h11</th>\n",
       "      <td>1</td>\n",
       "      <td>NaN</td>\n",
       "    </tr>\n",
       "    <tr>\n",
       "      <th>h2</th>\n",
       "      <td>2</td>\n",
       "      <td>NaN</td>\n",
       "    </tr>\n",
       "    <tr>\n",
       "      <th>h33</th>\n",
       "      <td>3</td>\n",
       "      <td>4.0</td>\n",
       "    </tr>\n",
       "  </tbody>\n",
       "</table>\n",
       "</div>"
      ],
      "text/plain": [
       "     n_x  n_y\n",
       "h11    1  NaN\n",
       "h2     2  NaN\n",
       "h33    3  4.0"
      ]
     },
     "execution_count": 1009,
     "metadata": {},
     "output_type": "execute_result"
    }
   ],
   "source": [
    "pd.merge(s1,s2,how='left',left_index=True,right_index=True) #to indicate that merge is based on index"
   ]
  },
  {
   "cell_type": "code",
   "execution_count": 1010,
   "metadata": {
    "collapsed": true,
    "jupyter": {
     "outputs_hidden": true
    }
   },
   "outputs": [
    {
     "data": {
      "text/html": [
       "<div>\n",
       "<style scoped>\n",
       "    .dataframe tbody tr th:only-of-type {\n",
       "        vertical-align: middle;\n",
       "    }\n",
       "\n",
       "    .dataframe tbody tr th {\n",
       "        vertical-align: top;\n",
       "    }\n",
       "\n",
       "    .dataframe thead th {\n",
       "        text-align: right;\n",
       "    }\n",
       "</style>\n",
       "<table border=\"1\" class=\"dataframe\">\n",
       "  <thead>\n",
       "    <tr style=\"text-align: right;\">\n",
       "      <th></th>\n",
       "      <th>n</th>\n",
       "    </tr>\n",
       "  </thead>\n",
       "  <tbody>\n",
       "  </tbody>\n",
       "</table>\n",
       "</div>"
      ],
      "text/plain": [
       "Empty DataFrame\n",
       "Columns: [n]\n",
       "Index: []"
      ]
     },
     "execution_count": 1010,
     "metadata": {},
     "output_type": "execute_result"
    }
   ],
   "source": [
    "pd.merge(s1,s2, on='n')"
   ]
  },
  {
   "cell_type": "code",
   "execution_count": 1608,
   "metadata": {},
   "outputs": [],
   "source": [
    "# view 1009 line\n",
    "\n",
    "booking_index=pd.read_excel(r'C:\\Users\\fuad.ak\\Google Drive (research.statistics19@gmail.com)\\Booking.com data\\Analysis\\Booking.com Monthly comparisons-source.xlsx',\n",
    "                           sheet_name='index')"
   ]
  },
  {
   "cell_type": "code",
   "execution_count": 1610,
   "metadata": {},
   "outputs": [],
   "source": [
    "booking_index=booking_index.dropna(how='all').dropna(how='all',axis=1)"
   ]
  },
  {
   "cell_type": "code",
   "execution_count": 1609,
   "metadata": {},
   "outputs": [
    {
     "data": {
      "text/html": [
       "<div>\n",
       "<style scoped>\n",
       "    .dataframe tbody tr th:only-of-type {\n",
       "        vertical-align: middle;\n",
       "    }\n",
       "\n",
       "    .dataframe tbody tr th {\n",
       "        vertical-align: top;\n",
       "    }\n",
       "\n",
       "    .dataframe thead th {\n",
       "        text-align: right;\n",
       "    }\n",
       "</style>\n",
       "<table border=\"1\" class=\"dataframe\">\n",
       "  <thead>\n",
       "    <tr style=\"text-align: right;\">\n",
       "      <th></th>\n",
       "      <th>Hotels</th>\n",
       "      <th>Count of property_name</th>\n",
       "      <th>December</th>\n",
       "      <th>January</th>\n",
       "      <th>February</th>\n",
       "      <th>March</th>\n",
       "      <th>April</th>\n",
       "      <th>May</th>\n",
       "      <th>June</th>\n",
       "      <th>July</th>\n",
       "      <th>Star rating</th>\n",
       "    </tr>\n",
       "  </thead>\n",
       "  <tbody>\n",
       "    <tr>\n",
       "      <th>0</th>\n",
       "      <td>ABSERON HOTEL</td>\n",
       "      <td>30</td>\n",
       "      <td>35.000000</td>\n",
       "      <td>35.000000</td>\n",
       "      <td>29.4125</td>\n",
       "      <td>35.780465</td>\n",
       "      <td>43.002814</td>\n",
       "      <td>36.011917</td>\n",
       "      <td>64.800855</td>\n",
       "      <td>45.526878</td>\n",
       "      <td>unknown</td>\n",
       "    </tr>\n",
       "    <tr>\n",
       "      <th>1</th>\n",
       "      <td>Absheron Marina</td>\n",
       "      <td>30</td>\n",
       "      <td>0.000000</td>\n",
       "      <td>100.000000</td>\n",
       "      <td>100.0000</td>\n",
       "      <td>100.000000</td>\n",
       "      <td>138.666667</td>\n",
       "      <td>140.000000</td>\n",
       "      <td>140.000000</td>\n",
       "      <td>182.903226</td>\n",
       "      <td>unknown</td>\n",
       "    </tr>\n",
       "    <tr>\n",
       "      <th>2</th>\n",
       "      <td>Abu Arena Hotel</td>\n",
       "      <td>31</td>\n",
       "      <td>38.709677</td>\n",
       "      <td>28.464286</td>\n",
       "      <td>27.0000</td>\n",
       "      <td>36.444444</td>\n",
       "      <td>18.233333</td>\n",
       "      <td>28.580645</td>\n",
       "      <td>30.428571</td>\n",
       "      <td>18.448276</td>\n",
       "      <td>4-star hotel</td>\n",
       "    </tr>\n",
       "  </tbody>\n",
       "</table>\n",
       "</div>"
      ],
      "text/plain": [
       "            Hotels  Count of property_name   December     January  February  \\\n",
       "0    ABSERON HOTEL                      30  35.000000   35.000000   29.4125   \n",
       "1  Absheron Marina                      30   0.000000  100.000000  100.0000   \n",
       "2  Abu Arena Hotel                      31  38.709677   28.464286   27.0000   \n",
       "\n",
       "        March       April         May        June        July   Star rating  \n",
       "0   35.780465   43.002814   36.011917   64.800855   45.526878       unknown  \n",
       "1  100.000000  138.666667  140.000000  140.000000  182.903226       unknown  \n",
       "2   36.444444   18.233333   28.580645   30.428571   18.448276  4-star hotel  "
      ]
     },
     "execution_count": 1609,
     "metadata": {},
     "output_type": "execute_result"
    }
   ],
   "source": [
    "booking_index.head(3)"
   ]
  },
  {
   "cell_type": "code",
   "execution_count": 1611,
   "metadata": {},
   "outputs": [
    {
     "data": {
      "text/plain": [
       "Index(['Hotels', 'Count of property_name', 'December', 'January', 'February',\n",
       "       'March', 'April', 'May', 'June', 'July'],\n",
       "      dtype='object')"
      ]
     },
     "execution_count": 1611,
     "metadata": {},
     "output_type": "execute_result"
    }
   ],
   "source": [
    "booking_index=booking_index.iloc[:,0:10].round(2)\n",
    "booking_index.columns"
   ]
  },
  {
   "cell_type": "code",
   "execution_count": 1088,
   "metadata": {
    "collapsed": true,
    "jupyter": {
     "outputs_hidden": true
    }
   },
   "outputs": [
    {
     "data": {
      "text/html": [
       "<div>\n",
       "<style scoped>\n",
       "    .dataframe tbody tr th:only-of-type {\n",
       "        vertical-align: middle;\n",
       "    }\n",
       "\n",
       "    .dataframe tbody tr th {\n",
       "        vertical-align: top;\n",
       "    }\n",
       "\n",
       "    .dataframe thead th {\n",
       "        text-align: right;\n",
       "    }\n",
       "</style>\n",
       "<table border=\"1\" class=\"dataframe\">\n",
       "  <thead>\n",
       "    <tr style=\"text-align: right;\">\n",
       "      <th></th>\n",
       "      <th>Hotels</th>\n",
       "      <th>July</th>\n",
       "    </tr>\n",
       "  </thead>\n",
       "  <tbody>\n",
       "    <tr>\n",
       "      <th>0</th>\n",
       "      <td>ABSERON HOTEL</td>\n",
       "      <td>97.200</td>\n",
       "    </tr>\n",
       "    <tr>\n",
       "      <th>1</th>\n",
       "      <td>Absheron Marina</td>\n",
       "      <td>210.000</td>\n",
       "    </tr>\n",
       "    <tr>\n",
       "      <th>2</th>\n",
       "      <td>Abu Arena Hotel</td>\n",
       "      <td>45.645</td>\n",
       "    </tr>\n",
       "    <tr>\n",
       "      <th>3</th>\n",
       "      <td>Admiral Hotel</td>\n",
       "      <td>90.000</td>\n",
       "    </tr>\n",
       "    <tr>\n",
       "      <th>4</th>\n",
       "      <td>AEF Hotel</td>\n",
       "      <td>66.675</td>\n",
       "    </tr>\n",
       "  </tbody>\n",
       "</table>\n",
       "</div>"
      ],
      "text/plain": [
       "            Hotels     July\n",
       "0    ABSERON HOTEL   97.200\n",
       "1  Absheron Marina  210.000\n",
       "2  Abu Arena Hotel   45.645\n",
       "3    Admiral Hotel   90.000\n",
       "4        AEF Hotel   66.675"
      ]
     },
     "execution_count": 1088,
     "metadata": {},
     "output_type": "execute_result"
    }
   ],
   "source": [
    "booking_july=pd.DataFrame({'Hotels':['ABSERON HOTEL','Absheron Marina','Abu Arena Hotel','Admiral Hotel','AEF Hotel'],\n",
    "                           'July':booking_index['June'][0:5]*1.5})\n",
    "booking_july"
   ]
  },
  {
   "cell_type": "code",
   "execution_count": 1612,
   "metadata": {},
   "outputs": [],
   "source": [
    "#*** Attention !\n",
    "booking_index=pd.merge(booking_index,booking_july,how='left',on='Hotels')"
   ]
  },
  {
   "cell_type": "code",
   "execution_count": null,
   "metadata": {
    "collapsed": true,
    "jupyter": {
     "outputs_hidden": true
    }
   },
   "outputs": [],
   "source": [
    "for col in booking_index.columns:\n",
    "    col"
   ]
  },
  {
   "cell_type": "code",
   "execution_count": 1130,
   "metadata": {
    "collapsed": true,
    "jupyter": {
     "outputs_hidden": true
    }
   },
   "outputs": [
    {
     "name": "stdout",
     "output_type": "stream",
     "text": [
      "December\n",
      "January\n",
      "February\n",
      "March\n",
      "April\n",
      "May\n",
      "June\n"
     ]
    }
   ],
   "source": [
    "m_index=booking_index.iloc[:,2:9].agg([np.mean])\n",
    "for col in m_index.columns:\n",
    "    print(col)\n",
    "    "
   ]
  },
  {
   "cell_type": "code",
   "execution_count": 1134,
   "metadata": {
    "collapsed": true,
    "jupyter": {
     "outputs_hidden": true
    }
   },
   "outputs": [
    {
     "data": {
      "text/html": [
       "<div>\n",
       "<style scoped>\n",
       "    .dataframe tbody tr th:only-of-type {\n",
       "        vertical-align: middle;\n",
       "    }\n",
       "\n",
       "    .dataframe tbody tr th {\n",
       "        vertical-align: top;\n",
       "    }\n",
       "\n",
       "    .dataframe thead th {\n",
       "        text-align: right;\n",
       "    }\n",
       "</style>\n",
       "<table border=\"1\" class=\"dataframe\">\n",
       "  <thead>\n",
       "    <tr style=\"text-align: right;\">\n",
       "      <th></th>\n",
       "      <th>December</th>\n",
       "      <th>January</th>\n",
       "      <th>February</th>\n",
       "      <th>March</th>\n",
       "      <th>April</th>\n",
       "      <th>May</th>\n",
       "      <th>June</th>\n",
       "    </tr>\n",
       "  </thead>\n",
       "  <tbody>\n",
       "    <tr>\n",
       "      <th>mean</th>\n",
       "      <td>96.906435</td>\n",
       "      <td>99.099051</td>\n",
       "      <td>83.948270</td>\n",
       "      <td>100.336878</td>\n",
       "      <td>101.671118</td>\n",
       "      <td>101.571224</td>\n",
       "      <td>182.685000</td>\n",
       "    </tr>\n",
       "    <tr>\n",
       "      <th>indexed</th>\n",
       "      <td>100.000000</td>\n",
       "      <td>102.262611</td>\n",
       "      <td>86.628169</td>\n",
       "      <td>103.539954</td>\n",
       "      <td>104.916788</td>\n",
       "      <td>104.813704</td>\n",
       "      <td>188.516893</td>\n",
       "    </tr>\n",
       "  </tbody>\n",
       "</table>\n",
       "</div>"
      ],
      "text/plain": [
       "           December     January   February       March       April  \\\n",
       "mean      96.906435   99.099051  83.948270  100.336878  101.671118   \n",
       "indexed  100.000000  102.262611  86.628169  103.539954  104.916788   \n",
       "\n",
       "                May        June  \n",
       "mean     101.571224  182.685000  \n",
       "indexed  104.813704  188.516893  "
      ]
     },
     "execution_count": 1134,
     "metadata": {},
     "output_type": "execute_result"
    }
   ],
   "source": [
    "#** Attention!\n",
    "m_index.loc['indexed']=m_index.loc['mean']/m_index.loc['mean','December']*100\n",
    "m_index"
   ]
  },
  {
   "cell_type": "code",
   "execution_count": 1107,
   "metadata": {
    "collapsed": true,
    "jupyter": {
     "outputs_hidden": true
    }
   },
   "outputs": [
    {
     "ename": "ValueError",
     "evalue": "No axis named 1 for object type <class 'pandas.core.series.Series'>",
     "output_type": "error",
     "traceback": [
      "\u001b[1;31m---------------------------------------------------------------------------\u001b[0m",
      "\u001b[1;31mValueError\u001b[0m                                Traceback (most recent call last)",
      "\u001b[1;32m<ipython-input-1107-9a80daf0c18b>\u001b[0m in \u001b[0;36m<module>\u001b[1;34m\u001b[0m\n\u001b[1;32m----> 1\u001b[1;33m \u001b[0mbooking_july\u001b[0m\u001b[1;33m[\u001b[0m\u001b[1;34m'July'\u001b[0m\u001b[1;33m]\u001b[0m\u001b[1;33m.\u001b[0m\u001b[0mcumprod\u001b[0m\u001b[1;33m(\u001b[0m\u001b[0maxis\u001b[0m\u001b[1;33m=\u001b[0m\u001b[1;36m1\u001b[0m\u001b[1;33m)\u001b[0m\u001b[1;33m.\u001b[0m\u001b[0msum\u001b[0m\u001b[1;33m(\u001b[0m\u001b[1;33m)\u001b[0m\u001b[1;33m\u001b[0m\u001b[1;33m\u001b[0m\u001b[0m\n\u001b[0m",
      "\u001b[1;32mc:\\users\\fuad.ak\\appdata\\local\\programs\\python\\python37-32\\lib\\site-packages\\pandas\\core\\generic.py\u001b[0m in \u001b[0;36mcum_func\u001b[1;34m(self, axis, skipna, *args, **kwargs)\u001b[0m\n\u001b[0;32m  11671\u001b[0m             \u001b[0maxis\u001b[0m \u001b[1;33m=\u001b[0m \u001b[0mself\u001b[0m\u001b[1;33m.\u001b[0m\u001b[0m_stat_axis_number\u001b[0m\u001b[1;33m\u001b[0m\u001b[1;33m\u001b[0m\u001b[0m\n\u001b[0;32m  11672\u001b[0m         \u001b[1;32melse\u001b[0m\u001b[1;33m:\u001b[0m\u001b[1;33m\u001b[0m\u001b[1;33m\u001b[0m\u001b[0m\n\u001b[1;32m> 11673\u001b[1;33m             \u001b[0maxis\u001b[0m \u001b[1;33m=\u001b[0m \u001b[0mself\u001b[0m\u001b[1;33m.\u001b[0m\u001b[0m_get_axis_number\u001b[0m\u001b[1;33m(\u001b[0m\u001b[0maxis\u001b[0m\u001b[1;33m)\u001b[0m\u001b[1;33m\u001b[0m\u001b[1;33m\u001b[0m\u001b[0m\n\u001b[0m\u001b[0;32m  11674\u001b[0m \u001b[1;33m\u001b[0m\u001b[0m\n\u001b[0;32m  11675\u001b[0m         \u001b[0my\u001b[0m \u001b[1;33m=\u001b[0m \u001b[0mcom\u001b[0m\u001b[1;33m.\u001b[0m\u001b[0mvalues_from_object\u001b[0m\u001b[1;33m(\u001b[0m\u001b[0mself\u001b[0m\u001b[1;33m)\u001b[0m\u001b[1;33m.\u001b[0m\u001b[0mcopy\u001b[0m\u001b[1;33m(\u001b[0m\u001b[1;33m)\u001b[0m\u001b[1;33m\u001b[0m\u001b[1;33m\u001b[0m\u001b[0m\n",
      "\u001b[1;32mc:\\users\\fuad.ak\\appdata\\local\\programs\\python\\python37-32\\lib\\site-packages\\pandas\\core\\generic.py\u001b[0m in \u001b[0;36m_get_axis_number\u001b[1;34m(cls, axis)\u001b[0m\n\u001b[0;32m    409\u001b[0m             \u001b[1;32mexcept\u001b[0m \u001b[0mKeyError\u001b[0m\u001b[1;33m:\u001b[0m\u001b[1;33m\u001b[0m\u001b[1;33m\u001b[0m\u001b[0m\n\u001b[0;32m    410\u001b[0m                 \u001b[1;32mpass\u001b[0m\u001b[1;33m\u001b[0m\u001b[1;33m\u001b[0m\u001b[0m\n\u001b[1;32m--> 411\u001b[1;33m         \u001b[1;32mraise\u001b[0m \u001b[0mValueError\u001b[0m\u001b[1;33m(\u001b[0m\u001b[1;34m\"No axis named {0} for object type {1}\"\u001b[0m\u001b[1;33m.\u001b[0m\u001b[0mformat\u001b[0m\u001b[1;33m(\u001b[0m\u001b[0maxis\u001b[0m\u001b[1;33m,\u001b[0m \u001b[0mcls\u001b[0m\u001b[1;33m)\u001b[0m\u001b[1;33m)\u001b[0m\u001b[1;33m\u001b[0m\u001b[1;33m\u001b[0m\u001b[0m\n\u001b[0m\u001b[0;32m    412\u001b[0m \u001b[1;33m\u001b[0m\u001b[0m\n\u001b[0;32m    413\u001b[0m     \u001b[1;33m@\u001b[0m\u001b[0mclassmethod\u001b[0m\u001b[1;33m\u001b[0m\u001b[1;33m\u001b[0m\u001b[0m\n",
      "\u001b[1;31mValueError\u001b[0m: No axis named 1 for object type <class 'pandas.core.series.Series'>"
     ]
    }
   ],
   "source": [
    "booking_july['July'].cumprod(axis=1).sum()"
   ]
  },
  {
   "cell_type": "code",
   "execution_count": 1317,
   "metadata": {},
   "outputs": [],
   "source": [
    "df1=pd.read_excel('STA-Tourism/Booking data/Booking.com Data aug1-2.xls',parse_dates=True)\n",
    "df2=pd.read_excel('STA-Tourism/Booking data/Booking.com Data aug2-3.xls',parse_dates=True)\n",
    "df3=pd.read_excel('STA-Tourism/Booking data/Booking.com Data aug5-31.xls',parse_dates=True)"
   ]
  },
  {
   "cell_type": "code",
   "execution_count": 1313,
   "metadata": {},
   "outputs": [
    {
     "name": "stdout",
     "output_type": "stream",
     "text": [
      "Unnamed: 0                0\n",
      "property_name             9\n",
      "property_location        10\n",
      "property_star_rating    587\n",
      "top_review              149\n",
      "customer_rating         149\n",
      "type_of_room             12\n",
      "price                    10\n",
      "today                     0\n",
      "dtype: int64\n"
     ]
    }
   ],
   "source": [
    "print(df1.isna().sum())"
   ]
  },
  {
   "cell_type": "code",
   "execution_count": 1319,
   "metadata": {},
   "outputs": [
    {
     "data": {
      "text/plain": [
       "Unnamed: 0                0\n",
       "property_name             9\n",
       "property_location        10\n",
       "property_star_rating    587\n",
       "top_review              149\n",
       "customer_rating         149\n",
       "type_of_room             12\n",
       "price                    10\n",
       "today                     0\n",
       "dtype: int64"
      ]
     },
     "execution_count": 1319,
     "metadata": {},
     "output_type": "execute_result"
    }
   ],
   "source": [
    "df2.isna().sum()"
   ]
  },
  {
   "cell_type": "code",
   "execution_count": 1257,
   "metadata": {},
   "outputs": [],
   "source": [
    "df1=df1.iloc[:,1:9]#.reset_index(drop=True,inplace=True)\n",
    "df2=df2.iloc[:,1:9]#.reset_index(drop=True,inplace=True)\n",
    "df3=df3.iloc[:,1:9]#.reset_index(drop=True,inplace=True)"
   ]
  },
  {
   "cell_type": "code",
   "execution_count": 1322,
   "metadata": {},
   "outputs": [
    {
     "data": {
      "text/plain": [
       "(10413, 9)"
      ]
     },
     "execution_count": 1322,
     "metadata": {},
     "output_type": "execute_result"
    }
   ],
   "source": [
    "df_merged=pd.concat([df1,df2,df3],sort=False) #heresini oz indeksiyle yapiwtirir.\n",
    "df_merged.shape"
   ]
  },
  {
   "cell_type": "code",
   "execution_count": 1337,
   "metadata": {},
   "outputs": [
    {
     "data": {
      "text/plain": [
       "index                       0\n",
       "Unnamed: 0               9495\n",
       "property_name               0\n",
       "property_location           0\n",
       "property_star_rating    10403\n",
       "top_review               2112\n",
       "customer_rating          2112\n",
       "type_of_room               44\n",
       "price                       0\n",
       "today                       0\n",
       "dtype: int64"
      ]
     },
     "execution_count": 1337,
     "metadata": {},
     "output_type": "execute_result"
    }
   ],
   "source": [
    "df_merged.isna().sum()"
   ]
  },
  {
   "cell_type": "code",
   "execution_count": 1345,
   "metadata": {},
   "outputs": [
    {
     "data": {
      "text/html": [
       "<div>\n",
       "<style scoped>\n",
       "    .dataframe tbody tr th:only-of-type {\n",
       "        vertical-align: middle;\n",
       "    }\n",
       "\n",
       "    .dataframe tbody tr th {\n",
       "        vertical-align: top;\n",
       "    }\n",
       "\n",
       "    .dataframe thead th {\n",
       "        text-align: right;\n",
       "    }\n",
       "</style>\n",
       "<table border=\"1\" class=\"dataframe\">\n",
       "  <thead>\n",
       "    <tr style=\"text-align: right;\">\n",
       "      <th></th>\n",
       "      <th>property_name</th>\n",
       "      <th>property_location</th>\n",
       "      <th>property_star_rating</th>\n",
       "      <th>top_review</th>\n",
       "      <th>customer_rating</th>\n",
       "      <th>type_of_room</th>\n",
       "      <th>price</th>\n",
       "      <th>today</th>\n",
       "    </tr>\n",
       "  </thead>\n",
       "  <tbody>\n",
       "    <tr>\n",
       "      <th>0</th>\n",
       "      <td>Old Hotel In Baku</td>\n",
       "      <td>Baku</td>\n",
       "      <td>NaN</td>\n",
       "      <td>Good</td>\n",
       "      <td>7.3</td>\n",
       "      <td>Standard Triple Room</td>\n",
       "      <td>150.0</td>\n",
       "      <td>Saturday, August 1, 2020</td>\n",
       "    </tr>\n",
       "    <tr>\n",
       "      <th>1</th>\n",
       "      <td>Kristal Hotel</td>\n",
       "      <td>Baku</td>\n",
       "      <td>NaN</td>\n",
       "      <td>Very Good</td>\n",
       "      <td>8.3</td>\n",
       "      <td>Standard Double Room</td>\n",
       "      <td>58.0</td>\n",
       "      <td>Saturday, August 1, 2020</td>\n",
       "    </tr>\n",
       "    <tr>\n",
       "      <th>2</th>\n",
       "      <td>Sea Park Hotel</td>\n",
       "      <td>Baku</td>\n",
       "      <td>NaN</td>\n",
       "      <td>Good</td>\n",
       "      <td>7.9</td>\n",
       "      <td>Double Room with Sea View</td>\n",
       "      <td>80.0</td>\n",
       "      <td>Saturday, August 1, 2020</td>\n",
       "    </tr>\n",
       "    <tr>\n",
       "      <th>3</th>\n",
       "      <td>Park Inn by Radisson Baku Hotel</td>\n",
       "      <td>Baku</td>\n",
       "      <td>NaN</td>\n",
       "      <td>Very Good</td>\n",
       "      <td>8.2</td>\n",
       "      <td>Standard Room</td>\n",
       "      <td>131.0</td>\n",
       "      <td>Saturday, August 1, 2020</td>\n",
       "    </tr>\n",
       "    <tr>\n",
       "      <th>4</th>\n",
       "      <td>Boyuk Ashirim Hotel</td>\n",
       "      <td>Ganja</td>\n",
       "      <td>NaN</td>\n",
       "      <td>NaN</td>\n",
       "      <td>NaN</td>\n",
       "      <td>Double Room with Balcony</td>\n",
       "      <td>115.0</td>\n",
       "      <td>Saturday, August 1, 2020</td>\n",
       "    </tr>\n",
       "    <tr>\n",
       "      <th>...</th>\n",
       "      <td>...</td>\n",
       "      <td>...</td>\n",
       "      <td>...</td>\n",
       "      <td>...</td>\n",
       "      <td>...</td>\n",
       "      <td>...</td>\n",
       "      <td>...</td>\n",
       "      <td>...</td>\n",
       "    </tr>\n",
       "    <tr>\n",
       "      <th>10398</th>\n",
       "      <td>El Resort Hotel</td>\n",
       "      <td>Qax</td>\n",
       "      <td>NaN</td>\n",
       "      <td>Very Good</td>\n",
       "      <td>8.1</td>\n",
       "      <td>Standard Twin Room</td>\n",
       "      <td>109.0</td>\n",
       "      <td>Monday, August 31, 2020</td>\n",
       "    </tr>\n",
       "    <tr>\n",
       "      <th>10399</th>\n",
       "      <td>Sheki Saray Hotel</td>\n",
       "      <td>Sheki</td>\n",
       "      <td>NaN</td>\n",
       "      <td>Excellent</td>\n",
       "      <td>8.8</td>\n",
       "      <td>Queen Room</td>\n",
       "      <td>120.0</td>\n",
       "      <td>Monday, August 31, 2020</td>\n",
       "    </tr>\n",
       "    <tr>\n",
       "      <th>10400</th>\n",
       "      <td>POLAD</td>\n",
       "      <td>İsmayilli</td>\n",
       "      <td>NaN</td>\n",
       "      <td>Very Good</td>\n",
       "      <td>8.2</td>\n",
       "      <td>Deluxe Room (2 Adults + 1 Child)</td>\n",
       "      <td>52.0</td>\n",
       "      <td>Monday, August 31, 2020</td>\n",
       "    </tr>\n",
       "    <tr>\n",
       "      <th>10401</th>\n",
       "      <td>Lux Inn</td>\n",
       "      <td>Kürdǝmir</td>\n",
       "      <td>NaN</td>\n",
       "      <td>Excellent</td>\n",
       "      <td>8.9</td>\n",
       "      <td>Double Room</td>\n",
       "      <td>90.0</td>\n",
       "      <td>Monday, August 31, 2020</td>\n",
       "    </tr>\n",
       "    <tr>\n",
       "      <th>10402</th>\n",
       "      <td>Neapol Hotel</td>\n",
       "      <td>Baku</td>\n",
       "      <td>NaN</td>\n",
       "      <td>Wonderful</td>\n",
       "      <td>9.0</td>\n",
       "      <td>Standard Double Room</td>\n",
       "      <td>140.0</td>\n",
       "      <td>Monday, August 31, 2020</td>\n",
       "    </tr>\n",
       "  </tbody>\n",
       "</table>\n",
       "<p>10403 rows × 8 columns</p>\n",
       "</div>"
      ],
      "text/plain": [
       "                         property_name property_location  \\\n",
       "0                    Old Hotel In Baku              Baku   \n",
       "1                        Kristal Hotel              Baku   \n",
       "2                       Sea Park Hotel              Baku   \n",
       "3      Park Inn by Radisson Baku Hotel              Baku   \n",
       "4                  Boyuk Ashirim Hotel             Ganja   \n",
       "...                                ...               ...   \n",
       "10398                  El Resort Hotel               Qax   \n",
       "10399                Sheki Saray Hotel             Sheki   \n",
       "10400                            POLAD         İsmayilli   \n",
       "10401                          Lux Inn          Kürdǝmir   \n",
       "10402                     Neapol Hotel              Baku   \n",
       "\n",
       "       property_star_rating top_review  customer_rating  \\\n",
       "0                       NaN       Good              7.3   \n",
       "1                       NaN  Very Good              8.3   \n",
       "2                       NaN       Good              7.9   \n",
       "3                       NaN  Very Good              8.2   \n",
       "4                       NaN        NaN              NaN   \n",
       "...                     ...        ...              ...   \n",
       "10398                   NaN  Very Good              8.1   \n",
       "10399                   NaN  Excellent              8.8   \n",
       "10400                   NaN  Very Good              8.2   \n",
       "10401                   NaN  Excellent              8.9   \n",
       "10402                   NaN  Wonderful              9.0   \n",
       "\n",
       "                           type_of_room  price                     today  \n",
       "0                  Standard Triple Room  150.0  Saturday, August 1, 2020  \n",
       "1                  Standard Double Room   58.0  Saturday, August 1, 2020  \n",
       "2             Double Room with Sea View   80.0  Saturday, August 1, 2020  \n",
       "3                         Standard Room  131.0  Saturday, August 1, 2020  \n",
       "4              Double Room with Balcony  115.0  Saturday, August 1, 2020  \n",
       "...                                 ...    ...                       ...  \n",
       "10398                Standard Twin Room  109.0   Monday, August 31, 2020  \n",
       "10399                        Queen Room  120.0   Monday, August 31, 2020  \n",
       "10400  Deluxe Room (2 Adults + 1 Child)   52.0   Monday, August 31, 2020  \n",
       "10401                       Double Room   90.0   Monday, August 31, 2020  \n",
       "10402              Standard Double Room  140.0   Monday, August 31, 2020  \n",
       "\n",
       "[10403 rows x 8 columns]"
      ]
     },
     "execution_count": 1345,
     "metadata": {},
     "output_type": "execute_result"
    }
   ],
   "source": [
    "df_merged"
   ]
  },
  {
   "cell_type": "code",
   "execution_count": 1330,
   "metadata": {},
   "outputs": [],
   "source": [
    "df_merged=df_merged.dropna(how='all')\n",
    "\n",
    "df_merged=df_merged.dropna(subset=['price'])\n",
    "\n",
    "df_merged['price']=df_merged['price'].str.replace('AZN ','').str.replace(',','').astype('float')\n",
    "\n",
    "df_merged['property_location']=df_merged['property_location'].str.replace('.+?( )','')"
   ]
  },
  {
   "cell_type": "code",
   "execution_count": 1339,
   "metadata": {},
   "outputs": [],
   "source": [
    "df_merged=df_merged.drop(columns=['Unnamed: 0'])"
   ]
  },
  {
   "cell_type": "code",
   "execution_count": 1335,
   "metadata": {},
   "outputs": [],
   "source": [
    "df_merged.reset_index(drop=True,inplace=True)"
   ]
  },
  {
   "cell_type": "code",
   "execution_count": 1352,
   "metadata": {},
   "outputs": [],
   "source": [
    "loc_dict={ 'Calut':'Oğuz','Yeniyol':'İsmayilli', 'Ərǝkit':'İsmayilli','Azad':'Ganja','Şǝrǝdil': 'Şamaxı',\n",
    "'Qaxbaş': 'Qax','Vartaşenqışlaq': 'Oğuz','Ucgun':'Quba','Afurca':'Quba', 'Yengica': 'Quba' ,\n",
    "'Çilǝgir':'Qusar','Shahdag' : 'Qusar','Galaalti':'Şabran','Daşca': 'Qəbələ','Vǝndam' : 'Qəbələ',\n",
    "'Novxanı':'Absheron', 'Buzovna':'Absheron', 'Mərdəkan':'Absheron', 'Nardaran':'Absheron',\n",
    "'Nabran': 'Khacmaz', 'Xudat': 'Khacmaz','Şahnǝzǝrli': 'Shabran','Altıağac':'Khizi','Nüvǝdi': 'Lerik', \n",
    "'Bala-Muradkhan' : 'Kurdamir','Uçgün':'Quba','Lahıc':'İsmayilli'}\n",
    "\n",
    "df_merged['property_location'].replace(loc_dict,inplace=True)"
   ]
  },
  {
   "cell_type": "code",
   "execution_count": 1365,
   "metadata": {},
   "outputs": [
    {
     "data": {
      "text/plain": [
       "array(['Absheron', 'Astara', 'Ağcabǝdi', 'Ağstafa', 'Baku', 'Beylǝqan',\n",
       "       'Gabala', 'Ganja', 'Goranboy', 'Khacmaz', 'Khizi', 'Kurdamir',\n",
       "       'Kürdǝmir', 'Lankaran', 'Lerik', 'Masallı', 'Mingachevir',\n",
       "       'Naxçıvan', 'Oğuz', 'Qax', 'Qazax', 'Qobustan', 'Quba', 'Qusar',\n",
       "       'Qəbələ', 'Salyan', 'Shabran', 'Shamakhi', 'Sheki', 'Sumqayıt',\n",
       "       'Turist', 'Tǝrtǝr', 'Zaqatala', 'İsmayilli', 'İsmayıllı', 'Şǝmkir'],\n",
       "      dtype=object)"
      ]
     },
     "execution_count": 1365,
     "metadata": {},
     "output_type": "execute_result"
    }
   ],
   "source": [
    "np.sort(df_merged['property_location'].unique())"
   ]
  },
  {
   "cell_type": "code",
   "execution_count": 1354,
   "metadata": {},
   "outputs": [],
   "source": [
    "df_merged.to_excel('Booking.com Data aug ver1.xls',index=True)"
   ]
  },
  {
   "cell_type": "code",
   "execution_count": 46,
   "metadata": {},
   "outputs": [
    {
     "data": {
      "text/html": [
       "<div>\n",
       "<style scoped>\n",
       "    .dataframe tbody tr th:only-of-type {\n",
       "        vertical-align: middle;\n",
       "    }\n",
       "\n",
       "    .dataframe tbody tr th {\n",
       "        vertical-align: top;\n",
       "    }\n",
       "\n",
       "    .dataframe thead th {\n",
       "        text-align: right;\n",
       "    }\n",
       "</style>\n",
       "<table border=\"1\" class=\"dataframe\">\n",
       "  <thead>\n",
       "    <tr style=\"text-align: right;\">\n",
       "      <th></th>\n",
       "      <th>Unique hotels dec-march</th>\n",
       "      <th>Star rating</th>\n",
       "    </tr>\n",
       "  </thead>\n",
       "  <tbody>\n",
       "    <tr>\n",
       "      <th>0</th>\n",
       "      <td>ABSERON HOTEL</td>\n",
       "      <td>unknown</td>\n",
       "    </tr>\n",
       "    <tr>\n",
       "      <th>1</th>\n",
       "      <td>Absheron Marina</td>\n",
       "      <td>unknown</td>\n",
       "    </tr>\n",
       "    <tr>\n",
       "      <th>2</th>\n",
       "      <td>Abu Arena Hotel</td>\n",
       "      <td>4-star hotel</td>\n",
       "    </tr>\n",
       "    <tr>\n",
       "      <th>3</th>\n",
       "      <td>Admiral Hotel</td>\n",
       "      <td>4-star hotel</td>\n",
       "    </tr>\n",
       "    <tr>\n",
       "      <th>4</th>\n",
       "      <td>AEF Hotel</td>\n",
       "      <td>4-star hotel</td>\n",
       "    </tr>\n",
       "  </tbody>\n",
       "</table>\n",
       "</div>"
      ],
      "text/plain": [
       "  Unique hotels dec-march   Star rating\n",
       "0           ABSERON HOTEL       unknown\n",
       "1         Absheron Marina       unknown\n",
       "2         Abu Arena Hotel  4-star hotel\n",
       "3           Admiral Hotel  4-star hotel\n",
       "4               AEF Hotel  4-star hotel"
      ]
     },
     "execution_count": 46,
     "metadata": {},
     "output_type": "execute_result"
    }
   ],
   "source": [
    "hotel_list=pd.read_excel('STA-Tourism/Booking.com hotels .xlsx')\n",
    "hotel_list.head()"
   ]
  },
  {
   "cell_type": "code",
   "execution_count": 47,
   "metadata": {},
   "outputs": [],
   "source": [
    "hotel_list.rename(columns={'Unique hotels dec-march':'property_name'},inplace=True)"
   ]
  },
  {
   "cell_type": "code",
   "execution_count": 1389,
   "metadata": {},
   "outputs": [],
   "source": [
    "df_merged=pd.merge(df_merged,hotel_list,left_on='property_name',right_on='property_name',how='left')"
   ]
  },
  {
   "cell_type": "code",
   "execution_count": 1390,
   "metadata": {
    "collapsed": true,
    "jupyter": {
     "outputs_hidden": true
    }
   },
   "outputs": [
    {
     "ename": "KeyError",
     "evalue": "\"['property_star_rating'] not found in axis\"",
     "output_type": "error",
     "traceback": [
      "\u001b[1;31m---------------------------------------------------------------------------\u001b[0m",
      "\u001b[1;31mKeyError\u001b[0m                                  Traceback (most recent call last)",
      "\u001b[1;32m<ipython-input-1390-952f894f34d3>\u001b[0m in \u001b[0;36m<module>\u001b[1;34m\u001b[0m\n\u001b[1;32m----> 1\u001b[1;33m \u001b[0mdf_merged\u001b[0m\u001b[1;33m.\u001b[0m\u001b[0mdrop\u001b[0m\u001b[1;33m(\u001b[0m\u001b[0mcolumns\u001b[0m\u001b[1;33m=\u001b[0m\u001b[1;33m[\u001b[0m\u001b[1;34m'property_star_rating'\u001b[0m\u001b[1;33m]\u001b[0m\u001b[1;33m,\u001b[0m\u001b[0minplace\u001b[0m\u001b[1;33m=\u001b[0m\u001b[1;32mTrue\u001b[0m\u001b[1;33m)\u001b[0m\u001b[1;33m\u001b[0m\u001b[1;33m\u001b[0m\u001b[0m\n\u001b[0m",
      "\u001b[1;32mc:\\users\\fuad.ak\\appdata\\local\\programs\\python\\python37-32\\lib\\site-packages\\pandas\\core\\frame.py\u001b[0m in \u001b[0;36mdrop\u001b[1;34m(self, labels, axis, index, columns, level, inplace, errors)\u001b[0m\n\u001b[0;32m   4115\u001b[0m             \u001b[0mlevel\u001b[0m\u001b[1;33m=\u001b[0m\u001b[0mlevel\u001b[0m\u001b[1;33m,\u001b[0m\u001b[1;33m\u001b[0m\u001b[1;33m\u001b[0m\u001b[0m\n\u001b[0;32m   4116\u001b[0m             \u001b[0minplace\u001b[0m\u001b[1;33m=\u001b[0m\u001b[0minplace\u001b[0m\u001b[1;33m,\u001b[0m\u001b[1;33m\u001b[0m\u001b[1;33m\u001b[0m\u001b[0m\n\u001b[1;32m-> 4117\u001b[1;33m             \u001b[0merrors\u001b[0m\u001b[1;33m=\u001b[0m\u001b[0merrors\u001b[0m\u001b[1;33m,\u001b[0m\u001b[1;33m\u001b[0m\u001b[1;33m\u001b[0m\u001b[0m\n\u001b[0m\u001b[0;32m   4118\u001b[0m         )\n\u001b[0;32m   4119\u001b[0m \u001b[1;33m\u001b[0m\u001b[0m\n",
      "\u001b[1;32mc:\\users\\fuad.ak\\appdata\\local\\programs\\python\\python37-32\\lib\\site-packages\\pandas\\core\\generic.py\u001b[0m in \u001b[0;36mdrop\u001b[1;34m(self, labels, axis, index, columns, level, inplace, errors)\u001b[0m\n\u001b[0;32m   3912\u001b[0m         \u001b[1;32mfor\u001b[0m \u001b[0maxis\u001b[0m\u001b[1;33m,\u001b[0m \u001b[0mlabels\u001b[0m \u001b[1;32min\u001b[0m \u001b[0maxes\u001b[0m\u001b[1;33m.\u001b[0m\u001b[0mitems\u001b[0m\u001b[1;33m(\u001b[0m\u001b[1;33m)\u001b[0m\u001b[1;33m:\u001b[0m\u001b[1;33m\u001b[0m\u001b[1;33m\u001b[0m\u001b[0m\n\u001b[0;32m   3913\u001b[0m             \u001b[1;32mif\u001b[0m \u001b[0mlabels\u001b[0m \u001b[1;32mis\u001b[0m \u001b[1;32mnot\u001b[0m \u001b[1;32mNone\u001b[0m\u001b[1;33m:\u001b[0m\u001b[1;33m\u001b[0m\u001b[1;33m\u001b[0m\u001b[0m\n\u001b[1;32m-> 3914\u001b[1;33m                 \u001b[0mobj\u001b[0m \u001b[1;33m=\u001b[0m \u001b[0mobj\u001b[0m\u001b[1;33m.\u001b[0m\u001b[0m_drop_axis\u001b[0m\u001b[1;33m(\u001b[0m\u001b[0mlabels\u001b[0m\u001b[1;33m,\u001b[0m \u001b[0maxis\u001b[0m\u001b[1;33m,\u001b[0m \u001b[0mlevel\u001b[0m\u001b[1;33m=\u001b[0m\u001b[0mlevel\u001b[0m\u001b[1;33m,\u001b[0m \u001b[0merrors\u001b[0m\u001b[1;33m=\u001b[0m\u001b[0merrors\u001b[0m\u001b[1;33m)\u001b[0m\u001b[1;33m\u001b[0m\u001b[1;33m\u001b[0m\u001b[0m\n\u001b[0m\u001b[0;32m   3915\u001b[0m \u001b[1;33m\u001b[0m\u001b[0m\n\u001b[0;32m   3916\u001b[0m         \u001b[1;32mif\u001b[0m \u001b[0minplace\u001b[0m\u001b[1;33m:\u001b[0m\u001b[1;33m\u001b[0m\u001b[1;33m\u001b[0m\u001b[0m\n",
      "\u001b[1;32mc:\\users\\fuad.ak\\appdata\\local\\programs\\python\\python37-32\\lib\\site-packages\\pandas\\core\\generic.py\u001b[0m in \u001b[0;36m_drop_axis\u001b[1;34m(self, labels, axis, level, errors)\u001b[0m\n\u001b[0;32m   3944\u001b[0m                 \u001b[0mnew_axis\u001b[0m \u001b[1;33m=\u001b[0m \u001b[0maxis\u001b[0m\u001b[1;33m.\u001b[0m\u001b[0mdrop\u001b[0m\u001b[1;33m(\u001b[0m\u001b[0mlabels\u001b[0m\u001b[1;33m,\u001b[0m \u001b[0mlevel\u001b[0m\u001b[1;33m=\u001b[0m\u001b[0mlevel\u001b[0m\u001b[1;33m,\u001b[0m \u001b[0merrors\u001b[0m\u001b[1;33m=\u001b[0m\u001b[0merrors\u001b[0m\u001b[1;33m)\u001b[0m\u001b[1;33m\u001b[0m\u001b[1;33m\u001b[0m\u001b[0m\n\u001b[0;32m   3945\u001b[0m             \u001b[1;32melse\u001b[0m\u001b[1;33m:\u001b[0m\u001b[1;33m\u001b[0m\u001b[1;33m\u001b[0m\u001b[0m\n\u001b[1;32m-> 3946\u001b[1;33m                 \u001b[0mnew_axis\u001b[0m \u001b[1;33m=\u001b[0m \u001b[0maxis\u001b[0m\u001b[1;33m.\u001b[0m\u001b[0mdrop\u001b[0m\u001b[1;33m(\u001b[0m\u001b[0mlabels\u001b[0m\u001b[1;33m,\u001b[0m \u001b[0merrors\u001b[0m\u001b[1;33m=\u001b[0m\u001b[0merrors\u001b[0m\u001b[1;33m)\u001b[0m\u001b[1;33m\u001b[0m\u001b[1;33m\u001b[0m\u001b[0m\n\u001b[0m\u001b[0;32m   3947\u001b[0m             \u001b[0mresult\u001b[0m \u001b[1;33m=\u001b[0m \u001b[0mself\u001b[0m\u001b[1;33m.\u001b[0m\u001b[0mreindex\u001b[0m\u001b[1;33m(\u001b[0m\u001b[1;33m**\u001b[0m\u001b[1;33m{\u001b[0m\u001b[0maxis_name\u001b[0m\u001b[1;33m:\u001b[0m \u001b[0mnew_axis\u001b[0m\u001b[1;33m}\u001b[0m\u001b[1;33m)\u001b[0m\u001b[1;33m\u001b[0m\u001b[1;33m\u001b[0m\u001b[0m\n\u001b[0;32m   3948\u001b[0m \u001b[1;33m\u001b[0m\u001b[0m\n",
      "\u001b[1;32mc:\\users\\fuad.ak\\appdata\\local\\programs\\python\\python37-32\\lib\\site-packages\\pandas\\core\\indexes\\base.py\u001b[0m in \u001b[0;36mdrop\u001b[1;34m(self, labels, errors)\u001b[0m\n\u001b[0;32m   5338\u001b[0m         \u001b[1;32mif\u001b[0m \u001b[0mmask\u001b[0m\u001b[1;33m.\u001b[0m\u001b[0many\u001b[0m\u001b[1;33m(\u001b[0m\u001b[1;33m)\u001b[0m\u001b[1;33m:\u001b[0m\u001b[1;33m\u001b[0m\u001b[1;33m\u001b[0m\u001b[0m\n\u001b[0;32m   5339\u001b[0m             \u001b[1;32mif\u001b[0m \u001b[0merrors\u001b[0m \u001b[1;33m!=\u001b[0m \u001b[1;34m\"ignore\"\u001b[0m\u001b[1;33m:\u001b[0m\u001b[1;33m\u001b[0m\u001b[1;33m\u001b[0m\u001b[0m\n\u001b[1;32m-> 5340\u001b[1;33m                 \u001b[1;32mraise\u001b[0m \u001b[0mKeyError\u001b[0m\u001b[1;33m(\u001b[0m\u001b[1;34m\"{} not found in axis\"\u001b[0m\u001b[1;33m.\u001b[0m\u001b[0mformat\u001b[0m\u001b[1;33m(\u001b[0m\u001b[0mlabels\u001b[0m\u001b[1;33m[\u001b[0m\u001b[0mmask\u001b[0m\u001b[1;33m]\u001b[0m\u001b[1;33m)\u001b[0m\u001b[1;33m)\u001b[0m\u001b[1;33m\u001b[0m\u001b[1;33m\u001b[0m\u001b[0m\n\u001b[0m\u001b[0;32m   5341\u001b[0m             \u001b[0mindexer\u001b[0m \u001b[1;33m=\u001b[0m \u001b[0mindexer\u001b[0m\u001b[1;33m[\u001b[0m\u001b[1;33m~\u001b[0m\u001b[0mmask\u001b[0m\u001b[1;33m]\u001b[0m\u001b[1;33m\u001b[0m\u001b[1;33m\u001b[0m\u001b[0m\n\u001b[0;32m   5342\u001b[0m         \u001b[1;32mreturn\u001b[0m \u001b[0mself\u001b[0m\u001b[1;33m.\u001b[0m\u001b[0mdelete\u001b[0m\u001b[1;33m(\u001b[0m\u001b[0mindexer\u001b[0m\u001b[1;33m)\u001b[0m\u001b[1;33m\u001b[0m\u001b[1;33m\u001b[0m\u001b[0m\n",
      "\u001b[1;31mKeyError\u001b[0m: \"['property_star_rating'] not found in axis\""
     ]
    }
   ],
   "source": [
    "df_merged.drop(columns=['property_star_rating'],inplace=True)"
   ]
  },
  {
   "cell_type": "code",
   "execution_count": 1391,
   "metadata": {},
   "outputs": [
    {
     "data": {
      "text/html": [
       "<div>\n",
       "<style scoped>\n",
       "    .dataframe tbody tr th:only-of-type {\n",
       "        vertical-align: middle;\n",
       "    }\n",
       "\n",
       "    .dataframe tbody tr th {\n",
       "        vertical-align: top;\n",
       "    }\n",
       "\n",
       "    .dataframe thead th {\n",
       "        text-align: right;\n",
       "    }\n",
       "</style>\n",
       "<table border=\"1\" class=\"dataframe\">\n",
       "  <thead>\n",
       "    <tr style=\"text-align: right;\">\n",
       "      <th></th>\n",
       "      <th>property_name</th>\n",
       "      <th>property_location</th>\n",
       "      <th>top_review</th>\n",
       "      <th>customer_rating</th>\n",
       "      <th>type_of_room</th>\n",
       "      <th>price</th>\n",
       "      <th>today</th>\n",
       "      <th>Star rating</th>\n",
       "    </tr>\n",
       "  </thead>\n",
       "  <tbody>\n",
       "    <tr>\n",
       "      <th>0</th>\n",
       "      <td>Old Hotel In Baku</td>\n",
       "      <td>Baku</td>\n",
       "      <td>Good</td>\n",
       "      <td>7.3</td>\n",
       "      <td>Standard Triple Room</td>\n",
       "      <td>150.0</td>\n",
       "      <td>Saturday, August 1, 2020</td>\n",
       "      <td>unknown</td>\n",
       "    </tr>\n",
       "    <tr>\n",
       "      <th>1</th>\n",
       "      <td>Kristal Hotel</td>\n",
       "      <td>Baku</td>\n",
       "      <td>Very Good</td>\n",
       "      <td>8.3</td>\n",
       "      <td>Standard Double Room</td>\n",
       "      <td>58.0</td>\n",
       "      <td>Saturday, August 1, 2020</td>\n",
       "      <td>4-star hotel</td>\n",
       "    </tr>\n",
       "    <tr>\n",
       "      <th>2</th>\n",
       "      <td>Sea Park Hotel</td>\n",
       "      <td>Baku</td>\n",
       "      <td>Good</td>\n",
       "      <td>7.9</td>\n",
       "      <td>Double Room with Sea View</td>\n",
       "      <td>80.0</td>\n",
       "      <td>Saturday, August 1, 2020</td>\n",
       "      <td>4-star hotel</td>\n",
       "    </tr>\n",
       "    <tr>\n",
       "      <th>3</th>\n",
       "      <td>Park Inn by Radisson Baku Hotel</td>\n",
       "      <td>Baku</td>\n",
       "      <td>Very Good</td>\n",
       "      <td>8.2</td>\n",
       "      <td>Standard Room</td>\n",
       "      <td>131.0</td>\n",
       "      <td>Saturday, August 1, 2020</td>\n",
       "      <td>4-star hotel</td>\n",
       "    </tr>\n",
       "    <tr>\n",
       "      <th>4</th>\n",
       "      <td>Boyuk Ashirim Hotel</td>\n",
       "      <td>Ganja</td>\n",
       "      <td>NaN</td>\n",
       "      <td>NaN</td>\n",
       "      <td>Double Room with Balcony</td>\n",
       "      <td>115.0</td>\n",
       "      <td>Saturday, August 1, 2020</td>\n",
       "      <td>4-star hotel</td>\n",
       "    </tr>\n",
       "  </tbody>\n",
       "</table>\n",
       "</div>"
      ],
      "text/plain": [
       "                     property_name property_location top_review  \\\n",
       "0                Old Hotel In Baku              Baku       Good   \n",
       "1                    Kristal Hotel              Baku  Very Good   \n",
       "2                   Sea Park Hotel              Baku       Good   \n",
       "3  Park Inn by Radisson Baku Hotel              Baku  Very Good   \n",
       "4              Boyuk Ashirim Hotel             Ganja        NaN   \n",
       "\n",
       "   customer_rating               type_of_room  price  \\\n",
       "0              7.3       Standard Triple Room  150.0   \n",
       "1              8.3       Standard Double Room   58.0   \n",
       "2              7.9  Double Room with Sea View   80.0   \n",
       "3              8.2              Standard Room  131.0   \n",
       "4              NaN   Double Room with Balcony  115.0   \n",
       "\n",
       "                      today   Star rating  \n",
       "0  Saturday, August 1, 2020       unknown  \n",
       "1  Saturday, August 1, 2020  4-star hotel  \n",
       "2  Saturday, August 1, 2020  4-star hotel  \n",
       "3  Saturday, August 1, 2020  4-star hotel  \n",
       "4  Saturday, August 1, 2020  4-star hotel  "
      ]
     },
     "execution_count": 1391,
     "metadata": {},
     "output_type": "execute_result"
    }
   ],
   "source": [
    "df_merged.head()"
   ]
  },
  {
   "cell_type": "code",
   "execution_count": 1401,
   "metadata": {},
   "outputs": [
    {
     "data": {
      "text/html": [
       "<div>\n",
       "<style scoped>\n",
       "    .dataframe tbody tr th:only-of-type {\n",
       "        vertical-align: middle;\n",
       "    }\n",
       "\n",
       "    .dataframe tbody tr th {\n",
       "        vertical-align: top;\n",
       "    }\n",
       "\n",
       "    .dataframe thead th {\n",
       "        text-align: right;\n",
       "    }\n",
       "</style>\n",
       "<table border=\"1\" class=\"dataframe\">\n",
       "  <thead>\n",
       "    <tr style=\"text-align: right;\">\n",
       "      <th></th>\n",
       "      <th>amin</th>\n",
       "      <th>mean</th>\n",
       "      <th>amax</th>\n",
       "      <th>std</th>\n",
       "    </tr>\n",
       "    <tr>\n",
       "      <th>Star rating</th>\n",
       "      <th></th>\n",
       "      <th></th>\n",
       "      <th></th>\n",
       "      <th></th>\n",
       "    </tr>\n",
       "  </thead>\n",
       "  <tbody>\n",
       "    <tr>\n",
       "      <th>2-star hotel</th>\n",
       "      <td>30.0</td>\n",
       "      <td>46.863248</td>\n",
       "      <td>60.0</td>\n",
       "      <td>12.130686</td>\n",
       "    </tr>\n",
       "    <tr>\n",
       "      <th>3-star hotel</th>\n",
       "      <td>29.0</td>\n",
       "      <td>79.823905</td>\n",
       "      <td>400.0</td>\n",
       "      <td>59.528643</td>\n",
       "    </tr>\n",
       "    <tr>\n",
       "      <th>4-star hotel</th>\n",
       "      <td>25.0</td>\n",
       "      <td>173.533816</td>\n",
       "      <td>9000.0</td>\n",
       "      <td>785.875300</td>\n",
       "    </tr>\n",
       "    <tr>\n",
       "      <th>5-star hotel</th>\n",
       "      <td>40.0</td>\n",
       "      <td>157.155635</td>\n",
       "      <td>584.0</td>\n",
       "      <td>99.313890</td>\n",
       "    </tr>\n",
       "    <tr>\n",
       "      <th>unknown</th>\n",
       "      <td>10.0</td>\n",
       "      <td>92.244456</td>\n",
       "      <td>550.0</td>\n",
       "      <td>76.465616</td>\n",
       "    </tr>\n",
       "  </tbody>\n",
       "</table>\n",
       "</div>"
      ],
      "text/plain": [
       "              amin        mean    amax         std\n",
       "Star rating                                       \n",
       "2-star hotel  30.0   46.863248    60.0   12.130686\n",
       "3-star hotel  29.0   79.823905   400.0   59.528643\n",
       "4-star hotel  25.0  173.533816  9000.0  785.875300\n",
       "5-star hotel  40.0  157.155635   584.0   99.313890\n",
       "unknown       10.0   92.244456   550.0   76.465616"
      ]
     },
     "execution_count": 1401,
     "metadata": {},
     "output_type": "execute_result"
    }
   ],
   "source": [
    "df_merged.groupby('Star rating')['price'].agg([np.min,np.mean,np.max,np.std])"
   ]
  },
  {
   "cell_type": "code",
   "execution_count": 1403,
   "metadata": {},
   "outputs": [
    {
     "data": {
      "text/plain": [
       "amin      10.000000\n",
       "mean     127.223878\n",
       "amax    9000.000000\n",
       "std      476.282563\n",
       "Name: price, dtype: float64"
      ]
     },
     "execution_count": 1403,
     "metadata": {},
     "output_type": "execute_result"
    }
   ],
   "source": [
    "df_merged['price'].agg([np.min,np.mean,np.max,np.std])"
   ]
  },
  {
   "cell_type": "code",
   "execution_count": 1404,
   "metadata": {},
   "outputs": [
    {
     "data": {
      "text/plain": [
       "476.2825631335719"
      ]
     },
     "execution_count": 1404,
     "metadata": {},
     "output_type": "execute_result"
    }
   ],
   "source": [
    "df_merged['price'].agg([np.min,np.mean,np.max,np.std])['std']"
   ]
  },
  {
   "cell_type": "code",
   "execution_count": 1408,
   "metadata": {},
   "outputs": [
    {
     "data": {
      "text/plain": [
       "1079.7890039947224"
      ]
     },
     "execution_count": 1408,
     "metadata": {},
     "output_type": "execute_result"
    }
   ],
   "source": [
    "outlier=df_merged['price'].mean()+2*df_merged['price'].std()\n",
    "outlier"
   ]
  },
  {
   "cell_type": "code",
   "execution_count": 1413,
   "metadata": {},
   "outputs": [],
   "source": [
    "df_merged_no_outlier=df_merged[df_merged['price']<outlier]"
   ]
  },
  {
   "cell_type": "code",
   "execution_count": 1476,
   "metadata": {},
   "outputs": [
    {
     "data": {
      "text/plain": [
       "amin      10.000000\n",
       "mean     102.420474\n",
       "amax    1000.000000\n",
       "std       82.266305\n",
       "Name: price, dtype: float64"
      ]
     },
     "execution_count": 1476,
     "metadata": {},
     "output_type": "execute_result"
    }
   ],
   "source": [
    "df_merged_no_outlier['price'].agg([np.min,np.mean,np.max,np.std])"
   ]
  },
  {
   "cell_type": "code",
   "execution_count": 1414,
   "metadata": {},
   "outputs": [
    {
     "data": {
      "text/html": [
       "<div>\n",
       "<style scoped>\n",
       "    .dataframe tbody tr th:only-of-type {\n",
       "        vertical-align: middle;\n",
       "    }\n",
       "\n",
       "    .dataframe tbody tr th {\n",
       "        vertical-align: top;\n",
       "    }\n",
       "\n",
       "    .dataframe thead th {\n",
       "        text-align: right;\n",
       "    }\n",
       "</style>\n",
       "<table border=\"1\" class=\"dataframe\">\n",
       "  <thead>\n",
       "    <tr style=\"text-align: right;\">\n",
       "      <th></th>\n",
       "      <th>amin</th>\n",
       "      <th>mean</th>\n",
       "      <th>amax</th>\n",
       "      <th>std</th>\n",
       "    </tr>\n",
       "    <tr>\n",
       "      <th>Star rating</th>\n",
       "      <th></th>\n",
       "      <th></th>\n",
       "      <th></th>\n",
       "      <th></th>\n",
       "    </tr>\n",
       "  </thead>\n",
       "  <tbody>\n",
       "    <tr>\n",
       "      <th>2-star hotel</th>\n",
       "      <td>30.0</td>\n",
       "      <td>46.863248</td>\n",
       "      <td>60.0</td>\n",
       "      <td>12.130686</td>\n",
       "    </tr>\n",
       "    <tr>\n",
       "      <th>3-star hotel</th>\n",
       "      <td>29.0</td>\n",
       "      <td>79.823905</td>\n",
       "      <td>400.0</td>\n",
       "      <td>59.528643</td>\n",
       "    </tr>\n",
       "    <tr>\n",
       "      <th>4-star hotel</th>\n",
       "      <td>25.0</td>\n",
       "      <td>104.297268</td>\n",
       "      <td>1000.0</td>\n",
       "      <td>79.821551</td>\n",
       "    </tr>\n",
       "    <tr>\n",
       "      <th>5-star hotel</th>\n",
       "      <td>40.0</td>\n",
       "      <td>157.155635</td>\n",
       "      <td>584.0</td>\n",
       "      <td>99.313890</td>\n",
       "    </tr>\n",
       "    <tr>\n",
       "      <th>unknown</th>\n",
       "      <td>10.0</td>\n",
       "      <td>92.244456</td>\n",
       "      <td>550.0</td>\n",
       "      <td>76.465616</td>\n",
       "    </tr>\n",
       "  </tbody>\n",
       "</table>\n",
       "</div>"
      ],
      "text/plain": [
       "              amin        mean    amax        std\n",
       "Star rating                                      \n",
       "2-star hotel  30.0   46.863248    60.0  12.130686\n",
       "3-star hotel  29.0   79.823905   400.0  59.528643\n",
       "4-star hotel  25.0  104.297268  1000.0  79.821551\n",
       "5-star hotel  40.0  157.155635   584.0  99.313890\n",
       "unknown       10.0   92.244456   550.0  76.465616"
      ]
     },
     "execution_count": 1414,
     "metadata": {},
     "output_type": "execute_result"
    }
   ],
   "source": [
    "df_merged_no_outlier.groupby('Star rating')['price'].agg([np.min,np.mean,np.max,np.std])"
   ]
  },
  {
   "cell_type": "code",
   "execution_count": 1429,
   "metadata": {},
   "outputs": [
    {
     "data": {
      "text/plain": [
       "property_name\n",
       "2nd Inning Guest House     70.0\n",
       "AEF Hotel                  36.0\n",
       "AEF-Butik Hotel            30.0\n",
       "AF HOTEL                  146.9\n",
       "AF HOTEL AQUAPARK         100.0\n",
       "                          ...  \n",
       "kings group baku hotel     58.2\n",
       "vip nomera                 65.0\n",
       "Çıraqban.otel              60.0\n",
       "МАДИНА ОТЕЛ                40.0\n",
       "Статус Status              78.0\n",
       "Name: price, Length: 371, dtype: float64"
      ]
     },
     "execution_count": 1429,
     "metadata": {},
     "output_type": "execute_result"
    }
   ],
   "source": [
    "aug_mean=df_merged_no_outlier.groupby('property_name')['price'].mean().round(decimals=2)\n",
    "aug_mean"
   ]
  },
  {
   "cell_type": "code",
   "execution_count": 1613,
   "metadata": {},
   "outputs": [
    {
     "data": {
      "text/html": [
       "<div>\n",
       "<style scoped>\n",
       "    .dataframe tbody tr th:only-of-type {\n",
       "        vertical-align: middle;\n",
       "    }\n",
       "\n",
       "    .dataframe tbody tr th {\n",
       "        vertical-align: top;\n",
       "    }\n",
       "\n",
       "    .dataframe thead th {\n",
       "        text-align: right;\n",
       "    }\n",
       "</style>\n",
       "<table border=\"1\" class=\"dataframe\">\n",
       "  <thead>\n",
       "    <tr style=\"text-align: right;\">\n",
       "      <th></th>\n",
       "      <th>Hotels</th>\n",
       "      <th>Count of property_name</th>\n",
       "      <th>December</th>\n",
       "      <th>January</th>\n",
       "      <th>February</th>\n",
       "      <th>March</th>\n",
       "      <th>April</th>\n",
       "      <th>May</th>\n",
       "      <th>June</th>\n",
       "      <th>July_x</th>\n",
       "      <th>July_y</th>\n",
       "      <th>price</th>\n",
       "    </tr>\n",
       "  </thead>\n",
       "  <tbody>\n",
       "    <tr>\n",
       "      <th>0</th>\n",
       "      <td>ABSERON HOTEL</td>\n",
       "      <td>30</td>\n",
       "      <td>35.00</td>\n",
       "      <td>35.00</td>\n",
       "      <td>29.41</td>\n",
       "      <td>35.78</td>\n",
       "      <td>43.00</td>\n",
       "      <td>36.01</td>\n",
       "      <td>64.80</td>\n",
       "      <td>45.53</td>\n",
       "      <td>97.200</td>\n",
       "      <td>NaN</td>\n",
       "    </tr>\n",
       "    <tr>\n",
       "      <th>1</th>\n",
       "      <td>Absheron Marina</td>\n",
       "      <td>30</td>\n",
       "      <td>0.00</td>\n",
       "      <td>100.00</td>\n",
       "      <td>100.00</td>\n",
       "      <td>100.00</td>\n",
       "      <td>138.67</td>\n",
       "      <td>140.00</td>\n",
       "      <td>140.00</td>\n",
       "      <td>182.90</td>\n",
       "      <td>210.000</td>\n",
       "      <td>180.00</td>\n",
       "    </tr>\n",
       "    <tr>\n",
       "      <th>2</th>\n",
       "      <td>Abu Arena Hotel</td>\n",
       "      <td>31</td>\n",
       "      <td>38.71</td>\n",
       "      <td>28.46</td>\n",
       "      <td>27.00</td>\n",
       "      <td>36.44</td>\n",
       "      <td>18.23</td>\n",
       "      <td>28.58</td>\n",
       "      <td>30.43</td>\n",
       "      <td>18.45</td>\n",
       "      <td>45.645</td>\n",
       "      <td>NaN</td>\n",
       "    </tr>\n",
       "    <tr>\n",
       "      <th>3</th>\n",
       "      <td>Admiral Hotel</td>\n",
       "      <td>31</td>\n",
       "      <td>74.32</td>\n",
       "      <td>61.32</td>\n",
       "      <td>60.00</td>\n",
       "      <td>68.87</td>\n",
       "      <td>65.83</td>\n",
       "      <td>63.41</td>\n",
       "      <td>60.00</td>\n",
       "      <td>75.00</td>\n",
       "      <td>90.000</td>\n",
       "      <td>75.00</td>\n",
       "    </tr>\n",
       "    <tr>\n",
       "      <th>4</th>\n",
       "      <td>AEF Hotel</td>\n",
       "      <td>31</td>\n",
       "      <td>65.39</td>\n",
       "      <td>66.50</td>\n",
       "      <td>65.39</td>\n",
       "      <td>50.68</td>\n",
       "      <td>41.67</td>\n",
       "      <td>55.00</td>\n",
       "      <td>44.45</td>\n",
       "      <td>44.68</td>\n",
       "      <td>66.675</td>\n",
       "      <td>36.00</td>\n",
       "    </tr>\n",
       "    <tr>\n",
       "      <th>...</th>\n",
       "      <td>...</td>\n",
       "      <td>...</td>\n",
       "      <td>...</td>\n",
       "      <td>...</td>\n",
       "      <td>...</td>\n",
       "      <td>...</td>\n",
       "      <td>...</td>\n",
       "      <td>...</td>\n",
       "      <td>...</td>\n",
       "      <td>...</td>\n",
       "      <td>...</td>\n",
       "      <td>...</td>\n",
       "    </tr>\n",
       "    <tr>\n",
       "      <th>469</th>\n",
       "      <td>Yurd Hotel</td>\n",
       "      <td>30</td>\n",
       "      <td>65.33</td>\n",
       "      <td>105.56</td>\n",
       "      <td>100.00</td>\n",
       "      <td>102.66</td>\n",
       "      <td>123.38</td>\n",
       "      <td>81.67</td>\n",
       "      <td>98.66</td>\n",
       "      <td>99.00</td>\n",
       "      <td>NaN</td>\n",
       "      <td>99.00</td>\n",
       "    </tr>\n",
       "    <tr>\n",
       "      <th>470</th>\n",
       "      <td>ZamZam Hotel</td>\n",
       "      <td>31</td>\n",
       "      <td>70.48</td>\n",
       "      <td>99.65</td>\n",
       "      <td>83.74</td>\n",
       "      <td>80.00</td>\n",
       "      <td>65.00</td>\n",
       "      <td>93.00</td>\n",
       "      <td>302.86</td>\n",
       "      <td>70.00</td>\n",
       "      <td>NaN</td>\n",
       "      <td>NaN</td>\n",
       "    </tr>\n",
       "    <tr>\n",
       "      <th>471</th>\n",
       "      <td>Zaqatala Hotel</td>\n",
       "      <td>31</td>\n",
       "      <td>30.00</td>\n",
       "      <td>30.89</td>\n",
       "      <td>30.17</td>\n",
       "      <td>31.61</td>\n",
       "      <td>31.33</td>\n",
       "      <td>35.00</td>\n",
       "      <td>35.00</td>\n",
       "      <td>35.00</td>\n",
       "      <td>NaN</td>\n",
       "      <td>30.69</td>\n",
       "    </tr>\n",
       "    <tr>\n",
       "      <th>472</th>\n",
       "      <td>Zaqatala olimpiya idman kompleksi</td>\n",
       "      <td>30</td>\n",
       "      <td>50.00</td>\n",
       "      <td>50.00</td>\n",
       "      <td>50.00</td>\n",
       "      <td>60.83</td>\n",
       "      <td>130.00</td>\n",
       "      <td>108.87</td>\n",
       "      <td>195.90</td>\n",
       "      <td>50.00</td>\n",
       "      <td>NaN</td>\n",
       "      <td>NaN</td>\n",
       "    </tr>\n",
       "    <tr>\n",
       "      <th>473</th>\n",
       "      <td>Zirve Hotel</td>\n",
       "      <td>30</td>\n",
       "      <td>152.67</td>\n",
       "      <td>149.00</td>\n",
       "      <td>148.28</td>\n",
       "      <td>127.58</td>\n",
       "      <td>153.33</td>\n",
       "      <td>128.41</td>\n",
       "      <td>231.06</td>\n",
       "      <td>162.33</td>\n",
       "      <td>NaN</td>\n",
       "      <td>NaN</td>\n",
       "    </tr>\n",
       "  </tbody>\n",
       "</table>\n",
       "<p>474 rows × 12 columns</p>\n",
       "</div>"
      ],
      "text/plain": [
       "                                Hotels  Count of property_name  December  \\\n",
       "0                        ABSERON HOTEL                      30     35.00   \n",
       "1                      Absheron Marina                      30      0.00   \n",
       "2                      Abu Arena Hotel                      31     38.71   \n",
       "3                        Admiral Hotel                      31     74.32   \n",
       "4                            AEF Hotel                      31     65.39   \n",
       "..                                 ...                     ...       ...   \n",
       "469                         Yurd Hotel                      30     65.33   \n",
       "470                       ZamZam Hotel                      31     70.48   \n",
       "471                     Zaqatala Hotel                      31     30.00   \n",
       "472  Zaqatala olimpiya idman kompleksi                      30     50.00   \n",
       "473                        Zirve Hotel                      30    152.67   \n",
       "\n",
       "     January  February   March   April     May    June  July_x   July_y  \\\n",
       "0      35.00     29.41   35.78   43.00   36.01   64.80   45.53   97.200   \n",
       "1     100.00    100.00  100.00  138.67  140.00  140.00  182.90  210.000   \n",
       "2      28.46     27.00   36.44   18.23   28.58   30.43   18.45   45.645   \n",
       "3      61.32     60.00   68.87   65.83   63.41   60.00   75.00   90.000   \n",
       "4      66.50     65.39   50.68   41.67   55.00   44.45   44.68   66.675   \n",
       "..       ...       ...     ...     ...     ...     ...     ...      ...   \n",
       "469   105.56    100.00  102.66  123.38   81.67   98.66   99.00      NaN   \n",
       "470    99.65     83.74   80.00   65.00   93.00  302.86   70.00      NaN   \n",
       "471    30.89     30.17   31.61   31.33   35.00   35.00   35.00      NaN   \n",
       "472    50.00     50.00   60.83  130.00  108.87  195.90   50.00      NaN   \n",
       "473   149.00    148.28  127.58  153.33  128.41  231.06  162.33      NaN   \n",
       "\n",
       "      price  \n",
       "0       NaN  \n",
       "1    180.00  \n",
       "2       NaN  \n",
       "3     75.00  \n",
       "4     36.00  \n",
       "..      ...  \n",
       "469   99.00  \n",
       "470     NaN  \n",
       "471   30.69  \n",
       "472     NaN  \n",
       "473     NaN  \n",
       "\n",
       "[474 rows x 12 columns]"
      ]
     },
     "execution_count": 1613,
     "metadata": {},
     "output_type": "execute_result"
    }
   ],
   "source": [
    "booking_index=pd.merge(booking_index,aug_mean,how='left',right_on='property_name',left_on='Hotels')\n",
    "booking_index"
   ]
  },
  {
   "cell_type": "code",
   "execution_count": 1614,
   "metadata": {},
   "outputs": [],
   "source": [
    "booking_index.drop(columns=['Count of property_name'],inplace=True)"
   ]
  },
  {
   "cell_type": "code",
   "execution_count": 1615,
   "metadata": {},
   "outputs": [],
   "source": [
    "booking_index.rename(columns={'price':'Aug'},inplace=True)"
   ]
  },
  {
   "cell_type": "code",
   "execution_count": null,
   "metadata": {},
   "outputs": [],
   "source": []
  },
  {
   "cell_type": "code",
   "execution_count": 1619,
   "metadata": {},
   "outputs": [],
   "source": [
    "booking_index.rename(columns={'July_x':'July'},inplace=True)\n",
    "booking_index.drop(columns='July_y',inplace=True)"
   ]
  },
  {
   "cell_type": "code",
   "execution_count": 1621,
   "metadata": {},
   "outputs": [],
   "source": [
    "mean_aug=booking_index['Aug'].mean()\n",
    "mean_july=booking_index['July'].mean()\n",
    "booking_index['Aug'].fillna(mean_aug/mean_july*booking_index['July'],inplace=True)"
   ]
  },
  {
   "cell_type": "code",
   "execution_count": 1620,
   "metadata": {},
   "outputs": [
    {
     "data": {
      "text/plain": [
       "128.3812869198312"
      ]
     },
     "execution_count": 1620,
     "metadata": {},
     "output_type": "execute_result"
    }
   ],
   "source": [
    "booking_index['July'].mean()"
   ]
  },
  {
   "cell_type": "code",
   "execution_count": 1475,
   "metadata": {},
   "outputs": [
    {
     "data": {
      "text/plain": [
       "128.3812869198312"
      ]
     },
     "execution_count": 1475,
     "metadata": {},
     "output_type": "execute_result"
    }
   ],
   "source": [
    "mean_july"
   ]
  },
  {
   "cell_type": "code",
   "execution_count": 1622,
   "metadata": {},
   "outputs": [
    {
     "data": {
      "text/plain": [
       "106.11988549618319"
      ]
     },
     "execution_count": 1622,
     "metadata": {},
     "output_type": "execute_result"
    }
   ],
   "source": [
    "mean_aug"
   ]
  },
  {
   "cell_type": "code",
   "execution_count": 1473,
   "metadata": {},
   "outputs": [
    {
     "data": {
      "text/html": [
       "<div>\n",
       "<style scoped>\n",
       "    .dataframe tbody tr th:only-of-type {\n",
       "        vertical-align: middle;\n",
       "    }\n",
       "\n",
       "    .dataframe tbody tr th {\n",
       "        vertical-align: top;\n",
       "    }\n",
       "\n",
       "    .dataframe thead th {\n",
       "        text-align: right;\n",
       "    }\n",
       "</style>\n",
       "<table border=\"1\" class=\"dataframe\">\n",
       "  <thead>\n",
       "    <tr style=\"text-align: right;\">\n",
       "      <th></th>\n",
       "      <th>Hotels</th>\n",
       "      <th>June</th>\n",
       "      <th>July</th>\n",
       "      <th>Aug</th>\n",
       "    </tr>\n",
       "  </thead>\n",
       "  <tbody>\n",
       "    <tr>\n",
       "      <th>100</th>\n",
       "      <td>Central Park Hotel</td>\n",
       "      <td>223.90</td>\n",
       "      <td>143.96</td>\n",
       "      <td>119.000000</td>\n",
       "    </tr>\n",
       "    <tr>\n",
       "      <th>101</th>\n",
       "      <td>CENTRIC HOTEL</td>\n",
       "      <td>182.81</td>\n",
       "      <td>128.44</td>\n",
       "      <td>106.168418</td>\n",
       "    </tr>\n",
       "    <tr>\n",
       "      <th>102</th>\n",
       "      <td>Centrum Hotel&amp;Hostel</td>\n",
       "      <td>43.31</td>\n",
       "      <td>30.43</td>\n",
       "      <td>25.153418</td>\n",
       "    </tr>\n",
       "    <tr>\n",
       "      <th>103</th>\n",
       "      <td>Chapman Taylor in Baku</td>\n",
       "      <td>433.10</td>\n",
       "      <td>304.28</td>\n",
       "      <td>251.517644</td>\n",
       "    </tr>\n",
       "    <tr>\n",
       "      <th>104</th>\n",
       "      <td>Chateau Monolit</td>\n",
       "      <td>115.71</td>\n",
       "      <td>115.33</td>\n",
       "      <td>130.000000</td>\n",
       "    </tr>\n",
       "    <tr>\n",
       "      <th>105</th>\n",
       "      <td>Chateau Qusar</td>\n",
       "      <td>370.13</td>\n",
       "      <td>260.04</td>\n",
       "      <td>214.948889</td>\n",
       "    </tr>\n",
       "    <tr>\n",
       "      <th>106</th>\n",
       "      <td>Check-in Baku Hotel &amp; Hostel</td>\n",
       "      <td>50.84</td>\n",
       "      <td>35.72</td>\n",
       "      <td>29.526128</td>\n",
       "    </tr>\n",
       "    <tr>\n",
       "      <th>107</th>\n",
       "      <td>Check-in Old City Aparts</td>\n",
       "      <td>97.64</td>\n",
       "      <td>77.67</td>\n",
       "      <td>60.000000</td>\n",
       "    </tr>\n",
       "    <tr>\n",
       "      <th>108</th>\n",
       "      <td>Chinar Hotel &amp; Spa Naftalan</td>\n",
       "      <td>355.63</td>\n",
       "      <td>249.85</td>\n",
       "      <td>206.525842</td>\n",
       "    </tr>\n",
       "    <tr>\n",
       "      <th>109</th>\n",
       "      <td>Chirag Plaza Hotel</td>\n",
       "      <td>646.90</td>\n",
       "      <td>454.49</td>\n",
       "      <td>375.681129</td>\n",
       "    </tr>\n",
       "    <tr>\n",
       "      <th>110</th>\n",
       "      <td>Cinema Boutique Hotel</td>\n",
       "      <td>128.09</td>\n",
       "      <td>89.99</td>\n",
       "      <td>74.385674</td>\n",
       "    </tr>\n",
       "    <tr>\n",
       "      <th>111</th>\n",
       "      <td>Çıraqban.otel</td>\n",
       "      <td>60.00</td>\n",
       "      <td>60.00</td>\n",
       "      <td>60.000000</td>\n",
       "    </tr>\n",
       "  </tbody>\n",
       "</table>\n",
       "</div>"
      ],
      "text/plain": [
       "                           Hotels    June    July         Aug\n",
       "100            Central Park Hotel  223.90  143.96  119.000000\n",
       "101                 CENTRIC HOTEL  182.81  128.44  106.168418\n",
       "102          Centrum Hotel&Hostel   43.31   30.43   25.153418\n",
       "103        Chapman Taylor in Baku  433.10  304.28  251.517644\n",
       "104               Chateau Monolit  115.71  115.33  130.000000\n",
       "105                 Chateau Qusar  370.13  260.04  214.948889\n",
       "106  Check-in Baku Hotel & Hostel   50.84   35.72   29.526128\n",
       "107      Check-in Old City Aparts   97.64   77.67   60.000000\n",
       "108   Chinar Hotel & Spa Naftalan  355.63  249.85  206.525842\n",
       "109            Chirag Plaza Hotel  646.90  454.49  375.681129\n",
       "110         Cinema Boutique Hotel  128.09   89.99   74.385674\n",
       "111                 Çıraqban.otel   60.00   60.00   60.000000"
      ]
     },
     "execution_count": 1473,
     "metadata": {},
     "output_type": "execute_result"
    }
   ],
   "source": [
    "booking_index.iloc[100:112,[0,7,8,9]]"
   ]
  },
  {
   "cell_type": "code",
   "execution_count": 1623,
   "metadata": {},
   "outputs": [
    {
     "data": {
      "text/plain": [
       "0.826599328003704"
      ]
     },
     "execution_count": 1623,
     "metadata": {},
     "output_type": "execute_result"
    }
   ],
   "source": [
    "mean_aug/mean_july"
   ]
  },
  {
   "cell_type": "code",
   "execution_count": 1624,
   "metadata": {},
   "outputs": [
    {
     "data": {
      "text/html": [
       "<div>\n",
       "<style scoped>\n",
       "    .dataframe tbody tr th:only-of-type {\n",
       "        vertical-align: middle;\n",
       "    }\n",
       "\n",
       "    .dataframe tbody tr th {\n",
       "        vertical-align: top;\n",
       "    }\n",
       "\n",
       "    .dataframe thead th {\n",
       "        text-align: right;\n",
       "    }\n",
       "</style>\n",
       "<table border=\"1\" class=\"dataframe\">\n",
       "  <thead>\n",
       "    <tr style=\"text-align: right;\">\n",
       "      <th></th>\n",
       "      <th>Hotels</th>\n",
       "      <th>December</th>\n",
       "      <th>January</th>\n",
       "      <th>February</th>\n",
       "      <th>March</th>\n",
       "      <th>April</th>\n",
       "      <th>May</th>\n",
       "      <th>June</th>\n",
       "      <th>July</th>\n",
       "      <th>Aug</th>\n",
       "      <th>property_name</th>\n",
       "      <th>Star rating</th>\n",
       "    </tr>\n",
       "  </thead>\n",
       "  <tbody>\n",
       "    <tr>\n",
       "      <th>0</th>\n",
       "      <td>ABSERON HOTEL</td>\n",
       "      <td>35.00</td>\n",
       "      <td>35.00</td>\n",
       "      <td>29.41</td>\n",
       "      <td>35.78</td>\n",
       "      <td>43.00</td>\n",
       "      <td>36.01</td>\n",
       "      <td>64.80</td>\n",
       "      <td>45.53</td>\n",
       "      <td>37.635067</td>\n",
       "      <td>ABSERON HOTEL</td>\n",
       "      <td>unknown</td>\n",
       "    </tr>\n",
       "    <tr>\n",
       "      <th>1</th>\n",
       "      <td>Absheron Marina</td>\n",
       "      <td>0.00</td>\n",
       "      <td>100.00</td>\n",
       "      <td>100.00</td>\n",
       "      <td>100.00</td>\n",
       "      <td>138.67</td>\n",
       "      <td>140.00</td>\n",
       "      <td>140.00</td>\n",
       "      <td>182.90</td>\n",
       "      <td>180.000000</td>\n",
       "      <td>Absheron Marina</td>\n",
       "      <td>unknown</td>\n",
       "    </tr>\n",
       "    <tr>\n",
       "      <th>2</th>\n",
       "      <td>Abu Arena Hotel</td>\n",
       "      <td>38.71</td>\n",
       "      <td>28.46</td>\n",
       "      <td>27.00</td>\n",
       "      <td>36.44</td>\n",
       "      <td>18.23</td>\n",
       "      <td>28.58</td>\n",
       "      <td>30.43</td>\n",
       "      <td>18.45</td>\n",
       "      <td>15.250758</td>\n",
       "      <td>Abu Arena Hotel</td>\n",
       "      <td>4-star hotel</td>\n",
       "    </tr>\n",
       "    <tr>\n",
       "      <th>3</th>\n",
       "      <td>Admiral Hotel</td>\n",
       "      <td>74.32</td>\n",
       "      <td>61.32</td>\n",
       "      <td>60.00</td>\n",
       "      <td>68.87</td>\n",
       "      <td>65.83</td>\n",
       "      <td>63.41</td>\n",
       "      <td>60.00</td>\n",
       "      <td>75.00</td>\n",
       "      <td>75.000000</td>\n",
       "      <td>Admiral Hotel</td>\n",
       "      <td>4-star hotel</td>\n",
       "    </tr>\n",
       "    <tr>\n",
       "      <th>4</th>\n",
       "      <td>AEF Hotel</td>\n",
       "      <td>65.39</td>\n",
       "      <td>66.50</td>\n",
       "      <td>65.39</td>\n",
       "      <td>50.68</td>\n",
       "      <td>41.67</td>\n",
       "      <td>55.00</td>\n",
       "      <td>44.45</td>\n",
       "      <td>44.68</td>\n",
       "      <td>36.000000</td>\n",
       "      <td>AEF Hotel</td>\n",
       "      <td>4-star hotel</td>\n",
       "    </tr>\n",
       "    <tr>\n",
       "      <th>...</th>\n",
       "      <td>...</td>\n",
       "      <td>...</td>\n",
       "      <td>...</td>\n",
       "      <td>...</td>\n",
       "      <td>...</td>\n",
       "      <td>...</td>\n",
       "      <td>...</td>\n",
       "      <td>...</td>\n",
       "      <td>...</td>\n",
       "      <td>...</td>\n",
       "      <td>...</td>\n",
       "      <td>...</td>\n",
       "    </tr>\n",
       "    <tr>\n",
       "      <th>469</th>\n",
       "      <td>Yurd Hotel</td>\n",
       "      <td>65.33</td>\n",
       "      <td>105.56</td>\n",
       "      <td>100.00</td>\n",
       "      <td>102.66</td>\n",
       "      <td>123.38</td>\n",
       "      <td>81.67</td>\n",
       "      <td>98.66</td>\n",
       "      <td>99.00</td>\n",
       "      <td>99.000000</td>\n",
       "      <td>Yurd Hotel</td>\n",
       "      <td>4-star hotel</td>\n",
       "    </tr>\n",
       "    <tr>\n",
       "      <th>470</th>\n",
       "      <td>ZamZam Hotel</td>\n",
       "      <td>70.48</td>\n",
       "      <td>99.65</td>\n",
       "      <td>83.74</td>\n",
       "      <td>80.00</td>\n",
       "      <td>65.00</td>\n",
       "      <td>93.00</td>\n",
       "      <td>302.86</td>\n",
       "      <td>70.00</td>\n",
       "      <td>57.861953</td>\n",
       "      <td>ZamZam Hotel</td>\n",
       "      <td>4-star hotel</td>\n",
       "    </tr>\n",
       "    <tr>\n",
       "      <th>471</th>\n",
       "      <td>Zaqatala Hotel</td>\n",
       "      <td>30.00</td>\n",
       "      <td>30.89</td>\n",
       "      <td>30.17</td>\n",
       "      <td>31.61</td>\n",
       "      <td>31.33</td>\n",
       "      <td>35.00</td>\n",
       "      <td>35.00</td>\n",
       "      <td>35.00</td>\n",
       "      <td>30.690000</td>\n",
       "      <td>Zaqatala Hotel</td>\n",
       "      <td>2-star hotel</td>\n",
       "    </tr>\n",
       "    <tr>\n",
       "      <th>472</th>\n",
       "      <td>Zaqatala olimpiya idman kompleksi</td>\n",
       "      <td>50.00</td>\n",
       "      <td>50.00</td>\n",
       "      <td>50.00</td>\n",
       "      <td>60.83</td>\n",
       "      <td>130.00</td>\n",
       "      <td>108.87</td>\n",
       "      <td>195.90</td>\n",
       "      <td>50.00</td>\n",
       "      <td>41.329966</td>\n",
       "      <td>Zaqatala olimpiya idman kompleksi</td>\n",
       "      <td>3-star hotel</td>\n",
       "    </tr>\n",
       "    <tr>\n",
       "      <th>473</th>\n",
       "      <td>Zirve Hotel</td>\n",
       "      <td>152.67</td>\n",
       "      <td>149.00</td>\n",
       "      <td>148.28</td>\n",
       "      <td>127.58</td>\n",
       "      <td>153.33</td>\n",
       "      <td>128.41</td>\n",
       "      <td>231.06</td>\n",
       "      <td>162.33</td>\n",
       "      <td>134.181869</td>\n",
       "      <td>Zirve Hotel</td>\n",
       "      <td>4-star hotel</td>\n",
       "    </tr>\n",
       "  </tbody>\n",
       "</table>\n",
       "<p>474 rows × 12 columns</p>\n",
       "</div>"
      ],
      "text/plain": [
       "                                Hotels  December  January  February   March  \\\n",
       "0                        ABSERON HOTEL     35.00    35.00     29.41   35.78   \n",
       "1                      Absheron Marina      0.00   100.00    100.00  100.00   \n",
       "2                      Abu Arena Hotel     38.71    28.46     27.00   36.44   \n",
       "3                        Admiral Hotel     74.32    61.32     60.00   68.87   \n",
       "4                            AEF Hotel     65.39    66.50     65.39   50.68   \n",
       "..                                 ...       ...      ...       ...     ...   \n",
       "469                         Yurd Hotel     65.33   105.56    100.00  102.66   \n",
       "470                       ZamZam Hotel     70.48    99.65     83.74   80.00   \n",
       "471                     Zaqatala Hotel     30.00    30.89     30.17   31.61   \n",
       "472  Zaqatala olimpiya idman kompleksi     50.00    50.00     50.00   60.83   \n",
       "473                        Zirve Hotel    152.67   149.00    148.28  127.58   \n",
       "\n",
       "      April     May    June    July         Aug  \\\n",
       "0     43.00   36.01   64.80   45.53   37.635067   \n",
       "1    138.67  140.00  140.00  182.90  180.000000   \n",
       "2     18.23   28.58   30.43   18.45   15.250758   \n",
       "3     65.83   63.41   60.00   75.00   75.000000   \n",
       "4     41.67   55.00   44.45   44.68   36.000000   \n",
       "..      ...     ...     ...     ...         ...   \n",
       "469  123.38   81.67   98.66   99.00   99.000000   \n",
       "470   65.00   93.00  302.86   70.00   57.861953   \n",
       "471   31.33   35.00   35.00   35.00   30.690000   \n",
       "472  130.00  108.87  195.90   50.00   41.329966   \n",
       "473  153.33  128.41  231.06  162.33  134.181869   \n",
       "\n",
       "                         property_name   Star rating  \n",
       "0                        ABSERON HOTEL       unknown  \n",
       "1                      Absheron Marina       unknown  \n",
       "2                      Abu Arena Hotel  4-star hotel  \n",
       "3                        Admiral Hotel  4-star hotel  \n",
       "4                            AEF Hotel  4-star hotel  \n",
       "..                                 ...           ...  \n",
       "469                         Yurd Hotel  4-star hotel  \n",
       "470                       ZamZam Hotel  4-star hotel  \n",
       "471                     Zaqatala Hotel  2-star hotel  \n",
       "472  Zaqatala olimpiya idman kompleksi  3-star hotel  \n",
       "473                        Zirve Hotel  4-star hotel  \n",
       "\n",
       "[474 rows x 12 columns]"
      ]
     },
     "execution_count": 1624,
     "metadata": {},
     "output_type": "execute_result"
    }
   ],
   "source": [
    "booking_index=pd.merge(booking_index,hotel_list,left_on='Hotels',right_on='property_name',how='left')\n",
    "booking_index"
   ]
  },
  {
   "cell_type": "code",
   "execution_count": 1668,
   "metadata": {},
   "outputs": [
    {
     "data": {
      "text/html": [
       "<div>\n",
       "<style scoped>\n",
       "    .dataframe tbody tr th:only-of-type {\n",
       "        vertical-align: middle;\n",
       "    }\n",
       "\n",
       "    .dataframe tbody tr th {\n",
       "        vertical-align: top;\n",
       "    }\n",
       "\n",
       "    .dataframe thead th {\n",
       "        text-align: right;\n",
       "    }\n",
       "</style>\n",
       "<table border=\"1\" class=\"dataframe\">\n",
       "  <thead>\n",
       "    <tr style=\"text-align: right;\">\n",
       "      <th></th>\n",
       "      <th>December</th>\n",
       "      <th>January</th>\n",
       "      <th>February</th>\n",
       "      <th>March</th>\n",
       "      <th>April</th>\n",
       "      <th>May</th>\n",
       "      <th>June</th>\n",
       "      <th>July</th>\n",
       "      <th>Aug</th>\n",
       "    </tr>\n",
       "  </thead>\n",
       "  <tbody>\n",
       "    <tr>\n",
       "      <th>count</th>\n",
       "      <td>474.000000</td>\n",
       "      <td>474.000000</td>\n",
       "      <td>474.000000</td>\n",
       "      <td>474.000000</td>\n",
       "      <td>474.000000</td>\n",
       "      <td>474.000000</td>\n",
       "      <td>474.000000</td>\n",
       "      <td>474.000000</td>\n",
       "      <td>474.000000</td>\n",
       "    </tr>\n",
       "    <tr>\n",
       "      <th>mean</th>\n",
       "      <td>96.906435</td>\n",
       "      <td>99.099051</td>\n",
       "      <td>83.948270</td>\n",
       "      <td>100.336878</td>\n",
       "      <td>101.671118</td>\n",
       "      <td>101.571224</td>\n",
       "      <td>182.685000</td>\n",
       "      <td>128.381287</td>\n",
       "      <td>109.160022</td>\n",
       "    </tr>\n",
       "    <tr>\n",
       "      <th>std</th>\n",
       "      <td>60.227692</td>\n",
       "      <td>108.643011</td>\n",
       "      <td>56.692679</td>\n",
       "      <td>78.384868</td>\n",
       "      <td>71.402186</td>\n",
       "      <td>68.114215</td>\n",
       "      <td>150.718016</td>\n",
       "      <td>107.304386</td>\n",
       "      <td>80.712718</td>\n",
       "    </tr>\n",
       "    <tr>\n",
       "      <th>min</th>\n",
       "      <td>0.000000</td>\n",
       "      <td>9.150000</td>\n",
       "      <td>7.690000</td>\n",
       "      <td>9.360000</td>\n",
       "      <td>11.250000</td>\n",
       "      <td>9.420000</td>\n",
       "      <td>16.950000</td>\n",
       "      <td>11.760000</td>\n",
       "      <td>9.844798</td>\n",
       "    </tr>\n",
       "    <tr>\n",
       "      <th>25%</th>\n",
       "      <td>60.000000</td>\n",
       "      <td>59.095000</td>\n",
       "      <td>50.027500</td>\n",
       "      <td>61.280000</td>\n",
       "      <td>58.597500</td>\n",
       "      <td>60.000000</td>\n",
       "      <td>82.850000</td>\n",
       "      <td>64.092500</td>\n",
       "      <td>60.000000</td>\n",
       "    </tr>\n",
       "    <tr>\n",
       "      <th>50%</th>\n",
       "      <td>80.875000</td>\n",
       "      <td>78.115000</td>\n",
       "      <td>68.000000</td>\n",
       "      <td>81.550000</td>\n",
       "      <td>81.350000</td>\n",
       "      <td>83.130000</td>\n",
       "      <td>133.355000</td>\n",
       "      <td>95.845000</td>\n",
       "      <td>87.158519</td>\n",
       "    </tr>\n",
       "    <tr>\n",
       "      <th>75%</th>\n",
       "      <td>120.000000</td>\n",
       "      <td>111.510000</td>\n",
       "      <td>99.000000</td>\n",
       "      <td>114.172500</td>\n",
       "      <td>121.137500</td>\n",
       "      <td>120.000000</td>\n",
       "      <td>230.632500</td>\n",
       "      <td>159.630000</td>\n",
       "      <td>130.750000</td>\n",
       "    </tr>\n",
       "    <tr>\n",
       "      <th>max</th>\n",
       "      <td>475.000000</td>\n",
       "      <td>2000.000000</td>\n",
       "      <td>438.000000</td>\n",
       "      <td>1095.160000</td>\n",
       "      <td>593.570000</td>\n",
       "      <td>584.000000</td>\n",
       "      <td>945.000000</td>\n",
       "      <td>1000.000000</td>\n",
       "      <td>781.136365</td>\n",
       "    </tr>\n",
       "  </tbody>\n",
       "</table>\n",
       "</div>"
      ],
      "text/plain": [
       "         December      January    February        March       April  \\\n",
       "count  474.000000   474.000000  474.000000   474.000000  474.000000   \n",
       "mean    96.906435    99.099051   83.948270   100.336878  101.671118   \n",
       "std     60.227692   108.643011   56.692679    78.384868   71.402186   \n",
       "min      0.000000     9.150000    7.690000     9.360000   11.250000   \n",
       "25%     60.000000    59.095000   50.027500    61.280000   58.597500   \n",
       "50%     80.875000    78.115000   68.000000    81.550000   81.350000   \n",
       "75%    120.000000   111.510000   99.000000   114.172500  121.137500   \n",
       "max    475.000000  2000.000000  438.000000  1095.160000  593.570000   \n",
       "\n",
       "              May        June         July         Aug  \n",
       "count  474.000000  474.000000   474.000000  474.000000  \n",
       "mean   101.571224  182.685000   128.381287  109.160022  \n",
       "std     68.114215  150.718016   107.304386   80.712718  \n",
       "min      9.420000   16.950000    11.760000    9.844798  \n",
       "25%     60.000000   82.850000    64.092500   60.000000  \n",
       "50%     83.130000  133.355000    95.845000   87.158519  \n",
       "75%    120.000000  230.632500   159.630000  130.750000  \n",
       "max    584.000000  945.000000  1000.000000  781.136365  "
      ]
     },
     "execution_count": 1668,
     "metadata": {},
     "output_type": "execute_result"
    }
   ],
   "source": [
    "booking_index.describe()"
   ]
  },
  {
   "cell_type": "code",
   "execution_count": 1674,
   "metadata": {},
   "outputs": [
    {
     "data": {
      "text/html": [
       "<div>\n",
       "<style scoped>\n",
       "    .dataframe tbody tr th:only-of-type {\n",
       "        vertical-align: middle;\n",
       "    }\n",
       "\n",
       "    .dataframe tbody tr th {\n",
       "        vertical-align: top;\n",
       "    }\n",
       "\n",
       "    .dataframe thead th {\n",
       "        text-align: right;\n",
       "    }\n",
       "</style>\n",
       "<table border=\"1\" class=\"dataframe\">\n",
       "  <thead>\n",
       "    <tr style=\"text-align: right;\">\n",
       "      <th></th>\n",
       "      <th>December</th>\n",
       "      <th>January</th>\n",
       "      <th>February</th>\n",
       "      <th>March</th>\n",
       "      <th>April</th>\n",
       "      <th>May</th>\n",
       "      <th>June</th>\n",
       "      <th>July</th>\n",
       "      <th>Aug</th>\n",
       "    </tr>\n",
       "  </thead>\n",
       "  <tbody>\n",
       "    <tr>\n",
       "      <th>0</th>\n",
       "      <td>35.00</td>\n",
       "      <td>35.00</td>\n",
       "      <td>29.41</td>\n",
       "      <td>35.78</td>\n",
       "      <td>43.00</td>\n",
       "      <td>36.01</td>\n",
       "      <td>64.80</td>\n",
       "      <td>45.53</td>\n",
       "      <td>37.635067</td>\n",
       "    </tr>\n",
       "    <tr>\n",
       "      <th>1</th>\n",
       "      <td>0.00</td>\n",
       "      <td>100.00</td>\n",
       "      <td>100.00</td>\n",
       "      <td>100.00</td>\n",
       "      <td>138.67</td>\n",
       "      <td>140.00</td>\n",
       "      <td>140.00</td>\n",
       "      <td>182.90</td>\n",
       "      <td>180.000000</td>\n",
       "    </tr>\n",
       "    <tr>\n",
       "      <th>2</th>\n",
       "      <td>38.71</td>\n",
       "      <td>28.46</td>\n",
       "      <td>27.00</td>\n",
       "      <td>36.44</td>\n",
       "      <td>18.23</td>\n",
       "      <td>28.58</td>\n",
       "      <td>30.43</td>\n",
       "      <td>18.45</td>\n",
       "      <td>15.250758</td>\n",
       "    </tr>\n",
       "    <tr>\n",
       "      <th>3</th>\n",
       "      <td>74.32</td>\n",
       "      <td>61.32</td>\n",
       "      <td>60.00</td>\n",
       "      <td>68.87</td>\n",
       "      <td>65.83</td>\n",
       "      <td>63.41</td>\n",
       "      <td>60.00</td>\n",
       "      <td>75.00</td>\n",
       "      <td>75.000000</td>\n",
       "    </tr>\n",
       "    <tr>\n",
       "      <th>4</th>\n",
       "      <td>65.39</td>\n",
       "      <td>66.50</td>\n",
       "      <td>65.39</td>\n",
       "      <td>50.68</td>\n",
       "      <td>41.67</td>\n",
       "      <td>55.00</td>\n",
       "      <td>44.45</td>\n",
       "      <td>44.68</td>\n",
       "      <td>36.000000</td>\n",
       "    </tr>\n",
       "    <tr>\n",
       "      <th>...</th>\n",
       "      <td>...</td>\n",
       "      <td>...</td>\n",
       "      <td>...</td>\n",
       "      <td>...</td>\n",
       "      <td>...</td>\n",
       "      <td>...</td>\n",
       "      <td>...</td>\n",
       "      <td>...</td>\n",
       "      <td>...</td>\n",
       "    </tr>\n",
       "    <tr>\n",
       "      <th>469</th>\n",
       "      <td>65.33</td>\n",
       "      <td>105.56</td>\n",
       "      <td>100.00</td>\n",
       "      <td>102.66</td>\n",
       "      <td>123.38</td>\n",
       "      <td>81.67</td>\n",
       "      <td>98.66</td>\n",
       "      <td>99.00</td>\n",
       "      <td>99.000000</td>\n",
       "    </tr>\n",
       "    <tr>\n",
       "      <th>470</th>\n",
       "      <td>70.48</td>\n",
       "      <td>99.65</td>\n",
       "      <td>83.74</td>\n",
       "      <td>80.00</td>\n",
       "      <td>65.00</td>\n",
       "      <td>93.00</td>\n",
       "      <td>302.86</td>\n",
       "      <td>70.00</td>\n",
       "      <td>57.861953</td>\n",
       "    </tr>\n",
       "    <tr>\n",
       "      <th>471</th>\n",
       "      <td>30.00</td>\n",
       "      <td>30.89</td>\n",
       "      <td>30.17</td>\n",
       "      <td>31.61</td>\n",
       "      <td>31.33</td>\n",
       "      <td>35.00</td>\n",
       "      <td>35.00</td>\n",
       "      <td>35.00</td>\n",
       "      <td>30.690000</td>\n",
       "    </tr>\n",
       "    <tr>\n",
       "      <th>472</th>\n",
       "      <td>50.00</td>\n",
       "      <td>50.00</td>\n",
       "      <td>50.00</td>\n",
       "      <td>60.83</td>\n",
       "      <td>130.00</td>\n",
       "      <td>108.87</td>\n",
       "      <td>195.90</td>\n",
       "      <td>50.00</td>\n",
       "      <td>41.329966</td>\n",
       "    </tr>\n",
       "    <tr>\n",
       "      <th>473</th>\n",
       "      <td>152.67</td>\n",
       "      <td>149.00</td>\n",
       "      <td>148.28</td>\n",
       "      <td>127.58</td>\n",
       "      <td>153.33</td>\n",
       "      <td>128.41</td>\n",
       "      <td>231.06</td>\n",
       "      <td>162.33</td>\n",
       "      <td>134.181869</td>\n",
       "    </tr>\n",
       "  </tbody>\n",
       "</table>\n",
       "<p>474 rows × 9 columns</p>\n",
       "</div>"
      ],
      "text/plain": [
       "     December  January  February   March   April     May    June    July  \\\n",
       "0       35.00    35.00     29.41   35.78   43.00   36.01   64.80   45.53   \n",
       "1        0.00   100.00    100.00  100.00  138.67  140.00  140.00  182.90   \n",
       "2       38.71    28.46     27.00   36.44   18.23   28.58   30.43   18.45   \n",
       "3       74.32    61.32     60.00   68.87   65.83   63.41   60.00   75.00   \n",
       "4       65.39    66.50     65.39   50.68   41.67   55.00   44.45   44.68   \n",
       "..        ...      ...       ...     ...     ...     ...     ...     ...   \n",
       "469     65.33   105.56    100.00  102.66  123.38   81.67   98.66   99.00   \n",
       "470     70.48    99.65     83.74   80.00   65.00   93.00  302.86   70.00   \n",
       "471     30.00    30.89     30.17   31.61   31.33   35.00   35.00   35.00   \n",
       "472     50.00    50.00     50.00   60.83  130.00  108.87  195.90   50.00   \n",
       "473    152.67   149.00    148.28  127.58  153.33  128.41  231.06  162.33   \n",
       "\n",
       "            Aug  \n",
       "0     37.635067  \n",
       "1    180.000000  \n",
       "2     15.250758  \n",
       "3     75.000000  \n",
       "4     36.000000  \n",
       "..          ...  \n",
       "469   99.000000  \n",
       "470   57.861953  \n",
       "471   30.690000  \n",
       "472   41.329966  \n",
       "473  134.181869  \n",
       "\n",
       "[474 rows x 9 columns]"
      ]
     },
     "execution_count": 1674,
     "metadata": {},
     "output_type": "execute_result"
    }
   ],
   "source": [
    "outs=booking_index.iloc[:,1:10][booking_index.iloc[:,1:10]<outlier]\n",
    "outs"
   ]
  },
  {
   "cell_type": "code",
   "execution_count": 1639,
   "metadata": {},
   "outputs": [],
   "source": [
    "outlier=booking_index.iloc[:,1:10].mean()+2*booking_index.iloc[:,1:10].std()\n",
    "avgs=booking_index[booking_index<outlier].mean().round(decimals=2)\n",
    "avgs=avgs[1:10]\n",
    "#booking_index.mean().round(decimals=2)"
   ]
  },
  {
   "cell_type": "code",
   "execution_count": 1636,
   "metadata": {},
   "outputs": [
    {
     "data": {
      "text/plain": [
       "[nan, 88.62, 89.73, 76.76, 90.94, 89.84, 91.07, 162.0, 114.24, 99.02, nan, nan]"
      ]
     },
     "execution_count": 1636,
     "metadata": {},
     "output_type": "execute_result"
    }
   ],
   "source": [
    "avgs.tolist()"
   ]
  },
  {
   "cell_type": "code",
   "execution_count": 71,
   "metadata": {},
   "outputs": [
    {
     "ename": "NameError",
     "evalue": "name 'booking_index' is not defined",
     "output_type": "error",
     "traceback": [
      "\u001b[1;31m---------------------------------------------------------------------------\u001b[0m",
      "\u001b[1;31mNameError\u001b[0m                                 Traceback (most recent call last)",
      "\u001b[1;32m<ipython-input-71-2dbaf92c5bf3>\u001b[0m in \u001b[0;36m<module>\u001b[1;34m\u001b[0m\n\u001b[1;32m----> 1\u001b[1;33m \u001b[0mavgs_by_stars\u001b[0m\u001b[1;33m=\u001b[0m\u001b[0mbooking_index\u001b[0m\u001b[1;33m.\u001b[0m\u001b[0mgroupby\u001b[0m\u001b[1;33m(\u001b[0m\u001b[1;34m'Star rating'\u001b[0m\u001b[1;33m)\u001b[0m\u001b[1;33m.\u001b[0m\u001b[0magg\u001b[0m\u001b[1;33m(\u001b[0m\u001b[1;33m[\u001b[0m\u001b[0mnp\u001b[0m\u001b[1;33m.\u001b[0m\u001b[0mmean\u001b[0m\u001b[1;33m]\u001b[0m\u001b[1;33m)\u001b[0m\u001b[1;33m.\u001b[0m\u001b[0mround\u001b[0m\u001b[1;33m(\u001b[0m\u001b[0mdecimals\u001b[0m\u001b[1;33m=\u001b[0m\u001b[1;36m2\u001b[0m\u001b[1;33m)\u001b[0m\u001b[1;33m\u001b[0m\u001b[1;33m\u001b[0m\u001b[0m\n\u001b[0m\u001b[0;32m      2\u001b[0m \u001b[0mavgs_by_stars\u001b[0m\u001b[1;33m\u001b[0m\u001b[1;33m\u001b[0m\u001b[0m\n",
      "\u001b[1;31mNameError\u001b[0m: name 'booking_index' is not defined"
     ]
    }
   ],
   "source": [
    "avgs_by_stars=booking_index.groupby('Star rating').agg([np.mean]).round(decimals=2)\n",
    "avgs_by_stars"
   ]
  },
  {
   "cell_type": "code",
   "execution_count": 1640,
   "metadata": {},
   "outputs": [],
   "source": [
    "avgs_by_stars.loc['Avg Price']=avgs.tolist()"
   ]
  },
  {
   "cell_type": "code",
   "execution_count": 1643,
   "metadata": {},
   "outputs": [
    {
     "data": {
      "text/plain": [
       "December    100.000000\n",
       "January     101.252539\n",
       "February     86.617016\n",
       "March       102.617919\n",
       "April       101.376664\n",
       "May         102.764613\n",
       "June        182.802979\n",
       "July        128.909953\n",
       "Aug         111.735500\n",
       "dtype: float64"
      ]
     },
     "execution_count": 1643,
     "metadata": {},
     "output_type": "execute_result"
    }
   ],
   "source": [
    "price_index=avgs/avgs['December']*100\n",
    "price_index"
   ]
  },
  {
   "cell_type": "code",
   "execution_count": 1648,
   "metadata": {},
   "outputs": [],
   "source": [
    "avgs_by_stars.loc['2_star_index']=avgs_by_stars.loc['2-star hotel']/avgs_by_stars.loc['2-star hotel','December'].tolist()\n"
   ]
  },
  {
   "cell_type": "code",
   "execution_count": 1650,
   "metadata": {},
   "outputs": [],
   "source": [
    "avgs_by_stars.loc['4_star_index']=avgs_by_stars.loc['4-star hotel']/avgs_by_stars.loc['4-star hotel','December'].tolist()"
   ]
  },
  {
   "cell_type": "code",
   "execution_count": 1644,
   "metadata": {},
   "outputs": [],
   "source": [
    "avgs_by_stars.loc['Price index']=price_index.tolist()"
   ]
  },
  {
   "cell_type": "code",
   "execution_count": 1651,
   "metadata": {},
   "outputs": [
    {
     "data": {
      "text/html": [
       "<div>\n",
       "<style scoped>\n",
       "    .dataframe tbody tr th:only-of-type {\n",
       "        vertical-align: middle;\n",
       "    }\n",
       "\n",
       "    .dataframe tbody tr th {\n",
       "        vertical-align: top;\n",
       "    }\n",
       "\n",
       "    .dataframe thead tr th {\n",
       "        text-align: left;\n",
       "    }\n",
       "\n",
       "    .dataframe thead tr:last-of-type th {\n",
       "        text-align: right;\n",
       "    }\n",
       "</style>\n",
       "<table border=\"1\" class=\"dataframe\">\n",
       "  <thead>\n",
       "    <tr>\n",
       "      <th></th>\n",
       "      <th>December</th>\n",
       "      <th>January</th>\n",
       "      <th>February</th>\n",
       "      <th>March</th>\n",
       "      <th>April</th>\n",
       "      <th>May</th>\n",
       "      <th>June</th>\n",
       "      <th>July</th>\n",
       "      <th>Aug</th>\n",
       "    </tr>\n",
       "    <tr>\n",
       "      <th></th>\n",
       "      <th>mean</th>\n",
       "      <th>mean</th>\n",
       "      <th>mean</th>\n",
       "      <th>mean</th>\n",
       "      <th>mean</th>\n",
       "      <th>mean</th>\n",
       "      <th>mean</th>\n",
       "      <th>mean</th>\n",
       "      <th>mean</th>\n",
       "    </tr>\n",
       "    <tr>\n",
       "      <th>Star rating</th>\n",
       "      <th></th>\n",
       "      <th></th>\n",
       "      <th></th>\n",
       "      <th></th>\n",
       "      <th></th>\n",
       "      <th></th>\n",
       "      <th></th>\n",
       "      <th></th>\n",
       "      <th></th>\n",
       "    </tr>\n",
       "  </thead>\n",
       "  <tbody>\n",
       "    <tr>\n",
       "      <th>2-star hotel</th>\n",
       "      <td>42.59</td>\n",
       "      <td>37.58</td>\n",
       "      <td>36.82</td>\n",
       "      <td>44.79</td>\n",
       "      <td>50.45</td>\n",
       "      <td>45.58</td>\n",
       "      <td>65.54</td>\n",
       "      <td>50.94</td>\n",
       "      <td>46.43</td>\n",
       "    </tr>\n",
       "    <tr>\n",
       "      <th>3-star hotel</th>\n",
       "      <td>64.93</td>\n",
       "      <td>61.19</td>\n",
       "      <td>51.49</td>\n",
       "      <td>64.28</td>\n",
       "      <td>63.82</td>\n",
       "      <td>79.43</td>\n",
       "      <td>155.08</td>\n",
       "      <td>96.15</td>\n",
       "      <td>82.27</td>\n",
       "    </tr>\n",
       "    <tr>\n",
       "      <th>4-star hotel</th>\n",
       "      <td>93.39</td>\n",
       "      <td>91.10</td>\n",
       "      <td>79.12</td>\n",
       "      <td>94.51</td>\n",
       "      <td>98.56</td>\n",
       "      <td>99.22</td>\n",
       "      <td>200.71</td>\n",
       "      <td>133.21</td>\n",
       "      <td>108.52</td>\n",
       "    </tr>\n",
       "    <tr>\n",
       "      <th>5-star hotel</th>\n",
       "      <td>162.28</td>\n",
       "      <td>190.15</td>\n",
       "      <td>147.84</td>\n",
       "      <td>181.41</td>\n",
       "      <td>163.38</td>\n",
       "      <td>158.67</td>\n",
       "      <td>247.33</td>\n",
       "      <td>187.70</td>\n",
       "      <td>167.06</td>\n",
       "    </tr>\n",
       "    <tr>\n",
       "      <th>unknown</th>\n",
       "      <td>84.77</td>\n",
       "      <td>83.25</td>\n",
       "      <td>74.63</td>\n",
       "      <td>85.18</td>\n",
       "      <td>93.61</td>\n",
       "      <td>87.55</td>\n",
       "      <td>136.50</td>\n",
       "      <td>107.25</td>\n",
       "      <td>94.55</td>\n",
       "    </tr>\n",
       "    <tr>\n",
       "      <th>Avg Price</th>\n",
       "      <td>88.62</td>\n",
       "      <td>89.73</td>\n",
       "      <td>76.76</td>\n",
       "      <td>90.94</td>\n",
       "      <td>89.84</td>\n",
       "      <td>91.07</td>\n",
       "      <td>162.00</td>\n",
       "      <td>114.24</td>\n",
       "      <td>99.02</td>\n",
       "    </tr>\n",
       "    <tr>\n",
       "      <th>Price index</th>\n",
       "      <td>100.00</td>\n",
       "      <td>101.25</td>\n",
       "      <td>86.62</td>\n",
       "      <td>102.62</td>\n",
       "      <td>101.38</td>\n",
       "      <td>102.76</td>\n",
       "      <td>182.80</td>\n",
       "      <td>128.91</td>\n",
       "      <td>111.74</td>\n",
       "    </tr>\n",
       "    <tr>\n",
       "      <th>2_star_index</th>\n",
       "      <td>1.00</td>\n",
       "      <td>0.88</td>\n",
       "      <td>0.86</td>\n",
       "      <td>1.05</td>\n",
       "      <td>1.18</td>\n",
       "      <td>1.07</td>\n",
       "      <td>1.54</td>\n",
       "      <td>1.20</td>\n",
       "      <td>1.09</td>\n",
       "    </tr>\n",
       "    <tr>\n",
       "      <th>4_star_index</th>\n",
       "      <td>1.00</td>\n",
       "      <td>0.98</td>\n",
       "      <td>0.85</td>\n",
       "      <td>1.01</td>\n",
       "      <td>1.06</td>\n",
       "      <td>1.06</td>\n",
       "      <td>2.15</td>\n",
       "      <td>1.43</td>\n",
       "      <td>1.16</td>\n",
       "    </tr>\n",
       "  </tbody>\n",
       "</table>\n",
       "</div>"
      ],
      "text/plain": [
       "             December January February   March   April     May    June  \\\n",
       "                 mean    mean     mean    mean    mean    mean    mean   \n",
       "Star rating                                                              \n",
       "2-star hotel    42.59   37.58    36.82   44.79   50.45   45.58   65.54   \n",
       "3-star hotel    64.93   61.19    51.49   64.28   63.82   79.43  155.08   \n",
       "4-star hotel    93.39   91.10    79.12   94.51   98.56   99.22  200.71   \n",
       "5-star hotel   162.28  190.15   147.84  181.41  163.38  158.67  247.33   \n",
       "unknown         84.77   83.25    74.63   85.18   93.61   87.55  136.50   \n",
       "Avg Price       88.62   89.73    76.76   90.94   89.84   91.07  162.00   \n",
       "Price index    100.00  101.25    86.62  102.62  101.38  102.76  182.80   \n",
       "2_star_index     1.00    0.88     0.86    1.05    1.18    1.07    1.54   \n",
       "4_star_index     1.00    0.98     0.85    1.01    1.06    1.06    2.15   \n",
       "\n",
       "                July     Aug  \n",
       "                mean    mean  \n",
       "Star rating                   \n",
       "2-star hotel   50.94   46.43  \n",
       "3-star hotel   96.15   82.27  \n",
       "4-star hotel  133.21  108.52  \n",
       "5-star hotel  187.70  167.06  \n",
       "unknown       107.25   94.55  \n",
       "Avg Price     114.24   99.02  \n",
       "Price index   128.91  111.74  \n",
       "2_star_index    1.20    1.09  \n",
       "4_star_index    1.43    1.16  "
      ]
     },
     "execution_count": 1651,
     "metadata": {},
     "output_type": "execute_result"
    }
   ],
   "source": [
    "avgs_by_stars.round(decimals=2)"
   ]
  },
  {
   "cell_type": "code",
   "execution_count": null,
   "metadata": {},
   "outputs": [],
   "source": [
    "avgs_by_stars.to_excel('')"
   ]
  },
  {
   "cell_type": "code",
   "execution_count": 1654,
   "metadata": {},
   "outputs": [
    {
     "data": {
      "text/html": [
       "<div>\n",
       "<style scoped>\n",
       "    .dataframe tbody tr th:only-of-type {\n",
       "        vertical-align: middle;\n",
       "    }\n",
       "\n",
       "    .dataframe tbody tr th {\n",
       "        vertical-align: top;\n",
       "    }\n",
       "\n",
       "    .dataframe thead th {\n",
       "        text-align: right;\n",
       "    }\n",
       "</style>\n",
       "<table border=\"1\" class=\"dataframe\">\n",
       "  <thead>\n",
       "    <tr style=\"text-align: right;\">\n",
       "      <th></th>\n",
       "      <th>December</th>\n",
       "      <th>January</th>\n",
       "    </tr>\n",
       "  </thead>\n",
       "  <tbody>\n",
       "    <tr>\n",
       "      <th>0</th>\n",
       "      <td>35.00</td>\n",
       "      <td>35.00</td>\n",
       "    </tr>\n",
       "    <tr>\n",
       "      <th>1</th>\n",
       "      <td>0.00</td>\n",
       "      <td>100.00</td>\n",
       "    </tr>\n",
       "    <tr>\n",
       "      <th>2</th>\n",
       "      <td>38.71</td>\n",
       "      <td>28.46</td>\n",
       "    </tr>\n",
       "    <tr>\n",
       "      <th>3</th>\n",
       "      <td>74.32</td>\n",
       "      <td>61.32</td>\n",
       "    </tr>\n",
       "    <tr>\n",
       "      <th>4</th>\n",
       "      <td>65.39</td>\n",
       "      <td>66.50</td>\n",
       "    </tr>\n",
       "  </tbody>\n",
       "</table>\n",
       "</div>"
      ],
      "text/plain": [
       "   December  January\n",
       "0     35.00    35.00\n",
       "1      0.00   100.00\n",
       "2     38.71    28.46\n",
       "3     74.32    61.32\n",
       "4     65.39    66.50"
      ]
     },
     "execution_count": 1654,
     "metadata": {},
     "output_type": "execute_result"
    }
   ],
   "source": [
    "test=booking_index.iloc[0:5,1:3]\n",
    "test"
   ]
  },
  {
   "cell_type": "code",
   "execution_count": 1658,
   "metadata": {},
   "outputs": [
    {
     "data": {
      "text/html": [
       "<div>\n",
       "<style scoped>\n",
       "    .dataframe tbody tr th:only-of-type {\n",
       "        vertical-align: middle;\n",
       "    }\n",
       "\n",
       "    .dataframe tbody tr th {\n",
       "        vertical-align: top;\n",
       "    }\n",
       "\n",
       "    .dataframe thead th {\n",
       "        text-align: right;\n",
       "    }\n",
       "</style>\n",
       "<table border=\"1\" class=\"dataframe\">\n",
       "  <thead>\n",
       "    <tr style=\"text-align: right;\">\n",
       "      <th></th>\n",
       "      <th>December</th>\n",
       "      <th>January</th>\n",
       "    </tr>\n",
       "  </thead>\n",
       "  <tbody>\n",
       "    <tr>\n",
       "      <th>0</th>\n",
       "      <td>35.00</td>\n",
       "      <td>35.00</td>\n",
       "    </tr>\n",
       "    <tr>\n",
       "      <th>1</th>\n",
       "      <td>0.00</td>\n",
       "      <td>NaN</td>\n",
       "    </tr>\n",
       "    <tr>\n",
       "      <th>2</th>\n",
       "      <td>38.71</td>\n",
       "      <td>28.46</td>\n",
       "    </tr>\n",
       "    <tr>\n",
       "      <th>3</th>\n",
       "      <td>NaN</td>\n",
       "      <td>NaN</td>\n",
       "    </tr>\n",
       "    <tr>\n",
       "      <th>4</th>\n",
       "      <td>NaN</td>\n",
       "      <td>NaN</td>\n",
       "    </tr>\n",
       "  </tbody>\n",
       "</table>\n",
       "</div>"
      ],
      "text/plain": [
       "   December  January\n",
       "0     35.00    35.00\n",
       "1      0.00      NaN\n",
       "2     38.71    28.46\n",
       "3       NaN      NaN\n",
       "4       NaN      NaN"
      ]
     },
     "execution_count": 1658,
     "metadata": {},
     "output_type": "execute_result"
    }
   ],
   "source": [
    "test[test<test.mean()]"
   ]
  },
  {
   "cell_type": "code",
   "execution_count": 1659,
   "metadata": {},
   "outputs": [
    {
     "ename": "ValueError",
     "evalue": "The truth value of a Series is ambiguous. Use a.empty, a.bool(), a.item(), a.any() or a.all().",
     "output_type": "error",
     "traceback": [
      "\u001b[1;31m---------------------------------------------------------------------------\u001b[0m",
      "\u001b[1;31mValueError\u001b[0m                                Traceback (most recent call last)",
      "\u001b[1;32m<ipython-input-1659-7e7bcc4ad0a2>\u001b[0m in \u001b[0;36m<module>\u001b[1;34m\u001b[0m\n\u001b[0;32m      1\u001b[0m \u001b[1;32mfor\u001b[0m \u001b[0mcol\u001b[0m \u001b[1;32min\u001b[0m \u001b[0mtest\u001b[0m\u001b[1;33m.\u001b[0m\u001b[0mcolumns\u001b[0m\u001b[1;33m:\u001b[0m\u001b[1;33m\u001b[0m\u001b[1;33m\u001b[0m\u001b[0m\n\u001b[1;32m----> 2\u001b[1;33m     \u001b[1;32mif\u001b[0m \u001b[0mtest\u001b[0m\u001b[1;33m[\u001b[0m\u001b[0mcol\u001b[0m\u001b[1;33m]\u001b[0m\u001b[1;33m<\u001b[0m\u001b[0mtest\u001b[0m\u001b[1;33m[\u001b[0m\u001b[0mcol\u001b[0m\u001b[1;33m]\u001b[0m\u001b[1;33m.\u001b[0m\u001b[0mmean\u001b[0m\u001b[1;33m(\u001b[0m\u001b[1;33m)\u001b[0m\u001b[1;33m:\u001b[0m\u001b[1;33m\u001b[0m\u001b[1;33m\u001b[0m\u001b[0m\n\u001b[0m\u001b[0;32m      3\u001b[0m         \u001b[0mtest\u001b[0m\u001b[1;33m=\u001b[0m\u001b[0mtest\u001b[0m\u001b[1;33m.\u001b[0m\u001b[0mdrop\u001b[0m\u001b[1;33m(\u001b[0m\u001b[0mindex\u001b[0m\u001b[1;33m=\u001b[0m\u001b[1;33m[\u001b[0m\u001b[0mtest\u001b[0m\u001b[1;33m[\u001b[0m\u001b[0mcol\u001b[0m\u001b[1;33m]\u001b[0m\u001b[1;33m.\u001b[0m\u001b[0mindex\u001b[0m\u001b[1;33m]\u001b[0m\u001b[1;33m)\u001b[0m\u001b[1;33m\u001b[0m\u001b[1;33m\u001b[0m\u001b[0m\n\u001b[0;32m      4\u001b[0m \u001b[0mtest\u001b[0m\u001b[1;33m\u001b[0m\u001b[1;33m\u001b[0m\u001b[0m\n",
      "\u001b[1;32mc:\\users\\fuad.ak\\appdata\\local\\programs\\python\\python37-32\\lib\\site-packages\\pandas\\core\\generic.py\u001b[0m in \u001b[0;36m__nonzero__\u001b[1;34m(self)\u001b[0m\n\u001b[0;32m   1553\u001b[0m             \u001b[1;34m\"The truth value of a {0} is ambiguous. \"\u001b[0m\u001b[1;33m\u001b[0m\u001b[1;33m\u001b[0m\u001b[0m\n\u001b[0;32m   1554\u001b[0m             \"Use a.empty, a.bool(), a.item(), a.any() or a.all().\".format(\n\u001b[1;32m-> 1555\u001b[1;33m                 \u001b[0mself\u001b[0m\u001b[1;33m.\u001b[0m\u001b[0m__class__\u001b[0m\u001b[1;33m.\u001b[0m\u001b[0m__name__\u001b[0m\u001b[1;33m\u001b[0m\u001b[1;33m\u001b[0m\u001b[0m\n\u001b[0m\u001b[0;32m   1556\u001b[0m             )\n\u001b[0;32m   1557\u001b[0m         )\n",
      "\u001b[1;31mValueError\u001b[0m: The truth value of a Series is ambiguous. Use a.empty, a.bool(), a.item(), a.any() or a.all()."
     ]
    }
   ],
   "source": [
    "for col in test.columns:\n",
    "    if test[col]<test[col].mean():\n",
    "        test=test.drop(index=[test[col].index])\n",
    "test"
   ]
  },
  {
   "cell_type": "code",
   "execution_count": 1676,
   "metadata": {},
   "outputs": [],
   "source": [
    "booking_index.to_excel('booking_index.xls')"
   ]
  },
  {
   "cell_type": "code",
   "execution_count": 2,
   "metadata": {},
   "outputs": [],
   "source": [
    "from scipy import stats"
   ]
  },
  {
   "cell_type": "code",
   "execution_count": 129,
   "metadata": {},
   "outputs": [],
   "source": [
    "table=pd.read_excel('booking_index.xls')"
   ]
  },
  {
   "cell_type": "code",
   "execution_count": 7,
   "metadata": {},
   "outputs": [
    {
     "data": {
      "text/plain": [
       "0       37.635067\n",
       "1      180.000000\n",
       "2       15.250758\n",
       "3       75.000000\n",
       "4       36.000000\n",
       "          ...    \n",
       "469     99.000000\n",
       "470     57.861953\n",
       "471     30.690000\n",
       "472     41.329966\n",
       "473    134.181869\n",
       "Name: Aug, Length: 474, dtype: float64"
      ]
     },
     "execution_count": 7,
     "metadata": {},
     "output_type": "execute_result"
    }
   ],
   "source": [
    "table['Aug']"
   ]
  },
  {
   "cell_type": "code",
   "execution_count": 24,
   "metadata": {
    "collapsed": true,
    "jupyter": {
     "outputs_hidden": true
    }
   },
   "outputs": [
    {
     "name": "stdout",
     "output_type": "stream",
     "text": [
      "[7.72930395e-01 5.08612141e-01 1.02556323e+00 4.98000945e-01\n",
      " 7.80860155e-01 1.08797510e+00 6.37937890e-01 2.64772705e-01\n",
      " 3.88266369e-01 4.98000945e-01 7.21900056e-01 5.84178091e-01\n",
      " 7.85524720e-01 3.55046815e+00 7.22832969e-01 7.77874834e-01\n",
      " 7.31229186e-01 1.08392480e-01 9.69564436e-01 3.99858502e-01\n",
      " 2.41636463e-01 2.15701483e-01 4.90327047e-01 4.18236887e-01\n",
      " 7.71786888e-01 2.25644879e-02 6.54637032e-01 1.39413313e+00\n",
      " 4.06831337e-01 1.70274073e+00 1.82429929e+00 8.54428215e-02\n",
      " 6.60421092e-01 4.01607025e-01 2.57029527e-01 7.26191456e-01\n",
      " 3.45656258e-01 2.22791621e-01 4.02937114e-01 6.43535367e-01\n",
      " 3.29578291e+00 4.79342686e-01 7.77874834e-01 5.80563742e-01\n",
      " 9.50836897e-01 6.60234509e-01 3.33714973e-01 4.17397265e-01\n",
      " 7.82259525e-01 8.24520482e-01 9.17811778e-01 8.24520482e-01\n",
      " 8.24520482e-01 8.71166130e-01 3.57386950e-01 9.50836897e-01\n",
      " 1.10896584e-02 4.57139357e-01 8.04556145e-01 6.13402279e-01\n",
      " 4.90071185e-01 6.65925278e-01 1.07426128e+00 2.88748568e-01\n",
      " 5.90639202e-01 2.01683777e-01 5.68995622e-01 1.28007664e-01\n",
      " 6.34859277e-01 5.44646593e-01 7.75729134e-01 6.47267019e-01\n",
      " 1.16812709e-01 3.76349095e-01 9.92607386e-01 1.48625041e-01\n",
      " 2.10290588e-01 5.14676076e-01 1.52519264e-01 8.73660984e-01\n",
      " 2.63909071e-01 3.45656258e-01 1.24835760e-01 1.48158584e-01\n",
      " 4.17863722e-01 2.10290588e-01 3.29492853e-01 6.68140258e-01\n",
      " 7.31229186e-01 8.64449157e-01 3.17202413e-01 2.96958202e-01\n",
      " 6.84583538e-01 8.68662026e-02 4.06831337e-01 6.20025961e-01\n",
      " 1.51011842e-02 7.34960838e-01 9.24342169e-01 6.42322581e-01\n",
      " 1.45335834e-01 5.47741936e-04 9.13800253e-01 1.64098190e+00\n",
      " 1.21757147e-01 1.22826120e+00 8.64449157e-01 4.73092169e-01\n",
      " 1.13319737e+00 3.04231046e+00 3.58157292e-01 6.37937890e-01\n",
      " 7.31882225e-01 4.04709649e-01 4.51355297e-01 1.33231977e-01\n",
      " 2.64772705e-01 7.32908429e-01 1.63911607e+00 6.48946263e-01\n",
      " 6.11443161e-01 4.19332371e-01 2.79993947e-02 7.21900056e-01\n",
      " 6.54637032e-01 2.53396618e+00 1.48998206e-01 2.92922664e-01\n",
      " 9.23105371e-01 2.98077697e-01 4.51355297e-01 5.18898196e-01\n",
      " 4.03496862e-01 6.00621371e-01 8.27412512e-01 1.45242542e-01\n",
      " 5.44646593e-01 1.43779345e+00 1.45402614e+00 1.59172409e+00\n",
      " 2.07467837e-01 7.61834183e+00 8.24520482e-01 4.57139357e-01\n",
      " 7.52102425e-01 2.83710838e-01 2.49846097e-01 3.55078679e-01\n",
      " 7.77874834e-01 6.13029113e-01 5.80563742e-01 1.80810538e-01\n",
      " 4.51355297e-01 7.53245932e-01 4.75704325e-01 6.84583538e-01\n",
      " 8.27412512e-01 2.08120876e-01 6.11163288e-01 7.03988127e-01\n",
      " 3.87520039e-01 2.74101834e-01 1.76897755e+00 4.06831337e-01\n",
      " 6.84583538e-01 4.57139357e-01 7.38412616e-01 7.31229186e-01\n",
      " 4.07788262e-01 1.24607984e+00 1.39581237e+00 4.25052603e+00\n",
      " 2.25810382e+00 2.72049426e-01 5.30255722e-01 7.77104492e-01\n",
      " 1.55459415e+00 5.74848962e-01 4.98000945e-01 4.06295601e-01\n",
      " 1.38181867e+00 1.25895404e+00 4.57139357e-01 3.93701276e-01\n",
      " 4.51355297e-01 6.73295291e-01 2.10290588e-01 4.51355297e-01\n",
      " 1.42654398e-01 7.79460786e-01 6.68140258e-01 7.28710321e-01\n",
      " 1.56624081e-01 3.25971795e-01 4.23367908e-01 2.10359867e-01\n",
      " 3.65581823e-02 5.44646593e-01 6.92675869e-01 6.42322581e-01\n",
      " 1.05968383e+00 1.51186674e+00 4.31111086e-01 7.81901121e-02\n",
      " 2.73984531e-01 6.91673676e-01 7.49887445e-01 3.53694071e-02\n",
      " 7.03988127e-01 5.80563742e-01 2.06750970e+00 1.27070874e+00\n",
      " 1.76775001e-01 5.00215925e-01 8.58827667e-01 3.95473811e-01\n",
      " 2.72049426e-01 4.57139357e-01 6.54450449e-01 3.47218199e-01\n",
      " 1.04130544e+00 4.93149798e-01 6.12562657e-01 4.69149923e-01\n",
      " 3.21307230e-01 4.12055650e-01 8.08847544e-01 4.20849043e-01\n",
      " 1.37872530e-01 7.65467092e-01 4.57139357e-01 1.74490840e+00\n",
      " 5.42127728e-01 9.75559091e-01 3.58064001e-01 8.36010073e-02\n",
      " 2.22698330e-01 1.48625041e-01 2.92456208e-01 6.37937890e-01\n",
      " 1.84053198e+00 3.35556787e-01 5.18898196e-01 2.20552630e-01\n",
      " 7.79087621e-01 6.59394888e-01 1.25839429e+00 4.23088034e-01\n",
      " 3.33714973e-01 7.34307799e-01 7.24978669e-01 5.52389771e-01\n",
      " 5.46699002e-01 4.36708564e-01 7.10028050e-01 9.78147235e-01\n",
      " 6.75254408e-01 8.71166130e-01 8.71166130e-01 3.58064001e-01\n",
      " 1.27070874e+00 1.88783067e+00 6.84583538e-01 6.90623460e-01\n",
      " 8.13144396e+00 3.00042266e+00 2.18127056e-01 1.31306299e+00\n",
      " 3.58064001e-01 8.80495260e-01 2.83406952e-01 6.37937890e-01\n",
      " 6.87942024e-01 6.37937890e-01 2.33240246e-01 4.75704325e-01\n",
      " 3.35978074e+00 2.64772705e-01 4.04709649e-01 2.49939388e-01\n",
      " 1.88783067e+00 3.88266369e-01 2.64772705e-01 6.37937890e-01\n",
      " 5.44646593e-01 4.90257768e-01 5.44646593e-01 3.58064001e-01\n",
      " 6.40550046e-01 2.55163701e-01 3.49108036e-01 2.74101834e-01\n",
      " 5.88842656e-01 4.57139357e-01 4.61671858e-02 7.64440887e-01\n",
      " 4.04056610e-01 7.34214507e-01 1.87527511e-01 6.95778493e-01\n",
      " 2.59081936e-01 4.51355297e-01 4.51355297e-01 6.05659101e-01\n",
      " 4.55622685e-01 4.00339719e-02 4.57978979e-01 1.04953909e+00\n",
      " 8.64729031e-01 2.99103902e-01 4.07788262e-01 2.14581987e-01\n",
      " 8.56332814e-01 1.08657573e+00 8.68662026e-02 2.90948786e-02\n",
      " 1.10538180e-01 6.24573223e-01 2.41504399e-02 1.25167732e+00\n",
      " 5.41902373e-02 4.06388892e-01 5.76341622e-01 6.05914963e-01\n",
      " 8.68662026e-02 3.82575600e-01 9.21823304e-01 4.79342686e-01\n",
      " 3.65581823e-02 4.66483268e+00 3.92930934e-01 4.51355297e-01\n",
      " 7.81901121e-02 5.71141321e-01 2.00868167e-01 9.62194424e-01\n",
      " 1.82465770e-01 8.65568652e-01 1.58475145e-02 1.58583198e-01\n",
      " 1.02385997e+00 1.79239347e-02 3.83695096e-01 2.50495259e+00\n",
      " 1.23376539e+00 1.98418581e-01 7.03031203e-01 5.87816452e-01\n",
      " 6.20025961e-01 7.31229186e-01 4.57139357e-01 3.33714973e-01\n",
      " 7.11707293e-01 6.37937890e-01 2.87908946e-01 4.15751461e+00\n",
      " 1.43494019e-01 1.73253943e-01 4.11589193e-01 1.48998206e-01\n",
      " 2.94975073e-01 4.58818601e-01 2.74101834e-01 2.64772705e-01\n",
      " 6.42322581e-01 5.44646593e-01 1.61038235e+00 5.80563742e-01\n",
      " 1.54274616e+00 4.89511437e-01 9.17811778e-01 2.95931998e-01\n",
      " 6.93912667e-01 2.95278958e-01 2.64772705e-01 6.66764900e-01\n",
      " 3.22986473e-01 3.09086070e-01 3.48734871e-01 7.81901121e-02\n",
      " 2.49752806e-01 6.37937890e-01 6.93912667e-01 4.57139357e-01\n",
      " 9.50743606e-01 5.97169593e-01 3.79800873e-01 4.89674008e-01\n",
      " 3.67393130e-01 3.88919408e-01 1.52823149e-01 2.88724556e-01\n",
      " 6.65154936e-01 6.66554306e-01 6.79335213e-01 1.59982567e-01\n",
      " 2.14581987e-01 1.69434452e+00 8.85066730e-03 5.30652899e-01\n",
      " 6.24690526e-01 7.31229186e-01 4.97347906e-01 6.00621371e-01\n",
      " 7.81901121e-02 3.29959309e-01 5.30255722e-01 4.98000945e-01\n",
      " 3.54612223e-01 8.68250088e-01 4.35682359e-01 2.94975073e-01\n",
      " 6.37937890e-01 4.88671816e-01 2.22698527e-03 9.19039326e-02\n",
      " 1.61288645e-01 4.51355297e-01 1.79239347e-02 5.44646593e-01\n",
      " 1.67568626e+00 3.61422488e-01 1.01955381e-01 3.30356486e-01\n",
      " 2.16354522e-01 3.31289399e-01 1.35260374e-01 7.53339223e-01\n",
      " 6.29704244e-01 6.68140258e-01 6.37937890e-01 3.45755002e+00\n",
      " 2.54460139e+00 1.80629407e+00 3.65581823e-02 5.00146645e-01\n",
      " 3.20187735e-01 2.13904936e-01 3.65581823e-02 3.00409980e-01\n",
      " 3.58064001e-01 1.51011842e-02 3.06660497e-01 4.60404553e-01\n",
      " 5.64213754e-01 4.24114239e-01 3.46402589e-01 2.94975073e-01\n",
      " 5.58267123e-01 8.71166130e-01 2.64772705e-01 4.04709649e-01\n",
      " 5.71303892e-01 3.88266369e-01 9.61713206e-02 3.20747482e-01\n",
      " 7.31229186e-01 4.89511437e-01 3.94727480e-01 8.52134706e-01\n",
      " 8.69354823e-02 3.54239058e-01 3.11418353e-01 3.15444640e-02\n",
      " 2.83686826e-01 1.17499187e+00 6.37937890e-01 5.80563742e-01\n",
      " 2.83430964e-01 2.74101834e-01 5.44646593e-01 8.71166130e-01\n",
      " 7.31229186e-01 3.16711945e-01]\n"
     ]
    }
   ],
   "source": [
    "z = np.abs(stats.zscore(table['July']))\n",
    "print(z)"
   ]
  },
  {
   "cell_type": "code",
   "execution_count": 10,
   "metadata": {},
   "outputs": [
    {
     "data": {
      "text/plain": [
       "(array([ 13,  40, 109, 141, 171, 265, 276, 329, 431], dtype=int32),)"
      ]
     },
     "execution_count": 10,
     "metadata": {},
     "output_type": "execute_result"
    }
   ],
   "source": [
    "np.where(z>3)"
   ]
  },
  {
   "cell_type": "code",
   "execution_count": 20,
   "metadata": {},
   "outputs": [
    {
     "data": {
      "text/plain": [
       "0       45.53\n",
       "1      182.90\n",
       "2       18.45\n",
       "3       75.00\n",
       "4       44.68\n",
       "        ...  \n",
       "469     99.00\n",
       "470     70.00\n",
       "471     35.00\n",
       "472     50.00\n",
       "473    162.33\n",
       "Name: July, Length: 463, dtype: float64"
      ]
     },
     "execution_count": 20,
     "metadata": {},
     "output_type": "execute_result"
    }
   ],
   "source": [
    "table['July'][z<3]"
   ]
  },
  {
   "cell_type": "code",
   "execution_count": 32,
   "metadata": {},
   "outputs": [
    {
     "data": {
      "text/plain": [
       "114.23624454148471"
      ]
     },
     "execution_count": 32,
     "metadata": {},
     "output_type": "execute_result"
    }
   ],
   "source": [
    "table['July'][table['July']<table['July'].mean()+2*table['July'].std()].mean()"
   ]
  },
  {
   "cell_type": "code",
   "execution_count": 25,
   "metadata": {},
   "outputs": [
    {
     "data": {
      "text/plain": [
       "117.14613390928724"
      ]
     },
     "execution_count": 25,
     "metadata": {},
     "output_type": "execute_result"
    }
   ],
   "source": [
    "table['July'][z<3].mean()"
   ]
  },
  {
   "cell_type": "code",
   "execution_count": 26,
   "metadata": {
    "collapsed": true,
    "jupyter": {
     "outputs_hidden": true
    }
   },
   "outputs": [
    {
     "data": {
      "text/plain": [
       "Unnamed: 0    236.948164\n",
       "December       94.127581\n",
       "January        96.905832\n",
       "February       81.690734\n",
       "March          97.900000\n",
       "April          98.789482\n",
       "May            97.185378\n",
       "June          173.342505\n",
       "July          117.146134\n",
       "Aug           101.754501\n",
       "dtype: float64"
      ]
     },
     "execution_count": 26,
     "metadata": {},
     "output_type": "execute_result"
    }
   ],
   "source": [
    "table[z<3].mean()"
   ]
  },
  {
   "cell_type": "code",
   "execution_count": 28,
   "metadata": {
    "collapsed": true,
    "jupyter": {
     "outputs_hidden": true
    }
   },
   "outputs": [
    {
     "data": {
      "text/plain": [
       "0    3\n",
       "2    5\n",
       "3    6\n",
       "dtype: int64"
      ]
     },
     "execution_count": 28,
     "metadata": {},
     "output_type": "execute_result"
    }
   ],
   "source": [
    "s=pd.Series([3,4,5,6])\n",
    "f=[2,7,4,5]\n",
    "s[s>f]"
   ]
  },
  {
   "cell_type": "code",
   "execution_count": 29,
   "metadata": {
    "collapsed": true,
    "jupyter": {
     "outputs_hidden": true
    }
   },
   "outputs": [
    {
     "data": {
      "text/plain": [
       "0    3\n",
       "1    4\n",
       "2    5\n",
       "3    6\n",
       "dtype: int64"
      ]
     },
     "execution_count": 29,
     "metadata": {},
     "output_type": "execute_result"
    }
   ],
   "source": [
    "s"
   ]
  },
  {
   "cell_type": "code",
   "execution_count": 30,
   "metadata": {
    "collapsed": true,
    "jupyter": {
     "outputs_hidden": true
    }
   },
   "outputs": [
    {
     "data": {
      "text/plain": [
       "0     True\n",
       "1    False\n",
       "2     True\n",
       "3     True\n",
       "dtype: bool"
      ]
     },
     "execution_count": 30,
     "metadata": {},
     "output_type": "execute_result"
    }
   ],
   "source": [
    "s>f"
   ]
  },
  {
   "cell_type": "code",
   "execution_count": 130,
   "metadata": {},
   "outputs": [],
   "source": [
    "#table=table.set_index('Hotels')\n",
    "table=table.drop(columns=['Unnamed: 0','property_name','Star rating'])\n"
   ]
  },
  {
   "cell_type": "code",
   "execution_count": 131,
   "metadata": {},
   "outputs": [
    {
     "data": {
      "text/html": [
       "<div>\n",
       "<style scoped>\n",
       "    .dataframe tbody tr th:only-of-type {\n",
       "        vertical-align: middle;\n",
       "    }\n",
       "\n",
       "    .dataframe tbody tr th {\n",
       "        vertical-align: top;\n",
       "    }\n",
       "\n",
       "    .dataframe thead th {\n",
       "        text-align: right;\n",
       "    }\n",
       "</style>\n",
       "<table border=\"1\" class=\"dataframe\">\n",
       "  <thead>\n",
       "    <tr style=\"text-align: right;\">\n",
       "      <th></th>\n",
       "      <th>Hotels</th>\n",
       "      <th>December</th>\n",
       "      <th>January</th>\n",
       "      <th>February</th>\n",
       "      <th>March</th>\n",
       "      <th>April</th>\n",
       "      <th>May</th>\n",
       "      <th>June</th>\n",
       "      <th>July</th>\n",
       "      <th>Aug</th>\n",
       "    </tr>\n",
       "  </thead>\n",
       "  <tbody>\n",
       "    <tr>\n",
       "      <th>0</th>\n",
       "      <td>ABSERON HOTEL</td>\n",
       "      <td>35.00</td>\n",
       "      <td>35.00</td>\n",
       "      <td>29.41</td>\n",
       "      <td>35.78</td>\n",
       "      <td>43.00</td>\n",
       "      <td>36.01</td>\n",
       "      <td>64.80</td>\n",
       "      <td>45.53</td>\n",
       "      <td>37.635067</td>\n",
       "    </tr>\n",
       "    <tr>\n",
       "      <th>1</th>\n",
       "      <td>Absheron Marina</td>\n",
       "      <td>0.00</td>\n",
       "      <td>100.00</td>\n",
       "      <td>100.00</td>\n",
       "      <td>100.00</td>\n",
       "      <td>138.67</td>\n",
       "      <td>140.00</td>\n",
       "      <td>140.00</td>\n",
       "      <td>182.90</td>\n",
       "      <td>180.000000</td>\n",
       "    </tr>\n",
       "    <tr>\n",
       "      <th>2</th>\n",
       "      <td>Abu Arena Hotel</td>\n",
       "      <td>38.71</td>\n",
       "      <td>28.46</td>\n",
       "      <td>27.00</td>\n",
       "      <td>36.44</td>\n",
       "      <td>18.23</td>\n",
       "      <td>28.58</td>\n",
       "      <td>30.43</td>\n",
       "      <td>18.45</td>\n",
       "      <td>15.250758</td>\n",
       "    </tr>\n",
       "    <tr>\n",
       "      <th>3</th>\n",
       "      <td>Admiral Hotel</td>\n",
       "      <td>74.32</td>\n",
       "      <td>61.32</td>\n",
       "      <td>60.00</td>\n",
       "      <td>68.87</td>\n",
       "      <td>65.83</td>\n",
       "      <td>63.41</td>\n",
       "      <td>60.00</td>\n",
       "      <td>75.00</td>\n",
       "      <td>75.000000</td>\n",
       "    </tr>\n",
       "    <tr>\n",
       "      <th>4</th>\n",
       "      <td>AEF Hotel</td>\n",
       "      <td>65.39</td>\n",
       "      <td>66.50</td>\n",
       "      <td>65.39</td>\n",
       "      <td>50.68</td>\n",
       "      <td>41.67</td>\n",
       "      <td>55.00</td>\n",
       "      <td>44.45</td>\n",
       "      <td>44.68</td>\n",
       "      <td>36.000000</td>\n",
       "    </tr>\n",
       "    <tr>\n",
       "      <th>...</th>\n",
       "      <td>...</td>\n",
       "      <td>...</td>\n",
       "      <td>...</td>\n",
       "      <td>...</td>\n",
       "      <td>...</td>\n",
       "      <td>...</td>\n",
       "      <td>...</td>\n",
       "      <td>...</td>\n",
       "      <td>...</td>\n",
       "      <td>...</td>\n",
       "    </tr>\n",
       "    <tr>\n",
       "      <th>469</th>\n",
       "      <td>Yurd Hotel</td>\n",
       "      <td>65.33</td>\n",
       "      <td>105.56</td>\n",
       "      <td>100.00</td>\n",
       "      <td>102.66</td>\n",
       "      <td>123.38</td>\n",
       "      <td>81.67</td>\n",
       "      <td>98.66</td>\n",
       "      <td>99.00</td>\n",
       "      <td>99.000000</td>\n",
       "    </tr>\n",
       "    <tr>\n",
       "      <th>470</th>\n",
       "      <td>ZamZam Hotel</td>\n",
       "      <td>70.48</td>\n",
       "      <td>99.65</td>\n",
       "      <td>83.74</td>\n",
       "      <td>80.00</td>\n",
       "      <td>65.00</td>\n",
       "      <td>93.00</td>\n",
       "      <td>302.86</td>\n",
       "      <td>70.00</td>\n",
       "      <td>57.861953</td>\n",
       "    </tr>\n",
       "    <tr>\n",
       "      <th>471</th>\n",
       "      <td>Zaqatala Hotel</td>\n",
       "      <td>30.00</td>\n",
       "      <td>30.89</td>\n",
       "      <td>30.17</td>\n",
       "      <td>31.61</td>\n",
       "      <td>31.33</td>\n",
       "      <td>35.00</td>\n",
       "      <td>35.00</td>\n",
       "      <td>35.00</td>\n",
       "      <td>30.690000</td>\n",
       "    </tr>\n",
       "    <tr>\n",
       "      <th>472</th>\n",
       "      <td>Zaqatala olimpiya idman kompleksi</td>\n",
       "      <td>50.00</td>\n",
       "      <td>50.00</td>\n",
       "      <td>50.00</td>\n",
       "      <td>60.83</td>\n",
       "      <td>130.00</td>\n",
       "      <td>108.87</td>\n",
       "      <td>195.90</td>\n",
       "      <td>50.00</td>\n",
       "      <td>41.329966</td>\n",
       "    </tr>\n",
       "    <tr>\n",
       "      <th>473</th>\n",
       "      <td>Zirve Hotel</td>\n",
       "      <td>152.67</td>\n",
       "      <td>149.00</td>\n",
       "      <td>148.28</td>\n",
       "      <td>127.58</td>\n",
       "      <td>153.33</td>\n",
       "      <td>128.41</td>\n",
       "      <td>231.06</td>\n",
       "      <td>162.33</td>\n",
       "      <td>134.181869</td>\n",
       "    </tr>\n",
       "  </tbody>\n",
       "</table>\n",
       "<p>474 rows × 10 columns</p>\n",
       "</div>"
      ],
      "text/plain": [
       "                                Hotels  December  January  February   March  \\\n",
       "0                        ABSERON HOTEL     35.00    35.00     29.41   35.78   \n",
       "1                      Absheron Marina      0.00   100.00    100.00  100.00   \n",
       "2                      Abu Arena Hotel     38.71    28.46     27.00   36.44   \n",
       "3                        Admiral Hotel     74.32    61.32     60.00   68.87   \n",
       "4                            AEF Hotel     65.39    66.50     65.39   50.68   \n",
       "..                                 ...       ...      ...       ...     ...   \n",
       "469                         Yurd Hotel     65.33   105.56    100.00  102.66   \n",
       "470                       ZamZam Hotel     70.48    99.65     83.74   80.00   \n",
       "471                     Zaqatala Hotel     30.00    30.89     30.17   31.61   \n",
       "472  Zaqatala olimpiya idman kompleksi     50.00    50.00     50.00   60.83   \n",
       "473                        Zirve Hotel    152.67   149.00    148.28  127.58   \n",
       "\n",
       "      April     May    June    July         Aug  \n",
       "0     43.00   36.01   64.80   45.53   37.635067  \n",
       "1    138.67  140.00  140.00  182.90  180.000000  \n",
       "2     18.23   28.58   30.43   18.45   15.250758  \n",
       "3     65.83   63.41   60.00   75.00   75.000000  \n",
       "4     41.67   55.00   44.45   44.68   36.000000  \n",
       "..      ...     ...     ...     ...         ...  \n",
       "469  123.38   81.67   98.66   99.00   99.000000  \n",
       "470   65.00   93.00  302.86   70.00   57.861953  \n",
       "471   31.33   35.00   35.00   35.00   30.690000  \n",
       "472  130.00  108.87  195.90   50.00   41.329966  \n",
       "473  153.33  128.41  231.06  162.33  134.181869  \n",
       "\n",
       "[474 rows x 10 columns]"
      ]
     },
     "execution_count": 131,
     "metadata": {},
     "output_type": "execute_result"
    }
   ],
   "source": [
    "table"
   ]
  },
  {
   "cell_type": "code",
   "execution_count": 132,
   "metadata": {},
   "outputs": [],
   "source": [
    "table=table.set_index('Hotels')"
   ]
  },
  {
   "cell_type": "code",
   "execution_count": 89,
   "metadata": {},
   "outputs": [
    {
     "data": {
      "text/plain": [
       "December     88.624242\n",
       "January      89.728301\n",
       "February     76.755087\n",
       "March        90.942522\n",
       "April        89.843956\n",
       "May          91.065298\n",
       "June        162.002325\n",
       "July        114.236245\n",
       "Aug          99.020936\n",
       "dtype: float64"
      ]
     },
     "execution_count": 89,
     "metadata": {},
     "output_type": "execute_result"
    }
   ],
   "source": [
    "table[table<table.mean()+2*table.std()].mean()"
   ]
  },
  {
   "cell_type": "code",
   "execution_count": 133,
   "metadata": {},
   "outputs": [
    {
     "data": {
      "text/html": [
       "<div>\n",
       "<style scoped>\n",
       "    .dataframe tbody tr th:only-of-type {\n",
       "        vertical-align: middle;\n",
       "    }\n",
       "\n",
       "    .dataframe tbody tr th {\n",
       "        vertical-align: top;\n",
       "    }\n",
       "\n",
       "    .dataframe thead th {\n",
       "        text-align: right;\n",
       "    }\n",
       "</style>\n",
       "<table border=\"1\" class=\"dataframe\">\n",
       "  <thead>\n",
       "    <tr style=\"text-align: right;\">\n",
       "      <th></th>\n",
       "      <th>December</th>\n",
       "      <th>January</th>\n",
       "      <th>February</th>\n",
       "      <th>March</th>\n",
       "      <th>April</th>\n",
       "      <th>May</th>\n",
       "      <th>June</th>\n",
       "      <th>July</th>\n",
       "      <th>Aug</th>\n",
       "    </tr>\n",
       "    <tr>\n",
       "      <th>Hotels</th>\n",
       "      <th></th>\n",
       "      <th></th>\n",
       "      <th></th>\n",
       "      <th></th>\n",
       "      <th></th>\n",
       "      <th></th>\n",
       "      <th></th>\n",
       "      <th></th>\n",
       "      <th></th>\n",
       "    </tr>\n",
       "  </thead>\n",
       "  <tbody>\n",
       "    <tr>\n",
       "      <th>ABSERON HOTEL</th>\n",
       "      <td>35.00</td>\n",
       "      <td>35.00</td>\n",
       "      <td>29.41</td>\n",
       "      <td>35.78</td>\n",
       "      <td>43.00</td>\n",
       "      <td>36.01</td>\n",
       "      <td>64.80</td>\n",
       "      <td>45.53</td>\n",
       "      <td>37.635067</td>\n",
       "    </tr>\n",
       "    <tr>\n",
       "      <th>Absheron Marina</th>\n",
       "      <td>0.00</td>\n",
       "      <td>100.00</td>\n",
       "      <td>100.00</td>\n",
       "      <td>100.00</td>\n",
       "      <td>138.67</td>\n",
       "      <td>140.00</td>\n",
       "      <td>140.00</td>\n",
       "      <td>182.90</td>\n",
       "      <td>180.000000</td>\n",
       "    </tr>\n",
       "    <tr>\n",
       "      <th>Abu Arena Hotel</th>\n",
       "      <td>38.71</td>\n",
       "      <td>28.46</td>\n",
       "      <td>27.00</td>\n",
       "      <td>36.44</td>\n",
       "      <td>18.23</td>\n",
       "      <td>28.58</td>\n",
       "      <td>30.43</td>\n",
       "      <td>18.45</td>\n",
       "      <td>15.250758</td>\n",
       "    </tr>\n",
       "    <tr>\n",
       "      <th>Admiral Hotel</th>\n",
       "      <td>74.32</td>\n",
       "      <td>61.32</td>\n",
       "      <td>60.00</td>\n",
       "      <td>68.87</td>\n",
       "      <td>65.83</td>\n",
       "      <td>63.41</td>\n",
       "      <td>60.00</td>\n",
       "      <td>75.00</td>\n",
       "      <td>75.000000</td>\n",
       "    </tr>\n",
       "    <tr>\n",
       "      <th>AEF Hotel</th>\n",
       "      <td>65.39</td>\n",
       "      <td>66.50</td>\n",
       "      <td>65.39</td>\n",
       "      <td>50.68</td>\n",
       "      <td>41.67</td>\n",
       "      <td>55.00</td>\n",
       "      <td>44.45</td>\n",
       "      <td>44.68</td>\n",
       "      <td>36.000000</td>\n",
       "    </tr>\n",
       "    <tr>\n",
       "      <th>...</th>\n",
       "      <td>...</td>\n",
       "      <td>...</td>\n",
       "      <td>...</td>\n",
       "      <td>...</td>\n",
       "      <td>...</td>\n",
       "      <td>...</td>\n",
       "      <td>...</td>\n",
       "      <td>...</td>\n",
       "      <td>...</td>\n",
       "    </tr>\n",
       "    <tr>\n",
       "      <th>Yurd Hotel</th>\n",
       "      <td>65.33</td>\n",
       "      <td>105.56</td>\n",
       "      <td>100.00</td>\n",
       "      <td>102.66</td>\n",
       "      <td>123.38</td>\n",
       "      <td>81.67</td>\n",
       "      <td>98.66</td>\n",
       "      <td>99.00</td>\n",
       "      <td>99.000000</td>\n",
       "    </tr>\n",
       "    <tr>\n",
       "      <th>ZamZam Hotel</th>\n",
       "      <td>70.48</td>\n",
       "      <td>99.65</td>\n",
       "      <td>83.74</td>\n",
       "      <td>80.00</td>\n",
       "      <td>65.00</td>\n",
       "      <td>93.00</td>\n",
       "      <td>302.86</td>\n",
       "      <td>70.00</td>\n",
       "      <td>57.861953</td>\n",
       "    </tr>\n",
       "    <tr>\n",
       "      <th>Zaqatala Hotel</th>\n",
       "      <td>30.00</td>\n",
       "      <td>30.89</td>\n",
       "      <td>30.17</td>\n",
       "      <td>31.61</td>\n",
       "      <td>31.33</td>\n",
       "      <td>35.00</td>\n",
       "      <td>35.00</td>\n",
       "      <td>35.00</td>\n",
       "      <td>30.690000</td>\n",
       "    </tr>\n",
       "    <tr>\n",
       "      <th>Zaqatala olimpiya idman kompleksi</th>\n",
       "      <td>50.00</td>\n",
       "      <td>50.00</td>\n",
       "      <td>50.00</td>\n",
       "      <td>60.83</td>\n",
       "      <td>130.00</td>\n",
       "      <td>108.87</td>\n",
       "      <td>195.90</td>\n",
       "      <td>50.00</td>\n",
       "      <td>41.329966</td>\n",
       "    </tr>\n",
       "    <tr>\n",
       "      <th>Zirve Hotel</th>\n",
       "      <td>152.67</td>\n",
       "      <td>149.00</td>\n",
       "      <td>148.28</td>\n",
       "      <td>127.58</td>\n",
       "      <td>153.33</td>\n",
       "      <td>128.41</td>\n",
       "      <td>231.06</td>\n",
       "      <td>162.33</td>\n",
       "      <td>134.181869</td>\n",
       "    </tr>\n",
       "  </tbody>\n",
       "</table>\n",
       "<p>474 rows × 9 columns</p>\n",
       "</div>"
      ],
      "text/plain": [
       "                                   December  January  February   March  \\\n",
       "Hotels                                                                   \n",
       "ABSERON HOTEL                         35.00    35.00     29.41   35.78   \n",
       "Absheron Marina                        0.00   100.00    100.00  100.00   \n",
       "Abu Arena Hotel                       38.71    28.46     27.00   36.44   \n",
       "Admiral Hotel                         74.32    61.32     60.00   68.87   \n",
       "AEF Hotel                             65.39    66.50     65.39   50.68   \n",
       "...                                     ...      ...       ...     ...   \n",
       "Yurd Hotel                            65.33   105.56    100.00  102.66   \n",
       "ZamZam Hotel                          70.48    99.65     83.74   80.00   \n",
       "Zaqatala Hotel                        30.00    30.89     30.17   31.61   \n",
       "Zaqatala olimpiya idman kompleksi     50.00    50.00     50.00   60.83   \n",
       "Zirve Hotel                          152.67   149.00    148.28  127.58   \n",
       "\n",
       "                                    April     May    June    July         Aug  \n",
       "Hotels                                                                         \n",
       "ABSERON HOTEL                       43.00   36.01   64.80   45.53   37.635067  \n",
       "Absheron Marina                    138.67  140.00  140.00  182.90  180.000000  \n",
       "Abu Arena Hotel                     18.23   28.58   30.43   18.45   15.250758  \n",
       "Admiral Hotel                       65.83   63.41   60.00   75.00   75.000000  \n",
       "AEF Hotel                           41.67   55.00   44.45   44.68   36.000000  \n",
       "...                                   ...     ...     ...     ...         ...  \n",
       "Yurd Hotel                         123.38   81.67   98.66   99.00   99.000000  \n",
       "ZamZam Hotel                        65.00   93.00  302.86   70.00   57.861953  \n",
       "Zaqatala Hotel                      31.33   35.00   35.00   35.00   30.690000  \n",
       "Zaqatala olimpiya idman kompleksi  130.00  108.87  195.90   50.00   41.329966  \n",
       "Zirve Hotel                        153.33  128.41  231.06  162.33  134.181869  \n",
       "\n",
       "[474 rows x 9 columns]"
      ]
     },
     "execution_count": 133,
     "metadata": {},
     "output_type": "execute_result"
    }
   ],
   "source": [
    "table=table[table<table.mean()+2*table.std()]\n",
    "table"
   ]
  },
  {
   "cell_type": "code",
   "execution_count": 64,
   "metadata": {
    "collapsed": true,
    "jupyter": {
     "outputs_hidden": true
    }
   },
   "outputs": [
    {
     "data": {
      "text/plain": [
       "December    212.87\n",
       "January     305.12\n",
       "February    196.58\n",
       "March       254.97\n",
       "April       244.02\n",
       "May         233.36\n",
       "June        483.17\n",
       "July        330.74\n",
       "Aug         270.00\n",
       "dtype: float64"
      ]
     },
     "execution_count": 64,
     "metadata": {},
     "output_type": "execute_result"
    }
   ],
   "source": [
    "table[table<table.mean()+2*table.std()].max()"
   ]
  },
  {
   "cell_type": "code",
   "execution_count": 100,
   "metadata": {
    "collapsed": true,
    "jupyter": {
     "outputs_hidden": true
    }
   },
   "outputs": [
    {
     "data": {
      "text/plain": [
       "December    172.160000\n",
       "January     188.760000\n",
       "February    155.430000\n",
       "March       181.530000\n",
       "April       180.630000\n",
       "May         177.420000\n",
       "June        376.610000\n",
       "July        249.850000\n",
       "Aug         210.229007\n",
       "dtype: float64"
      ]
     },
     "execution_count": 100,
     "metadata": {},
     "output_type": "execute_result"
    }
   ],
   "source": [
    "table.max()"
   ]
  },
  {
   "cell_type": "code",
   "execution_count": 98,
   "metadata": {},
   "outputs": [
    {
     "data": {
      "text/html": [
       "<div>\n",
       "<style scoped>\n",
       "    .dataframe tbody tr th:only-of-type {\n",
       "        vertical-align: middle;\n",
       "    }\n",
       "\n",
       "    .dataframe tbody tr th {\n",
       "        vertical-align: top;\n",
       "    }\n",
       "\n",
       "    .dataframe thead th {\n",
       "        text-align: right;\n",
       "    }\n",
       "</style>\n",
       "<table border=\"1\" class=\"dataframe\">\n",
       "  <thead>\n",
       "    <tr style=\"text-align: right;\">\n",
       "      <th></th>\n",
       "      <th>December</th>\n",
       "      <th>January</th>\n",
       "      <th>February</th>\n",
       "      <th>March</th>\n",
       "      <th>April</th>\n",
       "      <th>May</th>\n",
       "      <th>June</th>\n",
       "      <th>July</th>\n",
       "      <th>Aug</th>\n",
       "    </tr>\n",
       "    <tr>\n",
       "      <th>Hotels</th>\n",
       "      <th></th>\n",
       "      <th></th>\n",
       "      <th></th>\n",
       "      <th></th>\n",
       "      <th></th>\n",
       "      <th></th>\n",
       "      <th></th>\n",
       "      <th></th>\n",
       "      <th></th>\n",
       "    </tr>\n",
       "  </thead>\n",
       "  <tbody>\n",
       "    <tr>\n",
       "      <th>ABSERON HOTEL</th>\n",
       "      <td>35.00</td>\n",
       "      <td>35.00</td>\n",
       "      <td>29.41</td>\n",
       "      <td>35.78</td>\n",
       "      <td>43.00</td>\n",
       "      <td>36.01</td>\n",
       "      <td>64.80</td>\n",
       "      <td>45.53</td>\n",
       "      <td>37.635067</td>\n",
       "    </tr>\n",
       "    <tr>\n",
       "      <th>Absheron Marina</th>\n",
       "      <td>0.00</td>\n",
       "      <td>100.00</td>\n",
       "      <td>100.00</td>\n",
       "      <td>100.00</td>\n",
       "      <td>138.67</td>\n",
       "      <td>140.00</td>\n",
       "      <td>140.00</td>\n",
       "      <td>182.90</td>\n",
       "      <td>180.000000</td>\n",
       "    </tr>\n",
       "    <tr>\n",
       "      <th>Abu Arena Hotel</th>\n",
       "      <td>38.71</td>\n",
       "      <td>28.46</td>\n",
       "      <td>27.00</td>\n",
       "      <td>36.44</td>\n",
       "      <td>18.23</td>\n",
       "      <td>28.58</td>\n",
       "      <td>30.43</td>\n",
       "      <td>18.45</td>\n",
       "      <td>15.250758</td>\n",
       "    </tr>\n",
       "    <tr>\n",
       "      <th>Admiral Hotel</th>\n",
       "      <td>74.32</td>\n",
       "      <td>61.32</td>\n",
       "      <td>60.00</td>\n",
       "      <td>68.87</td>\n",
       "      <td>65.83</td>\n",
       "      <td>63.41</td>\n",
       "      <td>60.00</td>\n",
       "      <td>75.00</td>\n",
       "      <td>75.000000</td>\n",
       "    </tr>\n",
       "    <tr>\n",
       "      <th>AEF Hotel</th>\n",
       "      <td>65.39</td>\n",
       "      <td>66.50</td>\n",
       "      <td>65.39</td>\n",
       "      <td>50.68</td>\n",
       "      <td>41.67</td>\n",
       "      <td>55.00</td>\n",
       "      <td>44.45</td>\n",
       "      <td>44.68</td>\n",
       "      <td>36.000000</td>\n",
       "    </tr>\n",
       "    <tr>\n",
       "      <th>...</th>\n",
       "      <td>...</td>\n",
       "      <td>...</td>\n",
       "      <td>...</td>\n",
       "      <td>...</td>\n",
       "      <td>...</td>\n",
       "      <td>...</td>\n",
       "      <td>...</td>\n",
       "      <td>...</td>\n",
       "      <td>...</td>\n",
       "    </tr>\n",
       "    <tr>\n",
       "      <th>Yurd Hotel</th>\n",
       "      <td>65.33</td>\n",
       "      <td>105.56</td>\n",
       "      <td>100.00</td>\n",
       "      <td>102.66</td>\n",
       "      <td>123.38</td>\n",
       "      <td>81.67</td>\n",
       "      <td>98.66</td>\n",
       "      <td>99.00</td>\n",
       "      <td>99.000000</td>\n",
       "    </tr>\n",
       "    <tr>\n",
       "      <th>ZamZam Hotel</th>\n",
       "      <td>70.48</td>\n",
       "      <td>99.65</td>\n",
       "      <td>83.74</td>\n",
       "      <td>80.00</td>\n",
       "      <td>65.00</td>\n",
       "      <td>93.00</td>\n",
       "      <td>302.86</td>\n",
       "      <td>70.00</td>\n",
       "      <td>57.861953</td>\n",
       "    </tr>\n",
       "    <tr>\n",
       "      <th>Zaqatala Hotel</th>\n",
       "      <td>30.00</td>\n",
       "      <td>30.89</td>\n",
       "      <td>30.17</td>\n",
       "      <td>31.61</td>\n",
       "      <td>31.33</td>\n",
       "      <td>35.00</td>\n",
       "      <td>35.00</td>\n",
       "      <td>35.00</td>\n",
       "      <td>30.690000</td>\n",
       "    </tr>\n",
       "    <tr>\n",
       "      <th>Zaqatala olimpiya idman kompleksi</th>\n",
       "      <td>50.00</td>\n",
       "      <td>50.00</td>\n",
       "      <td>50.00</td>\n",
       "      <td>60.83</td>\n",
       "      <td>130.00</td>\n",
       "      <td>108.87</td>\n",
       "      <td>195.90</td>\n",
       "      <td>50.00</td>\n",
       "      <td>41.329966</td>\n",
       "    </tr>\n",
       "    <tr>\n",
       "      <th>Zirve Hotel</th>\n",
       "      <td>152.67</td>\n",
       "      <td>149.00</td>\n",
       "      <td>148.28</td>\n",
       "      <td>127.58</td>\n",
       "      <td>153.33</td>\n",
       "      <td>128.41</td>\n",
       "      <td>231.06</td>\n",
       "      <td>162.33</td>\n",
       "      <td>134.181869</td>\n",
       "    </tr>\n",
       "  </tbody>\n",
       "</table>\n",
       "<p>474 rows × 9 columns</p>\n",
       "</div>"
      ],
      "text/plain": [
       "                                   December  January  February   March  \\\n",
       "Hotels                                                                   \n",
       "ABSERON HOTEL                         35.00    35.00     29.41   35.78   \n",
       "Absheron Marina                        0.00   100.00    100.00  100.00   \n",
       "Abu Arena Hotel                       38.71    28.46     27.00   36.44   \n",
       "Admiral Hotel                         74.32    61.32     60.00   68.87   \n",
       "AEF Hotel                             65.39    66.50     65.39   50.68   \n",
       "...                                     ...      ...       ...     ...   \n",
       "Yurd Hotel                            65.33   105.56    100.00  102.66   \n",
       "ZamZam Hotel                          70.48    99.65     83.74   80.00   \n",
       "Zaqatala Hotel                        30.00    30.89     30.17   31.61   \n",
       "Zaqatala olimpiya idman kompleksi     50.00    50.00     50.00   60.83   \n",
       "Zirve Hotel                          152.67   149.00    148.28  127.58   \n",
       "\n",
       "                                    April     May    June    July         Aug  \n",
       "Hotels                                                                         \n",
       "ABSERON HOTEL                       43.00   36.01   64.80   45.53   37.635067  \n",
       "Absheron Marina                    138.67  140.00  140.00  182.90  180.000000  \n",
       "Abu Arena Hotel                     18.23   28.58   30.43   18.45   15.250758  \n",
       "Admiral Hotel                       65.83   63.41   60.00   75.00   75.000000  \n",
       "AEF Hotel                           41.67   55.00   44.45   44.68   36.000000  \n",
       "...                                   ...     ...     ...     ...         ...  \n",
       "Yurd Hotel                         123.38   81.67   98.66   99.00   99.000000  \n",
       "ZamZam Hotel                        65.00   93.00  302.86   70.00   57.861953  \n",
       "Zaqatala Hotel                      31.33   35.00   35.00   35.00   30.690000  \n",
       "Zaqatala olimpiya idman kompleksi  130.00  108.87  195.90   50.00   41.329966  \n",
       "Zirve Hotel                        153.33  128.41  231.06  162.33  134.181869  \n",
       "\n",
       "[474 rows x 9 columns]"
      ]
     },
     "execution_count": 98,
     "metadata": {},
     "output_type": "execute_result"
    }
   ],
   "source": [
    "table"
   ]
  },
  {
   "cell_type": "code",
   "execution_count": 140,
   "metadata": {
    "collapsed": true,
    "jupyter": {
     "outputs_hidden": true
    }
   },
   "outputs": [
    {
     "data": {
      "text/html": [
       "<div>\n",
       "<style scoped>\n",
       "    .dataframe tbody tr th:only-of-type {\n",
       "        vertical-align: middle;\n",
       "    }\n",
       "\n",
       "    .dataframe tbody tr th {\n",
       "        vertical-align: top;\n",
       "    }\n",
       "\n",
       "    .dataframe thead th {\n",
       "        text-align: right;\n",
       "    }\n",
       "</style>\n",
       "<table border=\"1\" class=\"dataframe\">\n",
       "  <thead>\n",
       "    <tr style=\"text-align: right;\">\n",
       "      <th></th>\n",
       "      <th>0</th>\n",
       "      <th>1</th>\n",
       "      <th>2</th>\n",
       "      <th>3</th>\n",
       "      <th>4</th>\n",
       "      <th>5</th>\n",
       "      <th>6</th>\n",
       "      <th>7</th>\n",
       "      <th>8</th>\n",
       "      <th>9</th>\n",
       "      <th>10</th>\n",
       "    </tr>\n",
       "  </thead>\n",
       "  <tbody>\n",
       "    <tr>\n",
       "      <th>0</th>\n",
       "      <td>NaN</td>\n",
       "      <td>NaN</td>\n",
       "      <td>NaN</td>\n",
       "      <td>NaN</td>\n",
       "      <td>NaN</td>\n",
       "      <td>NaN</td>\n",
       "      <td>NaN</td>\n",
       "      <td>NaN</td>\n",
       "      <td>NaN</td>\n",
       "      <td>ABSERON HOTEL</td>\n",
       "      <td>unknown</td>\n",
       "    </tr>\n",
       "    <tr>\n",
       "      <th>1</th>\n",
       "      <td>NaN</td>\n",
       "      <td>NaN</td>\n",
       "      <td>NaN</td>\n",
       "      <td>NaN</td>\n",
       "      <td>NaN</td>\n",
       "      <td>NaN</td>\n",
       "      <td>NaN</td>\n",
       "      <td>NaN</td>\n",
       "      <td>NaN</td>\n",
       "      <td>Absheron Marina</td>\n",
       "      <td>unknown</td>\n",
       "    </tr>\n",
       "    <tr>\n",
       "      <th>2</th>\n",
       "      <td>NaN</td>\n",
       "      <td>NaN</td>\n",
       "      <td>NaN</td>\n",
       "      <td>NaN</td>\n",
       "      <td>NaN</td>\n",
       "      <td>NaN</td>\n",
       "      <td>NaN</td>\n",
       "      <td>NaN</td>\n",
       "      <td>NaN</td>\n",
       "      <td>Abu Arena Hotel</td>\n",
       "      <td>4-star hotel</td>\n",
       "    </tr>\n",
       "    <tr>\n",
       "      <th>3</th>\n",
       "      <td>NaN</td>\n",
       "      <td>NaN</td>\n",
       "      <td>NaN</td>\n",
       "      <td>NaN</td>\n",
       "      <td>NaN</td>\n",
       "      <td>NaN</td>\n",
       "      <td>NaN</td>\n",
       "      <td>NaN</td>\n",
       "      <td>NaN</td>\n",
       "      <td>Admiral Hotel</td>\n",
       "      <td>4-star hotel</td>\n",
       "    </tr>\n",
       "    <tr>\n",
       "      <th>4</th>\n",
       "      <td>NaN</td>\n",
       "      <td>NaN</td>\n",
       "      <td>NaN</td>\n",
       "      <td>NaN</td>\n",
       "      <td>NaN</td>\n",
       "      <td>NaN</td>\n",
       "      <td>NaN</td>\n",
       "      <td>NaN</td>\n",
       "      <td>NaN</td>\n",
       "      <td>AEF Hotel</td>\n",
       "      <td>4-star hotel</td>\n",
       "    </tr>\n",
       "    <tr>\n",
       "      <th>...</th>\n",
       "      <td>...</td>\n",
       "      <td>...</td>\n",
       "      <td>...</td>\n",
       "      <td>...</td>\n",
       "      <td>...</td>\n",
       "      <td>...</td>\n",
       "      <td>...</td>\n",
       "      <td>...</td>\n",
       "      <td>...</td>\n",
       "      <td>...</td>\n",
       "      <td>...</td>\n",
       "    </tr>\n",
       "    <tr>\n",
       "      <th>Zirve Hotel</th>\n",
       "      <td>152.67</td>\n",
       "      <td>149.00</td>\n",
       "      <td>148.28</td>\n",
       "      <td>127.58</td>\n",
       "      <td>153.33</td>\n",
       "      <td>128.41</td>\n",
       "      <td>231.06</td>\n",
       "      <td>162.33</td>\n",
       "      <td>134.181869</td>\n",
       "      <td>NaN</td>\n",
       "      <td>NaN</td>\n",
       "    </tr>\n",
       "    <tr>\n",
       "      <th>ecotourism</th>\n",
       "      <td>50.00</td>\n",
       "      <td>50.85</td>\n",
       "      <td>42.74</td>\n",
       "      <td>51.99</td>\n",
       "      <td>62.48</td>\n",
       "      <td>52.32</td>\n",
       "      <td>94.15</td>\n",
       "      <td>66.15</td>\n",
       "      <td>54.679546</td>\n",
       "      <td>NaN</td>\n",
       "      <td>NaN</td>\n",
       "    </tr>\n",
       "    <tr>\n",
       "      <th>my beds</th>\n",
       "      <td>55.00</td>\n",
       "      <td>58.30</td>\n",
       "      <td>48.99</td>\n",
       "      <td>59.60</td>\n",
       "      <td>71.63</td>\n",
       "      <td>59.99</td>\n",
       "      <td>107.94</td>\n",
       "      <td>75.83</td>\n",
       "      <td>62.681027</td>\n",
       "      <td>NaN</td>\n",
       "      <td>NaN</td>\n",
       "    </tr>\n",
       "    <tr>\n",
       "      <th>qedim nuxa</th>\n",
       "      <td>60.00</td>\n",
       "      <td>61.02</td>\n",
       "      <td>51.28</td>\n",
       "      <td>62.38</td>\n",
       "      <td>74.98</td>\n",
       "      <td>62.79</td>\n",
       "      <td>112.98</td>\n",
       "      <td>79.38</td>\n",
       "      <td>65.615455</td>\n",
       "      <td>NaN</td>\n",
       "      <td>NaN</td>\n",
       "    </tr>\n",
       "    <tr>\n",
       "      <th>Çıraqban.otel</th>\n",
       "      <td>60.00</td>\n",
       "      <td>60.00</td>\n",
       "      <td>50.42</td>\n",
       "      <td>61.34</td>\n",
       "      <td>60.00</td>\n",
       "      <td>60.00</td>\n",
       "      <td>60.00</td>\n",
       "      <td>60.00</td>\n",
       "      <td>60.000000</td>\n",
       "      <td>NaN</td>\n",
       "      <td>NaN</td>\n",
       "    </tr>\n",
       "  </tbody>\n",
       "</table>\n",
       "<p>1118 rows × 11 columns</p>\n",
       "</div>"
      ],
      "text/plain": [
       "                    0       1       2       3       4       5       6       7  \\\n",
       "0                 NaN     NaN     NaN     NaN     NaN     NaN     NaN     NaN   \n",
       "1                 NaN     NaN     NaN     NaN     NaN     NaN     NaN     NaN   \n",
       "2                 NaN     NaN     NaN     NaN     NaN     NaN     NaN     NaN   \n",
       "3                 NaN     NaN     NaN     NaN     NaN     NaN     NaN     NaN   \n",
       "4                 NaN     NaN     NaN     NaN     NaN     NaN     NaN     NaN   \n",
       "...               ...     ...     ...     ...     ...     ...     ...     ...   \n",
       "Zirve Hotel    152.67  149.00  148.28  127.58  153.33  128.41  231.06  162.33   \n",
       "ecotourism      50.00   50.85   42.74   51.99   62.48   52.32   94.15   66.15   \n",
       "my beds         55.00   58.30   48.99   59.60   71.63   59.99  107.94   75.83   \n",
       "qedim nuxa      60.00   61.02   51.28   62.38   74.98   62.79  112.98   79.38   \n",
       "Çıraqban.otel   60.00   60.00   50.42   61.34   60.00   60.00   60.00   60.00   \n",
       "\n",
       "                        8                9            10  \n",
       "0                     NaN    ABSERON HOTEL       unknown  \n",
       "1                     NaN  Absheron Marina       unknown  \n",
       "2                     NaN  Abu Arena Hotel  4-star hotel  \n",
       "3                     NaN    Admiral Hotel  4-star hotel  \n",
       "4                     NaN        AEF Hotel  4-star hotel  \n",
       "...                   ...              ...           ...  \n",
       "Zirve Hotel    134.181869              NaN           NaN  \n",
       "ecotourism      54.679546              NaN           NaN  \n",
       "my beds         62.681027              NaN           NaN  \n",
       "qedim nuxa      65.615455              NaN           NaN  \n",
       "Çıraqban.otel   60.000000              NaN           NaN  \n",
       "\n",
       "[1118 rows x 11 columns]"
      ]
     },
     "execution_count": 140,
     "metadata": {},
     "output_type": "execute_result"
    }
   ],
   "source": [
    "table0=pd.concat([table,hotel_list],axis=1,ignore_index=True,join='outer') #errror"
   ]
  },
  {
   "cell_type": "code",
   "execution_count": 141,
   "metadata": {},
   "outputs": [
    {
     "data": {
      "text/html": [
       "<div>\n",
       "<style scoped>\n",
       "    .dataframe tbody tr th:only-of-type {\n",
       "        vertical-align: middle;\n",
       "    }\n",
       "\n",
       "    .dataframe tbody tr th {\n",
       "        vertical-align: top;\n",
       "    }\n",
       "\n",
       "    .dataframe thead th {\n",
       "        text-align: right;\n",
       "    }\n",
       "</style>\n",
       "<table border=\"1\" class=\"dataframe\">\n",
       "  <thead>\n",
       "    <tr style=\"text-align: right;\">\n",
       "      <th></th>\n",
       "      <th>December</th>\n",
       "      <th>January</th>\n",
       "      <th>February</th>\n",
       "      <th>March</th>\n",
       "      <th>April</th>\n",
       "      <th>May</th>\n",
       "      <th>June</th>\n",
       "      <th>July</th>\n",
       "      <th>Aug</th>\n",
       "      <th>property_name</th>\n",
       "      <th>Star rating</th>\n",
       "    </tr>\n",
       "  </thead>\n",
       "  <tbody>\n",
       "    <tr>\n",
       "      <th>0</th>\n",
       "      <td>35.00</td>\n",
       "      <td>35.00</td>\n",
       "      <td>29.41</td>\n",
       "      <td>35.78</td>\n",
       "      <td>43.00</td>\n",
       "      <td>36.01</td>\n",
       "      <td>64.80</td>\n",
       "      <td>45.53</td>\n",
       "      <td>37.635067</td>\n",
       "      <td>ABSERON HOTEL</td>\n",
       "      <td>unknown</td>\n",
       "    </tr>\n",
       "    <tr>\n",
       "      <th>1</th>\n",
       "      <td>0.00</td>\n",
       "      <td>100.00</td>\n",
       "      <td>100.00</td>\n",
       "      <td>100.00</td>\n",
       "      <td>138.67</td>\n",
       "      <td>140.00</td>\n",
       "      <td>140.00</td>\n",
       "      <td>182.90</td>\n",
       "      <td>180.000000</td>\n",
       "      <td>Absheron Marina</td>\n",
       "      <td>unknown</td>\n",
       "    </tr>\n",
       "    <tr>\n",
       "      <th>2</th>\n",
       "      <td>38.71</td>\n",
       "      <td>28.46</td>\n",
       "      <td>27.00</td>\n",
       "      <td>36.44</td>\n",
       "      <td>18.23</td>\n",
       "      <td>28.58</td>\n",
       "      <td>30.43</td>\n",
       "      <td>18.45</td>\n",
       "      <td>15.250758</td>\n",
       "      <td>Abu Arena Hotel</td>\n",
       "      <td>4-star hotel</td>\n",
       "    </tr>\n",
       "    <tr>\n",
       "      <th>3</th>\n",
       "      <td>74.32</td>\n",
       "      <td>61.32</td>\n",
       "      <td>60.00</td>\n",
       "      <td>68.87</td>\n",
       "      <td>65.83</td>\n",
       "      <td>63.41</td>\n",
       "      <td>60.00</td>\n",
       "      <td>75.00</td>\n",
       "      <td>75.000000</td>\n",
       "      <td>Admiral Hotel</td>\n",
       "      <td>4-star hotel</td>\n",
       "    </tr>\n",
       "    <tr>\n",
       "      <th>4</th>\n",
       "      <td>65.39</td>\n",
       "      <td>66.50</td>\n",
       "      <td>65.39</td>\n",
       "      <td>50.68</td>\n",
       "      <td>41.67</td>\n",
       "      <td>55.00</td>\n",
       "      <td>44.45</td>\n",
       "      <td>44.68</td>\n",
       "      <td>36.000000</td>\n",
       "      <td>AEF Hotel</td>\n",
       "      <td>4-star hotel</td>\n",
       "    </tr>\n",
       "    <tr>\n",
       "      <th>...</th>\n",
       "      <td>...</td>\n",
       "      <td>...</td>\n",
       "      <td>...</td>\n",
       "      <td>...</td>\n",
       "      <td>...</td>\n",
       "      <td>...</td>\n",
       "      <td>...</td>\n",
       "      <td>...</td>\n",
       "      <td>...</td>\n",
       "      <td>...</td>\n",
       "      <td>...</td>\n",
       "    </tr>\n",
       "    <tr>\n",
       "      <th>469</th>\n",
       "      <td>65.33</td>\n",
       "      <td>105.56</td>\n",
       "      <td>100.00</td>\n",
       "      <td>102.66</td>\n",
       "      <td>123.38</td>\n",
       "      <td>81.67</td>\n",
       "      <td>98.66</td>\n",
       "      <td>99.00</td>\n",
       "      <td>99.000000</td>\n",
       "      <td>Yurd Hotel</td>\n",
       "      <td>4-star hotel</td>\n",
       "    </tr>\n",
       "    <tr>\n",
       "      <th>470</th>\n",
       "      <td>70.48</td>\n",
       "      <td>99.65</td>\n",
       "      <td>83.74</td>\n",
       "      <td>80.00</td>\n",
       "      <td>65.00</td>\n",
       "      <td>93.00</td>\n",
       "      <td>302.86</td>\n",
       "      <td>70.00</td>\n",
       "      <td>57.861953</td>\n",
       "      <td>ZamZam Hotel</td>\n",
       "      <td>4-star hotel</td>\n",
       "    </tr>\n",
       "    <tr>\n",
       "      <th>471</th>\n",
       "      <td>30.00</td>\n",
       "      <td>30.89</td>\n",
       "      <td>30.17</td>\n",
       "      <td>31.61</td>\n",
       "      <td>31.33</td>\n",
       "      <td>35.00</td>\n",
       "      <td>35.00</td>\n",
       "      <td>35.00</td>\n",
       "      <td>30.690000</td>\n",
       "      <td>Zaqatala Hotel</td>\n",
       "      <td>2-star hotel</td>\n",
       "    </tr>\n",
       "    <tr>\n",
       "      <th>472</th>\n",
       "      <td>50.00</td>\n",
       "      <td>50.00</td>\n",
       "      <td>50.00</td>\n",
       "      <td>60.83</td>\n",
       "      <td>130.00</td>\n",
       "      <td>108.87</td>\n",
       "      <td>195.90</td>\n",
       "      <td>50.00</td>\n",
       "      <td>41.329966</td>\n",
       "      <td>Zaqatala olimpiya idman kompleksi</td>\n",
       "      <td>3-star hotel</td>\n",
       "    </tr>\n",
       "    <tr>\n",
       "      <th>473</th>\n",
       "      <td>152.67</td>\n",
       "      <td>149.00</td>\n",
       "      <td>148.28</td>\n",
       "      <td>127.58</td>\n",
       "      <td>153.33</td>\n",
       "      <td>128.41</td>\n",
       "      <td>231.06</td>\n",
       "      <td>162.33</td>\n",
       "      <td>134.181869</td>\n",
       "      <td>Zirve Hotel</td>\n",
       "      <td>4-star hotel</td>\n",
       "    </tr>\n",
       "  </tbody>\n",
       "</table>\n",
       "<p>474 rows × 11 columns</p>\n",
       "</div>"
      ],
      "text/plain": [
       "     December  January  February   March   April     May    June    July  \\\n",
       "0       35.00    35.00     29.41   35.78   43.00   36.01   64.80   45.53   \n",
       "1        0.00   100.00    100.00  100.00  138.67  140.00  140.00  182.90   \n",
       "2       38.71    28.46     27.00   36.44   18.23   28.58   30.43   18.45   \n",
       "3       74.32    61.32     60.00   68.87   65.83   63.41   60.00   75.00   \n",
       "4       65.39    66.50     65.39   50.68   41.67   55.00   44.45   44.68   \n",
       "..        ...      ...       ...     ...     ...     ...     ...     ...   \n",
       "469     65.33   105.56    100.00  102.66  123.38   81.67   98.66   99.00   \n",
       "470     70.48    99.65     83.74   80.00   65.00   93.00  302.86   70.00   \n",
       "471     30.00    30.89     30.17   31.61   31.33   35.00   35.00   35.00   \n",
       "472     50.00    50.00     50.00   60.83  130.00  108.87  195.90   50.00   \n",
       "473    152.67   149.00    148.28  127.58  153.33  128.41  231.06  162.33   \n",
       "\n",
       "            Aug                      property_name   Star rating  \n",
       "0     37.635067                      ABSERON HOTEL       unknown  \n",
       "1    180.000000                    Absheron Marina       unknown  \n",
       "2     15.250758                    Abu Arena Hotel  4-star hotel  \n",
       "3     75.000000                      Admiral Hotel  4-star hotel  \n",
       "4     36.000000                          AEF Hotel  4-star hotel  \n",
       "..          ...                                ...           ...  \n",
       "469   99.000000                         Yurd Hotel  4-star hotel  \n",
       "470   57.861953                       ZamZam Hotel  4-star hotel  \n",
       "471   30.690000                     Zaqatala Hotel  2-star hotel  \n",
       "472   41.329966  Zaqatala olimpiya idman kompleksi  3-star hotel  \n",
       "473  134.181869                        Zirve Hotel  4-star hotel  \n",
       "\n",
       "[474 rows x 11 columns]"
      ]
     },
     "execution_count": 141,
     "metadata": {},
     "output_type": "execute_result"
    }
   ],
   "source": [
    "table1=pd.merge(table,hotel_list,left_index=True,right_on='property_name',how='left',)\n",
    "table1"
   ]
  },
  {
   "cell_type": "code",
   "execution_count": 105,
   "metadata": {},
   "outputs": [
    {
     "data": {
      "text/html": [
       "<div>\n",
       "<style scoped>\n",
       "    .dataframe tbody tr th:only-of-type {\n",
       "        vertical-align: middle;\n",
       "    }\n",
       "\n",
       "    .dataframe tbody tr th {\n",
       "        vertical-align: top;\n",
       "    }\n",
       "\n",
       "    .dataframe thead th {\n",
       "        text-align: right;\n",
       "    }\n",
       "</style>\n",
       "<table border=\"1\" class=\"dataframe\">\n",
       "  <thead>\n",
       "    <tr style=\"text-align: right;\">\n",
       "      <th></th>\n",
       "      <th>December</th>\n",
       "      <th>January</th>\n",
       "      <th>February</th>\n",
       "      <th>March</th>\n",
       "      <th>April</th>\n",
       "      <th>May</th>\n",
       "      <th>June</th>\n",
       "      <th>July</th>\n",
       "      <th>Aug</th>\n",
       "    </tr>\n",
       "    <tr>\n",
       "      <th>Star rating</th>\n",
       "      <th></th>\n",
       "      <th></th>\n",
       "      <th></th>\n",
       "      <th></th>\n",
       "      <th></th>\n",
       "      <th></th>\n",
       "      <th></th>\n",
       "      <th></th>\n",
       "      <th></th>\n",
       "    </tr>\n",
       "  </thead>\n",
       "  <tbody>\n",
       "    <tr>\n",
       "      <th>2-star hotel</th>\n",
       "      <td>42.59</td>\n",
       "      <td>37.58</td>\n",
       "      <td>36.82</td>\n",
       "      <td>44.79</td>\n",
       "      <td>50.45</td>\n",
       "      <td>45.58</td>\n",
       "      <td>65.54</td>\n",
       "      <td>50.94</td>\n",
       "      <td>46.43</td>\n",
       "    </tr>\n",
       "    <tr>\n",
       "      <th>3-star hotel</th>\n",
       "      <td>64.93</td>\n",
       "      <td>61.19</td>\n",
       "      <td>51.49</td>\n",
       "      <td>64.28</td>\n",
       "      <td>63.82</td>\n",
       "      <td>70.53</td>\n",
       "      <td>107.04</td>\n",
       "      <td>75.30</td>\n",
       "      <td>69.42</td>\n",
       "    </tr>\n",
       "    <tr>\n",
       "      <th>4-star hotel</th>\n",
       "      <td>87.71</td>\n",
       "      <td>84.39</td>\n",
       "      <td>72.99</td>\n",
       "      <td>87.05</td>\n",
       "      <td>85.89</td>\n",
       "      <td>88.76</td>\n",
       "      <td>160.03</td>\n",
       "      <td>106.63</td>\n",
       "      <td>92.74</td>\n",
       "    </tr>\n",
       "    <tr>\n",
       "      <th>5-star hotel</th>\n",
       "      <td>114.81</td>\n",
       "      <td>120.14</td>\n",
       "      <td>102.87</td>\n",
       "      <td>117.05</td>\n",
       "      <td>117.50</td>\n",
       "      <td>112.16</td>\n",
       "      <td>197.83</td>\n",
       "      <td>139.04</td>\n",
       "      <td>122.61</td>\n",
       "    </tr>\n",
       "    <tr>\n",
       "      <th>unknown</th>\n",
       "      <td>74.31</td>\n",
       "      <td>73.39</td>\n",
       "      <td>63.20</td>\n",
       "      <td>75.28</td>\n",
       "      <td>76.78</td>\n",
       "      <td>75.01</td>\n",
       "      <td>121.54</td>\n",
       "      <td>89.35</td>\n",
       "      <td>80.92</td>\n",
       "    </tr>\n",
       "  </tbody>\n",
       "</table>\n",
       "</div>"
      ],
      "text/plain": [
       "              December  January  February   March   April     May    June  \\\n",
       "Star rating                                                                 \n",
       "2-star hotel     42.59    37.58     36.82   44.79   50.45   45.58   65.54   \n",
       "3-star hotel     64.93    61.19     51.49   64.28   63.82   70.53  107.04   \n",
       "4-star hotel     87.71    84.39     72.99   87.05   85.89   88.76  160.03   \n",
       "5-star hotel    114.81   120.14    102.87  117.05  117.50  112.16  197.83   \n",
       "unknown          74.31    73.39     63.20   75.28   76.78   75.01  121.54   \n",
       "\n",
       "                July     Aug  \n",
       "Star rating                   \n",
       "2-star hotel   50.94   46.43  \n",
       "3-star hotel   75.30   69.42  \n",
       "4-star hotel  106.63   92.74  \n",
       "5-star hotel  139.04  122.61  \n",
       "unknown        89.35   80.92  "
      ]
     },
     "execution_count": 105,
     "metadata": {},
     "output_type": "execute_result"
    }
   ],
   "source": [
    "star_index=table1.groupby(by='Star rating').mean().round(decimals=2)\n",
    "star_index"
   ]
  },
  {
   "cell_type": "code",
   "execution_count": null,
   "metadata": {},
   "outputs": [],
   "source": [
    "\tDecember\tJanuary\tFebruary\tMarch\tApril\tMay\tJune\tJuly\tAug\n",
    "mean\tmean\tmean\tmean\tmean\tmean\tmean\tmean\tmean\n",
    "Star rating\t\t\t\t\t\t\t\t\t\n",
    "2-star hotel\t42.59\t37.58\t36.82\t44.79\t50.45\t45.58\t65.54\t50.94\t46.43\n",
    "3-star hotel\t64.93\t61.19\t51.49\t64.28\t63.82\t79.43\t155.08\t96.15\t82.27\n",
    "4-star hotel\t93.39\t91.10\t79.12\t94.51\t98."
   ]
  },
  {
   "cell_type": "code",
   "execution_count": 143,
   "metadata": {},
   "outputs": [
    {
     "data": {
      "text/html": [
       "<div>\n",
       "<style scoped>\n",
       "    .dataframe tbody tr th:only-of-type {\n",
       "        vertical-align: middle;\n",
       "    }\n",
       "\n",
       "    .dataframe tbody tr th {\n",
       "        vertical-align: top;\n",
       "    }\n",
       "\n",
       "    .dataframe thead th {\n",
       "        text-align: right;\n",
       "    }\n",
       "</style>\n",
       "<table border=\"1\" class=\"dataframe\">\n",
       "  <thead>\n",
       "    <tr style=\"text-align: right;\">\n",
       "      <th></th>\n",
       "      <th>December</th>\n",
       "      <th>January</th>\n",
       "      <th>February</th>\n",
       "      <th>March</th>\n",
       "      <th>April</th>\n",
       "      <th>May</th>\n",
       "      <th>June</th>\n",
       "      <th>July</th>\n",
       "      <th>Aug</th>\n",
       "      <th>Avg</th>\n",
       "    </tr>\n",
       "    <tr>\n",
       "      <th>Star rating</th>\n",
       "      <th></th>\n",
       "      <th></th>\n",
       "      <th></th>\n",
       "      <th></th>\n",
       "      <th></th>\n",
       "      <th></th>\n",
       "      <th></th>\n",
       "      <th></th>\n",
       "      <th></th>\n",
       "      <th></th>\n",
       "    </tr>\n",
       "  </thead>\n",
       "  <tbody>\n",
       "    <tr>\n",
       "      <th>2-star hotel</th>\n",
       "      <td>42.590000</td>\n",
       "      <td>37.580000</td>\n",
       "      <td>36.820000</td>\n",
       "      <td>44.790000</td>\n",
       "      <td>50.450000</td>\n",
       "      <td>45.580000</td>\n",
       "      <td>65.540000</td>\n",
       "      <td>50.940000</td>\n",
       "      <td>46.430000</td>\n",
       "      <td>NaN</td>\n",
       "    </tr>\n",
       "    <tr>\n",
       "      <th>3-star hotel</th>\n",
       "      <td>64.930000</td>\n",
       "      <td>61.190000</td>\n",
       "      <td>51.490000</td>\n",
       "      <td>64.280000</td>\n",
       "      <td>63.820000</td>\n",
       "      <td>70.530000</td>\n",
       "      <td>107.040000</td>\n",
       "      <td>75.300000</td>\n",
       "      <td>69.420000</td>\n",
       "      <td>NaN</td>\n",
       "    </tr>\n",
       "    <tr>\n",
       "      <th>4-star hotel</th>\n",
       "      <td>87.710000</td>\n",
       "      <td>84.390000</td>\n",
       "      <td>72.990000</td>\n",
       "      <td>87.050000</td>\n",
       "      <td>85.890000</td>\n",
       "      <td>88.760000</td>\n",
       "      <td>160.030000</td>\n",
       "      <td>106.630000</td>\n",
       "      <td>92.740000</td>\n",
       "      <td>NaN</td>\n",
       "    </tr>\n",
       "    <tr>\n",
       "      <th>5-star hotel</th>\n",
       "      <td>114.810000</td>\n",
       "      <td>120.140000</td>\n",
       "      <td>102.870000</td>\n",
       "      <td>117.050000</td>\n",
       "      <td>117.500000</td>\n",
       "      <td>112.160000</td>\n",
       "      <td>197.830000</td>\n",
       "      <td>139.040000</td>\n",
       "      <td>122.610000</td>\n",
       "      <td>NaN</td>\n",
       "    </tr>\n",
       "    <tr>\n",
       "      <th>unknown</th>\n",
       "      <td>74.310000</td>\n",
       "      <td>73.390000</td>\n",
       "      <td>63.200000</td>\n",
       "      <td>75.280000</td>\n",
       "      <td>76.780000</td>\n",
       "      <td>75.010000</td>\n",
       "      <td>121.540000</td>\n",
       "      <td>89.350000</td>\n",
       "      <td>80.920000</td>\n",
       "      <td>NaN</td>\n",
       "    </tr>\n",
       "    <tr>\n",
       "      <th>Avg</th>\n",
       "      <td>82.988889</td>\n",
       "      <td>81.589339</td>\n",
       "      <td>69.772196</td>\n",
       "      <td>82.961879</td>\n",
       "      <td>83.435981</td>\n",
       "      <td>84.398458</td>\n",
       "      <td>146.317262</td>\n",
       "      <td>100.971268</td>\n",
       "      <td>89.184279</td>\n",
       "      <td>NaN</td>\n",
       "    </tr>\n",
       "    <tr>\n",
       "      <th>Overall Mean</th>\n",
       "      <td>88.624242</td>\n",
       "      <td>89.728301</td>\n",
       "      <td>76.755087</td>\n",
       "      <td>90.942522</td>\n",
       "      <td>89.843956</td>\n",
       "      <td>91.065298</td>\n",
       "      <td>162.002325</td>\n",
       "      <td>114.236245</td>\n",
       "      <td>99.020936</td>\n",
       "      <td>NaN</td>\n",
       "    </tr>\n",
       "  </tbody>\n",
       "</table>\n",
       "</div>"
      ],
      "text/plain": [
       "                December     January    February       March       April  \\\n",
       "Star rating                                                                \n",
       "2-star hotel   42.590000   37.580000   36.820000   44.790000   50.450000   \n",
       "3-star hotel   64.930000   61.190000   51.490000   64.280000   63.820000   \n",
       "4-star hotel   87.710000   84.390000   72.990000   87.050000   85.890000   \n",
       "5-star hotel  114.810000  120.140000  102.870000  117.050000  117.500000   \n",
       "unknown        74.310000   73.390000   63.200000   75.280000   76.780000   \n",
       "Avg            82.988889   81.589339   69.772196   82.961879   83.435981   \n",
       "Overall Mean   88.624242   89.728301   76.755087   90.942522   89.843956   \n",
       "\n",
       "                     May        June        July         Aug  Avg  \n",
       "Star rating                                                        \n",
       "2-star hotel   45.580000   65.540000   50.940000   46.430000  NaN  \n",
       "3-star hotel   70.530000  107.040000   75.300000   69.420000  NaN  \n",
       "4-star hotel   88.760000  160.030000  106.630000   92.740000  NaN  \n",
       "5-star hotel  112.160000  197.830000  139.040000  122.610000  NaN  \n",
       "unknown        75.010000  121.540000   89.350000   80.920000  NaN  \n",
       "Avg            84.398458  146.317262  100.971268   89.184279  NaN  \n",
       "Overall Mean   91.065298  162.002325  114.236245   99.020936  NaN  "
      ]
     },
     "execution_count": 143,
     "metadata": {},
     "output_type": "execute_result"
    }
   ],
   "source": [
    "star_index.loc['Overall Mean']=table1.mean()\n",
    "star_index"
   ]
  },
  {
   "cell_type": "code",
   "execution_count": 121,
   "metadata": {},
   "outputs": [
    {
     "data": {
      "text/plain": [
       "December     79.480556\n",
       "January      76.747626\n",
       "February     66.228851\n",
       "March        79.366029\n",
       "April        79.302868\n",
       "May          81.241796\n",
       "June        133.540123\n",
       "July         95.529485\n",
       "Aug          83.886947\n",
       "dtype: float64"
      ]
     },
     "execution_count": 121,
     "metadata": {},
     "output_type": "execute_result"
    }
   ],
   "source": [
    "table.mean()"
   ]
  },
  {
   "cell_type": "code",
   "execution_count": 113,
   "metadata": {},
   "outputs": [
    {
     "name": "stdout",
     "output_type": "stream",
     "text": [
      "<class 'pandas.core.frame.DataFrame'>\n",
      "Int64Index: 474 entries, 0 to 473\n",
      "Data columns (total 11 columns):\n",
      "December         432 non-null float64\n",
      "January          439 non-null float64\n",
      "February         428 non-null float64\n",
      "March            431 non-null float64\n",
      "April            428 non-null float64\n",
      "May              428 non-null float64\n",
      "June             431 non-null float64\n",
      "July             426 non-null float64\n",
      "Aug              428 non-null float64\n",
      "property_name    474 non-null object\n",
      "Star rating      474 non-null object\n",
      "dtypes: float64(9), object(2)\n",
      "memory usage: 40.7+ KB\n"
     ]
    }
   ],
   "source": [
    "table1.info()"
   ]
  },
  {
   "cell_type": "code",
   "execution_count": 142,
   "metadata": {},
   "outputs": [
    {
     "data": {
      "text/plain": [
       "December     88.624242\n",
       "January      89.728301\n",
       "February     76.755087\n",
       "March        90.942522\n",
       "April        89.843956\n",
       "May          91.065298\n",
       "June        162.002325\n",
       "July        114.236245\n",
       "Aug          99.020936\n",
       "dtype: float64"
      ]
     },
     "execution_count": 142,
     "metadata": {},
     "output_type": "execute_result"
    }
   ],
   "source": [
    "table1.mean()"
   ]
  },
  {
   "cell_type": "code",
   "execution_count": 145,
   "metadata": {},
   "outputs": [],
   "source": [
    "star_index.loc['2 star_indexed']=star_index.loc['2-star hotel']/star_index.loc['2-star hotel','December']*100\n",
    "star_index.loc['3 star_indexed']=star_index.loc['3-star hotel']/star_index.loc['3-star hotel','December']*100\n",
    "star_index.loc['4 star_indexed']=star_index.loc['4-star hotel']/star_index.loc['4-star hotel','December']*100\n",
    "star_index.loc['5 star_indexed']=star_index.loc['5-star hotel']/star_index.loc['5-star hotel','December']*100"
   ]
  },
  {
   "cell_type": "code",
   "execution_count": 154,
   "metadata": {},
   "outputs": [],
   "source": [
    "star_index.loc['Overall indexed']=star_index.loc['Overall Mean']/star_index.loc['Overall Mean','December']*100"
   ]
  },
  {
   "cell_type": "code",
   "execution_count": 150,
   "metadata": {},
   "outputs": [],
   "source": [
    "star_index=star_index.drop(index=['Avg','unknown'],columns='Avg').round(decimals=2)"
   ]
  },
  {
   "cell_type": "code",
   "execution_count": 156,
   "metadata": {},
   "outputs": [],
   "source": [
    "star_index.to_excel('Booking.com Monthly comparisons-result v2.xls')"
   ]
  },
  {
   "cell_type": "code",
   "execution_count": 155,
   "metadata": {},
   "outputs": [
    {
     "data": {
      "text/html": [
       "<div>\n",
       "<style scoped>\n",
       "    .dataframe tbody tr th:only-of-type {\n",
       "        vertical-align: middle;\n",
       "    }\n",
       "\n",
       "    .dataframe tbody tr th {\n",
       "        vertical-align: top;\n",
       "    }\n",
       "\n",
       "    .dataframe thead th {\n",
       "        text-align: right;\n",
       "    }\n",
       "</style>\n",
       "<table border=\"1\" class=\"dataframe\">\n",
       "  <thead>\n",
       "    <tr style=\"text-align: right;\">\n",
       "      <th></th>\n",
       "      <th>December</th>\n",
       "      <th>January</th>\n",
       "      <th>February</th>\n",
       "      <th>March</th>\n",
       "      <th>April</th>\n",
       "      <th>May</th>\n",
       "      <th>June</th>\n",
       "      <th>July</th>\n",
       "      <th>Aug</th>\n",
       "    </tr>\n",
       "    <tr>\n",
       "      <th>Star rating</th>\n",
       "      <th></th>\n",
       "      <th></th>\n",
       "      <th></th>\n",
       "      <th></th>\n",
       "      <th></th>\n",
       "      <th></th>\n",
       "      <th></th>\n",
       "      <th></th>\n",
       "      <th></th>\n",
       "    </tr>\n",
       "  </thead>\n",
       "  <tbody>\n",
       "    <tr>\n",
       "      <th>2-star hotel</th>\n",
       "      <td>42.59</td>\n",
       "      <td>37.580000</td>\n",
       "      <td>36.820000</td>\n",
       "      <td>44.790000</td>\n",
       "      <td>50.450000</td>\n",
       "      <td>45.580000</td>\n",
       "      <td>65.540000</td>\n",
       "      <td>50.940000</td>\n",
       "      <td>46.4300</td>\n",
       "    </tr>\n",
       "    <tr>\n",
       "      <th>3-star hotel</th>\n",
       "      <td>64.93</td>\n",
       "      <td>61.190000</td>\n",
       "      <td>51.490000</td>\n",
       "      <td>64.280000</td>\n",
       "      <td>63.820000</td>\n",
       "      <td>70.530000</td>\n",
       "      <td>107.040000</td>\n",
       "      <td>75.300000</td>\n",
       "      <td>69.4200</td>\n",
       "    </tr>\n",
       "    <tr>\n",
       "      <th>4-star hotel</th>\n",
       "      <td>87.71</td>\n",
       "      <td>84.390000</td>\n",
       "      <td>72.990000</td>\n",
       "      <td>87.050000</td>\n",
       "      <td>85.890000</td>\n",
       "      <td>88.760000</td>\n",
       "      <td>160.030000</td>\n",
       "      <td>106.630000</td>\n",
       "      <td>92.7400</td>\n",
       "    </tr>\n",
       "    <tr>\n",
       "      <th>5-star hotel</th>\n",
       "      <td>114.81</td>\n",
       "      <td>120.140000</td>\n",
       "      <td>102.870000</td>\n",
       "      <td>117.050000</td>\n",
       "      <td>117.500000</td>\n",
       "      <td>112.160000</td>\n",
       "      <td>197.830000</td>\n",
       "      <td>139.040000</td>\n",
       "      <td>122.6100</td>\n",
       "    </tr>\n",
       "    <tr>\n",
       "      <th>Overall Mean</th>\n",
       "      <td>88.62</td>\n",
       "      <td>89.730000</td>\n",
       "      <td>76.760000</td>\n",
       "      <td>90.940000</td>\n",
       "      <td>89.840000</td>\n",
       "      <td>91.070000</td>\n",
       "      <td>162.000000</td>\n",
       "      <td>114.240000</td>\n",
       "      <td>99.0200</td>\n",
       "    </tr>\n",
       "    <tr>\n",
       "      <th>2 star_indexed</th>\n",
       "      <td>100.00</td>\n",
       "      <td>88.240000</td>\n",
       "      <td>86.450000</td>\n",
       "      <td>105.170000</td>\n",
       "      <td>118.460000</td>\n",
       "      <td>107.020000</td>\n",
       "      <td>153.890000</td>\n",
       "      <td>119.610000</td>\n",
       "      <td>109.0200</td>\n",
       "    </tr>\n",
       "    <tr>\n",
       "      <th>3 star_indexed</th>\n",
       "      <td>100.00</td>\n",
       "      <td>94.240000</td>\n",
       "      <td>79.300000</td>\n",
       "      <td>99.000000</td>\n",
       "      <td>98.290000</td>\n",
       "      <td>108.620000</td>\n",
       "      <td>164.850000</td>\n",
       "      <td>115.970000</td>\n",
       "      <td>106.9200</td>\n",
       "    </tr>\n",
       "    <tr>\n",
       "      <th>4 star_indexed</th>\n",
       "      <td>100.00</td>\n",
       "      <td>96.210000</td>\n",
       "      <td>83.220000</td>\n",
       "      <td>99.250000</td>\n",
       "      <td>97.920000</td>\n",
       "      <td>101.200000</td>\n",
       "      <td>182.450000</td>\n",
       "      <td>121.570000</td>\n",
       "      <td>105.7300</td>\n",
       "    </tr>\n",
       "    <tr>\n",
       "      <th>5 star_indexed</th>\n",
       "      <td>100.00</td>\n",
       "      <td>104.640000</td>\n",
       "      <td>89.600000</td>\n",
       "      <td>101.950000</td>\n",
       "      <td>102.340000</td>\n",
       "      <td>97.690000</td>\n",
       "      <td>172.310000</td>\n",
       "      <td>121.100000</td>\n",
       "      <td>106.7900</td>\n",
       "    </tr>\n",
       "    <tr>\n",
       "      <th>Overall indexed</th>\n",
       "      <td>100.00</td>\n",
       "      <td>101.252539</td>\n",
       "      <td>86.617016</td>\n",
       "      <td>102.617919</td>\n",
       "      <td>101.376664</td>\n",
       "      <td>102.764613</td>\n",
       "      <td>182.802979</td>\n",
       "      <td>128.909953</td>\n",
       "      <td>111.7355</td>\n",
       "    </tr>\n",
       "  </tbody>\n",
       "</table>\n",
       "</div>"
      ],
      "text/plain": [
       "                 December     January    February       March       April  \\\n",
       "Star rating                                                                 \n",
       "2-star hotel        42.59   37.580000   36.820000   44.790000   50.450000   \n",
       "3-star hotel        64.93   61.190000   51.490000   64.280000   63.820000   \n",
       "4-star hotel        87.71   84.390000   72.990000   87.050000   85.890000   \n",
       "5-star hotel       114.81  120.140000  102.870000  117.050000  117.500000   \n",
       "Overall Mean        88.62   89.730000   76.760000   90.940000   89.840000   \n",
       "2 star_indexed     100.00   88.240000   86.450000  105.170000  118.460000   \n",
       "3 star_indexed     100.00   94.240000   79.300000   99.000000   98.290000   \n",
       "4 star_indexed     100.00   96.210000   83.220000   99.250000   97.920000   \n",
       "5 star_indexed     100.00  104.640000   89.600000  101.950000  102.340000   \n",
       "Overall indexed    100.00  101.252539   86.617016  102.617919  101.376664   \n",
       "\n",
       "                        May        June        July       Aug  \n",
       "Star rating                                                    \n",
       "2-star hotel      45.580000   65.540000   50.940000   46.4300  \n",
       "3-star hotel      70.530000  107.040000   75.300000   69.4200  \n",
       "4-star hotel      88.760000  160.030000  106.630000   92.7400  \n",
       "5-star hotel     112.160000  197.830000  139.040000  122.6100  \n",
       "Overall Mean      91.070000  162.000000  114.240000   99.0200  \n",
       "2 star_indexed   107.020000  153.890000  119.610000  109.0200  \n",
       "3 star_indexed   108.620000  164.850000  115.970000  106.9200  \n",
       "4 star_indexed   101.200000  182.450000  121.570000  105.7300  \n",
       "5 star_indexed    97.690000  172.310000  121.100000  106.7900  \n",
       "Overall indexed  102.764613  182.802979  128.909953  111.7355  "
      ]
     },
     "execution_count": 155,
     "metadata": {},
     "output_type": "execute_result"
    }
   ],
   "source": [
    "star_index"
   ]
  },
  {
   "cell_type": "code",
   "execution_count": 1,
   "metadata": {},
   "outputs": [
    {
     "ename": "NameError",
     "evalue": "name 'star_index' is not defined",
     "output_type": "error",
     "traceback": [
      "\u001b[1;31m---------------------------------------------------------------------------\u001b[0m",
      "\u001b[1;31mNameError\u001b[0m                                 Traceback (most recent call last)",
      "\u001b[1;32m<ipython-input-1-ce7a24a6766b>\u001b[0m in \u001b[0;36m<module>\u001b[1;34m\u001b[0m\n\u001b[1;32m----> 1\u001b[1;33m \u001b[0mstar_index\u001b[0m\u001b[1;33m\u001b[0m\u001b[1;33m\u001b[0m\u001b[0m\n\u001b[0m",
      "\u001b[1;31mNameError\u001b[0m: name 'star_index' is not defined"
     ]
    }
   ],
   "source": [
    "star_index"
   ]
  },
  {
   "cell_type": "code",
   "execution_count": null,
   "metadata": {},
   "outputs": [],
   "source": []
  }
 ],
 "metadata": {
  "kernelspec": {
   "display_name": "Python 3",
   "language": "python",
   "name": "python3"
  },
  "language_info": {
   "codemirror_mode": {
    "name": "ipython",
    "version": 3
   },
   "file_extension": ".py",
   "mimetype": "text/x-python",
   "name": "python",
   "nbconvert_exporter": "python",
   "pygments_lexer": "ipython3",
   "version": "3.7.5"
  }
 },
 "nbformat": 4,
 "nbformat_minor": 4
}
